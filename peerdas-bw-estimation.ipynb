{
 "cells": [
  {
   "cell_type": "markdown",
   "id": "header",
   "metadata": {},
   "source": [
    "# PeerDAS + BPO bandwidth estimations\n",
    "\n",
    "This notebook estimates bandwidth requirements for various blob limits and network conditions, using EIP-7870 bandwidth limits as reference, in order to inform optimal BPO parameter setting in the context of EIP-7892 (Blob Parameter Only forks).\n",
    "\n",
    "## Current status\n",
    "\n",
    "This version is just a first LLM-generated flush. It doesn't do a good job at modelling what we want yet. **Only use it as a skeleton.**\n",
    "\n",
    "## TODO\n",
    "\n",
    "**Model parameters:**\n",
    "\n",
    "- Parameterize blob limits starting from Pectra (6/9), all the way up to 64/72 (Fusaka target post BPO), and stretch to 96/128.\n",
    "- EIP-7870 node profiles and up/down bandwidth caps.\n",
    "- Total beacon node count: today (~13k) and 2x today.\n",
    "- Custody / supernode distribution (reference was posted in Scale the Blobs channel, extrapolated from vals.sigp.io).\n",
    "- Time allocated for distribution (1s to 3.5s).\n",
    "- Competing traffic during distribution, in a simple way: reserve bandwidth for the blobpool (see below), block propagation, mempool, etc.\n",
    "- Private/public blob ratio. Start at 20% (today's measurement) and go all the way up to 60% private.\n",
    "- Blobpool: model full replication (today) and sparse blobpool (6.67x reduction over full replication). Compute required bandwidth based on blob limits and assume a steady flux.\n",
    "- Gossipsub partial messages support (effectiveness depends on private/public blob ratio).\n",
    "- Gossipsub duplicate / non-delivery overhead, simplified: can assume 1.5x?\n",
    "- Network inefficiency factor: just a simple multiplier to account for packet loss, latency, etc.\n",
    "- Compute inefficiency factor: add some time to account for compute overhead, processing delays, etc.\n",
    "\n",
    "**Model outputs:**\n",
    "\n",
    "Some core plots include:\n",
    "- Bandwidth requirement per limit, per node type, plotted against their respective caps.\n",
    "- CDF of column propagation per limit, over node types.\n",
    "- Peak load / average load.\n",
    "- ...\n",
    "\n",
    "We'll need these plotted for various scenarios (determined by parameters)."
   ]
  },
  {
   "cell_type": "code",
   "execution_count": 1,
   "id": "imports",
   "metadata": {},
   "outputs": [
    {
     "name": "stdout",
     "output_type": "stream",
     "text": [
      "\u001b[2mResolved \u001b[1m120 packages\u001b[0m \u001b[2min 0.87ms\u001b[0m\u001b[0m\n",
      "\u001b[2mAudited \u001b[1m114 packages\u001b[0m \u001b[2min 0.84ms\u001b[0m\u001b[0m\n"
     ]
    }
   ],
   "source": [
    "!uv add requests pandas pyarrow plotly kaleido nbformat numpy\n",
    "import pandas as pd\n",
    "import numpy as np\n",
    "import plotly.express as px\n",
    "import plotly.graph_objects as go\n",
    "from plotly.subplots import make_subplots\n",
    "import plotly.io as pio\n",
    "\n",
    "# Set the default theme to a modern dark theme\n",
    "pio.templates.default = \"plotly_dark\""
   ]
  },
  {
   "cell_type": "markdown",
   "id": "eip-constants",
   "metadata": {},
   "source": [
    "## EIP-7870 and EIP-7892 Constants"
   ]
  },
  {
   "cell_type": "code",
   "execution_count": 2,
   "id": "constants",
   "metadata": {},
   "outputs": [],
   "source": [
    "# Current Pectra Constants\n",
    "CURRENT_TARGET_BLOBS_PER_BLOCK = 6\n",
    "CURRENT_MAX_BLOBS_PER_BLOCK = 9\n",
    "BYTES_PER_BLOB = 131072  # 128 KiB\n",
    "BYTES_PER_EXTENDED_BLOB = 262144 # 256 KiB\n",
    "SECONDS_PER_SLOT = 12\n",
    "INTERVALS_PER_SLOT = 3  # Each slot has 3 intervals\n",
    "SECONDS_PER_INTERVAL = SECONDS_PER_SLOT // INTERVALS_PER_SLOT  # 4 seconds\n",
    "\n",
    "# Network propagation constants\n",
    "NETWORK_HOPS = 3  # Typical number of hops for message propagation\n",
    "SECONDS_PER_HOP = SECONDS_PER_INTERVAL / NETWORK_HOPS  # 1.33 seconds per hop\n",
    "\n",
    "# PeerDAS Constants (EIP-7594)\n",
    "NUMBER_OF_COLUMNS = 128  # Total number of columns in the DAS matrix\n",
    "DATA_COLUMN_SIDECAR_SUBNET_COUNT = 128  # Number of data column subnets\n",
    "SAMPLES_PER_SLOT = 16  # Number of columns to sample per slot\n",
    "CUSTODY_REQUIREMENT = 4  # Minimum custody requirement for nodes (out of 128 columns)\n",
    "\n",
    "# PeerDAS Custody Scenarios\n",
    "CUSTODY_SCENARIOS = [\n",
    "    {\"name\": \"Minimum\", \"custody_count\": 4, \"percentage\": 4/128},  # 3.125%\n",
    "    {\"name\": \"Light\", \"custody_count\": 8, \"percentage\": 8/128},  # 6.25%\n",
    "    {\"name\": \"Standard\", \"custody_count\": 16, \"percentage\": 16/128},  # 12.5%\n",
    "    {\"name\": \"Heavy\", \"custody_count\": 32, \"percentage\": 32/128},  # 25%\n",
    "    {\"name\": \"Super\", \"custody_count\": 64, \"percentage\": 64/128},  # 50%\n",
    "    {\"name\": \"Full\", \"custody_count\": 128, \"percentage\": 128/128},  # 100% (current non-DAS behavior)\n",
    "]\n",
    "\n",
    "# EIP-7870 Bandwidth Limits (official specification)\n",
    "# Source: https://eips.ethereum.org/EIPS/eip-7870\n",
    "EIP_7870_BANDWIDTH_LIMITS = {\n",
    "    \"eip7870_full_node\": {\"down\": 50 * 1024 * 1024 / 8, \"up\": 15 * 1024 * 1024 / 8},  # 50/15 Mbps in bytes/second\n",
    "    \"eip7870_attester\": {\"down\": 50 * 1024 * 1024 / 8, \"up\": 25 * 1024 * 1024 / 8},  # 50/25 Mbps in bytes/second\n",
    "    \"eip7870_local_block_builder\": {\"down\": 100 * 1024 * 1024 / 8, \"up\": 50 * 1024 * 1024 / 8},  # 100/50 Mbps in bytes/second\n",
    "}\n",
    "\n",
    "# Additional common connection types for reference\n",
    "ADDITIONAL_CONNECTION_TYPES = {\n",
    "    \"home_cable\": {\"down\": 200 * 1024 * 1024 / 8, \"up\": 20 * 1024 * 1024 / 8},  # 200/20 Mbps cable (typical asymmetric)\n",
    "    \"home_fiber\": {\"down\": 300 * 1024 * 1024 / 8, \"up\": 100 * 1024 * 1024 / 8},  # 300/100 Mbps fiber\n",
    "    \"institutional\": {\"down\": 1000 * 1024 * 1024 / 8, \"up\": 1000 * 1024 * 1024 / 8},  # 1 Gbps symmetric\n",
    "}\n",
    "\n",
    "# Combine for analysis\n",
    "ALL_CONNECTION_TYPES = {**EIP_7870_BANDWIDTH_LIMITS, **ADDITIONAL_CONNECTION_TYPES}\n",
    "\n",
    "# EIP-7892 Proposed Blob Limits (various scenarios)\n",
    "BLOB_LIMIT_SCENARIOS = [\n",
    "    {\"name\": \"Pre-Pectra (EIP-4844)\", \"target\": 3, \"max\": 6},\n",
    "    {\"name\": \"Current (Pectra)\", \"target\": 6, \"max\": 9},\n",
    "    {\"name\": \"Conservative +\", \"target\": 8, \"max\": 12},\n",
    "    {\"name\": \"Moderate\", \"target\": 10, \"max\": 15},\n",
    "    {\"name\": \"Moderate+\", \"target\": 12, \"max\": 18},\n",
    "    {\"name\": \"Progressive\", \"target\": 16, \"max\": 24},\n",
    "    {\"name\": \"Aggressive\", \"target\": 20, \"max\": 30},\n",
    "    {\"name\": \"Aggressive+\", \"target\": 24, \"max\": 36},\n",
    "    {\"name\": \"High Scale\", \"target\": 30, \"max\": 45},\n",
    "    {\"name\": \"High Scale+\", \"target\": 36, \"max\": 54},\n",
    "    {\"name\": \"Ultra Scale\", \"target\": 40, \"max\": 60},\n",
    "    {\"name\": \"Ultra Scale+\", \"target\": 48, \"max\": 72},\n",
    "    {\"name\": \"Maximum\", \"target\": 60, \"max\": 90},\n",
    "]\n",
    "\n",
    "# Network overhead factors\n",
    "GOSSIP_OVERHEAD = 1.5  # Assume 50% overhead for gossip propagation\n",
    "PEAK_FACTOR = 2.0  # Peak usage can be 2x average\n",
    "BANDWIDTH_AVAILABLE_FACTOR = 0.8  # 80% of bandwidth available for blob propagation (remainder reserved for other network operations)\n",
    "\n",
    "# Node bandwidth factors (independent scaling for upload/download)\n",
    "# These factors multiply the base bandwidth requirement\n",
    "NODE_BANDWIDTH_FACTORS = {\n",
    "    \"validator\": {\"down_factor\": 1.0, \"up_factor\": 1.2},  # Validators upload slightly more due to block proposals\n",
    "    \"non_validator\": {\"down_factor\": 1.0, \"up_factor\": 1.0},  # Standard gossip behavior\n",
    "    \"balanced\": {\"down_factor\": 1.0, \"up_factor\": 1.0},  # Balanced/average case\n",
    "}"
   ]
  },
  {
   "cell_type": "markdown",
   "id": "bandwidth-calc",
   "metadata": {},
   "source": [
    "## Bandwidth Calculation Functions"
   ]
  },
  {
   "cell_type": "code",
   "execution_count": 3,
   "id": "calc-functions",
   "metadata": {},
   "outputs": [
    {
     "name": "stdout",
     "output_type": "stream",
     "text": [
      "================================================================================\n",
      "BANDWIDTH REQUIREMENTS - FULL BLOB PROPAGATION (Current)\n",
      "Using 3 network hops, 1.3333333333333333 second per hop\n",
      "================================================================================\n",
      "================================================================================\n",
      "BANDWIDTH REQUIREMENTS - PEERDAS COLUMN PROPAGATION\n",
      "================================================================================\n",
      "\n",
      "BANDWIDTH COMPARISON: Full Blob vs PeerDAS (Key Scenarios)\n",
      "--------------------------------------------------------------------------------\n",
      "\n",
      "Current (Pectra) (6/9 blobs):\n",
      "  Full Blob:      6.8 Mbps down, 6.8 Mbps up\n",
      "  PeerDAS ( 4):   0.4 Mbps down, 0.4 Mbps up (3.1% of full)\n",
      "  PeerDAS (16):   1.7 Mbps down, 1.7 Mbps up (12.5% of full)\n",
      "  PeerDAS (32):   3.4 Mbps down, 3.4 Mbps up (25.0% of full)\n",
      "\n",
      "Progressive (16/24 blobs):\n",
      "  Full Blob:      18.0 Mbps down, 18.0 Mbps up\n",
      "  PeerDAS ( 4):   1.1 Mbps down, 1.1 Mbps up (3.1% of full)\n",
      "  PeerDAS (16):   4.5 Mbps down, 4.5 Mbps up (12.5% of full)\n",
      "  PeerDAS (32):   9.0 Mbps down, 9.0 Mbps up (25.0% of full)\n",
      "\n",
      "High Scale (30/45 blobs):\n",
      "  Full Blob:      33.8 Mbps down, 33.8 Mbps up\n",
      "  PeerDAS ( 4):   2.1 Mbps down, 2.1 Mbps up (3.1% of full)\n",
      "  PeerDAS (16):   8.4 Mbps down, 8.4 Mbps up (12.5% of full)\n",
      "  PeerDAS (32):   16.9 Mbps down, 16.9 Mbps up (25.0% of full)\n",
      "\n",
      "Ultra Scale+ (48/72 blobs):\n",
      "  Full Blob:      54.0 Mbps down, 54.0 Mbps up\n",
      "  PeerDAS ( 4):   3.4 Mbps down, 3.4 Mbps up (3.1% of full)\n",
      "  PeerDAS (16):   13.5 Mbps down, 13.5 Mbps up (12.5% of full)\n",
      "  PeerDAS (32):   27.0 Mbps down, 27.0 Mbps up (25.0% of full)\n",
      "\n",
      "Maximum (60/90 blobs):\n",
      "  Full Blob:      67.5 Mbps down, 67.5 Mbps up\n",
      "  PeerDAS ( 4):   4.2 Mbps down, 4.2 Mbps up (3.1% of full)\n",
      "  PeerDAS (16):   16.9 Mbps down, 16.9 Mbps up (12.5% of full)\n",
      "  PeerDAS (32):   33.8 Mbps down, 33.8 Mbps up (25.0% of full)\n",
      "\n",
      "================================================================================\n",
      "EIP-7870 BANDWIDTH LIMITS (Official Specification)\n",
      "================================================================================\n",
      "\n",
      "Node Type               Download    Upload\n",
      "---------------------------------------------\n",
      "Eip7870 Full Node          50 Mbps       15 Mbps\n",
      "Eip7870 Attester           50 Mbps       25 Mbps\n",
      "Eip7870 Local Block Builder      100 Mbps       50 Mbps\n",
      "\n",
      "Additional Connection Types (for reference):\n",
      "---------------------------------------------\n",
      "Home Cable                200 Mbps       20 Mbps\n",
      "Home Fiber                300 Mbps      100 Mbps\n",
      "Institutional            1000 Mbps     1000 Mbps\n"
     ]
    }
   ],
   "source": [
    "def calculate_bandwidth_requirements(target_blobs, max_blobs, node_role=\"balanced\", custody_count=None, use_peerdas=False):\n",
    "    \"\"\"Calculate upload and download bandwidth requirements for given blob parameters.\n",
    "    \n",
    "    Args:\n",
    "        target_blobs: Target number of blobs per block\n",
    "        max_blobs: Maximum number of blobs per block\n",
    "        node_role: Node role (\"validator\", \"non_validator\", \"balanced\")\n",
    "        custody_count: Number of columns to custody in PeerDAS (if None, uses full blob propagation)\n",
    "        use_peerdas: Whether to use PeerDAS column propagation or full blob propagation\n",
    "    \"\"\"\n",
    "    \n",
    "    # Base calculations\n",
    "    avg_data_per_slot = target_blobs * BYTES_PER_BLOB\n",
    "    max_data_per_slot = max_blobs * BYTES_PER_BLOB\n",
    "    \n",
    "    # Apply PeerDAS reduction if enabled\n",
    "    if use_peerdas and custody_count is not None:\n",
    "        # In PeerDAS, each blob is extended\n",
    "        avg_data_per_slot = target_blobs * BYTES_PER_EXTENDED_BLOB\n",
    "        max_data_per_slot = max_blobs * BYTES_PER_EXTENDED_BLOB\n",
    "        # In PeerDAS, nodes only propagate columns they custody\n",
    "        das_reduction_factor = custody_count / NUMBER_OF_COLUMNS\n",
    "        avg_data_per_slot *= das_reduction_factor\n",
    "        max_data_per_slot *= das_reduction_factor\n",
    "    \n",
    "    # Base bandwidth in bytes per second - using per-hop timing (1 second per hop)\n",
    "    avg_bandwidth_base = avg_data_per_slot / SECONDS_PER_HOP\n",
    "    max_bandwidth_base = max_data_per_slot / SECONDS_PER_HOP\n",
    "    \n",
    "    # With gossip overhead\n",
    "    avg_bandwidth_gossip = avg_bandwidth_base * GOSSIP_OVERHEAD\n",
    "    max_bandwidth_gossip = max_bandwidth_base * GOSSIP_OVERHEAD\n",
    "    \n",
    "    # Apply node-specific bandwidth factors\n",
    "    factors = NODE_BANDWIDTH_FACTORS[node_role]\n",
    "    \n",
    "    # Calculate download and upload bandwidth using factors\n",
    "    avg_download = avg_bandwidth_gossip * factors[\"down_factor\"]\n",
    "    avg_upload = avg_bandwidth_gossip * factors[\"up_factor\"]\n",
    "    \n",
    "    max_download = max_bandwidth_gossip * factors[\"down_factor\"]\n",
    "    max_upload = max_bandwidth_gossip * factors[\"up_factor\"]\n",
    "    \n",
    "    # Peak scenarios\n",
    "    peak_download = avg_download * PEAK_FACTOR\n",
    "    peak_upload = avg_upload * PEAK_FACTOR\n",
    "    peak_max_download = max_download * PEAK_FACTOR\n",
    "    peak_max_upload = max_upload * PEAK_FACTOR\n",
    "    \n",
    "    # Total bandwidth is the sum of upload and download\n",
    "    avg_bandwidth_total = avg_download + avg_upload\n",
    "    max_bandwidth_total = max_download + max_upload\n",
    "    \n",
    "    return {\n",
    "        \"avg_bandwidth_total\": avg_bandwidth_total,\n",
    "        \"max_bandwidth_total\": max_bandwidth_total,\n",
    "        \"avg_download\": avg_download,\n",
    "        \"avg_upload\": avg_upload,\n",
    "        \"max_download\": max_download,\n",
    "        \"max_upload\": max_upload,\n",
    "        \"peak_download\": peak_download,\n",
    "        \"peak_upload\": peak_upload,\n",
    "        \"peak_max_download\": peak_max_download,\n",
    "        \"peak_max_upload\": peak_max_upload,\n",
    "        # Convert to Mbps for display\n",
    "        \"avg_download_mbps\": avg_download * 8 / (1024 * 1024),\n",
    "        \"avg_upload_mbps\": avg_upload * 8 / (1024 * 1024),\n",
    "        \"max_download_mbps\": max_download * 8 / (1024 * 1024),\n",
    "        \"max_upload_mbps\": max_upload * 8 / (1024 * 1024),\n",
    "        \"peak_download_mbps\": peak_download * 8 / (1024 * 1024),\n",
    "        \"peak_upload_mbps\": peak_upload * 8 / (1024 * 1024),\n",
    "        \"avg_bandwidth_total_mbps\": avg_bandwidth_total * 8 / (1024 * 1024),\n",
    "        \"max_bandwidth_total_mbps\": max_bandwidth_total * 8 / (1024 * 1024),\n",
    "        # Additional metadata\n",
    "        \"custody_count\": custody_count if use_peerdas else None,\n",
    "        \"das_reduction\": (custody_count / NUMBER_OF_COLUMNS) if use_peerdas and custody_count else 1.0,\n",
    "        \"use_peerdas\": use_peerdas,\n",
    "    }\n",
    "\n",
    "def check_node_compatibility(download_req, upload_req, node_type_bandwidth):\n",
    "    \"\"\"Check if a node type can handle the bandwidth requirements.\"\"\"\n",
    "    # Use the available bandwidth factor for blob propagation\n",
    "    available_down = node_type_bandwidth[\"down\"] * BANDWIDTH_AVAILABLE_FACTOR\n",
    "    available_up = node_type_bandwidth[\"up\"] * BANDWIDTH_AVAILABLE_FACTOR\n",
    "    return download_req <= available_down and upload_req <= available_up\n",
    "\n",
    "# Calculate requirements for all scenarios WITHOUT PeerDAS (current behavior)\n",
    "print(\"=\" * 80)\n",
    "print(\"BANDWIDTH REQUIREMENTS - FULL BLOB PROPAGATION (Current)\")\n",
    "print(f\"Using {NETWORK_HOPS} network hops, {SECONDS_PER_HOP} second per hop\")\n",
    "print(\"=\" * 80)\n",
    "\n",
    "results_full = []\n",
    "for scenario in BLOB_LIMIT_SCENARIOS:\n",
    "    reqs = calculate_bandwidth_requirements(scenario[\"target\"], scenario[\"max\"], \"balanced\", use_peerdas=False)\n",
    "    \n",
    "    # Check compatibility with different node types\n",
    "    compatibility = {}\n",
    "    for node_type, bandwidth in ALL_CONNECTION_TYPES.items():\n",
    "        compatibility[f\"{node_type}_avg\"] = check_node_compatibility(\n",
    "            reqs[\"avg_download\"], reqs[\"avg_upload\"], bandwidth\n",
    "        )\n",
    "        compatibility[f\"{node_type}_max\"] = check_node_compatibility(\n",
    "            reqs[\"max_download\"], reqs[\"max_upload\"], bandwidth\n",
    "        )\n",
    "        compatibility[f\"{node_type}_peak\"] = check_node_compatibility(\n",
    "            reqs[\"peak_download\"], reqs[\"peak_upload\"], bandwidth\n",
    "        )\n",
    "    \n",
    "    results_full.append({\n",
    "        \"scenario\": scenario[\"name\"],\n",
    "        \"target_blobs\": scenario[\"target\"],\n",
    "        \"max_blobs\": scenario[\"max\"],\n",
    "        \"method\": \"Full Blob\",\n",
    "        **reqs,\n",
    "        **compatibility\n",
    "    })\n",
    "\n",
    "df_results_full = pd.DataFrame(results_full)\n",
    "\n",
    "# Calculate requirements WITH PeerDAS for different custody counts\n",
    "print(\"=\" * 80)\n",
    "print(\"BANDWIDTH REQUIREMENTS - PEERDAS COLUMN PROPAGATION\")\n",
    "print(\"=\" * 80)\n",
    "\n",
    "results_peerdas = []\n",
    "for scenario in BLOB_LIMIT_SCENARIOS:\n",
    "    for custody in CUSTODY_SCENARIOS:\n",
    "        reqs = calculate_bandwidth_requirements(\n",
    "            scenario[\"target\"], scenario[\"max\"], \"balanced\", \n",
    "            custody_count=custody[\"custody_count\"], use_peerdas=True\n",
    "        )\n",
    "        \n",
    "        # Check compatibility with different node types\n",
    "        compatibility = {}\n",
    "        for node_type, bandwidth in ALL_CONNECTION_TYPES.items():\n",
    "            compatibility[f\"{node_type}_avg\"] = check_node_compatibility(\n",
    "                reqs[\"avg_download\"], reqs[\"avg_upload\"], bandwidth\n",
    "            )\n",
    "            compatibility[f\"{node_type}_max\"] = check_node_compatibility(\n",
    "                reqs[\"max_download\"], reqs[\"max_upload\"], bandwidth\n",
    "            )\n",
    "            compatibility[f\"{node_type}_peak\"] = check_node_compatibility(\n",
    "                reqs[\"peak_download\"], reqs[\"peak_upload\"], bandwidth\n",
    "            )\n",
    "        \n",
    "        results_peerdas.append({\n",
    "            \"scenario\": scenario[\"name\"],\n",
    "            \"target_blobs\": scenario[\"target\"],\n",
    "            \"max_blobs\": scenario[\"max\"],\n",
    "            \"custody_scenario\": custody[\"name\"],\n",
    "            \"custody_count\": custody[\"custody_count\"],\n",
    "            \"custody_percentage\": custody[\"percentage\"],\n",
    "            \"method\": f\"PeerDAS ({custody['custody_count']} cols)\",\n",
    "            **reqs,\n",
    "            **compatibility\n",
    "        })\n",
    "\n",
    "df_results_peerdas = pd.DataFrame(results_peerdas)\n",
    "\n",
    "# Display comparison for key scenarios\n",
    "key_scenarios = [\"Current (Pectra)\", \"Progressive\", \"High Scale\", \"Ultra Scale+\", \"Maximum\"]\n",
    "key_custody = [\"Minimum\", \"Standard\", \"Heavy\", \"Full\"]\n",
    "\n",
    "print(\"\\nBANDWIDTH COMPARISON: Full Blob vs PeerDAS (Key Scenarios)\")\n",
    "print(\"-\" * 80)\n",
    "\n",
    "for scenario_name in key_scenarios:\n",
    "    # Get scenario details\n",
    "    scenario_details = next(s for s in BLOB_LIMIT_SCENARIOS if s[\"name\"] == scenario_name)\n",
    "    print(f\"\\n{scenario_name} ({scenario_details['target']}/{scenario_details['max']} blobs):\")\n",
    "    \n",
    "    # Full blob\n",
    "    full_row = df_results_full[df_results_full[\"scenario\"] == scenario_name].iloc[0]\n",
    "    print(f\"  Full Blob:      {full_row['avg_download_mbps']:.1f} Mbps down, {full_row['avg_upload_mbps']:.1f} Mbps up\")\n",
    "    \n",
    "    # PeerDAS variants\n",
    "    for custody_name in key_custody:\n",
    "        if custody_name == \"Full\":\n",
    "            continue  # Skip as it's same as full blob\n",
    "        das_row = df_results_peerdas[\n",
    "            (df_results_peerdas[\"scenario\"] == scenario_name) & \n",
    "            (df_results_peerdas[\"custody_scenario\"] == custody_name)\n",
    "        ].iloc[0]\n",
    "        print(f\"  PeerDAS ({das_row['custody_count']:2d}):   {das_row['avg_download_mbps']:.1f} Mbps down, {das_row['avg_upload_mbps']:.1f} Mbps up ({das_row['custody_percentage']*100:.1f}% of full)\")\n",
    "\n",
    "# Save balanced results for visualizations\n",
    "df_results_balanced = df_results_full  # Full blob propagation for baseline comparison\n",
    "\n",
    "# Display EIP-7870 limits\n",
    "print(\"\\n\" + \"=\" * 80)\n",
    "print(\"EIP-7870 BANDWIDTH LIMITS (Official Specification)\")\n",
    "print(\"=\" * 80)\n",
    "print(\"\\nNode Type               Download    Upload\")\n",
    "print(\"-\" * 45)\n",
    "for node_type, bw in EIP_7870_BANDWIDTH_LIMITS.items():\n",
    "    down_mbps = (bw[\"down\"] * 8) / (1024 * 1024)\n",
    "    up_mbps = (bw[\"up\"] * 8) / (1024 * 1024)\n",
    "    print(f\"{node_type.replace('_', ' ').title():<20} {down_mbps:>8.0f} Mbps   {up_mbps:>6.0f} Mbps\")\n",
    "\n",
    "print(\"\\nAdditional Connection Types (for reference):\")\n",
    "print(\"-\" * 45)\n",
    "for node_type, bw in ADDITIONAL_CONNECTION_TYPES.items():\n",
    "    down_mbps = (bw[\"down\"] * 8) / (1024 * 1024)\n",
    "    up_mbps = (bw[\"up\"] * 8) / (1024 * 1024)\n",
    "    print(f\"{node_type.replace('_', ' ').title():<20} {down_mbps:>8.0f} Mbps   {up_mbps:>6.0f} Mbps\")"
   ]
  },
  {
   "cell_type": "markdown",
   "id": "monthly-data",
   "metadata": {},
   "source": [
    "## Monthly Data Transfer Estimation"
   ]
  },
  {
   "cell_type": "code",
   "execution_count": 4,
   "id": "monthly-calc",
   "metadata": {},
   "outputs": [
    {
     "name": "stdout",
     "output_type": "stream",
     "text": [
      "MONTHLY DATA TRANSFER ANALYSIS\n",
      "============================================================\n",
      "Note: This is cumulative data transfer, separate from instantaneous bandwidth requirements\n",
      "\n",
      "Key Scenarios - Monthly Data Transfer:\n",
      "------------------------------------------------------------\n",
      "\n",
      "Current (Pectra) (6/9 blobs):\n",
      "  Full Blob:    0.46 TB avg, 0.70 TB max\n",
      "  PeerDAS- 4: 0.03 TB avg, 0.04 TB max (94% less)\n",
      "  PeerDAS-16: 0.12 TB avg, 0.17 TB max (75% less)\n",
      "  PeerDAS-32: 0.23 TB avg, 0.35 TB max (50% less)\n",
      "\n",
      "Progressive (16/24 blobs):\n",
      "  Full Blob:    1.24 TB avg, 1.85 TB max\n",
      "  PeerDAS- 4: 0.08 TB avg, 0.12 TB max (94% less)\n",
      "  PeerDAS-16: 0.31 TB avg, 0.46 TB max (75% less)\n",
      "  PeerDAS-32: 0.62 TB avg, 0.93 TB max (50% less)\n",
      "\n",
      "High Scale (30/45 blobs):\n",
      "  Full Blob:    2.32 TB avg, 3.48 TB max\n",
      "  PeerDAS- 4: 0.14 TB avg, 0.22 TB max (94% less)\n",
      "  PeerDAS-16: 0.58 TB avg, 0.87 TB max (75% less)\n",
      "  PeerDAS-32: 1.16 TB avg, 1.74 TB max (50% less)\n",
      "\n",
      "Maximum (60/90 blobs):\n",
      "  Full Blob:    4.63 TB avg, 6.95 TB max\n",
      "  PeerDAS- 4: 0.29 TB avg, 0.43 TB max (94% less)\n",
      "  PeerDAS-16: 1.16 TB avg, 1.74 TB max (75% less)\n",
      "  PeerDAS-32: 2.32 TB avg, 3.48 TB max (50% less)\n",
      "\n",
      "============================================================\n",
      "PEERDAS DATA EFFICIENCY ANALYSIS\n",
      "============================================================\n",
      "Data transfer reduction with different custody levels:\n",
      "Custody      Columns  Current (6/9)   Progressive (16/24)  Reduction \n",
      "---------------------------------------------------------------------------\n",
      "Full Blob    128      0.46            1.24                 0%        \n",
      "PeerDAS-4    4        0.03            0.08                 94        %\n",
      "PeerDAS-8    8        0.06            0.15                 88        %\n",
      "PeerDAS-16   16       0.12            0.31                 75        %\n",
      "PeerDAS-32   32       0.23            0.62                 50        %\n",
      "PeerDAS-64   64       0.46            1.24                 0         %\n",
      "\n",
      "Key insights:\n",
      "- Data transfer scales linearly with blob count and custody level\n",
      "- PeerDAS provides massive data transfer savings (up to 97% reduction)\n",
      "- Extended blob size (2x) is offset by custody reduction factor\n",
      "- Network-wide data transfer is reduced, improving overall efficiency\n",
      "\n",
      "============================================================\n",
      "STORAGE IMPLICATIONS\n",
      "============================================================\n",
      "Annual storage requirements per node:\n",
      "\n",
      "Current (Pectra) (6/9 blobs):\n",
      "  Full Blob:    5.6 TB/year\n",
      "  PeerDAS-16:   1.4 TB/year\n",
      "\n",
      "Progressive (16/24 blobs):\n",
      "  Full Blob:    14.8 TB/year\n",
      "  PeerDAS-16:   3.7 TB/year\n",
      "\n",
      "Note: Includes gossip overhead and balanced node bandwidth factors (down: 1.0, up: 1.0)\n"
     ]
    }
   ],
   "source": [
    "# Monthly Data Transfer Estimation (separate from bandwidth requirements)\n",
    "SECONDS_PER_MONTH = 30 * 24 * 60 * 60  # Approximate month\n",
    "SLOTS_PER_MONTH = SECONDS_PER_MONTH / SECONDS_PER_SLOT\n",
    "\n",
    "print(\"MONTHLY DATA TRANSFER ANALYSIS\")\n",
    "print(\"=\" * 60)\n",
    "print(\"Note: This is cumulative data transfer, separate from instantaneous bandwidth requirements\")\n",
    "print()\n",
    "\n",
    "monthly_data = []\n",
    "\n",
    "# Use balanced node factors\n",
    "factors = NODE_BANDWIDTH_FACTORS[\"balanced\"]\n",
    "total_factor = factors[\"down_factor\"] + factors[\"up_factor\"]\n",
    "\n",
    "# Full Blob Propagation\n",
    "for scenario in BLOB_LIMIT_SCENARIOS:\n",
    "    # Base blob data per month\n",
    "    base_monthly_bytes = scenario[\"target\"] * BYTES_PER_BLOB * SLOTS_PER_MONTH * GOSSIP_OVERHEAD\n",
    "    base_max_monthly_bytes = scenario[\"max\"] * BYTES_PER_BLOB * SLOTS_PER_MONTH * GOSSIP_OVERHEAD\n",
    "    \n",
    "    # Apply bandwidth factors (download + upload)\n",
    "    avg_monthly_bytes = base_monthly_bytes * total_factor\n",
    "    max_monthly_bytes = base_max_monthly_bytes * total_factor\n",
    "    \n",
    "    monthly_data.append({\n",
    "        \"scenario\": scenario[\"name\"],\n",
    "        \"target_blobs\": scenario[\"target\"],\n",
    "        \"max_blobs\": scenario[\"max\"],\n",
    "        \"method\": \"Full Blob\",\n",
    "        \"custody_count\": None,\n",
    "        \"avg_monthly_gb\": avg_monthly_bytes / (1024**3),\n",
    "        \"max_monthly_gb\": max_monthly_bytes / (1024**3),\n",
    "        \"avg_monthly_tb\": avg_monthly_bytes / (1024**4),\n",
    "        \"max_monthly_tb\": max_monthly_bytes / (1024**4),\n",
    "    })\n",
    "\n",
    "# PeerDAS - only data for columns in custody\n",
    "for scenario in BLOB_LIMIT_SCENARIOS:\n",
    "    for custody in CUSTODY_SCENARIOS:\n",
    "        if custody[\"name\"] == \"Full\":\n",
    "            continue  # Skip full custody as it's same as full blob\n",
    "        \n",
    "        # In PeerDAS: extended blobs but only custody fraction\n",
    "        custody_fraction = custody[\"custody_count\"] / NUMBER_OF_COLUMNS\n",
    "        base_monthly_bytes = (scenario[\"target\"] * BYTES_PER_EXTENDED_BLOB * custody_fraction * \n",
    "                            SLOTS_PER_MONTH * GOSSIP_OVERHEAD)\n",
    "        base_max_monthly_bytes = (scenario[\"max\"] * BYTES_PER_EXTENDED_BLOB * custody_fraction * \n",
    "                                SLOTS_PER_MONTH * GOSSIP_OVERHEAD)\n",
    "        \n",
    "        # Apply bandwidth factors\n",
    "        avg_monthly_bytes = base_monthly_bytes * total_factor\n",
    "        max_monthly_bytes = base_max_monthly_bytes * total_factor\n",
    "        \n",
    "        monthly_data.append({\n",
    "            \"scenario\": scenario[\"name\"],\n",
    "            \"target_blobs\": scenario[\"target\"],\n",
    "            \"max_blobs\": scenario[\"max\"],\n",
    "            \"method\": f\"PeerDAS-{custody['custody_count']}\",\n",
    "            \"custody_count\": custody['custody_count'],\n",
    "            \"avg_monthly_gb\": avg_monthly_bytes / (1024**3),\n",
    "            \"max_monthly_gb\": max_monthly_bytes / (1024**3),\n",
    "            \"avg_monthly_tb\": avg_monthly_bytes / (1024**4),\n",
    "            \"max_monthly_tb\": max_monthly_bytes / (1024**4),\n",
    "        })\n",
    "\n",
    "df_monthly = pd.DataFrame(monthly_data)\n",
    "\n",
    "# Display key scenarios\n",
    "print(f\"Key Scenarios - Monthly Data Transfer:\")\n",
    "print(\"-\" * 60)\n",
    "key_scenarios_monthly = [\"Current (Pectra)\", \"Progressive\", \"High Scale\", \"Maximum\"]\n",
    "\n",
    "for scenario_name in key_scenarios_monthly:\n",
    "    # Get scenario details\n",
    "    scenario_details = next(s for s in BLOB_LIMIT_SCENARIOS if s[\"name\"] == scenario_name)\n",
    "    print(f\"\\n{scenario_name} ({scenario_details['target']}/{scenario_details['max']} blobs):\")\n",
    "    scenario_data = df_monthly[df_monthly['scenario'] == scenario_name]\n",
    "    \n",
    "    # Show Full Blob\n",
    "    full_blob = scenario_data[scenario_data['method'] == 'Full Blob'].iloc[0]\n",
    "    print(f\"  Full Blob:    {full_blob['avg_monthly_tb']:.2f} TB avg, {full_blob['max_monthly_tb']:.2f} TB max\")\n",
    "    \n",
    "    # Show key PeerDAS scenarios\n",
    "    for custody_count in [4, 16, 32]:\n",
    "        peerdas_data = scenario_data[scenario_data['method'] == f'PeerDAS-{custody_count}']\n",
    "        if not peerdas_data.empty:\n",
    "            row = peerdas_data.iloc[0]\n",
    "            savings_pct = (1 - row['avg_monthly_tb'] / full_blob['avg_monthly_tb']) * 100\n",
    "            print(f\"  PeerDAS-{custody_count:2d}: {row['avg_monthly_tb']:.2f} TB avg, {row['max_monthly_tb']:.2f} TB max ({savings_pct:.0f}% less)\")\n",
    "\n",
    "# PeerDAS efficiency comparison\n",
    "print(\"\\n\" + \"=\" * 60)\n",
    "print(\"PEERDAS DATA EFFICIENCY ANALYSIS\")\n",
    "print(\"=\" * 60)\n",
    "\n",
    "print(\"Data transfer reduction with different custody levels:\")\n",
    "print(f\"{'Custody':<12} {'Columns':<8} {'Current (6/9)':<15} {'Progressive (16/24)':<20} {'Reduction':<10}\")\n",
    "print(\"-\" * 75)\n",
    "\n",
    "current_full_data = df_monthly[(df_monthly['scenario'] == \"Current (Pectra)\") & \n",
    "                              (df_monthly['method'] == \"Full Blob\")].iloc[0]['avg_monthly_tb']\n",
    "prog_full_data = df_monthly[(df_monthly['scenario'] == \"Progressive\") & \n",
    "                           (df_monthly['method'] == \"Full Blob\")].iloc[0]['avg_monthly_tb']\n",
    "\n",
    "print(f\"{'Full Blob':<12} {'128':<8} {current_full_data:<15.2f} {prog_full_data:<20.2f} {'0%':<10}\")\n",
    "\n",
    "for custody_count in [4, 8, 16, 32, 64]:\n",
    "    current_das = df_monthly[(df_monthly['scenario'] == \"Current (Pectra)\") & \n",
    "                            (df_monthly['method'] == f\"PeerDAS-{custody_count}\")].iloc[0]['avg_monthly_tb']\n",
    "    prog_das = df_monthly[(df_monthly['scenario'] == \"Progressive\") & \n",
    "                         (df_monthly['method'] == f\"PeerDAS-{custody_count}\")].iloc[0]['avg_monthly_tb']\n",
    "    \n",
    "    reduction = (1 - current_das / current_full_data) * 100\n",
    "    \n",
    "    print(f\"{'PeerDAS-' + str(custody_count):<12} {custody_count:<8} {current_das:<15.2f} {prog_das:<20.2f} {reduction:<10.0f}%\")\n",
    "\n",
    "print(f\"\\nKey insights:\")\n",
    "print(f\"- Data transfer scales linearly with blob count and custody level\")\n",
    "print(f\"- PeerDAS provides massive data transfer savings (up to 97% reduction)\")\n",
    "print(f\"- Extended blob size (2x) is offset by custody reduction factor\")\n",
    "print(f\"- Network-wide data transfer is reduced, improving overall efficiency\")\n",
    "\n",
    "# Storage implications\n",
    "print(\"\\n\" + \"=\" * 60)\n",
    "print(\"STORAGE IMPLICATIONS\")\n",
    "print(\"=\" * 60)\n",
    "\n",
    "print(\"Annual storage requirements per node:\")\n",
    "annual_multiplier = 12  # months per year\n",
    "\n",
    "for scenario_name in [\"Current (Pectra)\", \"Progressive\"]:\n",
    "    scenario_details = next(s for s in BLOB_LIMIT_SCENARIOS if s[\"name\"] == scenario_name)\n",
    "    print(f\"\\n{scenario_name} ({scenario_details['target']}/{scenario_details['max']} blobs):\")\n",
    "    \n",
    "    # Full blob storage\n",
    "    full_data = df_monthly[(df_monthly['scenario'] == scenario_name) & \n",
    "                          (df_monthly['method'] == \"Full Blob\")].iloc[0]['avg_monthly_tb']\n",
    "    print(f\"  Full Blob:    {full_data * annual_multiplier:.1f} TB/year\")\n",
    "    \n",
    "    # PeerDAS storage (much less due to custody)\n",
    "    das16_data = df_monthly[(df_monthly['scenario'] == scenario_name) & \n",
    "                           (df_monthly['method'] == \"PeerDAS-16\")].iloc[0]['avg_monthly_tb']\n",
    "    print(f\"  PeerDAS-16:   {das16_data * annual_multiplier:.1f} TB/year\")\n",
    "\n",
    "print(f\"\\nNote: Includes gossip overhead and balanced node bandwidth factors (down: {factors['down_factor']}, up: {factors['up_factor']})\")"
   ]
  },
  {
   "cell_type": "markdown",
   "id": "visualizations",
   "metadata": {},
   "source": [
    "## Visualizations"
   ]
  },
  {
   "cell_type": "code",
   "execution_count": 5,
   "id": "viz-bandwidth",
   "metadata": {},
   "outputs": [
    {
     "data": {
      "application/vnd.plotly.v1+json": {
       "config": {
        "plotlyServerURL": "https://plot.ly"
       },
       "data": [
        {
         "marker": {
          "color": "lightblue"
         },
         "name": "Full Blob",
         "offsetgroup": "1",
         "type": "bar",
         "x": [
          "3/6",
          "6/9",
          "8/12",
          "10/15",
          "12/18",
          "16/24",
          "20/30",
          "24/36",
          "30/45",
          "36/54",
          "40/60",
          "48/72",
          "60/90"
         ],
         "xaxis": "x",
         "y": {
          "bdata": "AAAAAAAAC0AAAAAAAAAbQAAAAAAAACJAAAAAAACAJkAAAAAAAAArQAAAAAAAADJAAAAAAACANkAAAAAAAAA7QAAAAAAA4EBAAAAAAABAREAAAAAAAIBGQAAAAAAAAEtAAAAAAADgUEA=",
          "dtype": "f8"
         },
         "yaxis": "y"
        },
        {
         "marker": {
          "color": "lightblue"
         },
         "name": "Full Blob",
         "offsetgroup": "1",
         "showlegend": false,
         "type": "bar",
         "x": [
          "3/6",
          "6/9",
          "8/12",
          "10/15",
          "12/18",
          "16/24",
          "20/30",
          "24/36",
          "30/45",
          "36/54",
          "40/60",
          "48/72",
          "60/90"
         ],
         "xaxis": "x2",
         "y": {
          "bdata": "AAAAAAAAC0AAAAAAAAAbQAAAAAAAACJAAAAAAACAJkAAAAAAAAArQAAAAAAAADJAAAAAAACANkAAAAAAAAA7QAAAAAAA4EBAAAAAAABAREAAAAAAAIBGQAAAAAAAAEtAAAAAAADgUEA=",
          "dtype": "f8"
         },
         "yaxis": "y2"
        },
        {
         "marker": {
          "color": "green"
         },
         "name": "PeerDAS-4",
         "offsetgroup": "2",
         "type": "bar",
         "x": [
          "3/6",
          "6/9",
          "8/12",
          "10/15",
          "12/18",
          "16/24",
          "20/30",
          "24/36",
          "30/45",
          "36/54",
          "40/60",
          "48/72",
          "60/90"
         ],
         "xaxis": "x",
         "y": {
          "bdata": "AAAAAAAAyz8AAAAAAADbPwAAAAAAAOI/AAAAAACA5j8AAAAAAADrPwAAAAAAAPI/AAAAAACA9j8AAAAAAAD7PwAAAAAA4ABAAAAAAABABEAAAAAAAIAGQAAAAAAAAAtAAAAAAADgEEA=",
          "dtype": "f8"
         },
         "yaxis": "y"
        },
        {
         "marker": {
          "color": "green"
         },
         "name": "PeerDAS-4",
         "offsetgroup": "2",
         "showlegend": false,
         "type": "bar",
         "x": [
          "3/6",
          "6/9",
          "8/12",
          "10/15",
          "12/18",
          "16/24",
          "20/30",
          "24/36",
          "30/45",
          "36/54",
          "40/60",
          "48/72",
          "60/90"
         ],
         "xaxis": "x2",
         "y": {
          "bdata": "AAAAAAAAyz8AAAAAAADbPwAAAAAAAOI/AAAAAACA5j8AAAAAAADrPwAAAAAAAPI/AAAAAACA9j8AAAAAAAD7PwAAAAAA4ABAAAAAAABABEAAAAAAAIAGQAAAAAAAAAtAAAAAAADgEEA=",
          "dtype": "f8"
         },
         "yaxis": "y2"
        },
        {
         "marker": {
          "color": "blue"
         },
         "name": "PeerDAS-16",
         "offsetgroup": "3",
         "type": "bar",
         "x": [
          "3/6",
          "6/9",
          "8/12",
          "10/15",
          "12/18",
          "16/24",
          "20/30",
          "24/36",
          "30/45",
          "36/54",
          "40/60",
          "48/72",
          "60/90"
         ],
         "xaxis": "x",
         "y": {
          "bdata": "AAAAAAAA6z8AAAAAAAD7PwAAAAAAAAJAAAAAAACABkAAAAAAAAALQAAAAAAAABJAAAAAAACAFkAAAAAAAAAbQAAAAAAA4CBAAAAAAABAJEAAAAAAAIAmQAAAAAAAACtAAAAAAADgMEA=",
          "dtype": "f8"
         },
         "yaxis": "y"
        },
        {
         "marker": {
          "color": "blue"
         },
         "name": "PeerDAS-16",
         "offsetgroup": "3",
         "showlegend": false,
         "type": "bar",
         "x": [
          "3/6",
          "6/9",
          "8/12",
          "10/15",
          "12/18",
          "16/24",
          "20/30",
          "24/36",
          "30/45",
          "36/54",
          "40/60",
          "48/72",
          "60/90"
         ],
         "xaxis": "x2",
         "y": {
          "bdata": "AAAAAAAA6z8AAAAAAAD7PwAAAAAAAAJAAAAAAACABkAAAAAAAAALQAAAAAAAABJAAAAAAACAFkAAAAAAAAAbQAAAAAAA4CBAAAAAAABAJEAAAAAAAIAmQAAAAAAAACtAAAAAAADgMEA=",
          "dtype": "f8"
         },
         "yaxis": "y2"
        },
        {
         "marker": {
          "color": "red"
         },
         "name": "PeerDAS-32",
         "offsetgroup": "4",
         "type": "bar",
         "x": [
          "3/6",
          "6/9",
          "8/12",
          "10/15",
          "12/18",
          "16/24",
          "20/30",
          "24/36",
          "30/45",
          "36/54",
          "40/60",
          "48/72",
          "60/90"
         ],
         "xaxis": "x",
         "y": {
          "bdata": "AAAAAAAA+z8AAAAAAAALQAAAAAAAABJAAAAAAACAFkAAAAAAAAAbQAAAAAAAACJAAAAAAACAJkAAAAAAAAArQAAAAAAA4DBAAAAAAABANEAAAAAAAIA2QAAAAAAAADtAAAAAAADgQEA=",
          "dtype": "f8"
         },
         "yaxis": "y"
        },
        {
         "marker": {
          "color": "red"
         },
         "name": "PeerDAS-32",
         "offsetgroup": "4",
         "showlegend": false,
         "type": "bar",
         "x": [
          "3/6",
          "6/9",
          "8/12",
          "10/15",
          "12/18",
          "16/24",
          "20/30",
          "24/36",
          "30/45",
          "36/54",
          "40/60",
          "48/72",
          "60/90"
         ],
         "xaxis": "x2",
         "y": {
          "bdata": "AAAAAAAA+z8AAAAAAAALQAAAAAAAABJAAAAAAACAFkAAAAAAAAAbQAAAAAAAACJAAAAAAACAJkAAAAAAAAArQAAAAAAA4DBAAAAAAABANEAAAAAAAIA2QAAAAAAAADtAAAAAAADgQEA=",
          "dtype": "f8"
         },
         "yaxis": "y2"
        }
       ],
       "layout": {
        "annotations": [
         {
          "font": {
           "size": 16
          },
          "showarrow": false,
          "text": "Download Bandwidth Comparison",
          "x": 0.2125,
          "xanchor": "center",
          "xref": "paper",
          "y": 1,
          "yanchor": "bottom",
          "yref": "paper"
         },
         {
          "font": {
           "size": 16
          },
          "showarrow": false,
          "text": "Upload Bandwidth Comparison",
          "x": 0.7875,
          "xanchor": "center",
          "xref": "paper",
          "y": 1,
          "yanchor": "bottom",
          "yref": "paper"
         }
        ],
        "barmode": "group",
        "height": 600,
        "template": {
         "data": {
          "bar": [
           {
            "error_x": {
             "color": "#f2f5fa"
            },
            "error_y": {
             "color": "#f2f5fa"
            },
            "marker": {
             "line": {
              "color": "rgb(17,17,17)",
              "width": 0.5
             },
             "pattern": {
              "fillmode": "overlay",
              "size": 10,
              "solidity": 0.2
             }
            },
            "type": "bar"
           }
          ],
          "barpolar": [
           {
            "marker": {
             "line": {
              "color": "rgb(17,17,17)",
              "width": 0.5
             },
             "pattern": {
              "fillmode": "overlay",
              "size": 10,
              "solidity": 0.2
             }
            },
            "type": "barpolar"
           }
          ],
          "carpet": [
           {
            "aaxis": {
             "endlinecolor": "#A2B1C6",
             "gridcolor": "#506784",
             "linecolor": "#506784",
             "minorgridcolor": "#506784",
             "startlinecolor": "#A2B1C6"
            },
            "baxis": {
             "endlinecolor": "#A2B1C6",
             "gridcolor": "#506784",
             "linecolor": "#506784",
             "minorgridcolor": "#506784",
             "startlinecolor": "#A2B1C6"
            },
            "type": "carpet"
           }
          ],
          "choropleth": [
           {
            "colorbar": {
             "outlinewidth": 0,
             "ticks": ""
            },
            "type": "choropleth"
           }
          ],
          "contour": [
           {
            "colorbar": {
             "outlinewidth": 0,
             "ticks": ""
            },
            "colorscale": [
             [
              0,
              "#0d0887"
             ],
             [
              0.1111111111111111,
              "#46039f"
             ],
             [
              0.2222222222222222,
              "#7201a8"
             ],
             [
              0.3333333333333333,
              "#9c179e"
             ],
             [
              0.4444444444444444,
              "#bd3786"
             ],
             [
              0.5555555555555556,
              "#d8576b"
             ],
             [
              0.6666666666666666,
              "#ed7953"
             ],
             [
              0.7777777777777778,
              "#fb9f3a"
             ],
             [
              0.8888888888888888,
              "#fdca26"
             ],
             [
              1,
              "#f0f921"
             ]
            ],
            "type": "contour"
           }
          ],
          "contourcarpet": [
           {
            "colorbar": {
             "outlinewidth": 0,
             "ticks": ""
            },
            "type": "contourcarpet"
           }
          ],
          "heatmap": [
           {
            "colorbar": {
             "outlinewidth": 0,
             "ticks": ""
            },
            "colorscale": [
             [
              0,
              "#0d0887"
             ],
             [
              0.1111111111111111,
              "#46039f"
             ],
             [
              0.2222222222222222,
              "#7201a8"
             ],
             [
              0.3333333333333333,
              "#9c179e"
             ],
             [
              0.4444444444444444,
              "#bd3786"
             ],
             [
              0.5555555555555556,
              "#d8576b"
             ],
             [
              0.6666666666666666,
              "#ed7953"
             ],
             [
              0.7777777777777778,
              "#fb9f3a"
             ],
             [
              0.8888888888888888,
              "#fdca26"
             ],
             [
              1,
              "#f0f921"
             ]
            ],
            "type": "heatmap"
           }
          ],
          "histogram": [
           {
            "marker": {
             "pattern": {
              "fillmode": "overlay",
              "size": 10,
              "solidity": 0.2
             }
            },
            "type": "histogram"
           }
          ],
          "histogram2d": [
           {
            "colorbar": {
             "outlinewidth": 0,
             "ticks": ""
            },
            "colorscale": [
             [
              0,
              "#0d0887"
             ],
             [
              0.1111111111111111,
              "#46039f"
             ],
             [
              0.2222222222222222,
              "#7201a8"
             ],
             [
              0.3333333333333333,
              "#9c179e"
             ],
             [
              0.4444444444444444,
              "#bd3786"
             ],
             [
              0.5555555555555556,
              "#d8576b"
             ],
             [
              0.6666666666666666,
              "#ed7953"
             ],
             [
              0.7777777777777778,
              "#fb9f3a"
             ],
             [
              0.8888888888888888,
              "#fdca26"
             ],
             [
              1,
              "#f0f921"
             ]
            ],
            "type": "histogram2d"
           }
          ],
          "histogram2dcontour": [
           {
            "colorbar": {
             "outlinewidth": 0,
             "ticks": ""
            },
            "colorscale": [
             [
              0,
              "#0d0887"
             ],
             [
              0.1111111111111111,
              "#46039f"
             ],
             [
              0.2222222222222222,
              "#7201a8"
             ],
             [
              0.3333333333333333,
              "#9c179e"
             ],
             [
              0.4444444444444444,
              "#bd3786"
             ],
             [
              0.5555555555555556,
              "#d8576b"
             ],
             [
              0.6666666666666666,
              "#ed7953"
             ],
             [
              0.7777777777777778,
              "#fb9f3a"
             ],
             [
              0.8888888888888888,
              "#fdca26"
             ],
             [
              1,
              "#f0f921"
             ]
            ],
            "type": "histogram2dcontour"
           }
          ],
          "mesh3d": [
           {
            "colorbar": {
             "outlinewidth": 0,
             "ticks": ""
            },
            "type": "mesh3d"
           }
          ],
          "parcoords": [
           {
            "line": {
             "colorbar": {
              "outlinewidth": 0,
              "ticks": ""
             }
            },
            "type": "parcoords"
           }
          ],
          "pie": [
           {
            "automargin": true,
            "type": "pie"
           }
          ],
          "scatter": [
           {
            "marker": {
             "line": {
              "color": "#283442"
             }
            },
            "type": "scatter"
           }
          ],
          "scatter3d": [
           {
            "line": {
             "colorbar": {
              "outlinewidth": 0,
              "ticks": ""
             }
            },
            "marker": {
             "colorbar": {
              "outlinewidth": 0,
              "ticks": ""
             }
            },
            "type": "scatter3d"
           }
          ],
          "scattercarpet": [
           {
            "marker": {
             "colorbar": {
              "outlinewidth": 0,
              "ticks": ""
             }
            },
            "type": "scattercarpet"
           }
          ],
          "scattergeo": [
           {
            "marker": {
             "colorbar": {
              "outlinewidth": 0,
              "ticks": ""
             }
            },
            "type": "scattergeo"
           }
          ],
          "scattergl": [
           {
            "marker": {
             "line": {
              "color": "#283442"
             }
            },
            "type": "scattergl"
           }
          ],
          "scattermap": [
           {
            "marker": {
             "colorbar": {
              "outlinewidth": 0,
              "ticks": ""
             }
            },
            "type": "scattermap"
           }
          ],
          "scattermapbox": [
           {
            "marker": {
             "colorbar": {
              "outlinewidth": 0,
              "ticks": ""
             }
            },
            "type": "scattermapbox"
           }
          ],
          "scatterpolar": [
           {
            "marker": {
             "colorbar": {
              "outlinewidth": 0,
              "ticks": ""
             }
            },
            "type": "scatterpolar"
           }
          ],
          "scatterpolargl": [
           {
            "marker": {
             "colorbar": {
              "outlinewidth": 0,
              "ticks": ""
             }
            },
            "type": "scatterpolargl"
           }
          ],
          "scatterternary": [
           {
            "marker": {
             "colorbar": {
              "outlinewidth": 0,
              "ticks": ""
             }
            },
            "type": "scatterternary"
           }
          ],
          "surface": [
           {
            "colorbar": {
             "outlinewidth": 0,
             "ticks": ""
            },
            "colorscale": [
             [
              0,
              "#0d0887"
             ],
             [
              0.1111111111111111,
              "#46039f"
             ],
             [
              0.2222222222222222,
              "#7201a8"
             ],
             [
              0.3333333333333333,
              "#9c179e"
             ],
             [
              0.4444444444444444,
              "#bd3786"
             ],
             [
              0.5555555555555556,
              "#d8576b"
             ],
             [
              0.6666666666666666,
              "#ed7953"
             ],
             [
              0.7777777777777778,
              "#fb9f3a"
             ],
             [
              0.8888888888888888,
              "#fdca26"
             ],
             [
              1,
              "#f0f921"
             ]
            ],
            "type": "surface"
           }
          ],
          "table": [
           {
            "cells": {
             "fill": {
              "color": "#506784"
             },
             "line": {
              "color": "rgb(17,17,17)"
             }
            },
            "header": {
             "fill": {
              "color": "#2a3f5f"
             },
             "line": {
              "color": "rgb(17,17,17)"
             }
            },
            "type": "table"
           }
          ]
         },
         "layout": {
          "annotationdefaults": {
           "arrowcolor": "#f2f5fa",
           "arrowhead": 0,
           "arrowwidth": 1
          },
          "autotypenumbers": "strict",
          "coloraxis": {
           "colorbar": {
            "outlinewidth": 0,
            "ticks": ""
           }
          },
          "colorscale": {
           "diverging": [
            [
             0,
             "#8e0152"
            ],
            [
             0.1,
             "#c51b7d"
            ],
            [
             0.2,
             "#de77ae"
            ],
            [
             0.3,
             "#f1b6da"
            ],
            [
             0.4,
             "#fde0ef"
            ],
            [
             0.5,
             "#f7f7f7"
            ],
            [
             0.6,
             "#e6f5d0"
            ],
            [
             0.7,
             "#b8e186"
            ],
            [
             0.8,
             "#7fbc41"
            ],
            [
             0.9,
             "#4d9221"
            ],
            [
             1,
             "#276419"
            ]
           ],
           "sequential": [
            [
             0,
             "#0d0887"
            ],
            [
             0.1111111111111111,
             "#46039f"
            ],
            [
             0.2222222222222222,
             "#7201a8"
            ],
            [
             0.3333333333333333,
             "#9c179e"
            ],
            [
             0.4444444444444444,
             "#bd3786"
            ],
            [
             0.5555555555555556,
             "#d8576b"
            ],
            [
             0.6666666666666666,
             "#ed7953"
            ],
            [
             0.7777777777777778,
             "#fb9f3a"
            ],
            [
             0.8888888888888888,
             "#fdca26"
            ],
            [
             1,
             "#f0f921"
            ]
           ],
           "sequentialminus": [
            [
             0,
             "#0d0887"
            ],
            [
             0.1111111111111111,
             "#46039f"
            ],
            [
             0.2222222222222222,
             "#7201a8"
            ],
            [
             0.3333333333333333,
             "#9c179e"
            ],
            [
             0.4444444444444444,
             "#bd3786"
            ],
            [
             0.5555555555555556,
             "#d8576b"
            ],
            [
             0.6666666666666666,
             "#ed7953"
            ],
            [
             0.7777777777777778,
             "#fb9f3a"
            ],
            [
             0.8888888888888888,
             "#fdca26"
            ],
            [
             1,
             "#f0f921"
            ]
           ]
          },
          "colorway": [
           "#636efa",
           "#EF553B",
           "#00cc96",
           "#ab63fa",
           "#FFA15A",
           "#19d3f3",
           "#FF6692",
           "#B6E880",
           "#FF97FF",
           "#FECB52"
          ],
          "font": {
           "color": "#f2f5fa"
          },
          "geo": {
           "bgcolor": "rgb(17,17,17)",
           "lakecolor": "rgb(17,17,17)",
           "landcolor": "rgb(17,17,17)",
           "showlakes": true,
           "showland": true,
           "subunitcolor": "#506784"
          },
          "hoverlabel": {
           "align": "left"
          },
          "hovermode": "closest",
          "mapbox": {
           "style": "dark"
          },
          "paper_bgcolor": "rgb(17,17,17)",
          "plot_bgcolor": "rgb(17,17,17)",
          "polar": {
           "angularaxis": {
            "gridcolor": "#506784",
            "linecolor": "#506784",
            "ticks": ""
           },
           "bgcolor": "rgb(17,17,17)",
           "radialaxis": {
            "gridcolor": "#506784",
            "linecolor": "#506784",
            "ticks": ""
           }
          },
          "scene": {
           "xaxis": {
            "backgroundcolor": "rgb(17,17,17)",
            "gridcolor": "#506784",
            "gridwidth": 2,
            "linecolor": "#506784",
            "showbackground": true,
            "ticks": "",
            "zerolinecolor": "#C8D4E3"
           },
           "yaxis": {
            "backgroundcolor": "rgb(17,17,17)",
            "gridcolor": "#506784",
            "gridwidth": 2,
            "linecolor": "#506784",
            "showbackground": true,
            "ticks": "",
            "zerolinecolor": "#C8D4E3"
           },
           "zaxis": {
            "backgroundcolor": "rgb(17,17,17)",
            "gridcolor": "#506784",
            "gridwidth": 2,
            "linecolor": "#506784",
            "showbackground": true,
            "ticks": "",
            "zerolinecolor": "#C8D4E3"
           }
          },
          "shapedefaults": {
           "line": {
            "color": "#f2f5fa"
           }
          },
          "sliderdefaults": {
           "bgcolor": "#C8D4E3",
           "bordercolor": "rgb(17,17,17)",
           "borderwidth": 1,
           "tickwidth": 0
          },
          "ternary": {
           "aaxis": {
            "gridcolor": "#506784",
            "linecolor": "#506784",
            "ticks": ""
           },
           "baxis": {
            "gridcolor": "#506784",
            "linecolor": "#506784",
            "ticks": ""
           },
           "bgcolor": "rgb(17,17,17)",
           "caxis": {
            "gridcolor": "#506784",
            "linecolor": "#506784",
            "ticks": ""
           }
          },
          "title": {
           "x": 0.05
          },
          "updatemenudefaults": {
           "bgcolor": "#506784",
           "borderwidth": 0
          },
          "xaxis": {
           "automargin": true,
           "gridcolor": "#283442",
           "linecolor": "#506784",
           "ticks": "",
           "title": {
            "standoff": 15
           },
           "zerolinecolor": "#283442",
           "zerolinewidth": 2
          },
          "yaxis": {
           "automargin": true,
           "gridcolor": "#283442",
           "linecolor": "#506784",
           "ticks": "",
           "title": {
            "standoff": 15
           },
           "zerolinecolor": "#283442",
           "zerolinewidth": 2
          }
         }
        },
        "title": {
         "text": "Bandwidth Requirements: Full Blob vs PeerDAS Comparison"
        },
        "width": 2400,
        "xaxis": {
         "anchor": "y",
         "domain": [
          0,
          0.425
         ],
         "title": {
          "text": "Target/Max Blobs per Block"
         }
        },
        "xaxis2": {
         "anchor": "y2",
         "domain": [
          0.575,
          1
         ],
         "title": {
          "text": "Target/Max Blobs per Block"
         }
        },
        "yaxis": {
         "anchor": "x",
         "domain": [
          0,
          1
         ],
         "title": {
          "text": "Bandwidth (Mbps)"
         },
         "type": "log"
        },
        "yaxis2": {
         "anchor": "x2",
         "domain": [
          0,
          1
         ],
         "title": {
          "text": "Bandwidth (Mbps)"
         },
         "type": "log"
        }
       }
      },
      "image/png": "[encoded data removed]"
     },
     "metadata": {},
     "output_type": "display_data"
    }
   ],
   "source": [
    "# 1. PeerDAS vs Full Blob Propagation Comparison\n",
    "fig = make_subplots(\n",
    "    rows=1, cols=2,\n",
    "    subplot_titles=('Download Bandwidth Comparison', 'Upload Bandwidth Comparison'),\n",
    "    horizontal_spacing=0.15\n",
    ")\n",
    "\n",
    "# Create scenario labels with only target/max blob counts\n",
    "scenario_labels = [f\"{row['target_blobs']}/{row['max_blobs']}\" for _, row in df_results_full.iterrows()]\n",
    "\n",
    "# Define methods to compare with colors\n",
    "methods = [\n",
    "    {'name': 'Full Blob', 'data': df_results_full, 'color': 'lightblue'},\n",
    "    {'name': 'PeerDAS-4', 'data': df_results_peerdas[df_results_peerdas['custody_count'] == 4], 'color': 'green'},\n",
    "    {'name': 'PeerDAS-16', 'data': df_results_peerdas[df_results_peerdas['custody_count'] == 16], 'color': 'blue'},\n",
    "    {'name': 'PeerDAS-32', 'data': df_results_peerdas[df_results_peerdas['custody_count'] == 32], 'color': 'red'}\n",
    "]\n",
    "\n",
    "# Add traces for both download (col 1) and upload (col 2)\n",
    "for i, method in enumerate(methods):\n",
    "    # Download chart\n",
    "    fig.add_trace(\n",
    "        go.Bar(\n",
    "            x=scenario_labels,\n",
    "            y=method['data']['avg_download_mbps'],\n",
    "            name=method['name'],\n",
    "            marker_color=method['color'],\n",
    "            offsetgroup=i+1\n",
    "        ),\n",
    "        row=1, col=1\n",
    "    )\n",
    "    \n",
    "    # Upload chart (hide legend to avoid duplicates)\n",
    "    fig.add_trace(\n",
    "        go.Bar(\n",
    "            x=scenario_labels,\n",
    "            y=method['data']['avg_upload_mbps'],\n",
    "            name=method['name'],\n",
    "            marker_color=method['color'],\n",
    "            offsetgroup=i+1,\n",
    "            showlegend=False\n",
    "        ),\n",
    "        row=1, col=2\n",
    "    )\n",
    "\n",
    "fig.update_xaxes(title=\"Target/Max Blobs per Block\")\n",
    "fig.update_yaxes(type=\"log\", title=\"Bandwidth (Mbps)\")\n",
    "fig.update_layout(\n",
    "    title=\"Bandwidth Requirements: Full Blob vs PeerDAS Comparison\",\n",
    "    height=600,\n",
    "    width=2400,\n",
    "    barmode='group'\n",
    ")\n",
    "\n",
    "fig.show()"
   ]
  },
  {
   "cell_type": "code",
   "execution_count": 6,
   "id": "viz-compatibility",
   "metadata": {},
   "outputs": [
    {
     "data": {
      "application/vnd.plotly.v1+json": {
       "config": {
        "plotlyServerURL": "https://plot.ly"
       },
       "data": [
        {
         "colorbar": {
          "ticktext": [
           "No",
           "Yes"
          ],
          "tickvals": [
           0,
           1
          ],
          "title": {
           "text": "Compatible"
          }
         },
         "colorscale": [
          [
           0,
           "red"
          ],
          [
           0.5,
           "red"
          ],
          [
           0.5,
           "green"
          ],
          [
           1,
           "green"
          ]
         ],
         "showscale": false,
         "text": [
          [
           "Y",
           "Y",
           "Y",
           "Y",
           "Y",
           "Y",
           "N",
           "N",
           "N",
           "N",
           "N",
           "N",
           "N"
          ],
          [
           "Y",
           "Y",
           "Y",
           "Y",
           "N",
           "N",
           "N",
           "N",
           "N",
           "N",
           "N",
           "N",
           "N"
          ],
          [
           "Y",
           "Y",
           "Y",
           "Y",
           "Y",
           "Y",
           "Y",
           "Y",
           "Y",
           "N",
           "N",
           "N",
           "N"
          ],
          [
           "Y",
           "Y",
           "Y",
           "Y",
           "Y",
           "N",
           "N",
           "N",
           "N",
           "N",
           "N",
           "N",
           "N"
          ],
          [
           "Y",
           "Y",
           "Y",
           "Y",
           "Y",
           "Y",
           "Y",
           "Y",
           "Y",
           "Y",
           "Y",
           "Y",
           "Y"
          ],
          [
           "Y",
           "Y",
           "Y",
           "Y",
           "Y",
           "Y",
           "Y",
           "Y",
           "Y",
           "Y",
           "Y",
           "Y",
           "Y"
          ]
         ],
         "textfont": {
          "color": "white",
          "size": 12
         },
         "texttemplate": "%{text}",
         "type": "heatmap",
         "x": [
          "3/6",
          "6/9",
          "8/12",
          "10/15",
          "12/18",
          "16/24",
          "20/30",
          "24/36",
          "30/45",
          "36/54",
          "40/60",
          "48/72",
          "60/90"
         ],
         "xaxis": "x",
         "y": [
          "eip7870_attester",
          "eip7870_full_node",
          "eip7870_local_block_builder",
          "home_cable",
          "home_fiber",
          "institutional"
         ],
         "yaxis": "y",
         "z": {
          "bdata": "AQEBAQEBAAAAAAAAAAEBAQEAAAAAAAAAAAABAQEBAQEBAQEAAAAAAQEBAQEAAAAAAAAAAAEBAQEBAQEBAQEBAQEBAQEBAQEBAQEBAQEB",
          "dtype": "i1",
          "shape": "6, 13"
         },
         "zmax": 1,
         "zmin": 0
        },
        {
         "colorbar": {
          "ticktext": [
           "No",
           "Yes"
          ],
          "tickvals": [
           0,
           1
          ],
          "title": {
           "text": "Compatible"
          }
         },
         "colorscale": [
          [
           0,
           "red"
          ],
          [
           0.5,
           "red"
          ],
          [
           0.5,
           "green"
          ],
          [
           1,
           "green"
          ]
         ],
         "showscale": false,
         "text": [
          [
           "Y",
           "Y",
           "Y",
           "Y",
           "N",
           "N",
           "N",
           "N",
           "N",
           "N",
           "N",
           "N",
           "N"
          ],
          [
           "Y",
           "Y",
           "N",
           "N",
           "N",
           "N",
           "N",
           "N",
           "N",
           "N",
           "N",
           "N",
           "N"
          ],
          [
           "Y",
           "Y",
           "Y",
           "Y",
           "Y",
           "Y",
           "Y",
           "N",
           "N",
           "N",
           "N",
           "N",
           "N"
          ],
          [
           "Y",
           "Y",
           "Y",
           "N",
           "N",
           "N",
           "N",
           "N",
           "N",
           "N",
           "N",
           "N",
           "N"
          ],
          [
           "Y",
           "Y",
           "Y",
           "Y",
           "Y",
           "Y",
           "Y",
           "Y",
           "Y",
           "Y",
           "Y",
           "N",
           "N"
          ],
          [
           "Y",
           "Y",
           "Y",
           "Y",
           "Y",
           "Y",
           "Y",
           "Y",
           "Y",
           "Y",
           "Y",
           "Y",
           "Y"
          ]
         ],
         "textfont": {
          "color": "white",
          "size": 12
         },
         "texttemplate": "%{text}",
         "type": "heatmap",
         "x": [
          "3/6",
          "6/9",
          "8/12",
          "10/15",
          "12/18",
          "16/24",
          "20/30",
          "24/36",
          "30/45",
          "36/54",
          "40/60",
          "48/72",
          "60/90"
         ],
         "xaxis": "x2",
         "y": [
          "eip7870_attester",
          "eip7870_full_node",
          "eip7870_local_block_builder",
          "home_cable",
          "home_fiber",
          "institutional"
         ],
         "yaxis": "y2",
         "z": {
          "bdata": "AQEBAQAAAAAAAAAAAAEBAAAAAAAAAAAAAAABAQEBAQEBAAAAAAAAAQEBAAAAAAAAAAAAAAEBAQEBAQEBAQEBAAABAQEBAQEBAQEBAQEB",
          "dtype": "i1",
          "shape": "6, 13"
         },
         "zmax": 1,
         "zmin": 0
        },
        {
         "colorbar": {
          "ticktext": [
           "No",
           "Yes"
          ],
          "tickvals": [
           0,
           1
          ],
          "title": {
           "text": "Compatible"
          }
         },
         "colorscale": [
          [
           0,
           "red"
          ],
          [
           0.5,
           "red"
          ],
          [
           0.5,
           "green"
          ],
          [
           1,
           "green"
          ]
         ],
         "showscale": false,
         "text": [
          [
           "Y",
           "Y",
           "Y",
           "N",
           "N",
           "N",
           "N",
           "N",
           "N",
           "N",
           "N",
           "N",
           "N"
          ],
          [
           "Y",
           "N",
           "N",
           "N",
           "N",
           "N",
           "N",
           "N",
           "N",
           "N",
           "N",
           "N",
           "N"
          ],
          [
           "Y",
           "Y",
           "Y",
           "Y",
           "Y",
           "Y",
           "N",
           "N",
           "N",
           "N",
           "N",
           "N",
           "N"
          ],
          [
           "Y",
           "Y",
           "N",
           "N",
           "N",
           "N",
           "N",
           "N",
           "N",
           "N",
           "N",
           "N",
           "N"
          ],
          [
           "Y",
           "Y",
           "Y",
           "Y",
           "Y",
           "Y",
           "Y",
           "Y",
           "Y",
           "N",
           "N",
           "N",
           "N"
          ],
          [
           "Y",
           "Y",
           "Y",
           "Y",
           "Y",
           "Y",
           "Y",
           "Y",
           "Y",
           "Y",
           "Y",
           "Y",
           "Y"
          ]
         ],
         "textfont": {
          "color": "white",
          "size": 12
         },
         "texttemplate": "%{text}",
         "type": "heatmap",
         "x": [
          "3/6",
          "6/9",
          "8/12",
          "10/15",
          "12/18",
          "16/24",
          "20/30",
          "24/36",
          "30/45",
          "36/54",
          "40/60",
          "48/72",
          "60/90"
         ],
         "xaxis": "x3",
         "y": [
          "eip7870_attester",
          "eip7870_full_node",
          "eip7870_local_block_builder",
          "home_cable",
          "home_fiber",
          "institutional"
         ],
         "yaxis": "y3",
         "z": {
          "bdata": "AQEBAAAAAAAAAAAAAAEAAAAAAAAAAAAAAAABAQEBAQEAAAAAAAAAAQEAAAAAAAAAAAAAAAEBAQEBAQEBAQAAAAABAQEBAQEBAQEBAQEB",
          "dtype": "i1",
          "shape": "6, 13"
         },
         "zmax": 1,
         "zmin": 0
        },
        {
         "colorbar": {
          "ticktext": [
           "No",
           "Yes"
          ],
          "tickvals": [
           0,
           1
          ],
          "title": {
           "text": "Compatible"
          }
         },
         "colorscale": [
          [
           0,
           "red"
          ],
          [
           0.5,
           "red"
          ],
          [
           0.5,
           "green"
          ],
          [
           1,
           "green"
          ]
         ],
         "showscale": true,
         "text": [
          [
           "Y",
           "N",
           "N",
           "N",
           "N",
           "N",
           "N",
           "N",
           "N",
           "N",
           "N",
           "N",
           "N"
          ],
          [
           "N",
           "N",
           "N",
           "N",
           "N",
           "N",
           "N",
           "N",
           "N",
           "N",
           "N",
           "N",
           "N"
          ],
          [
           "Y",
           "Y",
           "Y",
           "Y",
           "N",
           "N",
           "N",
           "N",
           "N",
           "N",
           "N",
           "N",
           "N"
          ],
          [
           "Y",
           "N",
           "N",
           "N",
           "N",
           "N",
           "N",
           "N",
           "N",
           "N",
           "N",
           "N",
           "N"
          ],
          [
           "Y",
           "Y",
           "Y",
           "Y",
           "Y",
           "Y",
           "Y",
           "N",
           "N",
           "N",
           "N",
           "N",
           "N"
          ],
          [
           "Y",
           "Y",
           "Y",
           "Y",
           "Y",
           "Y",
           "Y",
           "Y",
           "Y",
           "Y",
           "Y",
           "Y",
           "Y"
          ]
         ],
         "textfont": {
          "color": "white",
          "size": 12
         },
         "texttemplate": "%{text}",
         "type": "heatmap",
         "x": [
          "3/6",
          "6/9",
          "8/12",
          "10/15",
          "12/18",
          "16/24",
          "20/30",
          "24/36",
          "30/45",
          "36/54",
          "40/60",
          "48/72",
          "60/90"
         ],
         "xaxis": "x4",
         "y": [
          "eip7870_attester",
          "eip7870_full_node",
          "eip7870_local_block_builder",
          "home_cable",
          "home_fiber",
          "institutional"
         ],
         "yaxis": "y4",
         "z": {
          "bdata": "AQAAAAAAAAAAAAAAAAAAAAAAAAAAAAAAAAABAQEBAAAAAAAAAAAAAQAAAAAAAAAAAAAAAAEBAQEBAQEAAAAAAAABAQEBAQEBAQEBAQEB",
          "dtype": "i1",
          "shape": "6, 13"
         },
         "zmax": 1,
         "zmin": 0
        }
       ],
       "layout": {
        "annotations": [
         {
          "font": {
           "size": 16
          },
          "showarrow": false,
          "text": "Average Load (Target Blobs)",
          "x": 0.2125,
          "xanchor": "center",
          "xref": "paper",
          "y": 1,
          "yanchor": "bottom",
          "yref": "paper"
         },
         {
          "font": {
           "size": 16
          },
          "showarrow": false,
          "text": "Max Load (Max Blobs)",
          "x": 0.7875,
          "xanchor": "center",
          "xref": "paper",
          "y": 1,
          "yanchor": "bottom",
          "yref": "paper"
         },
         {
          "font": {
           "size": 16
          },
          "showarrow": false,
          "text": "Peak Average Load (2x Target)",
          "x": 0.2125,
          "xanchor": "center",
          "xref": "paper",
          "y": 0.425,
          "yanchor": "bottom",
          "yref": "paper"
         },
         {
          "font": {
           "size": 16
          },
          "showarrow": false,
          "text": "Peak Max Load (2x Max)",
          "x": 0.7875,
          "xanchor": "center",
          "xref": "paper",
          "y": 0.425,
          "yanchor": "bottom",
          "yref": "paper"
         }
        ],
        "height": 800,
        "showlegend": false,
        "template": {
         "data": {
          "bar": [
           {
            "error_x": {
             "color": "#f2f5fa"
            },
            "error_y": {
             "color": "#f2f5fa"
            },
            "marker": {
             "line": {
              "color": "rgb(17,17,17)",
              "width": 0.5
             },
             "pattern": {
              "fillmode": "overlay",
              "size": 10,
              "solidity": 0.2
             }
            },
            "type": "bar"
           }
          ],
          "barpolar": [
           {
            "marker": {
             "line": {
              "color": "rgb(17,17,17)",
              "width": 0.5
             },
             "pattern": {
              "fillmode": "overlay",
              "size": 10,
              "solidity": 0.2
             }
            },
            "type": "barpolar"
           }
          ],
          "carpet": [
           {
            "aaxis": {
             "endlinecolor": "#A2B1C6",
             "gridcolor": "#506784",
             "linecolor": "#506784",
             "minorgridcolor": "#506784",
             "startlinecolor": "#A2B1C6"
            },
            "baxis": {
             "endlinecolor": "#A2B1C6",
             "gridcolor": "#506784",
             "linecolor": "#506784",
             "minorgridcolor": "#506784",
             "startlinecolor": "#A2B1C6"
            },
            "type": "carpet"
           }
          ],
          "choropleth": [
           {
            "colorbar": {
             "outlinewidth": 0,
             "ticks": ""
            },
            "type": "choropleth"
           }
          ],
          "contour": [
           {
            "colorbar": {
             "outlinewidth": 0,
             "ticks": ""
            },
            "colorscale": [
             [
              0,
              "#0d0887"
             ],
             [
              0.1111111111111111,
              "#46039f"
             ],
             [
              0.2222222222222222,
              "#7201a8"
             ],
             [
              0.3333333333333333,
              "#9c179e"
             ],
             [
              0.4444444444444444,
              "#bd3786"
             ],
             [
              0.5555555555555556,
              "#d8576b"
             ],
             [
              0.6666666666666666,
              "#ed7953"
             ],
             [
              0.7777777777777778,
              "#fb9f3a"
             ],
             [
              0.8888888888888888,
              "#fdca26"
             ],
             [
              1,
              "#f0f921"
             ]
            ],
            "type": "contour"
           }
          ],
          "contourcarpet": [
           {
            "colorbar": {
             "outlinewidth": 0,
             "ticks": ""
            },
            "type": "contourcarpet"
           }
          ],
          "heatmap": [
           {
            "colorbar": {
             "outlinewidth": 0,
             "ticks": ""
            },
            "colorscale": [
             [
              0,
              "#0d0887"
             ],
             [
              0.1111111111111111,
              "#46039f"
             ],
             [
              0.2222222222222222,
              "#7201a8"
             ],
             [
              0.3333333333333333,
              "#9c179e"
             ],
             [
              0.4444444444444444,
              "#bd3786"
             ],
             [
              0.5555555555555556,
              "#d8576b"
             ],
             [
              0.6666666666666666,
              "#ed7953"
             ],
             [
              0.7777777777777778,
              "#fb9f3a"
             ],
             [
              0.8888888888888888,
              "#fdca26"
             ],
             [
              1,
              "#f0f921"
             ]
            ],
            "type": "heatmap"
           }
          ],
          "histogram": [
           {
            "marker": {
             "pattern": {
              "fillmode": "overlay",
              "size": 10,
              "solidity": 0.2
             }
            },
            "type": "histogram"
           }
          ],
          "histogram2d": [
           {
            "colorbar": {
             "outlinewidth": 0,
             "ticks": ""
            },
            "colorscale": [
             [
              0,
              "#0d0887"
             ],
             [
              0.1111111111111111,
              "#46039f"
             ],
             [
              0.2222222222222222,
              "#7201a8"
             ],
             [
              0.3333333333333333,
              "#9c179e"
             ],
             [
              0.4444444444444444,
              "#bd3786"
             ],
             [
              0.5555555555555556,
              "#d8576b"
             ],
             [
              0.6666666666666666,
              "#ed7953"
             ],
             [
              0.7777777777777778,
              "#fb9f3a"
             ],
             [
              0.8888888888888888,
              "#fdca26"
             ],
             [
              1,
              "#f0f921"
             ]
            ],
            "type": "histogram2d"
           }
          ],
          "histogram2dcontour": [
           {
            "colorbar": {
             "outlinewidth": 0,
             "ticks": ""
            },
            "colorscale": [
             [
              0,
              "#0d0887"
             ],
             [
              0.1111111111111111,
              "#46039f"
             ],
             [
              0.2222222222222222,
              "#7201a8"
             ],
             [
              0.3333333333333333,
              "#9c179e"
             ],
             [
              0.4444444444444444,
              "#bd3786"
             ],
             [
              0.5555555555555556,
              "#d8576b"
             ],
             [
              0.6666666666666666,
              "#ed7953"
             ],
             [
              0.7777777777777778,
              "#fb9f3a"
             ],
             [
              0.8888888888888888,
              "#fdca26"
             ],
             [
              1,
              "#f0f921"
             ]
            ],
            "type": "histogram2dcontour"
           }
          ],
          "mesh3d": [
           {
            "colorbar": {
             "outlinewidth": 0,
             "ticks": ""
            },
            "type": "mesh3d"
           }
          ],
          "parcoords": [
           {
            "line": {
             "colorbar": {
              "outlinewidth": 0,
              "ticks": ""
             }
            },
            "type": "parcoords"
           }
          ],
          "pie": [
           {
            "automargin": true,
            "type": "pie"
           }
          ],
          "scatter": [
           {
            "marker": {
             "line": {
              "color": "#283442"
             }
            },
            "type": "scatter"
           }
          ],
          "scatter3d": [
           {
            "line": {
             "colorbar": {
              "outlinewidth": 0,
              "ticks": ""
             }
            },
            "marker": {
             "colorbar": {
              "outlinewidth": 0,
              "ticks": ""
             }
            },
            "type": "scatter3d"
           }
          ],
          "scattercarpet": [
           {
            "marker": {
             "colorbar": {
              "outlinewidth": 0,
              "ticks": ""
             }
            },
            "type": "scattercarpet"
           }
          ],
          "scattergeo": [
           {
            "marker": {
             "colorbar": {
              "outlinewidth": 0,
              "ticks": ""
             }
            },
            "type": "scattergeo"
           }
          ],
          "scattergl": [
           {
            "marker": {
             "line": {
              "color": "#283442"
             }
            },
            "type": "scattergl"
           }
          ],
          "scattermap": [
           {
            "marker": {
             "colorbar": {
              "outlinewidth": 0,
              "ticks": ""
             }
            },
            "type": "scattermap"
           }
          ],
          "scattermapbox": [
           {
            "marker": {
             "colorbar": {
              "outlinewidth": 0,
              "ticks": ""
             }
            },
            "type": "scattermapbox"
           }
          ],
          "scatterpolar": [
           {
            "marker": {
             "colorbar": {
              "outlinewidth": 0,
              "ticks": ""
             }
            },
            "type": "scatterpolar"
           }
          ],
          "scatterpolargl": [
           {
            "marker": {
             "colorbar": {
              "outlinewidth": 0,
              "ticks": ""
             }
            },
            "type": "scatterpolargl"
           }
          ],
          "scatterternary": [
           {
            "marker": {
             "colorbar": {
              "outlinewidth": 0,
              "ticks": ""
             }
            },
            "type": "scatterternary"
           }
          ],
          "surface": [
           {
            "colorbar": {
             "outlinewidth": 0,
             "ticks": ""
            },
            "colorscale": [
             [
              0,
              "#0d0887"
             ],
             [
              0.1111111111111111,
              "#46039f"
             ],
             [
              0.2222222222222222,
              "#7201a8"
             ],
             [
              0.3333333333333333,
              "#9c179e"
             ],
             [
              0.4444444444444444,
              "#bd3786"
             ],
             [
              0.5555555555555556,
              "#d8576b"
             ],
             [
              0.6666666666666666,
              "#ed7953"
             ],
             [
              0.7777777777777778,
              "#fb9f3a"
             ],
             [
              0.8888888888888888,
              "#fdca26"
             ],
             [
              1,
              "#f0f921"
             ]
            ],
            "type": "surface"
           }
          ],
          "table": [
           {
            "cells": {
             "fill": {
              "color": "#506784"
             },
             "line": {
              "color": "rgb(17,17,17)"
             }
            },
            "header": {
             "fill": {
              "color": "#2a3f5f"
             },
             "line": {
              "color": "rgb(17,17,17)"
             }
            },
            "type": "table"
           }
          ]
         },
         "layout": {
          "annotationdefaults": {
           "arrowcolor": "#f2f5fa",
           "arrowhead": 0,
           "arrowwidth": 1
          },
          "autotypenumbers": "strict",
          "coloraxis": {
           "colorbar": {
            "outlinewidth": 0,
            "ticks": ""
           }
          },
          "colorscale": {
           "diverging": [
            [
             0,
             "#8e0152"
            ],
            [
             0.1,
             "#c51b7d"
            ],
            [
             0.2,
             "#de77ae"
            ],
            [
             0.3,
             "#f1b6da"
            ],
            [
             0.4,
             "#fde0ef"
            ],
            [
             0.5,
             "#f7f7f7"
            ],
            [
             0.6,
             "#e6f5d0"
            ],
            [
             0.7,
             "#b8e186"
            ],
            [
             0.8,
             "#7fbc41"
            ],
            [
             0.9,
             "#4d9221"
            ],
            [
             1,
             "#276419"
            ]
           ],
           "sequential": [
            [
             0,
             "#0d0887"
            ],
            [
             0.1111111111111111,
             "#46039f"
            ],
            [
             0.2222222222222222,
             "#7201a8"
            ],
            [
             0.3333333333333333,
             "#9c179e"
            ],
            [
             0.4444444444444444,
             "#bd3786"
            ],
            [
             0.5555555555555556,
             "#d8576b"
            ],
            [
             0.6666666666666666,
             "#ed7953"
            ],
            [
             0.7777777777777778,
             "#fb9f3a"
            ],
            [
             0.8888888888888888,
             "#fdca26"
            ],
            [
             1,
             "#f0f921"
            ]
           ],
           "sequentialminus": [
            [
             0,
             "#0d0887"
            ],
            [
             0.1111111111111111,
             "#46039f"
            ],
            [
             0.2222222222222222,
             "#7201a8"
            ],
            [
             0.3333333333333333,
             "#9c179e"
            ],
            [
             0.4444444444444444,
             "#bd3786"
            ],
            [
             0.5555555555555556,
             "#d8576b"
            ],
            [
             0.6666666666666666,
             "#ed7953"
            ],
            [
             0.7777777777777778,
             "#fb9f3a"
            ],
            [
             0.8888888888888888,
             "#fdca26"
            ],
            [
             1,
             "#f0f921"
            ]
           ]
          },
          "colorway": [
           "#636efa",
           "#EF553B",
           "#00cc96",
           "#ab63fa",
           "#FFA15A",
           "#19d3f3",
           "#FF6692",
           "#B6E880",
           "#FF97FF",
           "#FECB52"
          ],
          "font": {
           "color": "#f2f5fa"
          },
          "geo": {
           "bgcolor": "rgb(17,17,17)",
           "lakecolor": "rgb(17,17,17)",
           "landcolor": "rgb(17,17,17)",
           "showlakes": true,
           "showland": true,
           "subunitcolor": "#506784"
          },
          "hoverlabel": {
           "align": "left"
          },
          "hovermode": "closest",
          "mapbox": {
           "style": "dark"
          },
          "paper_bgcolor": "rgb(17,17,17)",
          "plot_bgcolor": "rgb(17,17,17)",
          "polar": {
           "angularaxis": {
            "gridcolor": "#506784",
            "linecolor": "#506784",
            "ticks": ""
           },
           "bgcolor": "rgb(17,17,17)",
           "radialaxis": {
            "gridcolor": "#506784",
            "linecolor": "#506784",
            "ticks": ""
           }
          },
          "scene": {
           "xaxis": {
            "backgroundcolor": "rgb(17,17,17)",
            "gridcolor": "#506784",
            "gridwidth": 2,
            "linecolor": "#506784",
            "showbackground": true,
            "ticks": "",
            "zerolinecolor": "#C8D4E3"
           },
           "yaxis": {
            "backgroundcolor": "rgb(17,17,17)",
            "gridcolor": "#506784",
            "gridwidth": 2,
            "linecolor": "#506784",
            "showbackground": true,
            "ticks": "",
            "zerolinecolor": "#C8D4E3"
           },
           "zaxis": {
            "backgroundcolor": "rgb(17,17,17)",
            "gridcolor": "#506784",
            "gridwidth": 2,
            "linecolor": "#506784",
            "showbackground": true,
            "ticks": "",
            "zerolinecolor": "#C8D4E3"
           }
          },
          "shapedefaults": {
           "line": {
            "color": "#f2f5fa"
           }
          },
          "sliderdefaults": {
           "bgcolor": "#C8D4E3",
           "bordercolor": "rgb(17,17,17)",
           "borderwidth": 1,
           "tickwidth": 0
          },
          "ternary": {
           "aaxis": {
            "gridcolor": "#506784",
            "linecolor": "#506784",
            "ticks": ""
           },
           "baxis": {
            "gridcolor": "#506784",
            "linecolor": "#506784",
            "ticks": ""
           },
           "bgcolor": "rgb(17,17,17)",
           "caxis": {
            "gridcolor": "#506784",
            "linecolor": "#506784",
            "ticks": ""
           }
          },
          "title": {
           "x": 0.05
          },
          "updatemenudefaults": {
           "bgcolor": "#506784",
           "borderwidth": 0
          },
          "xaxis": {
           "automargin": true,
           "gridcolor": "#283442",
           "linecolor": "#506784",
           "ticks": "",
           "title": {
            "standoff": 15
           },
           "zerolinecolor": "#283442",
           "zerolinewidth": 2
          },
          "yaxis": {
           "automargin": true,
           "gridcolor": "#283442",
           "linecolor": "#506784",
           "ticks": "",
           "title": {
            "standoff": 15
           },
           "zerolinecolor": "#283442",
           "zerolinewidth": 2
          }
         }
        },
        "title": {
         "text": "Node Type Compatibility Matrix - Full Blob Propagation Only"
        },
        "width": 1600,
        "xaxis": {
         "anchor": "y",
         "domain": [
          0,
          0.425
         ],
         "tickangle": 45,
         "tickfont": {
          "size": 10
         },
         "title": {
          "text": "Target/Max Blobs per Block"
         }
        },
        "xaxis2": {
         "anchor": "y2",
         "domain": [
          0.575,
          1
         ],
         "tickangle": 45,
         "tickfont": {
          "size": 10
         },
         "title": {
          "text": "Target/Max Blobs per Block"
         }
        },
        "xaxis3": {
         "anchor": "y3",
         "domain": [
          0,
          0.425
         ],
         "tickangle": 45,
         "tickfont": {
          "size": 10
         },
         "title": {
          "text": "Target/Max Blobs per Block"
         }
        },
        "xaxis4": {
         "anchor": "y4",
         "domain": [
          0.575,
          1
         ],
         "tickangle": 45,
         "tickfont": {
          "size": 10
         },
         "title": {
          "text": "Target/Max Blobs per Block"
         }
        },
        "yaxis": {
         "anchor": "x",
         "domain": [
          0.575,
          1
         ],
         "tickfont": {
          "size": 10
         }
        },
        "yaxis2": {
         "anchor": "x2",
         "domain": [
          0.575,
          1
         ],
         "tickfont": {
          "size": 10
         }
        },
        "yaxis3": {
         "anchor": "x3",
         "domain": [
          0,
          0.425
         ],
         "tickfont": {
          "size": 10
         }
        },
        "yaxis4": {
         "anchor": "x4",
         "domain": [
          0,
          0.425
         ],
         "tickfont": {
          "size": 10
         }
        }
       }
      },
      "image/png": "[encoded data removed]"
     },
     "metadata": {},
     "output_type": "display_data"
    },
    {
     "name": "stdout",
     "output_type": "stream",
     "text": [
      "\n",
      "Node Type Bandwidth Limits (19% reserved for other operations):\n",
      "----------------------------------------------------------------------\n",
      "\n",
      "EIP-7870 Official Limits (Available for blob propagation):\n",
      "Eip7870 Full Node    - Download:   40.0 Mbps, Upload:   12.0 Mbps\n",
      "Eip7870 Attester     - Download:   40.0 Mbps, Upload:   20.0 Mbps\n",
      "Eip7870 Local Block Builder - Download:   80.0 Mbps, Upload:   40.0 Mbps\n",
      "\n",
      "Additional Connection Types (Available for blob propagation):\n",
      "Home Cable           - Download:  160.0 Mbps, Upload:   16.0 Mbps\n",
      "Home Fiber           - Download:  240.0 Mbps, Upload:   80.0 Mbps\n",
      "Institutional        - Download:  800.0 Mbps, Upload:  800.0 Mbps\n",
      "\n",
      "======================================================================\n",
      "COMPATIBILITY SUMMARY (Full Blob Propagation):\n",
      "======================================================================\n",
      "\n",
      "Number of compatible scenarios (out of 13) for each node type:\n",
      "----------------------------------------------------------------------\n",
      "Eip7870 Attester     - Avg:  6, Max:  4, Peak Avg:  3, Peak Max:  1\n",
      "Eip7870 Full Node    - Avg:  4, Max:  2, Peak Avg:  1, Peak Max:  0\n",
      "Eip7870 Local Block Builder - Avg:  9, Max:  7, Peak Avg:  6, Peak Max:  4\n",
      "Home Cable           - Avg:  5, Max:  3, Peak Avg:  2, Peak Max:  1\n",
      "Home Fiber           - Avg: 13, Max: 11, Peak Avg:  9, Peak Max:  7\n",
      "Institutional        - Avg: 13, Max: 13, Peak Avg: 13, Peak Max: 13\n",
      "\n",
      "======================================================================\n",
      "FAILURE THRESHOLDS (first incompatible scenario) - Full Blob Only:\n",
      "======================================================================\n",
      "\n",
      "Eip7870 Attester:\n",
      "  Average Load       fails at: 20/30 blobs\n",
      "  Max Load           fails at: 12/18 blobs\n",
      "  Peak Average Load  fails at: 10/15 blobs\n",
      "  Peak Max Load      fails at: 6/9 blobs\n",
      "\n",
      "Eip7870 Full Node:\n",
      "  Average Load       fails at: 12/18 blobs\n",
      "  Max Load           fails at: 8/12 blobs\n",
      "  Peak Average Load  fails at: 6/9 blobs\n",
      "  Peak Max Load      fails at: 3/6 blobs\n",
      "\n",
      "Eip7870 Local Block Builder:\n",
      "  Average Load       fails at: 36/54 blobs\n",
      "  Max Load           fails at: 24/36 blobs\n",
      "  Peak Average Load  fails at: 20/30 blobs\n",
      "  Peak Max Load      fails at: 12/18 blobs\n",
      "\n",
      "Home Cable:\n",
      "  Average Load       fails at: 16/24 blobs\n",
      "  Max Load           fails at: 10/15 blobs\n",
      "  Peak Average Load  fails at: 8/12 blobs\n",
      "  Peak Max Load      fails at: 6/9 blobs\n",
      "\n",
      "Home Fiber:\n",
      "  Average Load       fails at: Never (all scenarios compatible)\n",
      "  Max Load           fails at: 48/72 blobs\n",
      "  Peak Average Load  fails at: 36/54 blobs\n",
      "  Peak Max Load      fails at: 24/36 blobs\n",
      "\n",
      "Institutional:\n",
      "  Average Load       fails at: Never (all scenarios compatible)\n",
      "  Max Load           fails at: Never (all scenarios compatible)\n",
      "  Peak Average Load  fails at: Never (all scenarios compatible)\n",
      "  Peak Max Load      fails at: Never (all scenarios compatible)\n",
      "\n",
      "Note: For PeerDAS compatibility analysis, see section 'PeerDAS vs Full Blob Analysis'\n"
     ]
    }
   ],
   "source": [
    "# 2. Node Compatibility Matrix - Full Blob Propagation (Upload/Download Split)\n",
    "\n",
    "# Helper function to create compatibility matrix\n",
    "def create_compatibility_matrix(df_results, load_type):\n",
    "    \"\"\"Create compatibility matrix for a specific load type.\"\"\"\n",
    "    compatibility_data = []\n",
    "    \n",
    "    for _, row in df_results.iterrows():\n",
    "        for node_type, bandwidth in ALL_CONNECTION_TYPES.items():\n",
    "            if load_type == \"avg\":\n",
    "                compatible = check_node_compatibility(\n",
    "                    row[\"avg_download\"], row[\"avg_upload\"], bandwidth\n",
    "                )\n",
    "            elif load_type == \"max\":\n",
    "                compatible = check_node_compatibility(\n",
    "                    row[\"max_download\"], row[\"max_upload\"], bandwidth\n",
    "                )\n",
    "            elif load_type == \"peak_avg\":\n",
    "                compatible = check_node_compatibility(\n",
    "                    row[\"peak_download\"], row[\"peak_upload\"], bandwidth\n",
    "                )\n",
    "            elif load_type == \"peak_max\":\n",
    "                compatible = check_node_compatibility(\n",
    "                    row[\"peak_max_download\"], row[\"peak_max_upload\"], bandwidth\n",
    "                )\n",
    "            \n",
    "            compatibility_data.append({\n",
    "                \"scenario\": f\"{row['target_blobs']}/{row['max_blobs']}\",\n",
    "                \"target_blobs\": row['target_blobs'],\n",
    "                \"max_blobs\": row['max_blobs'],\n",
    "                \"node_type\": node_type,\n",
    "                \"compatible\": compatible\n",
    "            })\n",
    "    \n",
    "    df = pd.DataFrame(compatibility_data)\n",
    "    # Sort by target_blobs and max_blobs before pivoting\n",
    "    df = df.sort_values(['target_blobs', 'max_blobs'])\n",
    "    # Get unique sorted scenarios\n",
    "    sorted_scenarios = df[['scenario', 'target_blobs', 'max_blobs']].drop_duplicates().sort_values(['target_blobs', 'max_blobs'])['scenario'].tolist()\n",
    "    # Pivot and reindex with sorted columns\n",
    "    matrix = df.pivot(index='node_type', columns='scenario', values='compatible').astype(int)\n",
    "    matrix = matrix[sorted_scenarios]  # Reorder columns\n",
    "    return matrix\n",
    "\n",
    "# Create all matrices\n",
    "matrices = {\n",
    "    \"Average Load (Target Blobs)\": create_compatibility_matrix(df_results_balanced, \"avg\"),\n",
    "    \"Max Load (Max Blobs)\": create_compatibility_matrix(df_results_balanced, \"max\"),\n",
    "    \"Peak Average Load (2x Target)\": create_compatibility_matrix(df_results_balanced, \"peak_avg\"),\n",
    "    \"Peak Max Load (2x Max)\": create_compatibility_matrix(df_results_balanced, \"peak_max\")\n",
    "}\n",
    "\n",
    "# Create 2x2 subplot figure\n",
    "fig = make_subplots(\n",
    "    rows=2, cols=2,\n",
    "    subplot_titles=list(matrices.keys()),\n",
    "    horizontal_spacing=0.15,\n",
    "    vertical_spacing=0.15\n",
    ")\n",
    "\n",
    "# Define discrete colorscale with only red and green\n",
    "discrete_colorscale = [[0, 'red'], [0.5, 'red'], [0.5, 'green'], [1, 'green']]\n",
    "\n",
    "# Add heatmaps to subplots\n",
    "positions = [(1, 1), (1, 2), (2, 1), (2, 2)]\n",
    "for (title, matrix), (row, col) in zip(matrices.items(), positions):\n",
    "    # Create text matrix with Y/N using map instead of deprecated applymap\n",
    "    text_matrix = matrix.map(lambda x: \"Y\" if x == 1 else \"N\")\n",
    "    \n",
    "    fig.add_trace(\n",
    "        go.Heatmap(\n",
    "            z=matrix.values,\n",
    "            x=matrix.columns,\n",
    "            y=matrix.index,\n",
    "            colorscale=discrete_colorscale,\n",
    "            zmin=0,\n",
    "            zmax=1,\n",
    "            showscale=(row == 2 and col == 2),  # Only show scale on last plot\n",
    "            text=text_matrix.values,\n",
    "            texttemplate=\"%{text}\",\n",
    "            textfont={\"size\": 12, \"color\": \"white\"},\n",
    "            colorbar=dict(title=\"Compatible\", tickvals=[0, 1], ticktext=[\"No\", \"Yes\"])\n",
    "        ),\n",
    "        row=row, col=col\n",
    "    )\n",
    "\n",
    "# Update layout\n",
    "fig.update_layout(\n",
    "    title=\"Node Type Compatibility Matrix - Full Blob Propagation Only\",\n",
    "    height=800,\n",
    "    width=1600,\n",
    "    showlegend=False\n",
    ")\n",
    "fig.update_xaxes(title=\"Target/Max Blobs per Block\", tickangle=45, tickfont=dict(size=10))\n",
    "fig.update_yaxes(tickfont=dict(size=10))\n",
    "\n",
    "fig.show()\n",
    "\n",
    "# Display bandwidth limits\n",
    "def display_bandwidth_limits():\n",
    "    \"\"\"Display formatted bandwidth limits table.\"\"\"\n",
    "    print(f\"\\nNode Type Bandwidth Limits ({int((1-BANDWIDTH_AVAILABLE_FACTOR)*100)}% reserved for other operations):\")\n",
    "    print(\"-\" * 70)\n",
    "    \n",
    "    print(\"\\nEIP-7870 Official Limits (Available for blob propagation):\")\n",
    "    for node_type, bw in EIP_7870_BANDWIDTH_LIMITS.items():\n",
    "        down_mbps = (bw[\"down\"] * BANDWIDTH_AVAILABLE_FACTOR * 8) / (1024 * 1024)\n",
    "        up_mbps = (bw[\"up\"] * BANDWIDTH_AVAILABLE_FACTOR * 8) / (1024 * 1024)\n",
    "        print(f\"{node_type.replace('_', ' ').title():20} - Download: {down_mbps:6.1f} Mbps, Upload: {up_mbps:6.1f} Mbps\")\n",
    "    \n",
    "    print(\"\\nAdditional Connection Types (Available for blob propagation):\")\n",
    "    for node_type, bw in ADDITIONAL_CONNECTION_TYPES.items():\n",
    "        down_mbps = (bw[\"down\"] * BANDWIDTH_AVAILABLE_FACTOR * 8) / (1024 * 1024)\n",
    "        up_mbps = (bw[\"up\"] * BANDWIDTH_AVAILABLE_FACTOR * 8) / (1024 * 1024)\n",
    "        print(f\"{node_type.replace('_', ' ').title():20} - Download: {down_mbps:6.1f} Mbps, Upload: {up_mbps:6.1f} Mbps\")\n",
    "\n",
    "# Display compatibility summary\n",
    "def display_compatibility_summary(matrices):\n",
    "    \"\"\"Display summary statistics for compatibility across all load types.\"\"\"\n",
    "    print(\"\\n\" + \"=\" * 70)\n",
    "    print(\"COMPATIBILITY SUMMARY (Full Blob Propagation):\")\n",
    "    print(\"=\" * 70)\n",
    "    print(\"\\nNumber of compatible scenarios (out of 13) for each node type:\")\n",
    "    print(\"-\" * 70)\n",
    "    \n",
    "    node_types = list(matrices.values())[0].index\n",
    "    \n",
    "    for node_type in node_types:\n",
    "        counts = [matrix.loc[node_type].sum() for matrix in matrices.values()]\n",
    "        print(f\"{node_type.replace('_', ' ').title():20} - Avg: {counts[0]:2d}, Max: {counts[1]:2d}, \"\n",
    "              f\"Peak Avg: {counts[2]:2d}, Peak Max: {counts[3]:2d}\")\n",
    "\n",
    "# Display failure thresholds\n",
    "def display_failure_thresholds(matrices):\n",
    "    \"\"\"Display the first failure point for each node type and load condition.\"\"\"\n",
    "    print(\"\\n\" + \"=\" * 70)\n",
    "    print(\"FAILURE THRESHOLDS (first incompatible scenario) - Full Blob Only:\")\n",
    "    print(\"=\" * 70)\n",
    "    \n",
    "    node_types = list(matrices.values())[0].index\n",
    "    \n",
    "    for node_type in node_types:\n",
    "        print(f\"\\n{node_type.replace('_', ' ').title()}:\")\n",
    "        \n",
    "        for load_type, matrix in matrices.items():\n",
    "            row = matrix.loc[node_type]\n",
    "            failures = row[row == 0]\n",
    "            \n",
    "            if len(failures) > 0:\n",
    "                first_failure = failures.index[0]\n",
    "                # Extract target/max from the label\n",
    "                target_max = first_failure.split('/')\n",
    "                load_label = load_type.split('(')[0].strip()\n",
    "                print(f\"  {load_label:18} fails at: {first_failure} blobs\")\n",
    "            else:\n",
    "                load_label = load_type.split('(')[0].strip()\n",
    "                print(f\"  {load_label:18} fails at: Never (all scenarios compatible)\")\n",
    "\n",
    "# Execute display functions\n",
    "display_bandwidth_limits()\n",
    "display_compatibility_summary(matrices)\n",
    "display_failure_thresholds(matrices)\n",
    "\n",
    "print(\"\\nNote: For PeerDAS compatibility analysis, see section 'PeerDAS vs Full Blob Analysis'\")"
   ]
  },
  {
   "cell_type": "code",
   "execution_count": 7,
   "id": "p2k55s55mu",
   "metadata": {},
   "outputs": [
    {
     "data": {
      "application/vnd.plotly.v1+json": {
       "config": {
        "plotlyServerURL": "https://plot.ly"
       },
       "data": [
        {
         "line": {
          "color": "blue",
          "width": 3
         },
         "marker": {
          "size": 4
         },
         "mode": "lines+markers",
         "name": "Current (Pectra) (6/9)",
         "type": "scatter",
         "x": [
          1,
          2,
          3,
          4,
          5,
          6,
          7,
          8,
          9,
          10,
          11,
          12,
          13,
          14,
          15,
          16,
          17,
          18,
          19,
          20,
          21,
          22,
          23,
          24,
          25,
          26,
          27,
          28,
          29,
          30,
          31,
          32,
          33,
          34,
          35,
          36,
          37,
          38,
          39,
          40,
          41,
          42,
          43,
          44,
          45,
          46,
          47,
          48,
          49,
          50,
          51,
          52,
          53,
          54,
          55,
          56,
          57,
          58,
          59,
          60,
          61,
          62,
          63,
          64,
          65,
          66,
          67,
          68,
          69,
          70,
          71,
          72,
          73,
          74,
          75,
          76,
          77,
          78,
          79,
          80,
          81,
          82,
          83,
          84,
          85,
          86,
          87,
          88,
          89,
          90,
          91,
          92,
          93,
          94,
          95,
          96,
          97,
          98,
          99,
          100,
          101,
          102,
          103,
          104,
          105,
          106,
          107,
          108,
          109,
          110,
          111,
          112,
          113,
          114,
          115,
          116,
          117,
          118,
          119,
          120,
          121,
          122,
          123,
          124,
          125,
          126,
          127,
          128
         ],
         "y": [
          0.2109375,
          0.421875,
          0.6328125,
          0.84375,
          1.0546875,
          1.265625,
          1.4765625,
          1.6875,
          1.8984375,
          2.109375,
          2.3203125,
          2.53125,
          2.7421875,
          2.953125,
          3.1640625,
          3.375,
          3.5859375,
          3.796875,
          4.0078125,
          4.21875,
          4.4296875,
          4.640625,
          4.8515625,
          5.0625,
          5.2734375,
          5.484375,
          5.6953125,
          5.90625,
          6.1171875,
          6.328125,
          6.5390625,
          6.75,
          6.9609375,
          7.171875,
          7.3828125,
          7.59375,
          7.8046875,
          8.015625,
          8.2265625,
          8.4375,
          8.6484375,
          8.859375,
          9.0703125,
          9.28125,
          9.4921875,
          9.703125,
          9.9140625,
          10.125,
          10.3359375,
          10.546875,
          10.7578125,
          10.96875,
          11.1796875,
          11.390625,
          11.6015625,
          11.8125,
          12.0234375,
          12.234375,
          12.4453125,
          12.65625,
          12.8671875,
          13.078125,
          13.2890625,
          13.5,
          13.7109375,
          13.921875,
          14.1328125,
          14.34375,
          14.5546875,
          14.765625,
          14.9765625,
          15.1875,
          15.3984375,
          15.609375,
          15.8203125,
          16.03125,
          16.2421875,
          16.453125,
          16.6640625,
          16.875,
          17.0859375,
          17.296875,
          17.5078125,
          17.71875,
          17.9296875,
          18.140625,
          18.3515625,
          18.5625,
          18.7734375,
          18.984375,
          19.1953125,
          19.40625,
          19.6171875,
          19.828125,
          20.0390625,
          20.25,
          20.4609375,
          20.671875,
          20.8828125,
          21.09375,
          21.3046875,
          21.515625,
          21.7265625,
          21.9375,
          22.1484375,
          22.359375,
          22.5703125,
          22.78125,
          22.9921875,
          23.203125,
          23.4140625,
          23.625,
          23.8359375,
          24.046875,
          24.2578125,
          24.46875,
          24.6796875,
          24.890625,
          25.1015625,
          25.3125,
          25.5234375,
          25.734375,
          25.9453125,
          26.15625,
          26.3671875,
          26.578125,
          26.7890625,
          27
         ]
        },
        {
         "line": {
          "color": "cyan",
          "width": 3
         },
         "marker": {
          "size": 4
         },
         "mode": "lines+markers",
         "name": "Moderate (10/15)",
         "type": "scatter",
         "x": [
          1,
          2,
          3,
          4,
          5,
          6,
          7,
          8,
          9,
          10,
          11,
          12,
          13,
          14,
          15,
          16,
          17,
          18,
          19,
          20,
          21,
          22,
          23,
          24,
          25,
          26,
          27,
          28,
          29,
          30,
          31,
          32,
          33,
          34,
          35,
          36,
          37,
          38,
          39,
          40,
          41,
          42,
          43,
          44,
          45,
          46,
          47,
          48,
          49,
          50,
          51,
          52,
          53,
          54,
          55,
          56,
          57,
          58,
          59,
          60,
          61,
          62,
          63,
          64,
          65,
          66,
          67,
          68,
          69,
          70,
          71,
          72,
          73,
          74,
          75,
          76,
          77,
          78,
          79,
          80,
          81,
          82,
          83,
          84,
          85,
          86,
          87,
          88,
          89,
          90,
          91,
          92,
          93,
          94,
          95,
          96,
          97,
          98,
          99,
          100,
          101,
          102,
          103,
          104,
          105,
          106,
          107,
          108,
          109,
          110,
          111,
          112,
          113,
          114,
          115,
          116,
          117,
          118,
          119,
          120,
          121,
          122,
          123,
          124,
          125,
          126,
          127,
          128
         ],
         "y": [
          0.3515625,
          0.703125,
          1.0546875,
          1.40625,
          1.7578125,
          2.109375,
          2.4609375,
          2.8125,
          3.1640625,
          3.515625,
          3.8671875,
          4.21875,
          4.5703125,
          4.921875,
          5.2734375,
          5.625,
          5.9765625,
          6.328125,
          6.6796875,
          7.03125,
          7.3828125,
          7.734375,
          8.0859375,
          8.4375,
          8.7890625,
          9.140625,
          9.4921875,
          9.84375,
          10.1953125,
          10.546875,
          10.8984375,
          11.25,
          11.6015625,
          11.953125,
          12.3046875,
          12.65625,
          13.0078125,
          13.359375,
          13.7109375,
          14.0625,
          14.4140625,
          14.765625,
          15.1171875,
          15.46875,
          15.8203125,
          16.171875,
          16.5234375,
          16.875,
          17.2265625,
          17.578125,
          17.9296875,
          18.28125,
          18.6328125,
          18.984375,
          19.3359375,
          19.6875,
          20.0390625,
          20.390625,
          20.7421875,
          21.09375,
          21.4453125,
          21.796875,
          22.1484375,
          22.5,
          22.8515625,
          23.203125,
          23.5546875,
          23.90625,
          24.2578125,
          24.609375,
          24.9609375,
          25.3125,
          25.6640625,
          26.015625,
          26.3671875,
          26.71875,
          27.0703125,
          27.421875,
          27.7734375,
          28.125,
          28.4765625,
          28.828125,
          29.1796875,
          29.53125,
          29.8828125,
          30.234375,
          30.5859375,
          30.9375,
          31.2890625,
          31.640625,
          31.9921875,
          32.34375,
          32.6953125,
          33.046875,
          33.3984375,
          33.75,
          34.1015625,
          34.453125,
          34.8046875,
          35.15625,
          35.5078125,
          35.859375,
          36.2109375,
          36.5625,
          36.9140625,
          37.265625,
          37.6171875,
          37.96875,
          38.3203125,
          38.671875,
          39.0234375,
          39.375,
          39.7265625,
          40.078125,
          40.4296875,
          40.78125,
          41.1328125,
          41.484375,
          41.8359375,
          42.1875,
          42.5390625,
          42.890625,
          43.2421875,
          43.59375,
          43.9453125,
          44.296875,
          44.6484375,
          45
         ]
        },
        {
         "line": {
          "color": "green",
          "width": 3
         },
         "marker": {
          "size": 4
         },
         "mode": "lines+markers",
         "name": "Progressive (16/24)",
         "type": "scatter",
         "x": [
          1,
          2,
          3,
          4,
          5,
          6,
          7,
          8,
          9,
          10,
          11,
          12,
          13,
          14,
          15,
          16,
          17,
          18,
          19,
          20,
          21,
          22,
          23,
          24,
          25,
          26,
          27,
          28,
          29,
          30,
          31,
          32,
          33,
          34,
          35,
          36,
          37,
          38,
          39,
          40,
          41,
          42,
          43,
          44,
          45,
          46,
          47,
          48,
          49,
          50,
          51,
          52,
          53,
          54,
          55,
          56,
          57,
          58,
          59,
          60,
          61,
          62,
          63,
          64,
          65,
          66,
          67,
          68,
          69,
          70,
          71,
          72,
          73,
          74,
          75,
          76,
          77,
          78,
          79,
          80,
          81,
          82,
          83,
          84,
          85,
          86,
          87,
          88,
          89,
          90,
          91,
          92,
          93,
          94,
          95,
          96,
          97,
          98,
          99,
          100,
          101,
          102,
          103,
          104,
          105,
          106,
          107,
          108,
          109,
          110,
          111,
          112,
          113,
          114,
          115,
          116,
          117,
          118,
          119,
          120,
          121,
          122,
          123,
          124,
          125,
          126,
          127,
          128
         ],
         "y": [
          0.5625,
          1.125,
          1.6875,
          2.25,
          2.8125,
          3.375,
          3.9375,
          4.5,
          5.0625,
          5.625,
          6.1875,
          6.75,
          7.3125,
          7.875,
          8.4375,
          9,
          9.5625,
          10.125,
          10.6875,
          11.25,
          11.8125,
          12.375,
          12.9375,
          13.5,
          14.0625,
          14.625,
          15.1875,
          15.75,
          16.3125,
          16.875,
          17.4375,
          18,
          18.5625,
          19.125,
          19.6875,
          20.25,
          20.8125,
          21.375,
          21.9375,
          22.5,
          23.0625,
          23.625,
          24.1875,
          24.75,
          25.3125,
          25.875,
          26.4375,
          27,
          27.5625,
          28.125,
          28.6875,
          29.25,
          29.8125,
          30.375,
          30.9375,
          31.5,
          32.0625,
          32.625,
          33.1875,
          33.75,
          34.3125,
          34.875,
          35.4375,
          36,
          36.5625,
          37.125,
          37.6875,
          38.25,
          38.8125,
          39.375,
          39.9375,
          40.5,
          41.0625,
          41.625,
          42.1875,
          42.75,
          43.3125,
          43.875,
          44.4375,
          45,
          45.5625,
          46.125,
          46.6875,
          47.25,
          47.8125,
          48.375,
          48.9375,
          49.5,
          50.0625,
          50.625,
          51.1875,
          51.75,
          52.3125,
          52.875,
          53.4375,
          54,
          54.5625,
          55.125,
          55.6875,
          56.25,
          56.8125,
          57.375,
          57.9375,
          58.5,
          59.0625,
          59.625,
          60.1875,
          60.75,
          61.3125,
          61.875,
          62.4375,
          63,
          63.5625,
          64.125,
          64.6875,
          65.25,
          65.8125,
          66.375,
          66.9375,
          67.5,
          68.0625,
          68.625,
          69.1875,
          69.75,
          70.3125,
          70.875,
          71.4375,
          72
         ]
        },
        {
         "line": {
          "color": "purple",
          "width": 3
         },
         "marker": {
          "size": 4
         },
         "mode": "lines+markers",
         "name": "Aggressive (20/30)",
         "type": "scatter",
         "x": [
          1,
          2,
          3,
          4,
          5,
          6,
          7,
          8,
          9,
          10,
          11,
          12,
          13,
          14,
          15,
          16,
          17,
          18,
          19,
          20,
          21,
          22,
          23,
          24,
          25,
          26,
          27,
          28,
          29,
          30,
          31,
          32,
          33,
          34,
          35,
          36,
          37,
          38,
          39,
          40,
          41,
          42,
          43,
          44,
          45,
          46,
          47,
          48,
          49,
          50,
          51,
          52,
          53,
          54,
          55,
          56,
          57,
          58,
          59,
          60,
          61,
          62,
          63,
          64,
          65,
          66,
          67,
          68,
          69,
          70,
          71,
          72,
          73,
          74,
          75,
          76,
          77,
          78,
          79,
          80,
          81,
          82,
          83,
          84,
          85,
          86,
          87,
          88,
          89,
          90,
          91,
          92,
          93,
          94,
          95,
          96,
          97,
          98,
          99,
          100,
          101,
          102,
          103,
          104,
          105,
          106,
          107,
          108,
          109,
          110,
          111,
          112,
          113,
          114,
          115,
          116,
          117,
          118,
          119,
          120,
          121,
          122,
          123,
          124,
          125,
          126,
          127,
          128
         ],
         "y": [
          0.703125,
          1.40625,
          2.109375,
          2.8125,
          3.515625,
          4.21875,
          4.921875,
          5.625,
          6.328125,
          7.03125,
          7.734375,
          8.4375,
          9.140625,
          9.84375,
          10.546875,
          11.25,
          11.953125,
          12.65625,
          13.359375,
          14.0625,
          14.765625,
          15.46875,
          16.171875,
          16.875,
          17.578125,
          18.28125,
          18.984375,
          19.6875,
          20.390625,
          21.09375,
          21.796875,
          22.5,
          23.203125,
          23.90625,
          24.609375,
          25.3125,
          26.015625,
          26.71875,
          27.421875,
          28.125,
          28.828125,
          29.53125,
          30.234375,
          30.9375,
          31.640625,
          32.34375,
          33.046875,
          33.75,
          34.453125,
          35.15625,
          35.859375,
          36.5625,
          37.265625,
          37.96875,
          38.671875,
          39.375,
          40.078125,
          40.78125,
          41.484375,
          42.1875,
          42.890625,
          43.59375,
          44.296875,
          45,
          45.703125,
          46.40625,
          47.109375,
          47.8125,
          48.515625,
          49.21875,
          49.921875,
          50.625,
          51.328125,
          52.03125,
          52.734375,
          53.4375,
          54.140625,
          54.84375,
          55.546875,
          56.25,
          56.953125,
          57.65625,
          58.359375,
          59.0625,
          59.765625,
          60.46875,
          61.171875,
          61.875,
          62.578125,
          63.28125,
          63.984375,
          64.6875,
          65.390625,
          66.09375,
          66.796875,
          67.5,
          68.203125,
          68.90625,
          69.609375,
          70.3125,
          71.015625,
          71.71875,
          72.421875,
          73.125,
          73.828125,
          74.53125,
          75.234375,
          75.9375,
          76.640625,
          77.34375,
          78.046875,
          78.75,
          79.453125,
          80.15625,
          80.859375,
          81.5625,
          82.265625,
          82.96875,
          83.671875,
          84.375,
          85.078125,
          85.78125,
          86.484375,
          87.1875,
          87.890625,
          88.59375,
          89.296875,
          90
         ]
        },
        {
         "line": {
          "color": "orange",
          "width": 3
         },
         "marker": {
          "size": 4
         },
         "mode": "lines+markers",
         "name": "High Scale (30/45)",
         "type": "scatter",
         "x": [
          1,
          2,
          3,
          4,
          5,
          6,
          7,
          8,
          9,
          10,
          11,
          12,
          13,
          14,
          15,
          16,
          17,
          18,
          19,
          20,
          21,
          22,
          23,
          24,
          25,
          26,
          27,
          28,
          29,
          30,
          31,
          32,
          33,
          34,
          35,
          36,
          37,
          38,
          39,
          40,
          41,
          42,
          43,
          44,
          45,
          46,
          47,
          48,
          49,
          50,
          51,
          52,
          53,
          54,
          55,
          56,
          57,
          58,
          59,
          60,
          61,
          62,
          63,
          64,
          65,
          66,
          67,
          68,
          69,
          70,
          71,
          72,
          73,
          74,
          75,
          76,
          77,
          78,
          79,
          80,
          81,
          82,
          83,
          84,
          85,
          86,
          87,
          88,
          89,
          90,
          91,
          92,
          93,
          94,
          95,
          96,
          97,
          98,
          99,
          100,
          101,
          102,
          103,
          104,
          105,
          106,
          107,
          108,
          109,
          110,
          111,
          112,
          113,
          114,
          115,
          116,
          117,
          118,
          119,
          120,
          121,
          122,
          123,
          124,
          125,
          126,
          127,
          128
         ],
         "y": [
          1.0546875,
          2.109375,
          3.1640625,
          4.21875,
          5.2734375,
          6.328125,
          7.3828125,
          8.4375,
          9.4921875,
          10.546875,
          11.6015625,
          12.65625,
          13.7109375,
          14.765625,
          15.8203125,
          16.875,
          17.9296875,
          18.984375,
          20.0390625,
          21.09375,
          22.1484375,
          23.203125,
          24.2578125,
          25.3125,
          26.3671875,
          27.421875,
          28.4765625,
          29.53125,
          30.5859375,
          31.640625,
          32.6953125,
          33.75,
          34.8046875,
          35.859375,
          36.9140625,
          37.96875,
          39.0234375,
          40.078125,
          41.1328125,
          42.1875,
          43.2421875,
          44.296875,
          45.3515625,
          46.40625,
          47.4609375,
          48.515625,
          49.5703125,
          50.625,
          51.6796875,
          52.734375,
          53.7890625,
          54.84375,
          55.8984375,
          56.953125,
          58.0078125,
          59.0625,
          60.1171875,
          61.171875,
          62.2265625,
          63.28125,
          64.3359375,
          65.390625,
          66.4453125,
          67.5,
          68.5546875,
          69.609375,
          70.6640625,
          71.71875,
          72.7734375,
          73.828125,
          74.8828125,
          75.9375,
          76.9921875,
          78.046875,
          79.1015625,
          80.15625,
          81.2109375,
          82.265625,
          83.3203125,
          84.375,
          85.4296875,
          86.484375,
          87.5390625,
          88.59375,
          89.6484375,
          90.703125,
          91.7578125,
          92.8125,
          93.8671875,
          94.921875,
          95.9765625,
          97.03125,
          98.0859375,
          99.140625,
          100.1953125,
          101.25,
          102.3046875,
          103.359375,
          104.4140625,
          105.46875,
          106.5234375,
          107.578125,
          108.6328125,
          109.6875,
          110.7421875,
          111.796875,
          112.8515625,
          113.90625,
          114.9609375,
          116.015625,
          117.0703125,
          118.125,
          119.1796875,
          120.234375,
          121.2890625,
          122.34375,
          123.3984375,
          124.453125,
          125.5078125,
          126.5625,
          127.6171875,
          128.671875,
          129.7265625,
          130.78125,
          131.8359375,
          132.890625,
          133.9453125,
          135
         ]
        },
        {
         "line": {
          "color": "red",
          "width": 3
         },
         "marker": {
          "size": 4
         },
         "mode": "lines+markers",
         "name": "Ultra Scale+ (48/72)",
         "type": "scatter",
         "x": [
          1,
          2,
          3,
          4,
          5,
          6,
          7,
          8,
          9,
          10,
          11,
          12,
          13,
          14,
          15,
          16,
          17,
          18,
          19,
          20,
          21,
          22,
          23,
          24,
          25,
          26,
          27,
          28,
          29,
          30,
          31,
          32,
          33,
          34,
          35,
          36,
          37,
          38,
          39,
          40,
          41,
          42,
          43,
          44,
          45,
          46,
          47,
          48,
          49,
          50,
          51,
          52,
          53,
          54,
          55,
          56,
          57,
          58,
          59,
          60,
          61,
          62,
          63,
          64,
          65,
          66,
          67,
          68,
          69,
          70,
          71,
          72,
          73,
          74,
          75,
          76,
          77,
          78,
          79,
          80,
          81,
          82,
          83,
          84,
          85,
          86,
          87,
          88,
          89,
          90,
          91,
          92,
          93,
          94,
          95,
          96,
          97,
          98,
          99,
          100,
          101,
          102,
          103,
          104,
          105,
          106,
          107,
          108,
          109,
          110,
          111,
          112,
          113,
          114,
          115,
          116,
          117,
          118,
          119,
          120,
          121,
          122,
          123,
          124,
          125,
          126,
          127,
          128
         ],
         "y": [
          1.6875,
          3.375,
          5.0625,
          6.75,
          8.4375,
          10.125,
          11.8125,
          13.5,
          15.1875,
          16.875,
          18.5625,
          20.25,
          21.9375,
          23.625,
          25.3125,
          27,
          28.6875,
          30.375,
          32.0625,
          33.75,
          35.4375,
          37.125,
          38.8125,
          40.5,
          42.1875,
          43.875,
          45.5625,
          47.25,
          48.9375,
          50.625,
          52.3125,
          54,
          55.6875,
          57.375,
          59.0625,
          60.75,
          62.4375,
          64.125,
          65.8125,
          67.5,
          69.1875,
          70.875,
          72.5625,
          74.25,
          75.9375,
          77.625,
          79.3125,
          81,
          82.6875,
          84.375,
          86.0625,
          87.75,
          89.4375,
          91.125,
          92.8125,
          94.5,
          96.1875,
          97.875,
          99.5625,
          101.25,
          102.9375,
          104.625,
          106.3125,
          108,
          109.6875,
          111.375,
          113.0625,
          114.75,
          116.4375,
          118.125,
          119.8125,
          121.5,
          123.1875,
          124.875,
          126.5625,
          128.25,
          129.9375,
          131.625,
          133.3125,
          135,
          136.6875,
          138.375,
          140.0625,
          141.75,
          143.4375,
          145.125,
          146.8125,
          148.5,
          150.1875,
          151.875,
          153.5625,
          155.25,
          156.9375,
          158.625,
          160.3125,
          162,
          163.6875,
          165.375,
          167.0625,
          168.75,
          170.4375,
          172.125,
          173.8125,
          175.5,
          177.1875,
          178.875,
          180.5625,
          182.25,
          183.9375,
          185.625,
          187.3125,
          189,
          190.6875,
          192.375,
          194.0625,
          195.75,
          197.4375,
          199.125,
          200.8125,
          202.5,
          204.1875,
          205.875,
          207.5625,
          209.25,
          210.9375,
          212.625,
          214.3125,
          216
         ]
        },
        {
         "line": {
          "color": "darkred",
          "width": 3
         },
         "marker": {
          "size": 4
         },
         "mode": "lines+markers",
         "name": "Maximum (60/90)",
         "type": "scatter",
         "x": [
          1,
          2,
          3,
          4,
          5,
          6,
          7,
          8,
          9,
          10,
          11,
          12,
          13,
          14,
          15,
          16,
          17,
          18,
          19,
          20,
          21,
          22,
          23,
          24,
          25,
          26,
          27,
          28,
          29,
          30,
          31,
          32,
          33,
          34,
          35,
          36,
          37,
          38,
          39,
          40,
          41,
          42,
          43,
          44,
          45,
          46,
          47,
          48,
          49,
          50,
          51,
          52,
          53,
          54,
          55,
          56,
          57,
          58,
          59,
          60,
          61,
          62,
          63,
          64,
          65,
          66,
          67,
          68,
          69,
          70,
          71,
          72,
          73,
          74,
          75,
          76,
          77,
          78,
          79,
          80,
          81,
          82,
          83,
          84,
          85,
          86,
          87,
          88,
          89,
          90,
          91,
          92,
          93,
          94,
          95,
          96,
          97,
          98,
          99,
          100,
          101,
          102,
          103,
          104,
          105,
          106,
          107,
          108,
          109,
          110,
          111,
          112,
          113,
          114,
          115,
          116,
          117,
          118,
          119,
          120,
          121,
          122,
          123,
          124,
          125,
          126,
          127,
          128
         ],
         "y": [
          2.109375,
          4.21875,
          6.328125,
          8.4375,
          10.546875,
          12.65625,
          14.765625,
          16.875,
          18.984375,
          21.09375,
          23.203125,
          25.3125,
          27.421875,
          29.53125,
          31.640625,
          33.75,
          35.859375,
          37.96875,
          40.078125,
          42.1875,
          44.296875,
          46.40625,
          48.515625,
          50.625,
          52.734375,
          54.84375,
          56.953125,
          59.0625,
          61.171875,
          63.28125,
          65.390625,
          67.5,
          69.609375,
          71.71875,
          73.828125,
          75.9375,
          78.046875,
          80.15625,
          82.265625,
          84.375,
          86.484375,
          88.59375,
          90.703125,
          92.8125,
          94.921875,
          97.03125,
          99.140625,
          101.25,
          103.359375,
          105.46875,
          107.578125,
          109.6875,
          111.796875,
          113.90625,
          116.015625,
          118.125,
          120.234375,
          122.34375,
          124.453125,
          126.5625,
          128.671875,
          130.78125,
          132.890625,
          135,
          137.109375,
          139.21875,
          141.328125,
          143.4375,
          145.546875,
          147.65625,
          149.765625,
          151.875,
          153.984375,
          156.09375,
          158.203125,
          160.3125,
          162.421875,
          164.53125,
          166.640625,
          168.75,
          170.859375,
          172.96875,
          175.078125,
          177.1875,
          179.296875,
          181.40625,
          183.515625,
          185.625,
          187.734375,
          189.84375,
          191.953125,
          194.0625,
          196.171875,
          198.28125,
          200.390625,
          202.5,
          204.609375,
          206.71875,
          208.828125,
          210.9375,
          213.046875,
          215.15625,
          217.265625,
          219.375,
          221.484375,
          223.59375,
          225.703125,
          227.8125,
          229.921875,
          232.03125,
          234.140625,
          236.25,
          238.359375,
          240.46875,
          242.578125,
          244.6875,
          246.796875,
          248.90625,
          251.015625,
          253.125,
          255.234375,
          257.34375,
          259.453125,
          261.5625,
          263.671875,
          265.78125,
          267.890625,
          270
         ]
        }
       ],
       "layout": {
        "height": 600,
        "hovermode": "x unified",
        "template": {
         "data": {
          "bar": [
           {
            "error_x": {
             "color": "#f2f5fa"
            },
            "error_y": {
             "color": "#f2f5fa"
            },
            "marker": {
             "line": {
              "color": "rgb(17,17,17)",
              "width": 0.5
             },
             "pattern": {
              "fillmode": "overlay",
              "size": 10,
              "solidity": 0.2
             }
            },
            "type": "bar"
           }
          ],
          "barpolar": [
           {
            "marker": {
             "line": {
              "color": "rgb(17,17,17)",
              "width": 0.5
             },
             "pattern": {
              "fillmode": "overlay",
              "size": 10,
              "solidity": 0.2
             }
            },
            "type": "barpolar"
           }
          ],
          "carpet": [
           {
            "aaxis": {
             "endlinecolor": "#A2B1C6",
             "gridcolor": "#506784",
             "linecolor": "#506784",
             "minorgridcolor": "#506784",
             "startlinecolor": "#A2B1C6"
            },
            "baxis": {
             "endlinecolor": "#A2B1C6",
             "gridcolor": "#506784",
             "linecolor": "#506784",
             "minorgridcolor": "#506784",
             "startlinecolor": "#A2B1C6"
            },
            "type": "carpet"
           }
          ],
          "choropleth": [
           {
            "colorbar": {
             "outlinewidth": 0,
             "ticks": ""
            },
            "type": "choropleth"
           }
          ],
          "contour": [
           {
            "colorbar": {
             "outlinewidth": 0,
             "ticks": ""
            },
            "colorscale": [
             [
              0,
              "#0d0887"
             ],
             [
              0.1111111111111111,
              "#46039f"
             ],
             [
              0.2222222222222222,
              "#7201a8"
             ],
             [
              0.3333333333333333,
              "#9c179e"
             ],
             [
              0.4444444444444444,
              "#bd3786"
             ],
             [
              0.5555555555555556,
              "#d8576b"
             ],
             [
              0.6666666666666666,
              "#ed7953"
             ],
             [
              0.7777777777777778,
              "#fb9f3a"
             ],
             [
              0.8888888888888888,
              "#fdca26"
             ],
             [
              1,
              "#f0f921"
             ]
            ],
            "type": "contour"
           }
          ],
          "contourcarpet": [
           {
            "colorbar": {
             "outlinewidth": 0,
             "ticks": ""
            },
            "type": "contourcarpet"
           }
          ],
          "heatmap": [
           {
            "colorbar": {
             "outlinewidth": 0,
             "ticks": ""
            },
            "colorscale": [
             [
              0,
              "#0d0887"
             ],
             [
              0.1111111111111111,
              "#46039f"
             ],
             [
              0.2222222222222222,
              "#7201a8"
             ],
             [
              0.3333333333333333,
              "#9c179e"
             ],
             [
              0.4444444444444444,
              "#bd3786"
             ],
             [
              0.5555555555555556,
              "#d8576b"
             ],
             [
              0.6666666666666666,
              "#ed7953"
             ],
             [
              0.7777777777777778,
              "#fb9f3a"
             ],
             [
              0.8888888888888888,
              "#fdca26"
             ],
             [
              1,
              "#f0f921"
             ]
            ],
            "type": "heatmap"
           }
          ],
          "histogram": [
           {
            "marker": {
             "pattern": {
              "fillmode": "overlay",
              "size": 10,
              "solidity": 0.2
             }
            },
            "type": "histogram"
           }
          ],
          "histogram2d": [
           {
            "colorbar": {
             "outlinewidth": 0,
             "ticks": ""
            },
            "colorscale": [
             [
              0,
              "#0d0887"
             ],
             [
              0.1111111111111111,
              "#46039f"
             ],
             [
              0.2222222222222222,
              "#7201a8"
             ],
             [
              0.3333333333333333,
              "#9c179e"
             ],
             [
              0.4444444444444444,
              "#bd3786"
             ],
             [
              0.5555555555555556,
              "#d8576b"
             ],
             [
              0.6666666666666666,
              "#ed7953"
             ],
             [
              0.7777777777777778,
              "#fb9f3a"
             ],
             [
              0.8888888888888888,
              "#fdca26"
             ],
             [
              1,
              "#f0f921"
             ]
            ],
            "type": "histogram2d"
           }
          ],
          "histogram2dcontour": [
           {
            "colorbar": {
             "outlinewidth": 0,
             "ticks": ""
            },
            "colorscale": [
             [
              0,
              "#0d0887"
             ],
             [
              0.1111111111111111,
              "#46039f"
             ],
             [
              0.2222222222222222,
              "#7201a8"
             ],
             [
              0.3333333333333333,
              "#9c179e"
             ],
             [
              0.4444444444444444,
              "#bd3786"
             ],
             [
              0.5555555555555556,
              "#d8576b"
             ],
             [
              0.6666666666666666,
              "#ed7953"
             ],
             [
              0.7777777777777778,
              "#fb9f3a"
             ],
             [
              0.8888888888888888,
              "#fdca26"
             ],
             [
              1,
              "#f0f921"
             ]
            ],
            "type": "histogram2dcontour"
           }
          ],
          "mesh3d": [
           {
            "colorbar": {
             "outlinewidth": 0,
             "ticks": ""
            },
            "type": "mesh3d"
           }
          ],
          "parcoords": [
           {
            "line": {
             "colorbar": {
              "outlinewidth": 0,
              "ticks": ""
             }
            },
            "type": "parcoords"
           }
          ],
          "pie": [
           {
            "automargin": true,
            "type": "pie"
           }
          ],
          "scatter": [
           {
            "marker": {
             "line": {
              "color": "#283442"
             }
            },
            "type": "scatter"
           }
          ],
          "scatter3d": [
           {
            "line": {
             "colorbar": {
              "outlinewidth": 0,
              "ticks": ""
             }
            },
            "marker": {
             "colorbar": {
              "outlinewidth": 0,
              "ticks": ""
             }
            },
            "type": "scatter3d"
           }
          ],
          "scattercarpet": [
           {
            "marker": {
             "colorbar": {
              "outlinewidth": 0,
              "ticks": ""
             }
            },
            "type": "scattercarpet"
           }
          ],
          "scattergeo": [
           {
            "marker": {
             "colorbar": {
              "outlinewidth": 0,
              "ticks": ""
             }
            },
            "type": "scattergeo"
           }
          ],
          "scattergl": [
           {
            "marker": {
             "line": {
              "color": "#283442"
             }
            },
            "type": "scattergl"
           }
          ],
          "scattermap": [
           {
            "marker": {
             "colorbar": {
              "outlinewidth": 0,
              "ticks": ""
             }
            },
            "type": "scattermap"
           }
          ],
          "scattermapbox": [
           {
            "marker": {
             "colorbar": {
              "outlinewidth": 0,
              "ticks": ""
             }
            },
            "type": "scattermapbox"
           }
          ],
          "scatterpolar": [
           {
            "marker": {
             "colorbar": {
              "outlinewidth": 0,
              "ticks": ""
             }
            },
            "type": "scatterpolar"
           }
          ],
          "scatterpolargl": [
           {
            "marker": {
             "colorbar": {
              "outlinewidth": 0,
              "ticks": ""
             }
            },
            "type": "scatterpolargl"
           }
          ],
          "scatterternary": [
           {
            "marker": {
             "colorbar": {
              "outlinewidth": 0,
              "ticks": ""
             }
            },
            "type": "scatterternary"
           }
          ],
          "surface": [
           {
            "colorbar": {
             "outlinewidth": 0,
             "ticks": ""
            },
            "colorscale": [
             [
              0,
              "#0d0887"
             ],
             [
              0.1111111111111111,
              "#46039f"
             ],
             [
              0.2222222222222222,
              "#7201a8"
             ],
             [
              0.3333333333333333,
              "#9c179e"
             ],
             [
              0.4444444444444444,
              "#bd3786"
             ],
             [
              0.5555555555555556,
              "#d8576b"
             ],
             [
              0.6666666666666666,
              "#ed7953"
             ],
             [
              0.7777777777777778,
              "#fb9f3a"
             ],
             [
              0.8888888888888888,
              "#fdca26"
             ],
             [
              1,
              "#f0f921"
             ]
            ],
            "type": "surface"
           }
          ],
          "table": [
           {
            "cells": {
             "fill": {
              "color": "#506784"
             },
             "line": {
              "color": "rgb(17,17,17)"
             }
            },
            "header": {
             "fill": {
              "color": "#2a3f5f"
             },
             "line": {
              "color": "rgb(17,17,17)"
             }
            },
            "type": "table"
           }
          ]
         },
         "layout": {
          "annotationdefaults": {
           "arrowcolor": "#f2f5fa",
           "arrowhead": 0,
           "arrowwidth": 1
          },
          "autotypenumbers": "strict",
          "coloraxis": {
           "colorbar": {
            "outlinewidth": 0,
            "ticks": ""
           }
          },
          "colorscale": {
           "diverging": [
            [
             0,
             "#8e0152"
            ],
            [
             0.1,
             "#c51b7d"
            ],
            [
             0.2,
             "#de77ae"
            ],
            [
             0.3,
             "#f1b6da"
            ],
            [
             0.4,
             "#fde0ef"
            ],
            [
             0.5,
             "#f7f7f7"
            ],
            [
             0.6,
             "#e6f5d0"
            ],
            [
             0.7,
             "#b8e186"
            ],
            [
             0.8,
             "#7fbc41"
            ],
            [
             0.9,
             "#4d9221"
            ],
            [
             1,
             "#276419"
            ]
           ],
           "sequential": [
            [
             0,
             "#0d0887"
            ],
            [
             0.1111111111111111,
             "#46039f"
            ],
            [
             0.2222222222222222,
             "#7201a8"
            ],
            [
             0.3333333333333333,
             "#9c179e"
            ],
            [
             0.4444444444444444,
             "#bd3786"
            ],
            [
             0.5555555555555556,
             "#d8576b"
            ],
            [
             0.6666666666666666,
             "#ed7953"
            ],
            [
             0.7777777777777778,
             "#fb9f3a"
            ],
            [
             0.8888888888888888,
             "#fdca26"
            ],
            [
             1,
             "#f0f921"
            ]
           ],
           "sequentialminus": [
            [
             0,
             "#0d0887"
            ],
            [
             0.1111111111111111,
             "#46039f"
            ],
            [
             0.2222222222222222,
             "#7201a8"
            ],
            [
             0.3333333333333333,
             "#9c179e"
            ],
            [
             0.4444444444444444,
             "#bd3786"
            ],
            [
             0.5555555555555556,
             "#d8576b"
            ],
            [
             0.6666666666666666,
             "#ed7953"
            ],
            [
             0.7777777777777778,
             "#fb9f3a"
            ],
            [
             0.8888888888888888,
             "#fdca26"
            ],
            [
             1,
             "#f0f921"
            ]
           ]
          },
          "colorway": [
           "#636efa",
           "#EF553B",
           "#00cc96",
           "#ab63fa",
           "#FFA15A",
           "#19d3f3",
           "#FF6692",
           "#B6E880",
           "#FF97FF",
           "#FECB52"
          ],
          "font": {
           "color": "#f2f5fa"
          },
          "geo": {
           "bgcolor": "rgb(17,17,17)",
           "lakecolor": "rgb(17,17,17)",
           "landcolor": "rgb(17,17,17)",
           "showlakes": true,
           "showland": true,
           "subunitcolor": "#506784"
          },
          "hoverlabel": {
           "align": "left"
          },
          "hovermode": "closest",
          "mapbox": {
           "style": "dark"
          },
          "paper_bgcolor": "rgb(17,17,17)",
          "plot_bgcolor": "rgb(17,17,17)",
          "polar": {
           "angularaxis": {
            "gridcolor": "#506784",
            "linecolor": "#506784",
            "ticks": ""
           },
           "bgcolor": "rgb(17,17,17)",
           "radialaxis": {
            "gridcolor": "#506784",
            "linecolor": "#506784",
            "ticks": ""
           }
          },
          "scene": {
           "xaxis": {
            "backgroundcolor": "rgb(17,17,17)",
            "gridcolor": "#506784",
            "gridwidth": 2,
            "linecolor": "#506784",
            "showbackground": true,
            "ticks": "",
            "zerolinecolor": "#C8D4E3"
           },
           "yaxis": {
            "backgroundcolor": "rgb(17,17,17)",
            "gridcolor": "#506784",
            "gridwidth": 2,
            "linecolor": "#506784",
            "showbackground": true,
            "ticks": "",
            "zerolinecolor": "#C8D4E3"
           },
           "zaxis": {
            "backgroundcolor": "rgb(17,17,17)",
            "gridcolor": "#506784",
            "gridwidth": 2,
            "linecolor": "#506784",
            "showbackground": true,
            "ticks": "",
            "zerolinecolor": "#C8D4E3"
           }
          },
          "shapedefaults": {
           "line": {
            "color": "#f2f5fa"
           }
          },
          "sliderdefaults": {
           "bgcolor": "#C8D4E3",
           "bordercolor": "rgb(17,17,17)",
           "borderwidth": 1,
           "tickwidth": 0
          },
          "ternary": {
           "aaxis": {
            "gridcolor": "#506784",
            "linecolor": "#506784",
            "ticks": ""
           },
           "baxis": {
            "gridcolor": "#506784",
            "linecolor": "#506784",
            "ticks": ""
           },
           "bgcolor": "rgb(17,17,17)",
           "caxis": {
            "gridcolor": "#506784",
            "linecolor": "#506784",
            "ticks": ""
           }
          },
          "title": {
           "x": 0.05
          },
          "updatemenudefaults": {
           "bgcolor": "#506784",
           "borderwidth": 0
          },
          "xaxis": {
           "automargin": true,
           "gridcolor": "#283442",
           "linecolor": "#506784",
           "ticks": "",
           "title": {
            "standoff": 15
           },
           "zerolinecolor": "#283442",
           "zerolinewidth": 2
          },
          "yaxis": {
           "automargin": true,
           "gridcolor": "#283442",
           "linecolor": "#506784",
           "ticks": "",
           "title": {
            "standoff": 15
           },
           "zerolinecolor": "#283442",
           "zerolinewidth": 2
          }
         }
        },
        "title": {
         "text": "PeerDAS: Bandwidth Requirements vs Custody Count"
        },
        "width": 1200,
        "xaxis": {
         "tickvals": [
          4,
          8,
          16,
          32,
          64,
          128
         ],
         "title": {
          "text": "Number of Columns in Custody"
         }
        },
        "yaxis": {
         "title": {
          "text": "Total Bandwidth Required (Mbps)"
         },
         "type": "log"
        }
       }
      },
      "image/png": "[encoded data removed]"
     },
     "metadata": {},
     "output_type": "display_data"
    }
   ],
   "source": [
    "# 3. PeerDAS Custody Impact Analysis\n",
    "# Show how different custody counts affect bandwidth for various blob scenarios\n",
    "\n",
    "# Select more blob scenarios for comprehensive analysis\n",
    "key_blob_scenarios = [\"Current (Pectra)\", \"Moderate\", \"Progressive\", \"Aggressive\", \"High Scale\", \"Ultra Scale+\", \"Maximum\"]\n",
    "\n",
    "# Generate data for all custody counts from 1 to 128\n",
    "custody_counts = list(range(1, 129))\n",
    "\n",
    "fig = go.Figure()\n",
    "\n",
    "# Color map for scenarios\n",
    "scenario_colors = {\n",
    "    \"Current (Pectra)\": \"blue\",\n",
    "    \"Moderate\": \"cyan\",\n",
    "    \"Progressive\": \"green\", \n",
    "    \"Aggressive\": \"purple\",\n",
    "    \"High Scale\": \"orange\",\n",
    "    \"Ultra Scale+\": \"red\",\n",
    "    \"Maximum\": \"darkred\"\n",
    "}\n",
    "\n",
    "for scenario_name in key_blob_scenarios:\n",
    "    scenario_details = next(s for s in BLOB_LIMIT_SCENARIOS if s[\"name\"] == scenario_name)\n",
    "    \n",
    "    x_values = []\n",
    "    y_values = []\n",
    "    \n",
    "    for custody_count in custody_counts:\n",
    "        # Calculate bandwidth for this scenario and custody count\n",
    "        reqs = calculate_bandwidth_requirements(\n",
    "            scenario_details[\"target\"], scenario_details[\"max\"], \"balanced\", \n",
    "            custody_count=custody_count, use_peerdas=True\n",
    "        )\n",
    "        x_values.append(custody_count)\n",
    "        y_values.append(reqs[\"avg_bandwidth_total_mbps\"])\n",
    "    \n",
    "    fig.add_trace(go.Scatter(\n",
    "        x=x_values,\n",
    "        y=y_values,\n",
    "        mode='lines+markers',\n",
    "        name=f\"{scenario_name} ({scenario_details['target']}/{scenario_details['max']})\",\n",
    "        line=dict(width=3, color=scenario_colors[scenario_name]),\n",
    "        marker=dict(size=4)\n",
    "    ))\n",
    "\n",
    "fig.update_layout(\n",
    "    title=\"PeerDAS: Bandwidth Requirements vs Custody Count\",\n",
    "    xaxis_title=\"Number of Columns in Custody\",\n",
    "    yaxis_title=\"Total Bandwidth Required (Mbps)\",\n",
    "    height=600,\n",
    "    width=1200,\n",
    "    yaxis_type=\"log\",\n",
    "    hovermode='x unified'\n",
    ")\n",
    "\n",
    "fig.update_xaxes(tickvals=[4, 8, 16, 32, 64, 128])\n",
    "\n",
    "fig.show()"
   ]
  },
  {
   "cell_type": "code",
   "execution_count": 8,
   "id": "viz-monthly",
   "metadata": {},
   "outputs": [
    {
     "data": {
      "application/vnd.plotly.v1+json": {
       "config": {
        "plotlyServerURL": "https://plot.ly"
       },
       "data": [
        {
         "legendgroup": "avg",
         "line": {
          "color": "lightblue",
          "width": 3
         },
         "marker": {
          "size": 8
         },
         "mode": "lines+markers",
         "name": "Full Blob",
         "type": "scatter",
         "x": [
          "3/6",
          "6/9",
          "8/12",
          "10/15",
          "12/18",
          "16/24",
          "20/30",
          "24/36",
          "30/45",
          "36/54",
          "40/60",
          "48/72",
          "60/90"
         ],
         "xaxis": "x",
         "y": {
          "bdata": "AAAAAMCpzT8AAAAAwKndPwAAAACAxuM/AAAAACC46D8AAAAAwKntPwAAAACAxvM/AAAAACC4+D8AAAAAwKn9PwAAAAAYigJAAAAAAFA/BkAAAAAAILgIQAAAAADAqQ1AAAAAABiKEkA=",
          "dtype": "f8"
         },
         "yaxis": "y"
        },
        {
         "legendgroup": "avg",
         "line": {
          "color": "green",
          "width": 2
         },
         "marker": {
          "size": 6
         },
         "mode": "lines+markers",
         "name": "PeerDAS-4",
         "type": "scatter",
         "x": [
          "3/6",
          "6/9",
          "8/12",
          "10/15",
          "12/18",
          "16/24",
          "20/30",
          "24/36",
          "30/45",
          "36/54",
          "40/60",
          "48/72",
          "60/90"
         ],
         "xaxis": "x",
         "y": {
          "bdata": "AAAAAMCpjT8AAAAAwKmdPwAAAACAxqM/AAAAACC4qD8AAAAAwKmtPwAAAACAxrM/AAAAACC4uD8AAAAAwKm9PwAAAAAYisI/AAAAAFA/xj8AAAAAILjIPwAAAADAqc0/AAAAABiK0j8=",
          "dtype": "f8"
         },
         "yaxis": "y"
        },
        {
         "legendgroup": "avg",
         "line": {
          "color": "cyan",
          "width": 2
         },
         "marker": {
          "size": 6
         },
         "mode": "lines+markers",
         "name": "PeerDAS-8",
         "type": "scatter",
         "x": [
          "3/6",
          "6/9",
          "8/12",
          "10/15",
          "12/18",
          "16/24",
          "20/30",
          "24/36",
          "30/45",
          "36/54",
          "40/60",
          "48/72",
          "60/90"
         ],
         "xaxis": "x",
         "y": {
          "bdata": "AAAAAMCpnT8AAAAAwKmtPwAAAACAxrM/AAAAACC4uD8AAAAAwKm9PwAAAACAxsM/AAAAACC4yD8AAAAAwKnNPwAAAAAYitI/AAAAAFA/1j8AAAAAILjYPwAAAADAqd0/AAAAABiK4j8=",
          "dtype": "f8"
         },
         "yaxis": "y"
        },
        {
         "legendgroup": "avg",
         "line": {
          "color": "blue",
          "width": 2
         },
         "marker": {
          "size": 6
         },
         "mode": "lines+markers",
         "name": "PeerDAS-16",
         "type": "scatter",
         "x": [
          "3/6",
          "6/9",
          "8/12",
          "10/15",
          "12/18",
          "16/24",
          "20/30",
          "24/36",
          "30/45",
          "36/54",
          "40/60",
          "48/72",
          "60/90"
         ],
         "xaxis": "x",
         "y": {
          "bdata": "AAAAAMCprT8AAAAAwKm9PwAAAACAxsM/AAAAACC4yD8AAAAAwKnNPwAAAACAxtM/AAAAACC42D8AAAAAwKndPwAAAAAYiuI/AAAAAFA/5j8AAAAAILjoPwAAAADAqe0/AAAAABiK8j8=",
          "dtype": "f8"
         },
         "yaxis": "y"
        },
        {
         "legendgroup": "avg",
         "line": {
          "color": "purple",
          "width": 2
         },
         "marker": {
          "size": 6
         },
         "mode": "lines+markers",
         "name": "PeerDAS-32",
         "type": "scatter",
         "x": [
          "3/6",
          "6/9",
          "8/12",
          "10/15",
          "12/18",
          "16/24",
          "20/30",
          "24/36",
          "30/45",
          "36/54",
          "40/60",
          "48/72",
          "60/90"
         ],
         "xaxis": "x",
         "y": {
          "bdata": "AAAAAMCpvT8AAAAAwKnNPwAAAACAxtM/AAAAACC42D8AAAAAwKndPwAAAACAxuM/AAAAACC46D8AAAAAwKntPwAAAAAYivI/AAAAAFA/9j8AAAAAILj4PwAAAADAqf0/AAAAABiKAkA=",
          "dtype": "f8"
         },
         "yaxis": "y"
        },
        {
         "legendgroup": "max",
         "line": {
          "color": "lightblue",
          "width": 3
         },
         "marker": {
          "size": 8
         },
         "mode": "lines+markers",
         "name": "Full Blob",
         "showlegend": false,
         "type": "scatter",
         "x": [
          "3/6",
          "6/9",
          "8/12",
          "10/15",
          "12/18",
          "16/24",
          "20/30",
          "24/36",
          "30/45",
          "36/54",
          "40/60",
          "48/72",
          "60/90"
         ],
         "xaxis": "x2",
         "y": {
          "bdata": "AAAAAMCp3T8AAAAAUD/mPwAAAADAqe0/AAAAABiK8j8AAAAAUD/2PwAAAADAqf0/AAAAABiKAkAAAAAAUD8GQAAAAAAkzwtAAAAAAHyvEEAAAAAAGIoSQAAAAABQPxZAAAAAACTPG0A=",
          "dtype": "f8"
         },
         "yaxis": "y2"
        },
        {
         "legendgroup": "max",
         "line": {
          "color": "green",
          "width": 2
         },
         "marker": {
          "size": 6
         },
         "mode": "lines+markers",
         "name": "PeerDAS-4",
         "showlegend": false,
         "type": "scatter",
         "x": [
          "3/6",
          "6/9",
          "8/12",
          "10/15",
          "12/18",
          "16/24",
          "20/30",
          "24/36",
          "30/45",
          "36/54",
          "40/60",
          "48/72",
          "60/90"
         ],
         "xaxis": "x2",
         "y": {
          "bdata": "AAAAAMCpnT8AAAAAUD+mPwAAAADAqa0/AAAAABiKsj8AAAAAUD+2PwAAAADAqb0/AAAAABiKwj8AAAAAUD/GPwAAAAAkz8s/AAAAAHyv0D8AAAAAGIrSPwAAAABQP9Y/AAAAACTP2z8=",
          "dtype": "f8"
         },
         "yaxis": "y2"
        },
        {
         "legendgroup": "max",
         "line": {
          "color": "cyan",
          "width": 2
         },
         "marker": {
          "size": 6
         },
         "mode": "lines+markers",
         "name": "PeerDAS-8",
         "showlegend": false,
         "type": "scatter",
         "x": [
          "3/6",
          "6/9",
          "8/12",
          "10/15",
          "12/18",
          "16/24",
          "20/30",
          "24/36",
          "30/45",
          "36/54",
          "40/60",
          "48/72",
          "60/90"
         ],
         "xaxis": "x2",
         "y": {
          "bdata": "AAAAAMCprT8AAAAAUD+2PwAAAADAqb0/AAAAABiKwj8AAAAAUD/GPwAAAADAqc0/AAAAABiK0j8AAAAAUD/WPwAAAAAkz9s/AAAAAHyv4D8AAAAAGIriPwAAAABQP+Y/AAAAACTP6z8=",
          "dtype": "f8"
         },
         "yaxis": "y2"
        },
        {
         "legendgroup": "max",
         "line": {
          "color": "blue",
          "width": 2
         },
         "marker": {
          "size": 6
         },
         "mode": "lines+markers",
         "name": "PeerDAS-16",
         "showlegend": false,
         "type": "scatter",
         "x": [
          "3/6",
          "6/9",
          "8/12",
          "10/15",
          "12/18",
          "16/24",
          "20/30",
          "24/36",
          "30/45",
          "36/54",
          "40/60",
          "48/72",
          "60/90"
         ],
         "xaxis": "x2",
         "y": {
          "bdata": "AAAAAMCpvT8AAAAAUD/GPwAAAADAqc0/AAAAABiK0j8AAAAAUD/WPwAAAADAqd0/AAAAABiK4j8AAAAAUD/mPwAAAAAkz+s/AAAAAHyv8D8AAAAAGIryPwAAAABQP/Y/AAAAACTP+z8=",
          "dtype": "f8"
         },
         "yaxis": "y2"
        },
        {
         "legendgroup": "max",
         "line": {
          "color": "purple",
          "width": 2
         },
         "marker": {
          "size": 6
         },
         "mode": "lines+markers",
         "name": "PeerDAS-32",
         "showlegend": false,
         "type": "scatter",
         "x": [
          "3/6",
          "6/9",
          "8/12",
          "10/15",
          "12/18",
          "16/24",
          "20/30",
          "24/36",
          "30/45",
          "36/54",
          "40/60",
          "48/72",
          "60/90"
         ],
         "xaxis": "x2",
         "y": {
          "bdata": "AAAAAMCpzT8AAAAAUD/WPwAAAADAqd0/AAAAABiK4j8AAAAAUD/mPwAAAADAqe0/AAAAABiK8j8AAAAAUD/2PwAAAAAkz/s/AAAAAHyvAEAAAAAAGIoCQAAAAABQPwZAAAAAACTPC0A=",
          "dtype": "f8"
         },
         "yaxis": "y2"
        }
       ],
       "layout": {
        "annotations": [
         {
          "font": {
           "size": 16
          },
          "showarrow": false,
          "text": "Average Monthly Data Transfer (Target Blobs)",
          "x": 0.22,
          "xanchor": "center",
          "xref": "paper",
          "y": 1,
          "yanchor": "bottom",
          "yref": "paper"
         },
         {
          "font": {
           "size": 16
          },
          "showarrow": false,
          "text": "Maximum Monthly Data Transfer (Max Blobs)",
          "x": 0.78,
          "xanchor": "center",
          "xref": "paper",
          "y": 1,
          "yanchor": "bottom",
          "yref": "paper"
         }
        ],
        "height": 600,
        "hovermode": "x unified",
        "template": {
         "data": {
          "bar": [
           {
            "error_x": {
             "color": "#f2f5fa"
            },
            "error_y": {
             "color": "#f2f5fa"
            },
            "marker": {
             "line": {
              "color": "rgb(17,17,17)",
              "width": 0.5
             },
             "pattern": {
              "fillmode": "overlay",
              "size": 10,
              "solidity": 0.2
             }
            },
            "type": "bar"
           }
          ],
          "barpolar": [
           {
            "marker": {
             "line": {
              "color": "rgb(17,17,17)",
              "width": 0.5
             },
             "pattern": {
              "fillmode": "overlay",
              "size": 10,
              "solidity": 0.2
             }
            },
            "type": "barpolar"
           }
          ],
          "carpet": [
           {
            "aaxis": {
             "endlinecolor": "#A2B1C6",
             "gridcolor": "#506784",
             "linecolor": "#506784",
             "minorgridcolor": "#506784",
             "startlinecolor": "#A2B1C6"
            },
            "baxis": {
             "endlinecolor": "#A2B1C6",
             "gridcolor": "#506784",
             "linecolor": "#506784",
             "minorgridcolor": "#506784",
             "startlinecolor": "#A2B1C6"
            },
            "type": "carpet"
           }
          ],
          "choropleth": [
           {
            "colorbar": {
             "outlinewidth": 0,
             "ticks": ""
            },
            "type": "choropleth"
           }
          ],
          "contour": [
           {
            "colorbar": {
             "outlinewidth": 0,
             "ticks": ""
            },
            "colorscale": [
             [
              0,
              "#0d0887"
             ],
             [
              0.1111111111111111,
              "#46039f"
             ],
             [
              0.2222222222222222,
              "#7201a8"
             ],
             [
              0.3333333333333333,
              "#9c179e"
             ],
             [
              0.4444444444444444,
              "#bd3786"
             ],
             [
              0.5555555555555556,
              "#d8576b"
             ],
             [
              0.6666666666666666,
              "#ed7953"
             ],
             [
              0.7777777777777778,
              "#fb9f3a"
             ],
             [
              0.8888888888888888,
              "#fdca26"
             ],
             [
              1,
              "#f0f921"
             ]
            ],
            "type": "contour"
           }
          ],
          "contourcarpet": [
           {
            "colorbar": {
             "outlinewidth": 0,
             "ticks": ""
            },
            "type": "contourcarpet"
           }
          ],
          "heatmap": [
           {
            "colorbar": {
             "outlinewidth": 0,
             "ticks": ""
            },
            "colorscale": [
             [
              0,
              "#0d0887"
             ],
             [
              0.1111111111111111,
              "#46039f"
             ],
             [
              0.2222222222222222,
              "#7201a8"
             ],
             [
              0.3333333333333333,
              "#9c179e"
             ],
             [
              0.4444444444444444,
              "#bd3786"
             ],
             [
              0.5555555555555556,
              "#d8576b"
             ],
             [
              0.6666666666666666,
              "#ed7953"
             ],
             [
              0.7777777777777778,
              "#fb9f3a"
             ],
             [
              0.8888888888888888,
              "#fdca26"
             ],
             [
              1,
              "#f0f921"
             ]
            ],
            "type": "heatmap"
           }
          ],
          "histogram": [
           {
            "marker": {
             "pattern": {
              "fillmode": "overlay",
              "size": 10,
              "solidity": 0.2
             }
            },
            "type": "histogram"
           }
          ],
          "histogram2d": [
           {
            "colorbar": {
             "outlinewidth": 0,
             "ticks": ""
            },
            "colorscale": [
             [
              0,
              "#0d0887"
             ],
             [
              0.1111111111111111,
              "#46039f"
             ],
             [
              0.2222222222222222,
              "#7201a8"
             ],
             [
              0.3333333333333333,
              "#9c179e"
             ],
             [
              0.4444444444444444,
              "#bd3786"
             ],
             [
              0.5555555555555556,
              "#d8576b"
             ],
             [
              0.6666666666666666,
              "#ed7953"
             ],
             [
              0.7777777777777778,
              "#fb9f3a"
             ],
             [
              0.8888888888888888,
              "#fdca26"
             ],
             [
              1,
              "#f0f921"
             ]
            ],
            "type": "histogram2d"
           }
          ],
          "histogram2dcontour": [
           {
            "colorbar": {
             "outlinewidth": 0,
             "ticks": ""
            },
            "colorscale": [
             [
              0,
              "#0d0887"
             ],
             [
              0.1111111111111111,
              "#46039f"
             ],
             [
              0.2222222222222222,
              "#7201a8"
             ],
             [
              0.3333333333333333,
              "#9c179e"
             ],
             [
              0.4444444444444444,
              "#bd3786"
             ],
             [
              0.5555555555555556,
              "#d8576b"
             ],
             [
              0.6666666666666666,
              "#ed7953"
             ],
             [
              0.7777777777777778,
              "#fb9f3a"
             ],
             [
              0.8888888888888888,
              "#fdca26"
             ],
             [
              1,
              "#f0f921"
             ]
            ],
            "type": "histogram2dcontour"
           }
          ],
          "mesh3d": [
           {
            "colorbar": {
             "outlinewidth": 0,
             "ticks": ""
            },
            "type": "mesh3d"
           }
          ],
          "parcoords": [
           {
            "line": {
             "colorbar": {
              "outlinewidth": 0,
              "ticks": ""
             }
            },
            "type": "parcoords"
           }
          ],
          "pie": [
           {
            "automargin": true,
            "type": "pie"
           }
          ],
          "scatter": [
           {
            "marker": {
             "line": {
              "color": "#283442"
             }
            },
            "type": "scatter"
           }
          ],
          "scatter3d": [
           {
            "line": {
             "colorbar": {
              "outlinewidth": 0,
              "ticks": ""
             }
            },
            "marker": {
             "colorbar": {
              "outlinewidth": 0,
              "ticks": ""
             }
            },
            "type": "scatter3d"
           }
          ],
          "scattercarpet": [
           {
            "marker": {
             "colorbar": {
              "outlinewidth": 0,
              "ticks": ""
             }
            },
            "type": "scattercarpet"
           }
          ],
          "scattergeo": [
           {
            "marker": {
             "colorbar": {
              "outlinewidth": 0,
              "ticks": ""
             }
            },
            "type": "scattergeo"
           }
          ],
          "scattergl": [
           {
            "marker": {
             "line": {
              "color": "#283442"
             }
            },
            "type": "scattergl"
           }
          ],
          "scattermap": [
           {
            "marker": {
             "colorbar": {
              "outlinewidth": 0,
              "ticks": ""
             }
            },
            "type": "scattermap"
           }
          ],
          "scattermapbox": [
           {
            "marker": {
             "colorbar": {
              "outlinewidth": 0,
              "ticks": ""
             }
            },
            "type": "scattermapbox"
           }
          ],
          "scatterpolar": [
           {
            "marker": {
             "colorbar": {
              "outlinewidth": 0,
              "ticks": ""
             }
            },
            "type": "scatterpolar"
           }
          ],
          "scatterpolargl": [
           {
            "marker": {
             "colorbar": {
              "outlinewidth": 0,
              "ticks": ""
             }
            },
            "type": "scatterpolargl"
           }
          ],
          "scatterternary": [
           {
            "marker": {
             "colorbar": {
              "outlinewidth": 0,
              "ticks": ""
             }
            },
            "type": "scatterternary"
           }
          ],
          "surface": [
           {
            "colorbar": {
             "outlinewidth": 0,
             "ticks": ""
            },
            "colorscale": [
             [
              0,
              "#0d0887"
             ],
             [
              0.1111111111111111,
              "#46039f"
             ],
             [
              0.2222222222222222,
              "#7201a8"
             ],
             [
              0.3333333333333333,
              "#9c179e"
             ],
             [
              0.4444444444444444,
              "#bd3786"
             ],
             [
              0.5555555555555556,
              "#d8576b"
             ],
             [
              0.6666666666666666,
              "#ed7953"
             ],
             [
              0.7777777777777778,
              "#fb9f3a"
             ],
             [
              0.8888888888888888,
              "#fdca26"
             ],
             [
              1,
              "#f0f921"
             ]
            ],
            "type": "surface"
           }
          ],
          "table": [
           {
            "cells": {
             "fill": {
              "color": "#506784"
             },
             "line": {
              "color": "rgb(17,17,17)"
             }
            },
            "header": {
             "fill": {
              "color": "#2a3f5f"
             },
             "line": {
              "color": "rgb(17,17,17)"
             }
            },
            "type": "table"
           }
          ]
         },
         "layout": {
          "annotationdefaults": {
           "arrowcolor": "#f2f5fa",
           "arrowhead": 0,
           "arrowwidth": 1
          },
          "autotypenumbers": "strict",
          "coloraxis": {
           "colorbar": {
            "outlinewidth": 0,
            "ticks": ""
           }
          },
          "colorscale": {
           "diverging": [
            [
             0,
             "#8e0152"
            ],
            [
             0.1,
             "#c51b7d"
            ],
            [
             0.2,
             "#de77ae"
            ],
            [
             0.3,
             "#f1b6da"
            ],
            [
             0.4,
             "#fde0ef"
            ],
            [
             0.5,
             "#f7f7f7"
            ],
            [
             0.6,
             "#e6f5d0"
            ],
            [
             0.7,
             "#b8e186"
            ],
            [
             0.8,
             "#7fbc41"
            ],
            [
             0.9,
             "#4d9221"
            ],
            [
             1,
             "#276419"
            ]
           ],
           "sequential": [
            [
             0,
             "#0d0887"
            ],
            [
             0.1111111111111111,
             "#46039f"
            ],
            [
             0.2222222222222222,
             "#7201a8"
            ],
            [
             0.3333333333333333,
             "#9c179e"
            ],
            [
             0.4444444444444444,
             "#bd3786"
            ],
            [
             0.5555555555555556,
             "#d8576b"
            ],
            [
             0.6666666666666666,
             "#ed7953"
            ],
            [
             0.7777777777777778,
             "#fb9f3a"
            ],
            [
             0.8888888888888888,
             "#fdca26"
            ],
            [
             1,
             "#f0f921"
            ]
           ],
           "sequentialminus": [
            [
             0,
             "#0d0887"
            ],
            [
             0.1111111111111111,
             "#46039f"
            ],
            [
             0.2222222222222222,
             "#7201a8"
            ],
            [
             0.3333333333333333,
             "#9c179e"
            ],
            [
             0.4444444444444444,
             "#bd3786"
            ],
            [
             0.5555555555555556,
             "#d8576b"
            ],
            [
             0.6666666666666666,
             "#ed7953"
            ],
            [
             0.7777777777777778,
             "#fb9f3a"
            ],
            [
             0.8888888888888888,
             "#fdca26"
            ],
            [
             1,
             "#f0f921"
            ]
           ]
          },
          "colorway": [
           "#636efa",
           "#EF553B",
           "#00cc96",
           "#ab63fa",
           "#FFA15A",
           "#19d3f3",
           "#FF6692",
           "#B6E880",
           "#FF97FF",
           "#FECB52"
          ],
          "font": {
           "color": "#f2f5fa"
          },
          "geo": {
           "bgcolor": "rgb(17,17,17)",
           "lakecolor": "rgb(17,17,17)",
           "landcolor": "rgb(17,17,17)",
           "showlakes": true,
           "showland": true,
           "subunitcolor": "#506784"
          },
          "hoverlabel": {
           "align": "left"
          },
          "hovermode": "closest",
          "mapbox": {
           "style": "dark"
          },
          "paper_bgcolor": "rgb(17,17,17)",
          "plot_bgcolor": "rgb(17,17,17)",
          "polar": {
           "angularaxis": {
            "gridcolor": "#506784",
            "linecolor": "#506784",
            "ticks": ""
           },
           "bgcolor": "rgb(17,17,17)",
           "radialaxis": {
            "gridcolor": "#506784",
            "linecolor": "#506784",
            "ticks": ""
           }
          },
          "scene": {
           "xaxis": {
            "backgroundcolor": "rgb(17,17,17)",
            "gridcolor": "#506784",
            "gridwidth": 2,
            "linecolor": "#506784",
            "showbackground": true,
            "ticks": "",
            "zerolinecolor": "#C8D4E3"
           },
           "yaxis": {
            "backgroundcolor": "rgb(17,17,17)",
            "gridcolor": "#506784",
            "gridwidth": 2,
            "linecolor": "#506784",
            "showbackground": true,
            "ticks": "",
            "zerolinecolor": "#C8D4E3"
           },
           "zaxis": {
            "backgroundcolor": "rgb(17,17,17)",
            "gridcolor": "#506784",
            "gridwidth": 2,
            "linecolor": "#506784",
            "showbackground": true,
            "ticks": "",
            "zerolinecolor": "#C8D4E3"
           }
          },
          "shapedefaults": {
           "line": {
            "color": "#f2f5fa"
           }
          },
          "sliderdefaults": {
           "bgcolor": "#C8D4E3",
           "bordercolor": "rgb(17,17,17)",
           "borderwidth": 1,
           "tickwidth": 0
          },
          "ternary": {
           "aaxis": {
            "gridcolor": "#506784",
            "linecolor": "#506784",
            "ticks": ""
           },
           "baxis": {
            "gridcolor": "#506784",
            "linecolor": "#506784",
            "ticks": ""
           },
           "bgcolor": "rgb(17,17,17)",
           "caxis": {
            "gridcolor": "#506784",
            "linecolor": "#506784",
            "ticks": ""
           }
          },
          "title": {
           "x": 0.05
          },
          "updatemenudefaults": {
           "bgcolor": "#506784",
           "borderwidth": 0
          },
          "xaxis": {
           "automargin": true,
           "gridcolor": "#283442",
           "linecolor": "#506784",
           "ticks": "",
           "title": {
            "standoff": 15
           },
           "zerolinecolor": "#283442",
           "zerolinewidth": 2
          },
          "yaxis": {
           "automargin": true,
           "gridcolor": "#283442",
           "linecolor": "#506784",
           "ticks": "",
           "title": {
            "standoff": 15
           },
           "zerolinecolor": "#283442",
           "zerolinewidth": 2
          }
         }
        },
        "title": {
         "text": "Monthly Data Transfer Requirements: Full Blob vs PeerDAS"
        },
        "width": 1600,
        "xaxis": {
         "anchor": "y",
         "domain": [
          0,
          0.44
         ],
         "tickangle": 45,
         "title": {
          "text": "Target/Max Blobs per Block"
         }
        },
        "xaxis2": {
         "anchor": "y2",
         "domain": [
          0.56,
          1
         ],
         "tickangle": 45,
         "title": {
          "text": "Target/Max Blobs per Block"
         }
        },
        "yaxis": {
         "anchor": "x",
         "domain": [
          0,
          1
         ],
         "matches": "y",
         "title": {
          "text": "Data Transfer (TB/month)"
         },
         "type": "log"
        },
        "yaxis2": {
         "anchor": "x2",
         "domain": [
          0,
          1
         ],
         "matches": "y",
         "title": {
          "text": "Data Transfer (TB/month)"
         },
         "type": "log"
        }
       }
      }
     },
     "metadata": {},
     "output_type": "display_data"
    }
   ],
   "source": [
    "# 4. Monthly Data Transfer Visualization\n",
    "\n",
    "# Filter to show only Full Blob data\n",
    "df_monthly_full = df_monthly[df_monthly['method'] == 'Full Blob']\n",
    "\n",
    "# Create subplots for average and maximum\n",
    "fig = make_subplots(\n",
    "    rows=1, cols=2,\n",
    "    subplot_titles=('Average Monthly Data Transfer (Target Blobs)', 'Maximum Monthly Data Transfer (Max Blobs)'),\n",
    "    horizontal_spacing=0.12\n",
    ")\n",
    "\n",
    "# Define colors for different methods\n",
    "method_colors = {\n",
    "    'Full Blob': 'lightblue',\n",
    "    'PeerDAS-4': 'green',\n",
    "    'PeerDAS-8': 'cyan', \n",
    "    'PeerDAS-16': 'blue',\n",
    "    'PeerDAS-32': 'purple'\n",
    "}\n",
    "\n",
    "# Left plot: Average (Target) data transfer\n",
    "# Add Full Blob average line\n",
    "fig.add_trace(go.Scatter(\n",
    "    x=[f\"{row['target_blobs']}/{row['max_blobs']}\" for _, row in df_monthly_full.iterrows()],\n",
    "    y=df_monthly_full['avg_monthly_tb'],\n",
    "    mode='lines+markers',\n",
    "    name='Full Blob',\n",
    "    line=dict(width=3, color=method_colors['Full Blob']),\n",
    "    marker=dict(size=8),\n",
    "    legendgroup='avg'\n",
    "), row=1, col=1)\n",
    "\n",
    "# Add PeerDAS lines for various custody counts (4, 8, 16, 32)\n",
    "for custody in [4, 8, 16, 32]:\n",
    "    df_monthly_custody = df_monthly[df_monthly['custody_count'] == custody]\n",
    "    \n",
    "    fig.add_trace(go.Scatter(\n",
    "        x=[f\"{row['target_blobs']}/{row['max_blobs']}\" for _, row in df_monthly_custody.iterrows()],\n",
    "        y=df_monthly_custody['avg_monthly_tb'],\n",
    "        mode='lines+markers',\n",
    "        name=f'PeerDAS-{custody}',\n",
    "        line=dict(width=2, color=method_colors.get(f'PeerDAS-{custody}', 'gray')),\n",
    "        marker=dict(size=6),\n",
    "        legendgroup='avg'\n",
    "    ), row=1, col=1)\n",
    "\n",
    "# Right plot: Maximum data transfer\n",
    "# Add Full Blob maximum line\n",
    "fig.add_trace(go.Scatter(\n",
    "    x=[f\"{row['target_blobs']}/{row['max_blobs']}\" for _, row in df_monthly_full.iterrows()],\n",
    "    y=df_monthly_full['max_monthly_tb'],\n",
    "    mode='lines+markers',\n",
    "    name='Full Blob',\n",
    "    line=dict(width=3, color=method_colors['Full Blob']),\n",
    "    marker=dict(size=8),\n",
    "    legendgroup='max',\n",
    "    showlegend=False\n",
    "), row=1, col=2)\n",
    "\n",
    "# Add PeerDAS maximum lines for various custody counts (4, 8, 16, 32)\n",
    "for custody in [4, 8, 16, 32]:\n",
    "    df_monthly_custody = df_monthly[df_monthly['custody_count'] == custody]\n",
    "    \n",
    "    fig.add_trace(go.Scatter(\n",
    "        x=[f\"{row['target_blobs']}/{row['max_blobs']}\" for _, row in df_monthly_custody.iterrows()],\n",
    "        y=df_monthly_custody['max_monthly_tb'],\n",
    "        mode='lines+markers',\n",
    "        name=f'PeerDAS-{custody}',\n",
    "        line=dict(width=2, color=method_colors.get(f'PeerDAS-{custody}', 'gray')),\n",
    "        marker=dict(size=6),\n",
    "        legendgroup='max',\n",
    "        showlegend=False\n",
    "    ), row=1, col=2)\n",
    "\n",
    "# Update axes\n",
    "fig.update_xaxes(title=\"Target/Max Blobs per Block\", tickangle=45)\n",
    "fig.update_yaxes(title=\"Data Transfer (TB/month)\", type=\"log\", matches='y')\n",
    "\n",
    "fig.update_layout(\n",
    "    title=\"Monthly Data Transfer Requirements: Full Blob vs PeerDAS\",\n",
    "    height=600,\n",
    "    width=1600,\n",
    "    hovermode='x unified'\n",
    ")\n",
    "\n",
    "fig.show()"
   ]
  },
  {
   "cell_type": "code",
   "execution_count": 9,
   "id": "viz-scaling",
   "metadata": {},
   "outputs": [
    {
     "data": {
      "application/vnd.plotly.v1+json": {
       "config": {
        "plotlyServerURL": "https://plot.ly"
       },
       "data": [
        {
         "legendgroup": "Full Blob",
         "line": {
          "color": "lightblue",
          "width": 3
         },
         "mode": "lines",
         "name": "Full Blob",
         "type": "scatter",
         "x": {
          "bdata": "AQIDBAUGBwgJCgsMDQ4PEBESExQVFhcYGRobHB0eHyAhIiMkJSYnKCkqKywtLi8wMTIzNDU2Nzg5Ojs8PT4/QEFCQ0RFRkdI",
          "dtype": "i1"
         },
         "xaxis": "x",
         "y": {
          "bdata": "AAAAAAAA8j8AAAAAAAACQAAAAAAAAAtAAAAAAAAAEkAAAAAAAIAWQAAAAAAAABtAAAAAAACAH0AAAAAAAAAiQAAAAAAAQCRAAAAAAACAJkAAAAAAAMAoQAAAAAAAACtAAAAAAABALUAAAAAAAIAvQAAAAAAA4DBAAAAAAAAAMkAAAAAAACAzQAAAAAAAQDRAAAAAAABgNUAAAAAAAIA2QAAAAAAAoDdAAAAAAADAOEAAAAAAAOA5QAAAAAAAADtAAAAAAAAgPEAAAAAAAEA9QAAAAAAAYD5AAAAAAACAP0AAAAAAAFBAQAAAAAAA4EBAAAAAAABwQUAAAAAAAABCQAAAAAAAkEJAAAAAAAAgQ0AAAAAAALBDQAAAAAAAQERAAAAAAADQREAAAAAAAGBFQAAAAAAA8EVAAAAAAACARkAAAAAAABBHQAAAAAAAoEdAAAAAAAAwSEAAAAAAAMBIQAAAAAAAUElAAAAAAADgSUAAAAAAAHBKQAAAAAAAAEtAAAAAAACQS0AAAAAAACBMQAAAAAAAsExAAAAAAABATUAAAAAAANBNQAAAAAAAYE5AAAAAAADwTkAAAAAAAIBPQAAAAAAACFBAAAAAAABQUEAAAAAAAJhQQAAAAAAA4FBAAAAAAAAoUUAAAAAAAHBRQAAAAAAAuFFAAAAAAAAAUkAAAAAAAEhSQAAAAAAAkFJAAAAAAADYUkAAAAAAACBTQAAAAAAAaFNAAAAAAACwU0AAAAAAAPhTQAAAAAAAQFRA",
          "dtype": "f8"
         },
         "yaxis": "y"
        },
        {
         "legendgroup": "Full Blob",
         "line": {
          "color": "lightblue",
          "width": 3
         },
         "mode": "lines",
         "name": "Full Blob",
         "showlegend": false,
         "type": "scatter",
         "x": {
          "bdata": "AQIDBAUGBwgJCgsMDQ4PEBESExQVFhcYGRobHB0eHyAhIiMkJSYnKCkqKywtLi8wMTIzNDU2Nzg5Ojs8PT4/QEFCQ0RFRkdI",
          "dtype": "i1"
         },
         "xaxis": "x2",
         "y": {
          "bdata": "AAAAAAAAAkAAAAAAAAASQAAAAAAAABtAAAAAAAAAIkAAAAAAAIAmQAAAAAAAACtAAAAAAACAL0AAAAAAAAAyQAAAAAAAQDRAAAAAAACANkAAAAAAAMA4QAAAAAAAADtAAAAAAABAPUAAAAAAAIA/QAAAAAAA4EBAAAAAAAAAQkAAAAAAACBDQAAAAAAAQERAAAAAAABgRUAAAAAAAIBGQAAAAAAAoEdAAAAAAADASEAAAAAAAOBJQAAAAAAAAEtAAAAAAAAgTEAAAAAAAEBNQAAAAAAAYE5AAAAAAACAT0AAAAAAAFBQQAAAAAAA4FBAAAAAAABwUUAAAAAAAABSQAAAAAAAkFJAAAAAAAAgU0AAAAAAALBTQAAAAAAAQFRAAAAAAADQVEAAAAAAAGBVQAAAAAAA8FVAAAAAAACAVkAAAAAAABBXQAAAAAAAoFdAAAAAAAAwWEAAAAAAAMBYQAAAAAAAUFlAAAAAAADgWUAAAAAAAHBaQAAAAAAAAFtAAAAAAACQW0AAAAAAACBcQAAAAAAAsFxAAAAAAABAXUAAAAAAANBdQAAAAAAAYF5AAAAAAADwXkAAAAAAAIBfQAAAAAAACGBAAAAAAABQYEAAAAAAAJhgQAAAAAAA4GBAAAAAAAAoYUAAAAAAAHBhQAAAAAAAuGFAAAAAAAAAYkAAAAAAAEhiQAAAAAAAkGJAAAAAAADYYkAAAAAAACBjQAAAAAAAaGNAAAAAAACwY0AAAAAAAPhjQAAAAAAAQGRA",
          "dtype": "f8"
         },
         "yaxis": "y2"
        },
        {
         "legendgroup": "Full Blob",
         "line": {
          "color": "lightblue",
          "width": 3
         },
         "mode": "lines",
         "name": "Full Blob",
         "showlegend": false,
         "type": "scatter",
         "x": {
          "bdata": "AQIDBAUGBwgJCgsMDQ4PEBESExQVFhcYGRobHB0eHyAhIiMkJSYnKCkqKywtLi8wMTIzNDU2Nzg5Ojs8PT4/QEFCQ0RFRkdI",
          "dtype": "i1"
         },
         "xaxis": "x3",
         "y": {
          "bdata": "AAAAAAAA8j8AAAAAAAACQAAAAAAAAAtAAAAAAAAAEkAAAAAAAIAWQAAAAAAAABtAAAAAAACAH0AAAAAAAAAiQAAAAAAAQCRAAAAAAACAJkAAAAAAAMAoQAAAAAAAACtAAAAAAABALUAAAAAAAIAvQAAAAAAA4DBAAAAAAAAAMkAAAAAAACAzQAAAAAAAQDRAAAAAAABgNUAAAAAAAIA2QAAAAAAAoDdAAAAAAADAOEAAAAAAAOA5QAAAAAAAADtAAAAAAAAgPEAAAAAAAEA9QAAAAAAAYD5AAAAAAACAP0AAAAAAAFBAQAAAAAAA4EBAAAAAAABwQUAAAAAAAABCQAAAAAAAkEJAAAAAAAAgQ0AAAAAAALBDQAAAAAAAQERAAAAAAADQREAAAAAAAGBFQAAAAAAA8EVAAAAAAACARkAAAAAAABBHQAAAAAAAoEdAAAAAAAAwSEAAAAAAAMBIQAAAAAAAUElAAAAAAADgSUAAAAAAAHBKQAAAAAAAAEtAAAAAAACQS0AAAAAAACBMQAAAAAAAsExAAAAAAABATUAAAAAAANBNQAAAAAAAYE5AAAAAAADwTkAAAAAAAIBPQAAAAAAACFBAAAAAAABQUEAAAAAAAJhQQAAAAAAA4FBAAAAAAAAoUUAAAAAAAHBRQAAAAAAAuFFAAAAAAAAAUkAAAAAAAEhSQAAAAAAAkFJAAAAAAADYUkAAAAAAACBTQAAAAAAAaFNAAAAAAACwU0AAAAAAAPhTQAAAAAAAQFRA",
          "dtype": "f8"
         },
         "yaxis": "y3"
        },
        {
         "legendgroup": "Full Blob",
         "line": {
          "color": "lightblue",
          "width": 3
         },
         "mode": "lines",
         "name": "Full Blob",
         "showlegend": false,
         "type": "scatter",
         "x": {
          "bdata": "AQIDBAUGBwgJCgsMDQ4PEBESExQVFhcYGRobHB0eHyAhIiMkJSYnKCkqKywtLi8wMTIzNDU2Nzg5Ojs8PT4/QEFCQ0RFRkdI",
          "dtype": "i1"
         },
         "xaxis": "x4",
         "y": {
          "bdata": "AAAAAAAAAkAAAAAAAAASQAAAAAAAABtAAAAAAAAAIkAAAAAAAIAmQAAAAAAAACtAAAAAAACAL0AAAAAAAAAyQAAAAAAAQDRAAAAAAACANkAAAAAAAMA4QAAAAAAAADtAAAAAAABAPUAAAAAAAIA/QAAAAAAA4EBAAAAAAAAAQkAAAAAAACBDQAAAAAAAQERAAAAAAABgRUAAAAAAAIBGQAAAAAAAoEdAAAAAAADASEAAAAAAAOBJQAAAAAAAAEtAAAAAAAAgTEAAAAAAAEBNQAAAAAAAYE5AAAAAAACAT0AAAAAAAFBQQAAAAAAA4FBAAAAAAABwUUAAAAAAAABSQAAAAAAAkFJAAAAAAAAgU0AAAAAAALBTQAAAAAAAQFRAAAAAAADQVEAAAAAAAGBVQAAAAAAA8FVAAAAAAACAVkAAAAAAABBXQAAAAAAAoFdAAAAAAAAwWEAAAAAAAMBYQAAAAAAAUFlAAAAAAADgWUAAAAAAAHBaQAAAAAAAAFtAAAAAAACQW0AAAAAAACBcQAAAAAAAsFxAAAAAAABAXUAAAAAAANBdQAAAAAAAYF5AAAAAAADwXkAAAAAAAIBfQAAAAAAACGBAAAAAAABQYEAAAAAAAJhgQAAAAAAA4GBAAAAAAAAoYUAAAAAAAHBhQAAAAAAAuGFAAAAAAAAAYkAAAAAAAEhiQAAAAAAAkGJAAAAAAADYYkAAAAAAACBjQAAAAAAAaGNAAAAAAACwY0AAAAAAAPhjQAAAAAAAQGRA",
          "dtype": "f8"
         },
         "yaxis": "y4"
        },
        {
         "legendgroup": "PeerDAS-4",
         "line": {
          "color": "green",
          "width": 3
         },
         "mode": "lines",
         "name": "PeerDAS-4",
         "type": "scatter",
         "x": {
          "bdata": "AQIDBAUGBwgJCgsMDQ4PEBESExQVFhcYGRobHB0eHyAhIiMkJSYnKCkqKywtLi8wMTIzNDU2Nzg5Ojs8PT4/QEFCQ0RFRkdI",
          "dtype": "i1"
         },
         "xaxis": "x",
         "y": {
          "bdata": "AAAAAAAAsj8AAAAAAADCPwAAAAAAAMs/AAAAAAAA0j8AAAAAAIDWPwAAAAAAANs/AAAAAACA3z8AAAAAAADiPwAAAAAAQOQ/AAAAAACA5j8AAAAAAMDoPwAAAAAAAOs/AAAAAABA7T8AAAAAAIDvPwAAAAAA4PA/AAAAAAAA8j8AAAAAACDzPwAAAAAAQPQ/AAAAAABg9T8AAAAAAID2PwAAAAAAoPc/AAAAAADA+D8AAAAAAOD5PwAAAAAAAPs/AAAAAAAg/D8AAAAAAED9PwAAAAAAYP4/AAAAAACA/z8AAAAAAFAAQAAAAAAA4ABAAAAAAABwAUAAAAAAAAACQAAAAAAAkAJAAAAAAAAgA0AAAAAAALADQAAAAAAAQARAAAAAAADQBEAAAAAAAGAFQAAAAAAA8AVAAAAAAACABkAAAAAAABAHQAAAAAAAoAdAAAAAAAAwCEAAAAAAAMAIQAAAAAAAUAlAAAAAAADgCUAAAAAAAHAKQAAAAAAAAAtAAAAAAACQC0AAAAAAACAMQAAAAAAAsAxAAAAAAABADUAAAAAAANANQAAAAAAAYA5AAAAAAADwDkAAAAAAAIAPQAAAAAAACBBAAAAAAABQEEAAAAAAAJgQQAAAAAAA4BBAAAAAAAAoEUAAAAAAAHARQAAAAAAAuBFAAAAAAAAAEkAAAAAAAEgSQAAAAAAAkBJAAAAAAADYEkAAAAAAACATQAAAAAAAaBNAAAAAAACwE0AAAAAAAPgTQAAAAAAAQBRA",
          "dtype": "f8"
         },
         "yaxis": "y"
        },
        {
         "legendgroup": "PeerDAS-4",
         "line": {
          "color": "green",
          "width": 3
         },
         "mode": "lines",
         "name": "PeerDAS-4",
         "showlegend": false,
         "type": "scatter",
         "x": {
          "bdata": "AQIDBAUGBwgJCgsMDQ4PEBESExQVFhcYGRobHB0eHyAhIiMkJSYnKCkqKywtLi8wMTIzNDU2Nzg5Ojs8PT4/QEFCQ0RFRkdI",
          "dtype": "i1"
         },
         "xaxis": "x2",
         "y": {
          "bdata": "AAAAAAAAwj8AAAAAAADSPwAAAAAAANs/AAAAAAAA4j8AAAAAAIDmPwAAAAAAAOs/AAAAAACA7z8AAAAAAADyPwAAAAAAQPQ/AAAAAACA9j8AAAAAAMD4PwAAAAAAAPs/AAAAAABA/T8AAAAAAID/PwAAAAAA4ABAAAAAAAAAAkAAAAAAACADQAAAAAAAQARAAAAAAABgBUAAAAAAAIAGQAAAAAAAoAdAAAAAAADACEAAAAAAAOAJQAAAAAAAAAtAAAAAAAAgDEAAAAAAAEANQAAAAAAAYA5AAAAAAACAD0AAAAAAAFAQQAAAAAAA4BBAAAAAAABwEUAAAAAAAAASQAAAAAAAkBJAAAAAAAAgE0AAAAAAALATQAAAAAAAQBRAAAAAAADQFEAAAAAAAGAVQAAAAAAA8BVAAAAAAACAFkAAAAAAABAXQAAAAAAAoBdAAAAAAAAwGEAAAAAAAMAYQAAAAAAAUBlAAAAAAADgGUAAAAAAAHAaQAAAAAAAABtAAAAAAACQG0AAAAAAACAcQAAAAAAAsBxAAAAAAABAHUAAAAAAANAdQAAAAAAAYB5AAAAAAADwHkAAAAAAAIAfQAAAAAAACCBAAAAAAABQIEAAAAAAAJggQAAAAAAA4CBAAAAAAAAoIUAAAAAAAHAhQAAAAAAAuCFAAAAAAAAAIkAAAAAAAEgiQAAAAAAAkCJAAAAAAADYIkAAAAAAACAjQAAAAAAAaCNAAAAAAACwI0AAAAAAAPgjQAAAAAAAQCRA",
          "dtype": "f8"
         },
         "yaxis": "y2"
        },
        {
         "legendgroup": "PeerDAS-4",
         "line": {
          "color": "green",
          "width": 3
         },
         "mode": "lines",
         "name": "PeerDAS-4",
         "showlegend": false,
         "type": "scatter",
         "x": {
          "bdata": "AQIDBAUGBwgJCgsMDQ4PEBESExQVFhcYGRobHB0eHyAhIiMkJSYnKCkqKywtLi8wMTIzNDU2Nzg5Ojs8PT4/QEFCQ0RFRkdI",
          "dtype": "i1"
         },
         "xaxis": "x3",
         "y": {
          "bdata": "AAAAAAAAsj8AAAAAAADCPwAAAAAAAMs/AAAAAAAA0j8AAAAAAIDWPwAAAAAAANs/AAAAAACA3z8AAAAAAADiPwAAAAAAQOQ/AAAAAACA5j8AAAAAAMDoPwAAAAAAAOs/AAAAAABA7T8AAAAAAIDvPwAAAAAA4PA/AAAAAAAA8j8AAAAAACDzPwAAAAAAQPQ/AAAAAABg9T8AAAAAAID2PwAAAAAAoPc/AAAAAADA+D8AAAAAAOD5PwAAAAAAAPs/AAAAAAAg/D8AAAAAAED9PwAAAAAAYP4/AAAAAACA/z8AAAAAAFAAQAAAAAAA4ABAAAAAAABwAUAAAAAAAAACQAAAAAAAkAJAAAAAAAAgA0AAAAAAALADQAAAAAAAQARAAAAAAADQBEAAAAAAAGAFQAAAAAAA8AVAAAAAAACABkAAAAAAABAHQAAAAAAAoAdAAAAAAAAwCEAAAAAAAMAIQAAAAAAAUAlAAAAAAADgCUAAAAAAAHAKQAAAAAAAAAtAAAAAAACQC0AAAAAAACAMQAAAAAAAsAxAAAAAAABADUAAAAAAANANQAAAAAAAYA5AAAAAAADwDkAAAAAAAIAPQAAAAAAACBBAAAAAAABQEEAAAAAAAJgQQAAAAAAA4BBAAAAAAAAoEUAAAAAAAHARQAAAAAAAuBFAAAAAAAAAEkAAAAAAAEgSQAAAAAAAkBJAAAAAAADYEkAAAAAAACATQAAAAAAAaBNAAAAAAACwE0AAAAAAAPgTQAAAAAAAQBRA",
          "dtype": "f8"
         },
         "yaxis": "y3"
        },
        {
         "legendgroup": "PeerDAS-4",
         "line": {
          "color": "green",
          "width": 3
         },
         "mode": "lines",
         "name": "PeerDAS-4",
         "showlegend": false,
         "type": "scatter",
         "x": {
          "bdata": "AQIDBAUGBwgJCgsMDQ4PEBESExQVFhcYGRobHB0eHyAhIiMkJSYnKCkqKywtLi8wMTIzNDU2Nzg5Ojs8PT4/QEFCQ0RFRkdI",
          "dtype": "i1"
         },
         "xaxis": "x4",
         "y": {
          "bdata": "AAAAAAAAwj8AAAAAAADSPwAAAAAAANs/AAAAAAAA4j8AAAAAAIDmPwAAAAAAAOs/AAAAAACA7z8AAAAAAADyPwAAAAAAQPQ/AAAAAACA9j8AAAAAAMD4PwAAAAAAAPs/AAAAAABA/T8AAAAAAID/PwAAAAAA4ABAAAAAAAAAAkAAAAAAACADQAAAAAAAQARAAAAAAABgBUAAAAAAAIAGQAAAAAAAoAdAAAAAAADACEAAAAAAAOAJQAAAAAAAAAtAAAAAAAAgDEAAAAAAAEANQAAAAAAAYA5AAAAAAACAD0AAAAAAAFAQQAAAAAAA4BBAAAAAAABwEUAAAAAAAAASQAAAAAAAkBJAAAAAAAAgE0AAAAAAALATQAAAAAAAQBRAAAAAAADQFEAAAAAAAGAVQAAAAAAA8BVAAAAAAACAFkAAAAAAABAXQAAAAAAAoBdAAAAAAAAwGEAAAAAAAMAYQAAAAAAAUBlAAAAAAADgGUAAAAAAAHAaQAAAAAAAABtAAAAAAACQG0AAAAAAACAcQAAAAAAAsBxAAAAAAABAHUAAAAAAANAdQAAAAAAAYB5AAAAAAADwHkAAAAAAAIAfQAAAAAAACCBAAAAAAABQIEAAAAAAAJggQAAAAAAA4CBAAAAAAAAoIUAAAAAAAHAhQAAAAAAAuCFAAAAAAAAAIkAAAAAAAEgiQAAAAAAAkCJAAAAAAADYIkAAAAAAACAjQAAAAAAAaCNAAAAAAACwI0AAAAAAAPgjQAAAAAAAQCRA",
          "dtype": "f8"
         },
         "yaxis": "y4"
        },
        {
         "legendgroup": "PeerDAS-16",
         "line": {
          "color": "blue",
          "width": 3
         },
         "mode": "lines",
         "name": "PeerDAS-16",
         "type": "scatter",
         "x": {
          "bdata": "AQIDBAUGBwgJCgsMDQ4PEBESExQVFhcYGRobHB0eHyAhIiMkJSYnKCkqKywtLi8wMTIzNDU2Nzg5Ojs8PT4/QEFCQ0RFRkdI",
          "dtype": "i1"
         },
         "xaxis": "x",
         "y": {
          "bdata": "AAAAAAAA0j8AAAAAAADiPwAAAAAAAOs/AAAAAAAA8j8AAAAAAID2PwAAAAAAAPs/AAAAAACA/z8AAAAAAAACQAAAAAAAQARAAAAAAACABkAAAAAAAMAIQAAAAAAAAAtAAAAAAABADUAAAAAAAIAPQAAAAAAA4BBAAAAAAAAAEkAAAAAAACATQAAAAAAAQBRAAAAAAABgFUAAAAAAAIAWQAAAAAAAoBdAAAAAAADAGEAAAAAAAOAZQAAAAAAAABtAAAAAAAAgHEAAAAAAAEAdQAAAAAAAYB5AAAAAAACAH0AAAAAAAFAgQAAAAAAA4CBAAAAAAABwIUAAAAAAAAAiQAAAAAAAkCJAAAAAAAAgI0AAAAAAALAjQAAAAAAAQCRAAAAAAADQJEAAAAAAAGAlQAAAAAAA8CVAAAAAAACAJkAAAAAAABAnQAAAAAAAoCdAAAAAAAAwKEAAAAAAAMAoQAAAAAAAUClAAAAAAADgKUAAAAAAAHAqQAAAAAAAACtAAAAAAACQK0AAAAAAACAsQAAAAAAAsCxAAAAAAABALUAAAAAAANAtQAAAAAAAYC5AAAAAAADwLkAAAAAAAIAvQAAAAAAACDBAAAAAAABQMEAAAAAAAJgwQAAAAAAA4DBAAAAAAAAoMUAAAAAAAHAxQAAAAAAAuDFAAAAAAAAAMkAAAAAAAEgyQAAAAAAAkDJAAAAAAADYMkAAAAAAACAzQAAAAAAAaDNAAAAAAACwM0AAAAAAAPgzQAAAAAAAQDRA",
          "dtype": "f8"
         },
         "yaxis": "y"
        },
        {
         "legendgroup": "PeerDAS-16",
         "line": {
          "color": "blue",
          "width": 3
         },
         "mode": "lines",
         "name": "PeerDAS-16",
         "showlegend": false,
         "type": "scatter",
         "x": {
          "bdata": "AQIDBAUGBwgJCgsMDQ4PEBESExQVFhcYGRobHB0eHyAhIiMkJSYnKCkqKywtLi8wMTIzNDU2Nzg5Ojs8PT4/QEFCQ0RFRkdI",
          "dtype": "i1"
         },
         "xaxis": "x2",
         "y": {
          "bdata": "AAAAAAAA4j8AAAAAAADyPwAAAAAAAPs/AAAAAAAAAkAAAAAAAIAGQAAAAAAAAAtAAAAAAACAD0AAAAAAAAASQAAAAAAAQBRAAAAAAACAFkAAAAAAAMAYQAAAAAAAABtAAAAAAABAHUAAAAAAAIAfQAAAAAAA4CBAAAAAAAAAIkAAAAAAACAjQAAAAAAAQCRAAAAAAABgJUAAAAAAAIAmQAAAAAAAoCdAAAAAAADAKEAAAAAAAOApQAAAAAAAACtAAAAAAAAgLEAAAAAAAEAtQAAAAAAAYC5AAAAAAACAL0AAAAAAAFAwQAAAAAAA4DBAAAAAAABwMUAAAAAAAAAyQAAAAAAAkDJAAAAAAAAgM0AAAAAAALAzQAAAAAAAQDRAAAAAAADQNEAAAAAAAGA1QAAAAAAA8DVAAAAAAACANkAAAAAAABA3QAAAAAAAoDdAAAAAAAAwOEAAAAAAAMA4QAAAAAAAUDlAAAAAAADgOUAAAAAAAHA6QAAAAAAAADtAAAAAAACQO0AAAAAAACA8QAAAAAAAsDxAAAAAAABAPUAAAAAAANA9QAAAAAAAYD5AAAAAAADwPkAAAAAAAIA/QAAAAAAACEBAAAAAAABQQEAAAAAAAJhAQAAAAAAA4EBAAAAAAAAoQUAAAAAAAHBBQAAAAAAAuEFAAAAAAAAAQkAAAAAAAEhCQAAAAAAAkEJAAAAAAADYQkAAAAAAACBDQAAAAAAAaENAAAAAAACwQ0AAAAAAAPhDQAAAAAAAQERA",
          "dtype": "f8"
         },
         "yaxis": "y2"
        },
        {
         "legendgroup": "PeerDAS-16",
         "line": {
          "color": "blue",
          "width": 3
         },
         "mode": "lines",
         "name": "PeerDAS-16",
         "showlegend": false,
         "type": "scatter",
         "x": {
          "bdata": "AQIDBAUGBwgJCgsMDQ4PEBESExQVFhcYGRobHB0eHyAhIiMkJSYnKCkqKywtLi8wMTIzNDU2Nzg5Ojs8PT4/QEFCQ0RFRkdI",
          "dtype": "i1"
         },
         "xaxis": "x3",
         "y": {
          "bdata": "AAAAAAAA0j8AAAAAAADiPwAAAAAAAOs/AAAAAAAA8j8AAAAAAID2PwAAAAAAAPs/AAAAAACA/z8AAAAAAAACQAAAAAAAQARAAAAAAACABkAAAAAAAMAIQAAAAAAAAAtAAAAAAABADUAAAAAAAIAPQAAAAAAA4BBAAAAAAAAAEkAAAAAAACATQAAAAAAAQBRAAAAAAABgFUAAAAAAAIAWQAAAAAAAoBdAAAAAAADAGEAAAAAAAOAZQAAAAAAAABtAAAAAAAAgHEAAAAAAAEAdQAAAAAAAYB5AAAAAAACAH0AAAAAAAFAgQAAAAAAA4CBAAAAAAABwIUAAAAAAAAAiQAAAAAAAkCJAAAAAAAAgI0AAAAAAALAjQAAAAAAAQCRAAAAAAADQJEAAAAAAAGAlQAAAAAAA8CVAAAAAAACAJkAAAAAAABAnQAAAAAAAoCdAAAAAAAAwKEAAAAAAAMAoQAAAAAAAUClAAAAAAADgKUAAAAAAAHAqQAAAAAAAACtAAAAAAACQK0AAAAAAACAsQAAAAAAAsCxAAAAAAABALUAAAAAAANAtQAAAAAAAYC5AAAAAAADwLkAAAAAAAIAvQAAAAAAACDBAAAAAAABQMEAAAAAAAJgwQAAAAAAA4DBAAAAAAAAoMUAAAAAAAHAxQAAAAAAAuDFAAAAAAAAAMkAAAAAAAEgyQAAAAAAAkDJAAAAAAADYMkAAAAAAACAzQAAAAAAAaDNAAAAAAACwM0AAAAAAAPgzQAAAAAAAQDRA",
          "dtype": "f8"
         },
         "yaxis": "y3"
        },
        {
         "legendgroup": "PeerDAS-16",
         "line": {
          "color": "blue",
          "width": 3
         },
         "mode": "lines",
         "name": "PeerDAS-16",
         "showlegend": false,
         "type": "scatter",
         "x": {
          "bdata": "AQIDBAUGBwgJCgsMDQ4PEBESExQVFhcYGRobHB0eHyAhIiMkJSYnKCkqKywtLi8wMTIzNDU2Nzg5Ojs8PT4/QEFCQ0RFRkdI",
          "dtype": "i1"
         },
         "xaxis": "x4",
         "y": {
          "bdata": "AAAAAAAA4j8AAAAAAADyPwAAAAAAAPs/AAAAAAAAAkAAAAAAAIAGQAAAAAAAAAtAAAAAAACAD0AAAAAAAAASQAAAAAAAQBRAAAAAAACAFkAAAAAAAMAYQAAAAAAAABtAAAAAAABAHUAAAAAAAIAfQAAAAAAA4CBAAAAAAAAAIkAAAAAAACAjQAAAAAAAQCRAAAAAAABgJUAAAAAAAIAmQAAAAAAAoCdAAAAAAADAKEAAAAAAAOApQAAAAAAAACtAAAAAAAAgLEAAAAAAAEAtQAAAAAAAYC5AAAAAAACAL0AAAAAAAFAwQAAAAAAA4DBAAAAAAABwMUAAAAAAAAAyQAAAAAAAkDJAAAAAAAAgM0AAAAAAALAzQAAAAAAAQDRAAAAAAADQNEAAAAAAAGA1QAAAAAAA8DVAAAAAAACANkAAAAAAABA3QAAAAAAAoDdAAAAAAAAwOEAAAAAAAMA4QAAAAAAAUDlAAAAAAADgOUAAAAAAAHA6QAAAAAAAADtAAAAAAACQO0AAAAAAACA8QAAAAAAAsDxAAAAAAABAPUAAAAAAANA9QAAAAAAAYD5AAAAAAADwPkAAAAAAAIA/QAAAAAAACEBAAAAAAABQQEAAAAAAAJhAQAAAAAAA4EBAAAAAAAAoQUAAAAAAAHBBQAAAAAAAuEFAAAAAAAAAQkAAAAAAAEhCQAAAAAAAkEJAAAAAAADYQkAAAAAAACBDQAAAAAAAaENAAAAAAACwQ0AAAAAAAPhDQAAAAAAAQERA",
          "dtype": "f8"
         },
         "yaxis": "y4"
        },
        {
         "legendgroup": "PeerDAS-32",
         "line": {
          "color": "red",
          "width": 3
         },
         "mode": "lines",
         "name": "PeerDAS-32",
         "type": "scatter",
         "x": {
          "bdata": "AQIDBAUGBwgJCgsMDQ4PEBESExQVFhcYGRobHB0eHyAhIiMkJSYnKCkqKywtLi8wMTIzNDU2Nzg5Ojs8PT4/QEFCQ0RFRkdI",
          "dtype": "i1"
         },
         "xaxis": "x",
         "y": {
          "bdata": "AAAAAAAA4j8AAAAAAADyPwAAAAAAAPs/AAAAAAAAAkAAAAAAAIAGQAAAAAAAAAtAAAAAAACAD0AAAAAAAAASQAAAAAAAQBRAAAAAAACAFkAAAAAAAMAYQAAAAAAAABtAAAAAAABAHUAAAAAAAIAfQAAAAAAA4CBAAAAAAAAAIkAAAAAAACAjQAAAAAAAQCRAAAAAAABgJUAAAAAAAIAmQAAAAAAAoCdAAAAAAADAKEAAAAAAAOApQAAAAAAAACtAAAAAAAAgLEAAAAAAAEAtQAAAAAAAYC5AAAAAAACAL0AAAAAAAFAwQAAAAAAA4DBAAAAAAABwMUAAAAAAAAAyQAAAAAAAkDJAAAAAAAAgM0AAAAAAALAzQAAAAAAAQDRAAAAAAADQNEAAAAAAAGA1QAAAAAAA8DVAAAAAAACANkAAAAAAABA3QAAAAAAAoDdAAAAAAAAwOEAAAAAAAMA4QAAAAAAAUDlAAAAAAADgOUAAAAAAAHA6QAAAAAAAADtAAAAAAACQO0AAAAAAACA8QAAAAAAAsDxAAAAAAABAPUAAAAAAANA9QAAAAAAAYD5AAAAAAADwPkAAAAAAAIA/QAAAAAAACEBAAAAAAABQQEAAAAAAAJhAQAAAAAAA4EBAAAAAAAAoQUAAAAAAAHBBQAAAAAAAuEFAAAAAAAAAQkAAAAAAAEhCQAAAAAAAkEJAAAAAAADYQkAAAAAAACBDQAAAAAAAaENAAAAAAACwQ0AAAAAAAPhDQAAAAAAAQERA",
          "dtype": "f8"
         },
         "yaxis": "y"
        },
        {
         "legendgroup": "PeerDAS-32",
         "line": {
          "color": "red",
          "width": 3
         },
         "mode": "lines",
         "name": "PeerDAS-32",
         "showlegend": false,
         "type": "scatter",
         "x": {
          "bdata": "AQIDBAUGBwgJCgsMDQ4PEBESExQVFhcYGRobHB0eHyAhIiMkJSYnKCkqKywtLi8wMTIzNDU2Nzg5Ojs8PT4/QEFCQ0RFRkdI",
          "dtype": "i1"
         },
         "xaxis": "x2",
         "y": {
          "bdata": "AAAAAAAA8j8AAAAAAAACQAAAAAAAAAtAAAAAAAAAEkAAAAAAAIAWQAAAAAAAABtAAAAAAACAH0AAAAAAAAAiQAAAAAAAQCRAAAAAAACAJkAAAAAAAMAoQAAAAAAAACtAAAAAAABALUAAAAAAAIAvQAAAAAAA4DBAAAAAAAAAMkAAAAAAACAzQAAAAAAAQDRAAAAAAABgNUAAAAAAAIA2QAAAAAAAoDdAAAAAAADAOEAAAAAAAOA5QAAAAAAAADtAAAAAAAAgPEAAAAAAAEA9QAAAAAAAYD5AAAAAAACAP0AAAAAAAFBAQAAAAAAA4EBAAAAAAABwQUAAAAAAAABCQAAAAAAAkEJAAAAAAAAgQ0AAAAAAALBDQAAAAAAAQERAAAAAAADQREAAAAAAAGBFQAAAAAAA8EVAAAAAAACARkAAAAAAABBHQAAAAAAAoEdAAAAAAAAwSEAAAAAAAMBIQAAAAAAAUElAAAAAAADgSUAAAAAAAHBKQAAAAAAAAEtAAAAAAACQS0AAAAAAACBMQAAAAAAAsExAAAAAAABATUAAAAAAANBNQAAAAAAAYE5AAAAAAADwTkAAAAAAAIBPQAAAAAAACFBAAAAAAABQUEAAAAAAAJhQQAAAAAAA4FBAAAAAAAAoUUAAAAAAAHBRQAAAAAAAuFFAAAAAAAAAUkAAAAAAAEhSQAAAAAAAkFJAAAAAAADYUkAAAAAAACBTQAAAAAAAaFNAAAAAAACwU0AAAAAAAPhTQAAAAAAAQFRA",
          "dtype": "f8"
         },
         "yaxis": "y2"
        },
        {
         "legendgroup": "PeerDAS-32",
         "line": {
          "color": "red",
          "width": 3
         },
         "mode": "lines",
         "name": "PeerDAS-32",
         "showlegend": false,
         "type": "scatter",
         "x": {
          "bdata": "AQIDBAUGBwgJCgsMDQ4PEBESExQVFhcYGRobHB0eHyAhIiMkJSYnKCkqKywtLi8wMTIzNDU2Nzg5Ojs8PT4/QEFCQ0RFRkdI",
          "dtype": "i1"
         },
         "xaxis": "x3",
         "y": {
          "bdata": "AAAAAAAA4j8AAAAAAADyPwAAAAAAAPs/AAAAAAAAAkAAAAAAAIAGQAAAAAAAAAtAAAAAAACAD0AAAAAAAAASQAAAAAAAQBRAAAAAAACAFkAAAAAAAMAYQAAAAAAAABtAAAAAAABAHUAAAAAAAIAfQAAAAAAA4CBAAAAAAAAAIkAAAAAAACAjQAAAAAAAQCRAAAAAAABgJUAAAAAAAIAmQAAAAAAAoCdAAAAAAADAKEAAAAAAAOApQAAAAAAAACtAAAAAAAAgLEAAAAAAAEAtQAAAAAAAYC5AAAAAAACAL0AAAAAAAFAwQAAAAAAA4DBAAAAAAABwMUAAAAAAAAAyQAAAAAAAkDJAAAAAAAAgM0AAAAAAALAzQAAAAAAAQDRAAAAAAADQNEAAAAAAAGA1QAAAAAAA8DVAAAAAAACANkAAAAAAABA3QAAAAAAAoDdAAAAAAAAwOEAAAAAAAMA4QAAAAAAAUDlAAAAAAADgOUAAAAAAAHA6QAAAAAAAADtAAAAAAACQO0AAAAAAACA8QAAAAAAAsDxAAAAAAABAPUAAAAAAANA9QAAAAAAAYD5AAAAAAADwPkAAAAAAAIA/QAAAAAAACEBAAAAAAABQQEAAAAAAAJhAQAAAAAAA4EBAAAAAAAAoQUAAAAAAAHBBQAAAAAAAuEFAAAAAAAAAQkAAAAAAAEhCQAAAAAAAkEJAAAAAAADYQkAAAAAAACBDQAAAAAAAaENAAAAAAACwQ0AAAAAAAPhDQAAAAAAAQERA",
          "dtype": "f8"
         },
         "yaxis": "y3"
        },
        {
         "legendgroup": "PeerDAS-32",
         "line": {
          "color": "red",
          "width": 3
         },
         "mode": "lines",
         "name": "PeerDAS-32",
         "showlegend": false,
         "type": "scatter",
         "x": {
          "bdata": "AQIDBAUGBwgJCgsMDQ4PEBESExQVFhcYGRobHB0eHyAhIiMkJSYnKCkqKywtLi8wMTIzNDU2Nzg5Ojs8PT4/QEFCQ0RFRkdI",
          "dtype": "i1"
         },
         "xaxis": "x4",
         "y": {
          "bdata": "AAAAAAAA8j8AAAAAAAACQAAAAAAAAAtAAAAAAAAAEkAAAAAAAIAWQAAAAAAAABtAAAAAAACAH0AAAAAAAAAiQAAAAAAAQCRAAAAAAACAJkAAAAAAAMAoQAAAAAAAACtAAAAAAABALUAAAAAAAIAvQAAAAAAA4DBAAAAAAAAAMkAAAAAAACAzQAAAAAAAQDRAAAAAAABgNUAAAAAAAIA2QAAAAAAAoDdAAAAAAADAOEAAAAAAAOA5QAAAAAAAADtAAAAAAAAgPEAAAAAAAEA9QAAAAAAAYD5AAAAAAACAP0AAAAAAAFBAQAAAAAAA4EBAAAAAAABwQUAAAAAAAABCQAAAAAAAkEJAAAAAAAAgQ0AAAAAAALBDQAAAAAAAQERAAAAAAADQREAAAAAAAGBFQAAAAAAA8EVAAAAAAACARkAAAAAAABBHQAAAAAAAoEdAAAAAAAAwSEAAAAAAAMBIQAAAAAAAUElAAAAAAADgSUAAAAAAAHBKQAAAAAAAAEtAAAAAAACQS0AAAAAAACBMQAAAAAAAsExAAAAAAABATUAAAAAAANBNQAAAAAAAYE5AAAAAAADwTkAAAAAAAIBPQAAAAAAACFBAAAAAAABQUEAAAAAAAJhQQAAAAAAA4FBAAAAAAAAoUUAAAAAAAHBRQAAAAAAAuFFAAAAAAAAAUkAAAAAAAEhSQAAAAAAAkFJAAAAAAADYUkAAAAAAACBTQAAAAAAAaFNAAAAAAACwU0AAAAAAAPhTQAAAAAAAQFRA",
          "dtype": "f8"
         },
         "yaxis": "y4"
        }
       ],
       "layout": {
        "annotations": [
         {
          "font": {
           "size": 16
          },
          "showarrow": false,
          "text": "Average Download",
          "x": 0.22,
          "xanchor": "center",
          "xref": "paper",
          "y": 1,
          "yanchor": "bottom",
          "yref": "paper"
         },
         {
          "font": {
           "size": 16
          },
          "showarrow": false,
          "text": "Peak Download",
          "x": 0.78,
          "xanchor": "center",
          "xref": "paper",
          "y": 1,
          "yanchor": "bottom",
          "yref": "paper"
         },
         {
          "font": {
           "size": 16
          },
          "showarrow": false,
          "text": "Average Upload",
          "x": 0.22,
          "xanchor": "center",
          "xref": "paper",
          "y": 0.44,
          "yanchor": "bottom",
          "yref": "paper"
         },
         {
          "font": {
           "size": 16
          },
          "showarrow": false,
          "text": "Peak Upload",
          "x": 0.78,
          "xanchor": "center",
          "xref": "paper",
          "y": 0.44,
          "yanchor": "bottom",
          "yref": "paper"
         }
        ],
        "height": 800,
        "hovermode": "x unified",
        "shapes": [
         {
          "line": {
           "color": "gray",
           "dash": "dot"
          },
          "opacity": 0.3,
          "type": "line",
          "x0": 3,
          "x1": 3,
          "xref": "x",
          "y0": 0,
          "y1": 1,
          "yref": "y domain"
         },
         {
          "line": {
           "color": "gray",
           "dash": "dot"
          },
          "opacity": 0.3,
          "type": "line",
          "x0": 3,
          "x1": 3,
          "xref": "x2",
          "y0": 0,
          "y1": 1,
          "yref": "y2 domain"
         },
         {
          "line": {
           "color": "gray",
           "dash": "dot"
          },
          "opacity": 0.3,
          "type": "line",
          "x0": 3,
          "x1": 3,
          "xref": "x3",
          "y0": 0,
          "y1": 1,
          "yref": "y3 domain"
         },
         {
          "line": {
           "color": "gray",
           "dash": "dot"
          },
          "opacity": 0.3,
          "type": "line",
          "x0": 3,
          "x1": 3,
          "xref": "x4",
          "y0": 0,
          "y1": 1,
          "yref": "y4 domain"
         },
         {
          "line": {
           "color": "gray",
           "dash": "dot"
          },
          "opacity": 0.3,
          "type": "line",
          "x0": 8,
          "x1": 8,
          "xref": "x",
          "y0": 0,
          "y1": 1,
          "yref": "y domain"
         },
         {
          "line": {
           "color": "gray",
           "dash": "dot"
          },
          "opacity": 0.3,
          "type": "line",
          "x0": 8,
          "x1": 8,
          "xref": "x2",
          "y0": 0,
          "y1": 1,
          "yref": "y2 domain"
         },
         {
          "line": {
           "color": "gray",
           "dash": "dot"
          },
          "opacity": 0.3,
          "type": "line",
          "x0": 8,
          "x1": 8,
          "xref": "x3",
          "y0": 0,
          "y1": 1,
          "yref": "y3 domain"
         },
         {
          "line": {
           "color": "gray",
           "dash": "dot"
          },
          "opacity": 0.3,
          "type": "line",
          "x0": 8,
          "x1": 8,
          "xref": "x4",
          "y0": 0,
          "y1": 1,
          "yref": "y4 domain"
         },
         {
          "line": {
           "color": "gray",
           "dash": "dot"
          },
          "opacity": 0.3,
          "type": "line",
          "x0": 12,
          "x1": 12,
          "xref": "x",
          "y0": 0,
          "y1": 1,
          "yref": "y domain"
         },
         {
          "line": {
           "color": "gray",
           "dash": "dot"
          },
          "opacity": 0.3,
          "type": "line",
          "x0": 12,
          "x1": 12,
          "xref": "x2",
          "y0": 0,
          "y1": 1,
          "yref": "y2 domain"
         },
         {
          "line": {
           "color": "gray",
           "dash": "dot"
          },
          "opacity": 0.3,
          "type": "line",
          "x0": 12,
          "x1": 12,
          "xref": "x3",
          "y0": 0,
          "y1": 1,
          "yref": "y3 domain"
         },
         {
          "line": {
           "color": "gray",
           "dash": "dot"
          },
          "opacity": 0.3,
          "type": "line",
          "x0": 12,
          "x1": 12,
          "xref": "x4",
          "y0": 0,
          "y1": 1,
          "yref": "y4 domain"
         },
         {
          "line": {
           "color": "gray",
           "dash": "dot"
          },
          "opacity": 0.3,
          "type": "line",
          "x0": 20,
          "x1": 20,
          "xref": "x",
          "y0": 0,
          "y1": 1,
          "yref": "y domain"
         },
         {
          "line": {
           "color": "gray",
           "dash": "dot"
          },
          "opacity": 0.3,
          "type": "line",
          "x0": 20,
          "x1": 20,
          "xref": "x2",
          "y0": 0,
          "y1": 1,
          "yref": "y2 domain"
         },
         {
          "line": {
           "color": "gray",
           "dash": "dot"
          },
          "opacity": 0.3,
          "type": "line",
          "x0": 20,
          "x1": 20,
          "xref": "x3",
          "y0": 0,
          "y1": 1,
          "yref": "y3 domain"
         },
         {
          "line": {
           "color": "gray",
           "dash": "dot"
          },
          "opacity": 0.3,
          "type": "line",
          "x0": 20,
          "x1": 20,
          "xref": "x4",
          "y0": 0,
          "y1": 1,
          "yref": "y4 domain"
         },
         {
          "line": {
           "color": "gray",
           "dash": "dot"
          },
          "opacity": 0.3,
          "type": "line",
          "x0": 30,
          "x1": 30,
          "xref": "x",
          "y0": 0,
          "y1": 1,
          "yref": "y domain"
         },
         {
          "line": {
           "color": "gray",
           "dash": "dot"
          },
          "opacity": 0.3,
          "type": "line",
          "x0": 30,
          "x1": 30,
          "xref": "x2",
          "y0": 0,
          "y1": 1,
          "yref": "y2 domain"
         },
         {
          "line": {
           "color": "gray",
           "dash": "dot"
          },
          "opacity": 0.3,
          "type": "line",
          "x0": 30,
          "x1": 30,
          "xref": "x3",
          "y0": 0,
          "y1": 1,
          "yref": "y3 domain"
         },
         {
          "line": {
           "color": "gray",
           "dash": "dot"
          },
          "opacity": 0.3,
          "type": "line",
          "x0": 30,
          "x1": 30,
          "xref": "x4",
          "y0": 0,
          "y1": 1,
          "yref": "y4 domain"
         },
         {
          "line": {
           "color": "gray",
           "dash": "dot"
          },
          "opacity": 0.3,
          "type": "line",
          "x0": 40,
          "x1": 40,
          "xref": "x",
          "y0": 0,
          "y1": 1,
          "yref": "y domain"
         },
         {
          "line": {
           "color": "gray",
           "dash": "dot"
          },
          "opacity": 0.3,
          "type": "line",
          "x0": 40,
          "x1": 40,
          "xref": "x2",
          "y0": 0,
          "y1": 1,
          "yref": "y2 domain"
         },
         {
          "line": {
           "color": "gray",
           "dash": "dot"
          },
          "opacity": 0.3,
          "type": "line",
          "x0": 40,
          "x1": 40,
          "xref": "x3",
          "y0": 0,
          "y1": 1,
          "yref": "y3 domain"
         },
         {
          "line": {
           "color": "gray",
           "dash": "dot"
          },
          "opacity": 0.3,
          "type": "line",
          "x0": 40,
          "x1": 40,
          "xref": "x4",
          "y0": 0,
          "y1": 1,
          "yref": "y4 domain"
         },
         {
          "line": {
           "color": "gray",
           "dash": "dot"
          },
          "opacity": 0.3,
          "type": "line",
          "x0": 60,
          "x1": 60,
          "xref": "x",
          "y0": 0,
          "y1": 1,
          "yref": "y domain"
         },
         {
          "line": {
           "color": "gray",
           "dash": "dot"
          },
          "opacity": 0.3,
          "type": "line",
          "x0": 60,
          "x1": 60,
          "xref": "x2",
          "y0": 0,
          "y1": 1,
          "yref": "y2 domain"
         },
         {
          "line": {
           "color": "gray",
           "dash": "dot"
          },
          "opacity": 0.3,
          "type": "line",
          "x0": 60,
          "x1": 60,
          "xref": "x3",
          "y0": 0,
          "y1": 1,
          "yref": "y3 domain"
         },
         {
          "line": {
           "color": "gray",
           "dash": "dot"
          },
          "opacity": 0.3,
          "type": "line",
          "x0": 60,
          "x1": 60,
          "xref": "x4",
          "y0": 0,
          "y1": 1,
          "yref": "y4 domain"
         }
        ],
        "template": {
         "data": {
          "bar": [
           {
            "error_x": {
             "color": "#f2f5fa"
            },
            "error_y": {
             "color": "#f2f5fa"
            },
            "marker": {
             "line": {
              "color": "rgb(17,17,17)",
              "width": 0.5
             },
             "pattern": {
              "fillmode": "overlay",
              "size": 10,
              "solidity": 0.2
             }
            },
            "type": "bar"
           }
          ],
          "barpolar": [
           {
            "marker": {
             "line": {
              "color": "rgb(17,17,17)",
              "width": 0.5
             },
             "pattern": {
              "fillmode": "overlay",
              "size": 10,
              "solidity": 0.2
             }
            },
            "type": "barpolar"
           }
          ],
          "carpet": [
           {
            "aaxis": {
             "endlinecolor": "#A2B1C6",
             "gridcolor": "#506784",
             "linecolor": "#506784",
             "minorgridcolor": "#506784",
             "startlinecolor": "#A2B1C6"
            },
            "baxis": {
             "endlinecolor": "#A2B1C6",
             "gridcolor": "#506784",
             "linecolor": "#506784",
             "minorgridcolor": "#506784",
             "startlinecolor": "#A2B1C6"
            },
            "type": "carpet"
           }
          ],
          "choropleth": [
           {
            "colorbar": {
             "outlinewidth": 0,
             "ticks": ""
            },
            "type": "choropleth"
           }
          ],
          "contour": [
           {
            "colorbar": {
             "outlinewidth": 0,
             "ticks": ""
            },
            "colorscale": [
             [
              0,
              "#0d0887"
             ],
             [
              0.1111111111111111,
              "#46039f"
             ],
             [
              0.2222222222222222,
              "#7201a8"
             ],
             [
              0.3333333333333333,
              "#9c179e"
             ],
             [
              0.4444444444444444,
              "#bd3786"
             ],
             [
              0.5555555555555556,
              "#d8576b"
             ],
             [
              0.6666666666666666,
              "#ed7953"
             ],
             [
              0.7777777777777778,
              "#fb9f3a"
             ],
             [
              0.8888888888888888,
              "#fdca26"
             ],
             [
              1,
              "#f0f921"
             ]
            ],
            "type": "contour"
           }
          ],
          "contourcarpet": [
           {
            "colorbar": {
             "outlinewidth": 0,
             "ticks": ""
            },
            "type": "contourcarpet"
           }
          ],
          "heatmap": [
           {
            "colorbar": {
             "outlinewidth": 0,
             "ticks": ""
            },
            "colorscale": [
             [
              0,
              "#0d0887"
             ],
             [
              0.1111111111111111,
              "#46039f"
             ],
             [
              0.2222222222222222,
              "#7201a8"
             ],
             [
              0.3333333333333333,
              "#9c179e"
             ],
             [
              0.4444444444444444,
              "#bd3786"
             ],
             [
              0.5555555555555556,
              "#d8576b"
             ],
             [
              0.6666666666666666,
              "#ed7953"
             ],
             [
              0.7777777777777778,
              "#fb9f3a"
             ],
             [
              0.8888888888888888,
              "#fdca26"
             ],
             [
              1,
              "#f0f921"
             ]
            ],
            "type": "heatmap"
           }
          ],
          "histogram": [
           {
            "marker": {
             "pattern": {
              "fillmode": "overlay",
              "size": 10,
              "solidity": 0.2
             }
            },
            "type": "histogram"
           }
          ],
          "histogram2d": [
           {
            "colorbar": {
             "outlinewidth": 0,
             "ticks": ""
            },
            "colorscale": [
             [
              0,
              "#0d0887"
             ],
             [
              0.1111111111111111,
              "#46039f"
             ],
             [
              0.2222222222222222,
              "#7201a8"
             ],
             [
              0.3333333333333333,
              "#9c179e"
             ],
             [
              0.4444444444444444,
              "#bd3786"
             ],
             [
              0.5555555555555556,
              "#d8576b"
             ],
             [
              0.6666666666666666,
              "#ed7953"
             ],
             [
              0.7777777777777778,
              "#fb9f3a"
             ],
             [
              0.8888888888888888,
              "#fdca26"
             ],
             [
              1,
              "#f0f921"
             ]
            ],
            "type": "histogram2d"
           }
          ],
          "histogram2dcontour": [
           {
            "colorbar": {
             "outlinewidth": 0,
             "ticks": ""
            },
            "colorscale": [
             [
              0,
              "#0d0887"
             ],
             [
              0.1111111111111111,
              "#46039f"
             ],
             [
              0.2222222222222222,
              "#7201a8"
             ],
             [
              0.3333333333333333,
              "#9c179e"
             ],
             [
              0.4444444444444444,
              "#bd3786"
             ],
             [
              0.5555555555555556,
              "#d8576b"
             ],
             [
              0.6666666666666666,
              "#ed7953"
             ],
             [
              0.7777777777777778,
              "#fb9f3a"
             ],
             [
              0.8888888888888888,
              "#fdca26"
             ],
             [
              1,
              "#f0f921"
             ]
            ],
            "type": "histogram2dcontour"
           }
          ],
          "mesh3d": [
           {
            "colorbar": {
             "outlinewidth": 0,
             "ticks": ""
            },
            "type": "mesh3d"
           }
          ],
          "parcoords": [
           {
            "line": {
             "colorbar": {
              "outlinewidth": 0,
              "ticks": ""
             }
            },
            "type": "parcoords"
           }
          ],
          "pie": [
           {
            "automargin": true,
            "type": "pie"
           }
          ],
          "scatter": [
           {
            "marker": {
             "line": {
              "color": "#283442"
             }
            },
            "type": "scatter"
           }
          ],
          "scatter3d": [
           {
            "line": {
             "colorbar": {
              "outlinewidth": 0,
              "ticks": ""
             }
            },
            "marker": {
             "colorbar": {
              "outlinewidth": 0,
              "ticks": ""
             }
            },
            "type": "scatter3d"
           }
          ],
          "scattercarpet": [
           {
            "marker": {
             "colorbar": {
              "outlinewidth": 0,
              "ticks": ""
             }
            },
            "type": "scattercarpet"
           }
          ],
          "scattergeo": [
           {
            "marker": {
             "colorbar": {
              "outlinewidth": 0,
              "ticks": ""
             }
            },
            "type": "scattergeo"
           }
          ],
          "scattergl": [
           {
            "marker": {
             "line": {
              "color": "#283442"
             }
            },
            "type": "scattergl"
           }
          ],
          "scattermap": [
           {
            "marker": {
             "colorbar": {
              "outlinewidth": 0,
              "ticks": ""
             }
            },
            "type": "scattermap"
           }
          ],
          "scattermapbox": [
           {
            "marker": {
             "colorbar": {
              "outlinewidth": 0,
              "ticks": ""
             }
            },
            "type": "scattermapbox"
           }
          ],
          "scatterpolar": [
           {
            "marker": {
             "colorbar": {
              "outlinewidth": 0,
              "ticks": ""
             }
            },
            "type": "scatterpolar"
           }
          ],
          "scatterpolargl": [
           {
            "marker": {
             "colorbar": {
              "outlinewidth": 0,
              "ticks": ""
             }
            },
            "type": "scatterpolargl"
           }
          ],
          "scatterternary": [
           {
            "marker": {
             "colorbar": {
              "outlinewidth": 0,
              "ticks": ""
             }
            },
            "type": "scatterternary"
           }
          ],
          "surface": [
           {
            "colorbar": {
             "outlinewidth": 0,
             "ticks": ""
            },
            "colorscale": [
             [
              0,
              "#0d0887"
             ],
             [
              0.1111111111111111,
              "#46039f"
             ],
             [
              0.2222222222222222,
              "#7201a8"
             ],
             [
              0.3333333333333333,
              "#9c179e"
             ],
             [
              0.4444444444444444,
              "#bd3786"
             ],
             [
              0.5555555555555556,
              "#d8576b"
             ],
             [
              0.6666666666666666,
              "#ed7953"
             ],
             [
              0.7777777777777778,
              "#fb9f3a"
             ],
             [
              0.8888888888888888,
              "#fdca26"
             ],
             [
              1,
              "#f0f921"
             ]
            ],
            "type": "surface"
           }
          ],
          "table": [
           {
            "cells": {
             "fill": {
              "color": "#506784"
             },
             "line": {
              "color": "rgb(17,17,17)"
             }
            },
            "header": {
             "fill": {
              "color": "#2a3f5f"
             },
             "line": {
              "color": "rgb(17,17,17)"
             }
            },
            "type": "table"
           }
          ]
         },
         "layout": {
          "annotationdefaults": {
           "arrowcolor": "#f2f5fa",
           "arrowhead": 0,
           "arrowwidth": 1
          },
          "autotypenumbers": "strict",
          "coloraxis": {
           "colorbar": {
            "outlinewidth": 0,
            "ticks": ""
           }
          },
          "colorscale": {
           "diverging": [
            [
             0,
             "#8e0152"
            ],
            [
             0.1,
             "#c51b7d"
            ],
            [
             0.2,
             "#de77ae"
            ],
            [
             0.3,
             "#f1b6da"
            ],
            [
             0.4,
             "#fde0ef"
            ],
            [
             0.5,
             "#f7f7f7"
            ],
            [
             0.6,
             "#e6f5d0"
            ],
            [
             0.7,
             "#b8e186"
            ],
            [
             0.8,
             "#7fbc41"
            ],
            [
             0.9,
             "#4d9221"
            ],
            [
             1,
             "#276419"
            ]
           ],
           "sequential": [
            [
             0,
             "#0d0887"
            ],
            [
             0.1111111111111111,
             "#46039f"
            ],
            [
             0.2222222222222222,
             "#7201a8"
            ],
            [
             0.3333333333333333,
             "#9c179e"
            ],
            [
             0.4444444444444444,
             "#bd3786"
            ],
            [
             0.5555555555555556,
             "#d8576b"
            ],
            [
             0.6666666666666666,
             "#ed7953"
            ],
            [
             0.7777777777777778,
             "#fb9f3a"
            ],
            [
             0.8888888888888888,
             "#fdca26"
            ],
            [
             1,
             "#f0f921"
            ]
           ],
           "sequentialminus": [
            [
             0,
             "#0d0887"
            ],
            [
             0.1111111111111111,
             "#46039f"
            ],
            [
             0.2222222222222222,
             "#7201a8"
            ],
            [
             0.3333333333333333,
             "#9c179e"
            ],
            [
             0.4444444444444444,
             "#bd3786"
            ],
            [
             0.5555555555555556,
             "#d8576b"
            ],
            [
             0.6666666666666666,
             "#ed7953"
            ],
            [
             0.7777777777777778,
             "#fb9f3a"
            ],
            [
             0.8888888888888888,
             "#fdca26"
            ],
            [
             1,
             "#f0f921"
            ]
           ]
          },
          "colorway": [
           "#636efa",
           "#EF553B",
           "#00cc96",
           "#ab63fa",
           "#FFA15A",
           "#19d3f3",
           "#FF6692",
           "#B6E880",
           "#FF97FF",
           "#FECB52"
          ],
          "font": {
           "color": "#f2f5fa"
          },
          "geo": {
           "bgcolor": "rgb(17,17,17)",
           "lakecolor": "rgb(17,17,17)",
           "landcolor": "rgb(17,17,17)",
           "showlakes": true,
           "showland": true,
           "subunitcolor": "#506784"
          },
          "hoverlabel": {
           "align": "left"
          },
          "hovermode": "closest",
          "mapbox": {
           "style": "dark"
          },
          "paper_bgcolor": "rgb(17,17,17)",
          "plot_bgcolor": "rgb(17,17,17)",
          "polar": {
           "angularaxis": {
            "gridcolor": "#506784",
            "linecolor": "#506784",
            "ticks": ""
           },
           "bgcolor": "rgb(17,17,17)",
           "radialaxis": {
            "gridcolor": "#506784",
            "linecolor": "#506784",
            "ticks": ""
           }
          },
          "scene": {
           "xaxis": {
            "backgroundcolor": "rgb(17,17,17)",
            "gridcolor": "#506784",
            "gridwidth": 2,
            "linecolor": "#506784",
            "showbackground": true,
            "ticks": "",
            "zerolinecolor": "#C8D4E3"
           },
           "yaxis": {
            "backgroundcolor": "rgb(17,17,17)",
            "gridcolor": "#506784",
            "gridwidth": 2,
            "linecolor": "#506784",
            "showbackground": true,
            "ticks": "",
            "zerolinecolor": "#C8D4E3"
           },
           "zaxis": {
            "backgroundcolor": "rgb(17,17,17)",
            "gridcolor": "#506784",
            "gridwidth": 2,
            "linecolor": "#506784",
            "showbackground": true,
            "ticks": "",
            "zerolinecolor": "#C8D4E3"
           }
          },
          "shapedefaults": {
           "line": {
            "color": "#f2f5fa"
           }
          },
          "sliderdefaults": {
           "bgcolor": "#C8D4E3",
           "bordercolor": "rgb(17,17,17)",
           "borderwidth": 1,
           "tickwidth": 0
          },
          "ternary": {
           "aaxis": {
            "gridcolor": "#506784",
            "linecolor": "#506784",
            "ticks": ""
           },
           "baxis": {
            "gridcolor": "#506784",
            "linecolor": "#506784",
            "ticks": ""
           },
           "bgcolor": "rgb(17,17,17)",
           "caxis": {
            "gridcolor": "#506784",
            "linecolor": "#506784",
            "ticks": ""
           }
          },
          "title": {
           "x": 0.05
          },
          "updatemenudefaults": {
           "bgcolor": "#506784",
           "borderwidth": 0
          },
          "xaxis": {
           "automargin": true,
           "gridcolor": "#283442",
           "linecolor": "#506784",
           "ticks": "",
           "title": {
            "standoff": 15
           },
           "zerolinecolor": "#283442",
           "zerolinewidth": 2
          },
          "yaxis": {
           "automargin": true,
           "gridcolor": "#283442",
           "linecolor": "#506784",
           "ticks": "",
           "title": {
            "standoff": 15
           },
           "zerolinecolor": "#283442",
           "zerolinewidth": 2
          }
         }
        },
        "title": {
         "text": "Bandwidth Scaling Analysis: Full Blob vs PeerDAS (20-72 blobs)"
        },
        "width": 1600,
        "xaxis": {
         "anchor": "y",
         "domain": [
          0,
          0.44
         ],
         "range": [
          20,
          73
         ],
         "title": {
          "text": "Number of Blobs per Block"
         }
        },
        "xaxis2": {
         "anchor": "y2",
         "domain": [
          0.56,
          1
         ],
         "range": [
          20,
          73
         ],
         "title": {
          "text": "Number of Blobs per Block"
         }
        },
        "xaxis3": {
         "anchor": "y3",
         "domain": [
          0,
          0.44
         ],
         "range": [
          20,
          73
         ],
         "title": {
          "text": "Number of Blobs per Block"
         }
        },
        "xaxis4": {
         "anchor": "y4",
         "domain": [
          0.56,
          1
         ],
         "range": [
          20,
          73
         ],
         "title": {
          "text": "Number of Blobs per Block"
         }
        },
        "yaxis": {
         "anchor": "x",
         "domain": [
          0.56,
          1
         ],
         "matches": "y",
         "title": {
          "text": "Bandwidth Required (Mbps)"
         }
        },
        "yaxis2": {
         "anchor": "x2",
         "domain": [
          0.56,
          1
         ],
         "matches": "y",
         "title": {
          "text": "Bandwidth Required (Mbps)"
         }
        },
        "yaxis3": {
         "anchor": "x3",
         "domain": [
          0,
          0.44
         ],
         "matches": "y",
         "title": {
          "text": "Bandwidth Required (Mbps)"
         }
        },
        "yaxis4": {
         "anchor": "x4",
         "domain": [
          0,
          0.44
         ],
         "matches": "y",
         "title": {
          "text": "Bandwidth Required (Mbps)"
         }
        }
       }
      }
     },
     "metadata": {},
     "output_type": "display_data"
    }
   ],
   "source": [
    "# 5. Bandwidth Scaling Analysis (Extended to 72 blobs)\n",
    "blob_range = np.arange(1, 73)\n",
    "bandwidth_scaling = []\n",
    "\n",
    "# Define PeerDAS custody counts to include\n",
    "custody_counts = [4, 16, 32]  # Key PeerDAS scenarios\n",
    "\n",
    "# Calculate for Full Blob and PeerDAS scenarios\n",
    "for blobs in blob_range:\n",
    "    # Full Blob propagation\n",
    "    reqs_full = calculate_bandwidth_requirements(blobs, blobs, \"balanced\", use_peerdas=False)\n",
    "    bandwidth_scaling.append({\n",
    "        \"blobs\": blobs,\n",
    "        \"method\": \"Full Blob\",\n",
    "        \"custody_count\": None,\n",
    "        \"avg_download_mbps\": reqs_full[\"avg_download_mbps\"],\n",
    "        \"avg_upload_mbps\": reqs_full[\"avg_upload_mbps\"],\n",
    "        \"peak_download_mbps\": reqs_full[\"peak_download_mbps\"],\n",
    "        \"peak_upload_mbps\": reqs_full[\"peak_upload_mbps\"],\n",
    "        \"avg_bandwidth_total_mbps\": reqs_full[\"avg_bandwidth_total_mbps\"]\n",
    "    })\n",
    "    \n",
    "    # PeerDAS propagation for different custody counts\n",
    "    for custody in custody_counts:\n",
    "        reqs_peerdas = calculate_bandwidth_requirements(\n",
    "            blobs, blobs, \"balanced\", \n",
    "            custody_count=custody, use_peerdas=True\n",
    "        )\n",
    "        bandwidth_scaling.append({\n",
    "            \"blobs\": blobs,\n",
    "            \"method\": f\"PeerDAS-{custody}\",\n",
    "            \"custody_count\": custody,\n",
    "            \"avg_download_mbps\": reqs_peerdas[\"avg_download_mbps\"],\n",
    "            \"avg_upload_mbps\": reqs_peerdas[\"avg_upload_mbps\"],\n",
    "            \"peak_download_mbps\": reqs_peerdas[\"peak_download_mbps\"],\n",
    "            \"peak_upload_mbps\": reqs_peerdas[\"peak_upload_mbps\"],\n",
    "            \"avg_bandwidth_total_mbps\": reqs_peerdas[\"avg_bandwidth_total_mbps\"]\n",
    "        })\n",
    "\n",
    "df_scaling = pd.DataFrame(bandwidth_scaling)\n",
    "\n",
    "# Create 2x2 subplots: rows for download/upload, columns for average/peak\n",
    "fig = make_subplots(\n",
    "    rows=2, cols=2,\n",
    "    subplot_titles=('Average Download', 'Peak Download', \n",
    "                    'Average Upload', 'Peak Upload'),\n",
    "    horizontal_spacing=0.12,\n",
    "    vertical_spacing=0.12\n",
    ")\n",
    "\n",
    "# Define colors for different methods\n",
    "method_colors = {\n",
    "    'Full Blob': 'lightblue',\n",
    "    'PeerDAS-4': 'green',\n",
    "    'PeerDAS-16': 'blue',\n",
    "    'PeerDAS-32': 'red'\n",
    "}\n",
    "\n",
    "# Plot each method in all four subplots\n",
    "for method in ['Full Blob'] + [f'PeerDAS-{c}' for c in custody_counts]:\n",
    "    method_data = df_scaling[df_scaling['method'] == method]\n",
    "    \n",
    "    # Average Download (top-left)\n",
    "    fig.add_trace(go.Scatter(\n",
    "        x=method_data['blobs'],\n",
    "        y=method_data['avg_download_mbps'],\n",
    "        mode='lines',\n",
    "        name=method,\n",
    "        line=dict(width=3, color=method_colors[method]),\n",
    "        legendgroup=method\n",
    "    ), row=1, col=1)\n",
    "    \n",
    "    # Peak Download (top-right)\n",
    "    fig.add_trace(go.Scatter(\n",
    "        x=method_data['blobs'],\n",
    "        y=method_data['peak_download_mbps'],\n",
    "        mode='lines',\n",
    "        name=method,\n",
    "        line=dict(width=3, color=method_colors[method]),\n",
    "        legendgroup=method,\n",
    "        showlegend=False\n",
    "    ), row=1, col=2)\n",
    "    \n",
    "    # Average Upload (bottom-left)\n",
    "    fig.add_trace(go.Scatter(\n",
    "        x=method_data['blobs'],\n",
    "        y=method_data['avg_upload_mbps'],\n",
    "        mode='lines',\n",
    "        name=method,\n",
    "        line=dict(width=3, color=method_colors[method]),\n",
    "        legendgroup=method,\n",
    "        showlegend=False\n",
    "    ), row=2, col=1)\n",
    "    \n",
    "    # Peak Upload (bottom-right)\n",
    "    fig.add_trace(go.Scatter(\n",
    "        x=method_data['blobs'],\n",
    "        y=method_data['peak_upload_mbps'],\n",
    "        mode='lines',\n",
    "        name=method,\n",
    "        line=dict(width=3, color=method_colors[method]),\n",
    "        legendgroup=method,\n",
    "        showlegend=False\n",
    "    ), row=2, col=2)\n",
    "\n",
    "# Add vertical lines for key scenarios to all subplots\n",
    "for scenario in BLOB_LIMIT_SCENARIOS[::2]:  # Every other scenario to avoid crowding\n",
    "    for row in [1, 2]:\n",
    "        for col in [1, 2]:\n",
    "            fig.add_vline(\n",
    "                x=scenario[\"target\"],\n",
    "                line_dash=\"dot\",\n",
    "                line_color=\"gray\",\n",
    "                opacity=0.3,\n",
    "                row=row, col=col\n",
    "            )\n",
    "\n",
    "# Update axes - using matches='y' to sync y-axes across all subplots\n",
    "fig.update_xaxes(title=\"Number of Blobs per Block\", range=[20, 73])\n",
    "fig.update_yaxes(title=\"Bandwidth Required (Mbps)\", matches='y')\n",
    "\n",
    "fig.update_layout(\n",
    "    title=\"Bandwidth Scaling Analysis: Full Blob vs PeerDAS (20-72 blobs)\",\n",
    "    height=800,\n",
    "    width=1600,\n",
    "    hovermode='x unified'\n",
    ")\n",
    "\n",
    "fig.show()"
   ]
  },
  {
   "cell_type": "markdown",
   "id": "iuxd4ekz2nq",
   "metadata": {},
   "source": [
    "## PeerDAS vs Full Blob Analysis"
   ]
  },
  {
   "cell_type": "code",
   "execution_count": 10,
   "id": "dnth7fvpxb8",
   "metadata": {},
   "outputs": [
    {
     "name": "stdout",
     "output_type": "stream",
     "text": [
      "================================================================================\n",
      "PEERDAS VS FULL BLOB: COMPARATIVE ANALYSIS\n",
      "Using 3 network hops (1.33s per hop)\n",
      "Bandwidth allocation: 80% available for blob propagation\n",
      "================================================================================\n",
      "\n",
      "1. MAXIMUM VIABLE BLOB COUNTS BY NODE TYPE (Peak Average Load)\n",
      "------------------------------------------------------------\n",
      "Analysis based on peak average requirements (2x target blobs) for realistic peak scenarios\n",
      "Note: Only 19% bandwidth reserved for other operations\n",
      "\n",
      "EIP-7870 Official Node Types:\n",
      "Node Type                      Full   PeerDAS-4  PeerDAS-8  PeerDAS-16  PeerDAS-32 \n",
      "----------------------------------------------------------------------------------\n",
      "Full Node (50/15)              3      60         40         20          10         \n",
      "Attester (50/25)               8      60         60         30          16         \n",
      "Local Block Builder (100/50)   16     60         60         60          30         \n",
      "\n",
      "Additional Connection Types (for reference):\n",
      "----------------------------------------------------------------------------------\n",
      "Home Cable (200/20)            6      60         48         24          12         \n",
      "Home Fiber (300/100)           30     60         60         60          60         \n",
      "Institutional (1000/1000)      60     60         60         60          60         \n",
      "\n",
      "\n",
      "2. SCALING BENEFITS WITH PEERDAS\n",
      "------------------------------------------------------------\n",
      "How PeerDAS enables higher blob counts for EIP-7870 node types:\n",
      "\n",
      "Full Node (50/15 Mbps):\n",
      "  Full Blob capacity: 3 target blobs\n",
      "  Best PeerDAS option: PeerDAS-4 → 60 blobs (+57, 1900% increase)\n",
      "  PeerDAS scaling options:\n",
      "    PeerDAS- 4: 60 blobs\n",
      "    PeerDAS- 8: 40 blobs\n",
      "    PeerDAS-16: 20 blobs\n",
      "    PeerDAS-32: 10 blobs\n",
      "\n",
      "Attester (50/25 Mbps):\n",
      "  Full Blob capacity: 8 target blobs\n",
      "  Best PeerDAS option: PeerDAS-4 → 60 blobs (+52, 650% increase)\n",
      "  PeerDAS scaling options:\n",
      "    PeerDAS- 4: 60 blobs\n",
      "    PeerDAS- 8: 60 blobs\n",
      "    PeerDAS-16: 30 blobs\n",
      "    PeerDAS-32: 16 blobs\n",
      "\n",
      "Local Block Builder (100/50 Mbps):\n",
      "  Full Blob capacity: 16 target blobs\n",
      "  Best PeerDAS option: PeerDAS-4 → 60 blobs (+44, 275% increase)\n",
      "  PeerDAS scaling options:\n",
      "    PeerDAS- 4: 60 blobs\n",
      "    PeerDAS- 8: 60 blobs\n",
      "    PeerDAS-16: 60 blobs\n",
      "    PeerDAS-32: 30 blobs\n",
      "\n",
      "\n",
      "3. BANDWIDTH REQUIREMENTS ANALYSIS\n",
      "------------------------------------------------------------\n",
      "Peak average bandwidth requirements for key scenarios:\n",
      "\n",
      "Current (Pectra) (6/9 blobs):\n",
      "  Full Blob:  27.0 Mbps total (↓13.5 ↑13.5)\n",
      "  PeerDAS- 4: 1.7 Mbps total (↓0.8 ↑0.8) - 94% reduction\n",
      "  PeerDAS-16: 6.8 Mbps total (↓3.4 ↑3.4) - 75% reduction\n",
      "  PeerDAS-32: 13.5 Mbps total (↓6.8 ↑6.8) - 50% reduction\n",
      "\n",
      "Progressive (16/24 blobs):\n",
      "  Full Blob:  72.0 Mbps total (↓36.0 ↑36.0)\n",
      "  PeerDAS- 4: 4.5 Mbps total (↓2.2 ↑2.2) - 94% reduction\n",
      "  PeerDAS-16: 18.0 Mbps total (↓9.0 ↑9.0) - 75% reduction\n",
      "  PeerDAS-32: 36.0 Mbps total (↓18.0 ↑18.0) - 50% reduction\n",
      "\n",
      "High Scale (30/45 blobs):\n",
      "  Full Blob:  135.0 Mbps total (↓67.5 ↑67.5)\n",
      "  PeerDAS- 4: 8.4 Mbps total (↓4.2 ↑4.2) - 94% reduction\n",
      "  PeerDAS-16: 33.8 Mbps total (↓16.9 ↑16.9) - 75% reduction\n",
      "  PeerDAS-32: 67.5 Mbps total (↓33.8 ↑33.8) - 50% reduction\n",
      "\n",
      "Maximum (60/90 blobs):\n",
      "  Full Blob:  270.0 Mbps total (↓135.0 ↑135.0)\n",
      "  PeerDAS- 4: 16.9 Mbps total (↓8.4 ↑8.4) - 94% reduction\n",
      "  PeerDAS-16: 67.5 Mbps total (↓33.8 ↑33.8) - 75% reduction\n",
      "  PeerDAS-32: 135.0 Mbps total (↓67.5 ↑67.5) - 50% reduction\n",
      "\n"
     ]
    }
   ],
   "source": [
    "# Comprehensive PeerDAS vs Full Blob Comparison\n",
    "\n",
    "print(\"=\" * 80)\n",
    "print(\"PEERDAS VS FULL BLOB: COMPARATIVE ANALYSIS\")\n",
    "print(f\"Using {NETWORK_HOPS} network hops ({SECONDS_PER_HOP:.2f}s per hop)\")\n",
    "print(f\"Bandwidth allocation: {int(BANDWIDTH_AVAILABLE_FACTOR*100)}% available for blob propagation\")\n",
    "print(\"=\" * 80)\n",
    "\n",
    "# 1. Node Type Compatibility Comparison (Using Peak Average Requirements)\n",
    "print(\"\\n1. MAXIMUM VIABLE BLOB COUNTS BY NODE TYPE (Peak Average Load)\")\n",
    "print(\"-\" * 60)\n",
    "print(\"Analysis based on peak average requirements (2x target blobs) for realistic peak scenarios\")\n",
    "print(f\"Note: Only {int((1-BANDWIDTH_AVAILABLE_FACTOR)*100)}% bandwidth reserved for other operations\\n\")\n",
    "\n",
    "viability_comparison = []\n",
    "for node_type, bandwidth in ALL_CONNECTION_TYPES.items():\n",
    "    # Find maximum viable blobs for Full Blob\n",
    "    max_full = 0\n",
    "    for scenario in BLOB_LIMIT_SCENARIOS:\n",
    "        reqs = calculate_bandwidth_requirements(\n",
    "            scenario[\"target\"], scenario[\"max\"], \"balanced\", use_peerdas=False\n",
    "        )\n",
    "        # Use peak average bandwidth requirements (2x target blobs)\n",
    "        if check_node_compatibility(reqs[\"peak_download\"], reqs[\"peak_upload\"], bandwidth):\n",
    "            max_full = scenario[\"target\"]  # Use target instead of max\n",
    "    \n",
    "    # Find maximum viable blobs for PeerDAS scenarios\n",
    "    max_das = {}\n",
    "    for custody in [4, 8, 16, 32]:\n",
    "        max_blobs = 0\n",
    "        for scenario in BLOB_LIMIT_SCENARIOS:\n",
    "            reqs = calculate_bandwidth_requirements(\n",
    "                scenario[\"target\"], scenario[\"max\"], \"balanced\",\n",
    "                custody_count=custody, use_peerdas=True\n",
    "            )\n",
    "            # Use peak average bandwidth requirements\n",
    "            if check_node_compatibility(reqs[\"peak_download\"], reqs[\"peak_upload\"], bandwidth):\n",
    "                max_blobs = scenario[\"target\"]  # Use target instead of max\n",
    "        max_das[custody] = max_blobs\n",
    "    \n",
    "    viability_comparison.append({\n",
    "        \"node_type\": node_type,\n",
    "        \"full_blob\": max_full,\n",
    "        **{f\"peerdas_{k}\": v for k, v in max_das.items()}\n",
    "    })\n",
    "\n",
    "df_viability = pd.DataFrame(viability_comparison)\n",
    "\n",
    "# Display EIP-7870 nodes first, then additional types\n",
    "print(\"EIP-7870 Official Node Types:\")\n",
    "print(f\"{'Node Type':<30} {'Full':<6} {'PeerDAS-4':<10} {'PeerDAS-8':<10} {'PeerDAS-16':<11} {'PeerDAS-32':<11}\")\n",
    "print(\"-\" * 82)\n",
    "for _, row in df_viability.iterrows():\n",
    "    if row['node_type'] in EIP_7870_BANDWIDTH_LIMITS:\n",
    "        # Remove eip7870_ prefix for display and show bandwidth\n",
    "        display_name = row['node_type'].replace('eip7870_', '').replace('_', ' ').title()\n",
    "        bw = EIP_7870_BANDWIDTH_LIMITS[row['node_type']]\n",
    "        down_mbps = int((bw[\"down\"] * 8) / (1024 * 1024))\n",
    "        up_mbps = int((bw[\"up\"] * 8) / (1024 * 1024))\n",
    "        full_name = f\"{display_name} ({down_mbps}/{up_mbps})\"\n",
    "        print(f\"{full_name:<30} {row['full_blob']:<6} {row['peerdas_4']:<10} \"\n",
    "              f\"{row['peerdas_8']:<10} {row['peerdas_16']:<11} {row['peerdas_32']:<11}\")\n",
    "\n",
    "print(\"\\nAdditional Connection Types (for reference):\")\n",
    "print(\"-\" * 82)\n",
    "for _, row in df_viability.iterrows():\n",
    "    if row['node_type'] in ADDITIONAL_CONNECTION_TYPES:\n",
    "        display_name = row['node_type'].replace('_', ' ').title()\n",
    "        bw = ADDITIONAL_CONNECTION_TYPES[row['node_type']]\n",
    "        down_mbps = int((bw[\"down\"] * 8) / (1024 * 1024))\n",
    "        up_mbps = int((bw[\"up\"] * 8) / (1024 * 1024))\n",
    "        full_name = f\"{display_name} ({down_mbps}/{up_mbps})\"\n",
    "        print(f\"{full_name:<30} {row['full_blob']:<6} {row['peerdas_4']:<10} \"\n",
    "              f\"{row['peerdas_8']:<10} {row['peerdas_16']:<11} {row['peerdas_32']:<11}\")\n",
    "\n",
    "# 2. Scaling Enablement Analysis\n",
    "print(\"\\n\\n2. SCALING BENEFITS WITH PEERDAS\")\n",
    "print(\"-\" * 60)\n",
    "print(\"How PeerDAS enables higher blob counts for EIP-7870 node types:\\n\")\n",
    "\n",
    "for node_type in [\"eip7870_full_node\", \"eip7870_attester\", \"eip7870_local_block_builder\"]:\n",
    "    node_data = df_viability[df_viability['node_type'] == node_type].iloc[0]\n",
    "    full_max = node_data['full_blob']\n",
    "    \n",
    "    # Get bandwidth for display\n",
    "    bw = EIP_7870_BANDWIDTH_LIMITS[node_type]\n",
    "    down_mbps = int((bw[\"down\"] * 8) / (1024 * 1024))\n",
    "    up_mbps = int((bw[\"up\"] * 8) / (1024 * 1024))\n",
    "    \n",
    "    # Remove prefix for display\n",
    "    display_name = node_type.replace('eip7870_', '').replace('_', ' ').title()\n",
    "    print(f\"{display_name} ({down_mbps}/{up_mbps} Mbps):\")\n",
    "    print(f\"  Full Blob capacity: {full_max} target blobs\")\n",
    "    \n",
    "    # Show best improvements only\n",
    "    best_improvement = 0\n",
    "    best_custody = None\n",
    "    for custody in [4, 8, 16, 32]:\n",
    "        peerdas_max = node_data[f'peerdas_{custody}']\n",
    "        if peerdas_max > full_max:\n",
    "            improvement = peerdas_max - full_max\n",
    "            if improvement > best_improvement:\n",
    "                best_improvement = improvement\n",
    "                best_custody = custody\n",
    "    \n",
    "    if best_custody:\n",
    "        best_max = node_data[f'peerdas_{best_custody}']\n",
    "        improvement_pct = ((best_max - full_max) / full_max) * 100 if full_max > 0 else float('inf')\n",
    "        print(f\"  Best PeerDAS option: PeerDAS-{best_custody} → {best_max} blobs (+{best_improvement}, {improvement_pct:.0f}% increase)\")\n",
    "        \n",
    "        # Show the progression\n",
    "        print(f\"  PeerDAS scaling options:\")\n",
    "        for custody in [4, 8, 16, 32]:\n",
    "            peerdas_max = node_data[f'peerdas_{custody}']\n",
    "            if peerdas_max >= full_max:\n",
    "                print(f\"    PeerDAS-{custody:2d}: {peerdas_max} blobs\")\n",
    "    else:\n",
    "        print(f\"  PeerDAS provides no benefit (limited by other factors)\")\n",
    "    print()\n",
    "\n",
    "# 3. Bandwidth Requirements Analysis\n",
    "print(\"\\n3. BANDWIDTH REQUIREMENTS ANALYSIS\")\n",
    "print(\"-\" * 60)\n",
    "print(\"Peak average bandwidth requirements for key scenarios:\\n\")\n",
    "\n",
    "key_scenarios = [\"Current (Pectra)\", \"Progressive\", \"High Scale\", \"Maximum\"]\n",
    "for scenario_name in key_scenarios:\n",
    "    scenario = next(s for s in BLOB_LIMIT_SCENARIOS if s[\"name\"] == scenario_name)\n",
    "    \n",
    "    print(f\"{scenario_name} ({scenario['target']}/{scenario['max']} blobs):\")\n",
    "    \n",
    "    # Full blob\n",
    "    full_reqs = calculate_bandwidth_requirements(\n",
    "        scenario[\"target\"], scenario[\"max\"], \"balanced\", use_peerdas=False\n",
    "    )\n",
    "    peak_total = full_reqs['peak_download_mbps'] + full_reqs['peak_upload_mbps']\n",
    "    print(f\"  Full Blob:  {peak_total:.1f} Mbps total (↓{full_reqs['peak_download_mbps']:.1f} ↑{full_reqs['peak_upload_mbps']:.1f})\")\n",
    "    \n",
    "    # PeerDAS variants - show key custody levels\n",
    "    for custody in [4, 16, 32]:\n",
    "        peerdas_reqs = calculate_bandwidth_requirements(\n",
    "            scenario[\"target\"], scenario[\"max\"], \"balanced\",\n",
    "            custody_count=custody, use_peerdas=True\n",
    "        )\n",
    "        peerdas_peak_total = peerdas_reqs['peak_download_mbps'] + peerdas_reqs['peak_upload_mbps']\n",
    "        reduction = (1 - peerdas_peak_total / peak_total) * 100\n",
    "        print(f\"  PeerDAS-{custody:2d}: {peerdas_peak_total:.1f} Mbps total (↓{peerdas_reqs['peak_download_mbps']:.1f} ↑{peerdas_reqs['peak_upload_mbps']:.1f}) - {reduction:.0f}% reduction\")\n",
    "    print()"
   ]
  },
  {
   "cell_type": "markdown",
   "id": "summary",
   "metadata": {},
   "source": [
    "## Summary and Recommendations"
   ]
  },
  {
   "cell_type": "code",
   "execution_count": 11,
   "id": "summary-table",
   "metadata": {},
   "outputs": [
    {
     "name": "stdout",
     "output_type": "stream",
     "text": [
      "\n",
      "================================================================================\n",
      "KEY FINDINGS AND IMPLEMENTATION CONSIDERATIONS\n",
      "================================================================================\n",
      "\n",
      "1. EIP-7870 NODE TYPE SUITABILITY:\n",
      "--------------------------------------------------\n",
      "\n",
      "Full Node (50/15 Mbps):\n",
      "  ✗ Cannot handle Pectra peak loads - requires PeerDAS\n",
      "  Maximum target blob capacity: 3 blobs\n",
      "  Assessment: Limited - May require PeerDAS for current operations\n",
      "\n",
      "Attester (50/25 Mbps):\n",
      "  ✓ Supports current Pectra (6/9 blobs) under peak conditions\n",
      "  Maximum target blob capacity: 8 blobs\n",
      "  Assessment: Adequate - Suitable for current and near-term scenarios\n",
      "\n",
      "Local Block Builder (100/50 Mbps):\n",
      "  ✓ Supports current Pectra (6/9 blobs) under peak conditions\n",
      "  Maximum target blob capacity: 16 blobs\n",
      "  Assessment: Good - Supports progressive scaling scenarios\n",
      "\n",
      "\n",
      "2. PEERDAS ADOPTION BENEFITS:\n",
      "--------------------------------------------------\n",
      "\n",
      "Progressive scenario (16/24 blobs) bandwidth reduction:\n",
      "  PeerDAS-4 (3.1% custody): 94% bandwidth reduction\n",
      "  PeerDAS-16 (12.5% custody): 75% bandwidth reduction\n",
      "  PeerDAS-32 (25% custody): 50% bandwidth reduction\n",
      "\n",
      "Node type enablement with PeerDAS-16:\n",
      "  Full Node: +17 target blobs capacity increase\n",
      "  Attester: +22 target blobs capacity increase\n",
      "  Local Block Builder: +44 target blobs capacity increase\n",
      "\n",
      "\n",
      "3. NETWORK ARCHITECTURE CONSIDERATIONS:\n",
      "--------------------------------------------------\n",
      "\n",
      "Current modeling assumptions:\n",
      "  • 3-hop propagation model (1.33s per hop)\n",
      "  • 80% bandwidth allocated to blob data\n",
      "  • 50% gossip protocol overhead\n",
      "  • 2.0x peak load factor for network congestion\n",
      "\n",
      "Critical bottlenecks:\n",
      "  • Download bandwidth is primary constraint\n",
      "  • Peak scenarios critical for network stability\n",
      "  • EIP-7870 attester nodes have better upload capacity than full nodes\n",
      "\n",
      "\n",
      "4. DEPLOYMENT RECOMMENDATIONS:\n",
      "--------------------------------------------------\n",
      "\n",
      "Phased adoption strategy:\n",
      "  Phase 1: Deploy current Pectra (6/9 blobs) with existing infrastructure\n",
      "  Phase 2: Implement PeerDAS-16 to enable progressive scaling (16/24 blobs)\n",
      "  Phase 3: Consider higher blob counts (30+ blobs) for specialized node operators\n",
      "\n",
      "Node operator guidance:\n",
      "  • EIP-7870 Local Block Builder: Best positioned for high blob counts\n",
      "  • EIP-7870 Attester: Good balance of capability and requirements\n",
      "  • EIP-7870 Full Node: May benefit from PeerDAS for future scaling\n",
      "\n",
      "PeerDAS configuration recommendations:\n",
      "  • PeerDAS-16: Optimal balance of efficiency and network resilience\n",
      "  • PeerDAS-4: For bandwidth-constrained environments only\n",
      "  • PeerDAS-32: For high-capacity nodes in data-heavy scenarios\n"
     ]
    }
   ],
   "source": [
    "# Key Findings and Implementation Considerations\n",
    "\n",
    "print(\"\\n\" + \"=\" * 80)\n",
    "print(\"KEY FINDINGS AND IMPLEMENTATION CONSIDERATIONS\")\n",
    "print(\"=\" * 80)\n",
    "\n",
    "print(\"\\n1. EIP-7870 NODE TYPE SUITABILITY:\")\n",
    "print(\"-\" * 50)\n",
    "\n",
    "# Analyze each EIP-7870 node type\n",
    "for node_type in [\"eip7870_full_node\", \"eip7870_attester\", \"eip7870_local_block_builder\"]:\n",
    "    bw = EIP_7870_BANDWIDTH_LIMITS[node_type]\n",
    "    down_mbps = int((bw[\"down\"] * 8) / (1024 * 1024))\n",
    "    up_mbps = int((bw[\"up\"] * 8) / (1024 * 1024))\n",
    "    display_name = node_type.replace('eip7870_', '').replace('_', ' ').title()\n",
    "    \n",
    "    # Check Pectra compatibility\n",
    "    pectra_reqs = calculate_bandwidth_requirements(6, 9, \"balanced\", use_peerdas=False)\n",
    "    peak_compatible = check_node_compatibility(pectra_reqs[\"peak_download\"], pectra_reqs[\"peak_upload\"], bw)\n",
    "    \n",
    "    # Find max capacity\n",
    "    max_target = 0\n",
    "    for scenario in BLOB_LIMIT_SCENARIOS:\n",
    "        reqs = calculate_bandwidth_requirements(scenario[\"target\"], scenario[\"max\"], \"balanced\", use_peerdas=False)\n",
    "        if check_node_compatibility(reqs[\"peak_download\"], reqs[\"peak_upload\"], bw):\n",
    "            max_target = scenario[\"target\"]\n",
    "    \n",
    "    print(f\"\\n{display_name} ({down_mbps}/{up_mbps} Mbps):\")\n",
    "    if peak_compatible:\n",
    "        print(f\"  ✓ Supports current Pectra (6/9 blobs) under peak conditions\")\n",
    "    else:\n",
    "        print(f\"  ✗ Cannot handle Pectra peak loads - requires PeerDAS\")\n",
    "    \n",
    "    print(f\"  Maximum target blob capacity: {max_target} blobs\")\n",
    "    \n",
    "    if max_target >= 30:\n",
    "        print(f\"  Assessment: Excellent - Ready for high-scale blockchain scenarios\")\n",
    "    elif max_target >= 16:\n",
    "        print(f\"  Assessment: Good - Supports progressive scaling scenarios\")\n",
    "    elif max_target >= 6:\n",
    "        print(f\"  Assessment: Adequate - Suitable for current and near-term scenarios\")\n",
    "    else:\n",
    "        print(f\"  Assessment: Limited - May require PeerDAS for current operations\")\n",
    "\n",
    "print(f\"\\n\\n2. PEERDAS ADOPTION BENEFITS:\")\n",
    "print(\"-\" * 50)\n",
    "\n",
    "# Show PeerDAS benefits\n",
    "peerdas_scenarios = [\n",
    "    {\"name\": \"PeerDAS-4 (3.1% custody)\", \"custody\": 4},\n",
    "    {\"name\": \"PeerDAS-16 (12.5% custody)\", \"custody\": 16},\n",
    "    {\"name\": \"PeerDAS-32 (25% custody)\", \"custody\": 32}\n",
    "]\n",
    "\n",
    "progressive_reqs = calculate_bandwidth_requirements(16, 24, \"balanced\", use_peerdas=False)\n",
    "progressive_total = progressive_reqs['peak_download_mbps'] + progressive_reqs['peak_upload_mbps']\n",
    "\n",
    "print(f\"\\nProgressive scenario (16/24 blobs) bandwidth reduction:\")\n",
    "for scenario in peerdas_scenarios:\n",
    "    peerdas_reqs = calculate_bandwidth_requirements(16, 24, \"balanced\", custody_count=scenario['custody'], use_peerdas=True)\n",
    "    peerdas_total = peerdas_reqs['peak_download_mbps'] + peerdas_reqs['peak_upload_mbps']\n",
    "    reduction = (1 - peerdas_total / progressive_total) * 100\n",
    "    \n",
    "    print(f\"  {scenario['name']}: {reduction:.0f}% bandwidth reduction\")\n",
    "\n",
    "print(f\"\\nNode type enablement with PeerDAS-16:\")\n",
    "for node_type in [\"eip7870_full_node\", \"eip7870_attester\", \"eip7870_local_block_builder\"]:\n",
    "    display_name = node_type.replace('eip7870_', '').replace('_', ' ').title()\n",
    "    bw = EIP_7870_BANDWIDTH_LIMITS[node_type]\n",
    "    \n",
    "    # Find max with PeerDAS-16\n",
    "    max_peerdas = 0\n",
    "    max_full = 0\n",
    "    \n",
    "    for scenario in BLOB_LIMIT_SCENARIOS:\n",
    "        # Full blob\n",
    "        reqs_full = calculate_bandwidth_requirements(scenario[\"target\"], scenario[\"max\"], \"balanced\", use_peerdas=False)\n",
    "        if check_node_compatibility(reqs_full[\"peak_download\"], reqs_full[\"peak_upload\"], bw):\n",
    "            max_full = scenario[\"target\"]\n",
    "        \n",
    "        # PeerDAS-16\n",
    "        reqs_peerdas = calculate_bandwidth_requirements(scenario[\"target\"], scenario[\"max\"], \"balanced\", custody_count=16, use_peerdas=True)\n",
    "        if check_node_compatibility(reqs_peerdas[\"peak_download\"], reqs_peerdas[\"peak_upload\"], bw):\n",
    "            max_peerdas = scenario[\"target\"]\n",
    "    \n",
    "    improvement = max_peerdas - max_full\n",
    "    if improvement > 0:\n",
    "        print(f\"  {display_name}: +{improvement} target blobs capacity increase\")\n",
    "    else:\n",
    "        print(f\"  {display_name}: No additional capacity (already sufficient)\")\n",
    "\n",
    "print(f\"\\n\\n3. NETWORK ARCHITECTURE CONSIDERATIONS:\")\n",
    "print(\"-\" * 50)\n",
    "\n",
    "print(f\"\\nCurrent modeling assumptions:\")\n",
    "print(f\"  • {NETWORK_HOPS}-hop propagation model ({SECONDS_PER_HOP:.2f}s per hop)\")\n",
    "print(f\"  • {int(BANDWIDTH_AVAILABLE_FACTOR*100)}% bandwidth allocated to blob data\")\n",
    "print(f\"  • {int((GOSSIP_OVERHEAD-1)*100)}% gossip protocol overhead\")\n",
    "print(f\"  • {PEAK_FACTOR}x peak load factor for network congestion\")\n",
    "\n",
    "print(f\"\\nCritical bottlenecks:\")\n",
    "# Check which is more limiting - upload or download\n",
    "test_reqs = calculate_bandwidth_requirements(16, 24, \"balanced\", use_peerdas=False)\n",
    "if test_reqs['peak_upload_mbps'] > test_reqs['peak_download_mbps']:\n",
    "    print(f\"  • Upload bandwidth is primary constraint (asymmetric connections)\")\n",
    "else:\n",
    "    print(f\"  • Download bandwidth is primary constraint\")\n",
    "\n",
    "print(f\"  • Peak scenarios critical for network stability\")\n",
    "print(f\"  • EIP-7870 attester nodes have better upload capacity than full nodes\")\n",
    "\n",
    "print(f\"\\n\\n4. DEPLOYMENT RECOMMENDATIONS:\")\n",
    "print(\"-\" * 50)\n",
    "\n",
    "print(f\"\\nPhased adoption strategy:\")\n",
    "print(f\"  Phase 1: Deploy current Pectra (6/9 blobs) with existing infrastructure\")\n",
    "print(f\"  Phase 2: Implement PeerDAS-16 to enable progressive scaling (16/24 blobs)\")\n",
    "print(f\"  Phase 3: Consider higher blob counts (30+ blobs) for specialized node operators\")\n",
    "\n",
    "print(f\"\\nNode operator guidance:\")\n",
    "print(f\"  • EIP-7870 Local Block Builder: Best positioned for high blob counts\")\n",
    "print(f\"  • EIP-7870 Attester: Good balance of capability and requirements\") \n",
    "print(f\"  • EIP-7870 Full Node: May benefit from PeerDAS for future scaling\")\n",
    "\n",
    "print(f\"\\nPeerDAS configuration recommendations:\")\n",
    "print(f\"  • PeerDAS-16: Optimal balance of efficiency and network resilience\")\n",
    "print(f\"  • PeerDAS-4: For bandwidth-constrained environments only\")\n",
    "print(f\"  • PeerDAS-32: For high-capacity nodes in data-heavy scenarios\")"
   ]
  }
 ],
 "metadata": {
  "kernelspec": {
   "display_name": "Python 3 (ipykernel)",
   "language": "python",
   "name": "python3"
  },
  "language_info": {
   "codemirror_mode": {
    "name": "ipython",
    "version": 3
   },
   "file_extension": ".py",
   "mimetype": "text/x-python",
   "name": "python",
   "nbconvert_exporter": "python",
   "pygments_lexer": "ipython3",
   "version": "3.13.7"
  }
 },
 "nbformat": 4,
 "nbformat_minor": 5
}
