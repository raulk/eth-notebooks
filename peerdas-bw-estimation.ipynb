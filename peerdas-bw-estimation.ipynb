{
 "cells": [
  {
   "cell_type": "markdown",
   "id": "header",
   "metadata": {},
   "source": [
    "# PeerDAS + BPO bandwidth estimations\n",
    "\n",
    "This notebook estimates bandwidth requirements for various blob limits and network conditions, using EIP-7870 bandwidth limits as reference, in order to inform optimal BPO parameter setting in the context of EIP-7892 (Blob Parameter Only forks).\n",
    "\n",
    "## Current status\n",
    "\n",
    "This version is just a first LLM-generated flush. It doesn't do a good job at modelling what we want yet. **Only use it as a skeleton.**\n",
    "\n",
    "## TODO\n",
    "\n",
    "**Model parameters:**\n",
    "\n",
    "- Parameterize blob limits starting from Pectra (6/9), all the way up to 64/72 (Fusaka target post BPO), and stretch to 96/128.\n",
    "- EIP-7870 node profiles and up/down bandwidth caps.\n",
    "- Total beacon node count: today (~13k) and 2x today.\n",
    "- Custody / supernode distribution (reference was posted in Scale the Blobs channel, extrapolated from vals.sigp.io).\n",
    "- Time allocated for distribution (1s to 3.5s).\n",
    "- Competing traffic during distribution, in a simple way: reserve bandwidth for the blobpool (see below), block propagation, mempool, etc.\n",
    "- Private/public blob ratio. Start at 20% (today's measurement) and go all the way up to 60% private.\n",
    "- Blobpool: model full replication (today) and sparse blobpool (6.67x reduction over full replication). Compute required bandwidth based on blob limits and assume a steady flux.\n",
    "- Gossipsub partial messages support (effectiveness depends on private/public blob ratio).\n",
    "- Gossipsub duplicate / non-delivery overhead, simplified: can assume 1.5x?\n",
    "- Network inefficiency factor: just a simple multiplier to account for packet loss, latency, etc.\n",
    "- Compute inefficiency factor: add some time to account for compute overhead, processing delays, etc.\n",
    "\n",
    "**Model outputs:**\n",
    "\n",
    "Some core plots include:\n",
    "- Bandwidth requirement per limit, per node type, plotted against their respective caps.\n",
    "- CDF of column propagation per limit, over node types.\n",
    "- Peak load / average load.\n",
    "- ...\n",
    "\n",
    "We'll need these plotted for various scenarios (determined by parameters)."
   ]
  },
  {
   "cell_type": "code",
   "execution_count": 1,
   "id": "imports",
   "metadata": {},
   "outputs": [
    {
     "name": "stdout",
     "output_type": "stream",
     "text": [
      "\u001b[2mResolved \u001b[1m120 packages\u001b[0m \u001b[2min 1ms\u001b[0m\u001b[0m\n",
      "\u001b[2mAudited \u001b[1m114 packages\u001b[0m \u001b[2min 0.78ms\u001b[0m\u001b[0m\n"
     ]
    }
   ],
   "source": [
    "!uv add requests pandas pyarrow plotly kaleido nbformat numpy\n",
    "import pandas as pd\n",
    "import numpy as np\n",
    "import plotly.express as px\n",
    "import plotly.graph_objects as go\n",
    "from plotly.subplots import make_subplots\n",
    "import plotly.io as pio\n",
    "\n",
    "# Set the default theme to a modern dark theme\n",
    "pio.templates.default = \"plotly_dark\""
   ]
  },
  {
   "cell_type": "markdown",
   "id": "eip-constants",
   "metadata": {},
   "source": [
    "## EIP-7870 and EIP-7892 Constants"
   ]
  },
  {
   "cell_type": "code",
   "execution_count": 2,
   "id": "constants",
   "metadata": {},
   "outputs": [],
   "source": [
    "# Current Pectra Constants\n",
    "CURRENT_TARGET_BLOBS_PER_BLOCK = 6\n",
    "CURRENT_MAX_BLOBS_PER_BLOCK = 9\n",
    "BYTES_PER_BLOB = 131072  # 128 KiB\n",
    "BYTES_PER_EXTENDED_BLOB = 262144 # 256 KiB\n",
    "SECONDS_PER_SLOT = 12\n",
    "INTERVALS_PER_SLOT = 3  # Each slot has 3 intervals\n",
    "SECONDS_PER_INTERVAL = SECONDS_PER_SLOT // INTERVALS_PER_SLOT  # 4 seconds\n",
    "\n",
    "# Network propagation constants\n",
    "NETWORK_HOPS = 3  # Typical number of hops for message propagation\n",
    "SECONDS_PER_HOP = SECONDS_PER_INTERVAL / NETWORK_HOPS  # 1.33 seconds per hop\n",
    "\n",
    "# PeerDAS Constants (EIP-7594)\n",
    "NUMBER_OF_COLUMNS = 128  # Total number of columns in the DAS matrix\n",
    "DATA_COLUMN_SIDECAR_SUBNET_COUNT = 128  # Number of data column subnets\n",
    "SAMPLES_PER_SLOT = 16  # Number of columns to sample per slot\n",
    "CUSTODY_REQUIREMENT = 4  # Minimum custody requirement for nodes (out of 128 columns)\n",
    "\n",
    "# PeerDAS Custody Scenarios\n",
    "CUSTODY_SCENARIOS = [\n",
    "    {\"name\": \"Minimum\", \"custody_count\": 4, \"percentage\": 4/128},  # 3.125%\n",
    "    {\"name\": \"Light\", \"custody_count\": 8, \"percentage\": 8/128},  # 6.25%\n",
    "    {\"name\": \"Standard\", \"custody_count\": 16, \"percentage\": 16/128},  # 12.5%\n",
    "    {\"name\": \"Heavy\", \"custody_count\": 32, \"percentage\": 32/128},  # 25%\n",
    "    {\"name\": \"Super\", \"custody_count\": 64, \"percentage\": 64/128},  # 50%\n",
    "    {\"name\": \"Full\", \"custody_count\": 128, \"percentage\": 128/128},  # 100% (current non-DAS behavior)\n",
    "]\n",
    "\n",
    "# EIP-7870 Bandwidth Limits (official specification)\n",
    "# Source: https://eips.ethereum.org/EIPS/eip-7870\n",
    "EIP_7870_BANDWIDTH_LIMITS = {\n",
    "    \"eip7870_full_node\": {\"down\": 50 * 1024 * 1024 / 8, \"up\": 15 * 1024 * 1024 / 8},  # 50/15 Mbps in bytes/second\n",
    "    \"eip7870_attester\": {\"down\": 50 * 1024 * 1024 / 8, \"up\": 25 * 1024 * 1024 / 8},  # 50/25 Mbps in bytes/second\n",
    "    \"eip7870_local_block_builder\": {\"down\": 100 * 1024 * 1024 / 8, \"up\": 50 * 1024 * 1024 / 8},  # 100/50 Mbps in bytes/second\n",
    "}\n",
    "\n",
    "# Additional common connection types for reference\n",
    "ADDITIONAL_CONNECTION_TYPES = {\n",
    "    \"home_cable\": {\"down\": 200 * 1024 * 1024 / 8, \"up\": 20 * 1024 * 1024 / 8},  # 200/20 Mbps cable (typical asymmetric)\n",
    "    \"home_fiber\": {\"down\": 300 * 1024 * 1024 / 8, \"up\": 100 * 1024 * 1024 / 8},  # 300/100 Mbps fiber\n",
    "    \"institutional\": {\"down\": 1000 * 1024 * 1024 / 8, \"up\": 1000 * 1024 * 1024 / 8},  # 1 Gbps symmetric\n",
    "}\n",
    "\n",
    "# Combine for analysis\n",
    "ALL_CONNECTION_TYPES = {**EIP_7870_BANDWIDTH_LIMITS, **ADDITIONAL_CONNECTION_TYPES}\n",
    "\n",
    "# EIP-7892 Proposed Blob Limits (various scenarios)\n",
    "BLOB_LIMIT_SCENARIOS = [\n",
    "    {\"name\": \"Pre-Pectra (EIP-4844)\", \"target\": 3, \"max\": 6},\n",
    "    {\"name\": \"Current (Pectra)\", \"target\": 6, \"max\": 9},\n",
    "    {\"name\": \"Conservative +\", \"target\": 8, \"max\": 12},\n",
    "    {\"name\": \"Moderate\", \"target\": 10, \"max\": 15},\n",
    "    {\"name\": \"Moderate+\", \"target\": 12, \"max\": 18},\n",
    "    {\"name\": \"Progressive\", \"target\": 16, \"max\": 24},\n",
    "    {\"name\": \"Aggressive\", \"target\": 20, \"max\": 30},\n",
    "    {\"name\": \"Aggressive+\", \"target\": 24, \"max\": 36},\n",
    "    {\"name\": \"High Scale\", \"target\": 30, \"max\": 45},\n",
    "    {\"name\": \"High Scale+\", \"target\": 36, \"max\": 54},\n",
    "    {\"name\": \"Ultra Scale\", \"target\": 40, \"max\": 60},\n",
    "    {\"name\": \"Ultra Scale+\", \"target\": 48, \"max\": 72},\n",
    "    {\"name\": \"Maximum\", \"target\": 60, \"max\": 90},\n",
    "]\n",
    "\n",
    "# Network overhead factors\n",
    "GOSSIP_OVERHEAD = 1.5  # Assume 50% overhead for gossip propagation\n",
    "PEAK_FACTOR = 2.0  # Peak usage can be 2x average\n",
    "BANDWIDTH_AVAILABLE_FACTOR = 0.8  # 80% of bandwidth available for blob propagation (remainder reserved for other network operations)\n",
    "\n",
    "# Node bandwidth factors (independent scaling for upload/download)\n",
    "# These factors multiply the base bandwidth requirement\n",
    "NODE_BANDWIDTH_FACTORS = {\n",
    "    \"validator\": {\"down_factor\": 1.0, \"up_factor\": 1.2},  # Validators upload slightly more due to block proposals\n",
    "    \"non_validator\": {\"down_factor\": 1.0, \"up_factor\": 1.0},  # Standard gossip behavior\n",
    "    \"balanced\": {\"down_factor\": 1.0, \"up_factor\": 1.0},  # Balanced/average case\n",
    "}"
   ]
  },
  {
   "cell_type": "markdown",
   "id": "bandwidth-calc",
   "metadata": {},
   "source": [
    "## Bandwidth Calculation Functions"
   ]
  },
  {
   "cell_type": "code",
   "execution_count": 3,
   "id": "calc-functions",
   "metadata": {},
   "outputs": [
    {
     "name": "stdout",
     "output_type": "stream",
     "text": [
      "================================================================================\n",
      "BANDWIDTH REQUIREMENTS - FULL BLOB PROPAGATION (Current)\n",
      "================================================================================\n",
      "================================================================================\n",
      "BANDWIDTH REQUIREMENTS - PEERDAS COLUMN PROPAGATION\n",
      "================================================================================\n",
      "\n",
      "BANDWITH COMPARISON: Full Blob vs PeerDAS (Key Scenarios)\n",
      "--------------------------------------------------------------------------------\n",
      "\n",
      "Current (Pectra) (6/9 blobs):\n",
      "  Full Blob:      2.2 Mbps down, 2.2 Mbps up\n",
      "  PeerDAS ( 4):   0.1 Mbps down, 0.1 Mbps up (3.1% of full)\n",
      "  PeerDAS (16):   0.6 Mbps down, 0.6 Mbps up (12.5% of full)\n",
      "  PeerDAS (32):   1.1 Mbps down, 1.1 Mbps up (25.0% of full)\n",
      "\n",
      "Progressive (16/24 blobs):\n",
      "  Full Blob:      6.0 Mbps down, 6.0 Mbps up\n",
      "  PeerDAS ( 4):   0.4 Mbps down, 0.4 Mbps up (3.1% of full)\n",
      "  PeerDAS (16):   1.5 Mbps down, 1.5 Mbps up (12.5% of full)\n",
      "  PeerDAS (32):   3.0 Mbps down, 3.0 Mbps up (25.0% of full)\n",
      "\n",
      "High Scale (30/45 blobs):\n",
      "  Full Blob:      11.2 Mbps down, 11.2 Mbps up\n",
      "  PeerDAS ( 4):   0.7 Mbps down, 0.7 Mbps up (3.1% of full)\n",
      "  PeerDAS (16):   2.8 Mbps down, 2.8 Mbps up (12.5% of full)\n",
      "  PeerDAS (32):   5.6 Mbps down, 5.6 Mbps up (25.0% of full)\n",
      "\n",
      "Ultra Scale+ (48/72 blobs):\n",
      "  Full Blob:      18.0 Mbps down, 18.0 Mbps up\n",
      "  PeerDAS ( 4):   1.1 Mbps down, 1.1 Mbps up (3.1% of full)\n",
      "  PeerDAS (16):   4.5 Mbps down, 4.5 Mbps up (12.5% of full)\n",
      "  PeerDAS (32):   9.0 Mbps down, 9.0 Mbps up (25.0% of full)\n",
      "\n",
      "Maximum (60/90 blobs):\n",
      "  Full Blob:      22.5 Mbps down, 22.5 Mbps up\n",
      "  PeerDAS ( 4):   1.4 Mbps down, 1.4 Mbps up (3.1% of full)\n",
      "  PeerDAS (16):   5.6 Mbps down, 5.6 Mbps up (12.5% of full)\n",
      "  PeerDAS (32):   11.2 Mbps down, 11.2 Mbps up (25.0% of full)\n"
     ]
    }
   ],
   "source": [
    "def calculate_bandwidth_requirements(target_blobs, max_blobs, node_role=\"balanced\", custody_count=None, use_peerdas=False):\n",
    "    \"\"\"Calculate upload and download bandwidth requirements for given blob parameters.\n",
    "    \n",
    "    Args:\n",
    "        target_blobs: Target number of blobs per block\n",
    "        max_blobs: Maximum number of blobs per block\n",
    "        node_role: Node role (\"validator\", \"non_validator\", \"balanced\")\n",
    "        custody_count: Number of columns to custody in PeerDAS (if None, uses full blob propagation)\n",
    "        use_peerdas: Whether to use PeerDAS column propagation or full blob propagation\n",
    "    \"\"\"\n",
    "    \n",
    "    # Base calculations\n",
    "    avg_data_per_slot = target_blobs * BYTES_PER_BLOB\n",
    "    max_data_per_slot = max_blobs * BYTES_PER_BLOB\n",
    "    \n",
    "    # Apply PeerDAS reduction if enabled\n",
    "    if use_peerdas and custody_count is not None:\n",
    "        # In PeerDAS, each blob is extended\n",
    "        avg_data_per_slot = target_blobs * BYTES_PER_EXTENDED_BLOB\n",
    "        max_data_per_slot = max_blobs * BYTES_PER_EXTENDED_BLOB\n",
    "        # In PeerDAS, nodes only propagate columns they custody\n",
    "        das_reduction_factor = custody_count / NUMBER_OF_COLUMNS\n",
    "        avg_data_per_slot *= das_reduction_factor\n",
    "        max_data_per_slot *= das_reduction_factor\n",
    "    \n",
    "    # Base bandwidth in bytes per second - using per-hop timing (1 second per hop)\n",
    "    avg_bandwidth_base = avg_data_per_slot / SECONDS_PER_HOP\n",
    "    max_bandwidth_base = max_data_per_slot / SECONDS_PER_HOP\n",
    "    \n",
    "    # With gossip overhead\n",
    "    avg_bandwidth_gossip = avg_bandwidth_base * GOSSIP_OVERHEAD\n",
    "    max_bandwidth_gossip = max_bandwidth_base * GOSSIP_OVERHEAD\n",
    "    \n",
    "    # Apply node-specific bandwidth factors\n",
    "    factors = NODE_BANDWIDTH_FACTORS[node_role]\n",
    "    \n",
    "    # Calculate download and upload bandwidth using factors\n",
    "    avg_download = avg_bandwidth_gossip * factors[\"down_factor\"]\n",
    "    avg_upload = avg_bandwidth_gossip * factors[\"up_factor\"]\n",
    "    \n",
    "    max_download = max_bandwidth_gossip * factors[\"down_factor\"]\n",
    "    max_upload = max_bandwidth_gossip * factors[\"up_factor\"]\n",
    "    \n",
    "    # Peak scenarios\n",
    "    peak_download = avg_download * PEAK_FACTOR\n",
    "    peak_upload = avg_upload * PEAK_FACTOR\n",
    "    peak_max_download = max_download * PEAK_FACTOR\n",
    "    peak_max_upload = max_upload * PEAK_FACTOR\n",
    "    \n",
    "    # Total bandwidth is the sum of upload and download\n",
    "    avg_bandwidth_total = avg_download + avg_upload\n",
    "    max_bandwidth_total = max_download + max_upload\n",
    "    \n",
    "    return {\n",
    "        \"avg_bandwidth_total\": avg_bandwidth_total,\n",
    "        \"max_bandwidth_total\": max_bandwidth_total,\n",
    "        \"avg_download\": avg_download,\n",
    "        \"avg_upload\": avg_upload,\n",
    "        \"max_download\": max_download,\n",
    "        \"max_upload\": max_upload,\n",
    "        \"peak_download\": peak_download,\n",
    "        \"peak_upload\": peak_upload,\n",
    "        \"peak_max_download\": peak_max_download,\n",
    "        \"peak_max_upload\": peak_max_upload,\n",
    "        # Convert to Mbps for display\n",
    "        \"avg_download_mbps\": avg_download * 8 / (1024 * 1024),\n",
    "        \"avg_upload_mbps\": avg_upload * 8 / (1024 * 1024),\n",
    "        \"max_download_mbps\": max_download * 8 / (1024 * 1024),\n",
    "        \"max_upload_mbps\": max_upload * 8 / (1024 * 1024),\n",
    "        \"peak_download_mbps\": peak_download * 8 / (1024 * 1024),\n",
    "        \"peak_upload_mbps\": peak_upload * 8 / (1024 * 1024),\n",
    "        \"avg_bandwidth_total_mbps\": avg_bandwidth_total * 8 / (1024 * 1024),\n",
    "        \"max_bandwidth_total_mbps\": max_bandwidth_total * 8 / (1024 * 1024),\n",
    "        # Additional metadata\n",
    "        \"custody_count\": custody_count if use_peerdas else None,\n",
    "        \"das_reduction\": (custody_count / NUMBER_OF_COLUMNS) if use_peerdas and custody_count else 1.0,\n",
    "        \"use_peerdas\": use_peerdas,\n",
    "    }\n",
    "\n",
    "def check_node_compatibility(download_req, upload_req, node_type_bandwidth):\n",
    "    \"\"\"Check if a node type can handle the bandwidth requirements.\"\"\"\n",
    "    # Use the available bandwidth factor for blob propagation\n",
    "    available_down = node_type_bandwidth[\"down\"] * BANDWIDTH_AVAILABLE_FACTOR\n",
    "    available_up = node_type_bandwidth[\"up\"] * BANDWIDTH_AVAILABLE_FACTOR\n",
    "    return download_req <= available_down and upload_req <= available_up\n",
    "\n",
    "# Calculate requirements for all scenarios WITHOUT PeerDAS (current behavior)\n",
    "print(\"=\" * 80)\n",
    "print(\"BANDWIDTH REQUIREMENTS - FULL BLOB PROPAGATION (Current)\")\n",
    "print(f\"Using {NETWORK_HOPS} network hops, {SECONDS_PER_HOP} second per hop\")\n",
    "print(\"=\" * 80)\n",
    "\n",
    "results_full = []\n",
    "for scenario in BLOB_LIMIT_SCENARIOS:\n",
    "    reqs = calculate_bandwidth_requirements(scenario[\"target\"], scenario[\"max\"], \"balanced\", use_peerdas=False)\n",
    "    \n",
    "    # Check compatibility with different node types\n",
    "    compatibility = {}\n",
    "    for node_type, bandwidth in ALL_CONNECTION_TYPES.items():\n",
    "        compatibility[f\"{node_type}_avg\"] = check_node_compatibility(\n",
    "            reqs[\"avg_download\"], reqs[\"avg_upload\"], bandwidth\n",
    "        )\n",
    "        compatibility[f\"{node_type}_max\"] = check_node_compatibility(\n",
    "            reqs[\"max_download\"], reqs[\"max_upload\"], bandwidth\n",
    "        )\n",
    "        compatibility[f\"{node_type}_peak\"] = check_node_compatibility(\n",
    "            reqs[\"peak_download\"], reqs[\"peak_upload\"], bandwidth\n",
    "        )\n",
    "    \n",
    "    results_full.append({\n",
    "        \"scenario\": scenario[\"name\"],\n",
    "        \"target_blobs\": scenario[\"target\"],\n",
    "        \"max_blobs\": scenario[\"max\"],\n",
    "        \"method\": \"Full Blob\",\n",
    "        **reqs,\n",
    "        **compatibility\n",
    "    })\n",
    "\n",
    "df_results_full = pd.DataFrame(results_full)\n",
    "\n",
    "# Calculate requirements WITH PeerDAS for different custody counts\n",
    "print(\"=\" * 80)\n",
    "print(\"BANDWIDTH REQUIREMENTS - PEERDAS COLUMN PROPAGATION\")\n",
    "print(\"=\" * 80)\n",
    "\n",
    "results_peerdas = []\n",
    "for scenario in BLOB_LIMIT_SCENARIOS:\n",
    "    for custody in CUSTODY_SCENARIOS:\n",
    "        reqs = calculate_bandwidth_requirements(\n",
    "            scenario[\"target\"], scenario[\"max\"], \"balanced\", \n",
    "            custody_count=custody[\"custody_count\"], use_peerdas=True\n",
    "        )\n",
    "        \n",
    "        # Check compatibility with different node types\n",
    "        compatibility = {}\n",
    "        for node_type, bandwidth in ALL_CONNECTION_TYPES.items():\n",
    "            compatibility[f\"{node_type}_avg\"] = check_node_compatibility(\n",
    "                reqs[\"avg_download\"], reqs[\"avg_upload\"], bandwidth\n",
    "            )\n",
    "            compatibility[f\"{node_type}_max\"] = check_node_compatibility(\n",
    "                reqs[\"max_download\"], reqs[\"max_upload\"], bandwidth\n",
    "            )\n",
    "            compatibility[f\"{node_type}_peak\"] = check_node_compatibility(\n",
    "                reqs[\"peak_download\"], reqs[\"peak_upload\"], bandwidth\n",
    "            )\n",
    "        \n",
    "        results_peerdas.append({\n",
    "            \"scenario\": scenario[\"name\"],\n",
    "            \"target_blobs\": scenario[\"target\"],\n",
    "            \"max_blobs\": scenario[\"max\"],\n",
    "            \"custody_scenario\": custody[\"name\"],\n",
    "            \"custody_count\": custody[\"custody_count\"],\n",
    "            \"custody_percentage\": custody[\"percentage\"],\n",
    "            \"method\": f\"PeerDAS ({custody['custody_count']} cols)\",\n",
    "            **reqs,\n",
    "            **compatibility\n",
    "        })\n",
    "\n",
    "df_results_peerdas = pd.DataFrame(results_peerdas)\n",
    "\n",
    "# Display comparison for key scenarios\n",
    "key_scenarios = [\"Current (Pectra)\", \"Progressive\", \"High Scale\", \"Ultra Scale+\", \"Maximum\"]\n",
    "key_custody = [\"Minimum\", \"Standard\", \"Heavy\", \"Full\"]\n",
    "\n",
    "print(\"\\nBANDWIDTH COMPARISON: Full Blob vs PeerDAS (Key Scenarios)\")\n",
    "print(\"-\" * 80)\n",
    "\n",
    "for scenario_name in key_scenarios:\n",
    "    # Get scenario details\n",
    "    scenario_details = next(s for s in BLOB_LIMIT_SCENARIOS if s[\"name\"] == scenario_name)\n",
    "    print(f\"\\n{scenario_name} ({scenario_details['target']}/{scenario_details['max']} blobs):\")\n",
    "    \n",
    "    # Full blob\n",
    "    full_row = df_results_full[df_results_full[\"scenario\"] == scenario_name].iloc[0]\n",
    "    print(f\"  Full Blob:      {full_row['avg_download_mbps']:.1f} Mbps down, {full_row['avg_upload_mbps']:.1f} Mbps up\")\n",
    "    \n",
    "    # PeerDAS variants\n",
    "    for custody_name in key_custody:\n",
    "        if custody_name == \"Full\":\n",
    "            continue  # Skip as it's same as full blob\n",
    "        das_row = df_results_peerdas[\n",
    "            (df_results_peerdas[\"scenario\"] == scenario_name) & \n",
    "            (df_results_peerdas[\"custody_scenario\"] == custody_name)\n",
    "        ].iloc[0]\n",
    "        print(f\"  PeerDAS ({das_row['custody_count']:2d}):   {das_row['avg_download_mbps']:.1f} Mbps down, {das_row['avg_upload_mbps']:.1f} Mbps up ({das_row['custody_percentage']*100:.1f}% of full)\")\n",
    "\n",
    "# Save balanced results for visualizations\n",
    "df_results_balanced = df_results_full  # Full blob propagation for baseline comparison\n",
    "\n",
    "# Display EIP-7870 limits\n",
    "print(\"\\n\" + \"=\" * 80)\n",
    "print(\"EIP-7870 BANDWIDTH LIMITS (Official Specification)\")\n",
    "print(\"=\" * 80)\n",
    "print(\"\\nNode Type               Download    Upload\")\n",
    "print(\"-\" * 45)\n",
    "for node_type, bw in EIP_7870_BANDWIDTH_LIMITS.items():\n",
    "    down_mbps = (bw[\"down\"] * 8) / (1024 * 1024)\n",
    "    up_mbps = (bw[\"up\"] * 8) / (1024 * 1024)\n",
    "    print(f\"{node_type.replace('_', ' ').title():<20} {down_mbps:>8.0f} Mbps   {up_mbps:>6.0f} Mbps\")\n",
    "\n",
    "print(\"\\nAdditional Connection Types (for reference):\")\n",
    "print(\"-\" * 45)\n",
    "for node_type, bw in ADDITIONAL_CONNECTION_TYPES.items():\n",
    "    down_mbps = (bw[\"down\"] * 8) / (1024 * 1024)\n",
    "    up_mbps = (bw[\"up\"] * 8) / (1024 * 1024)\n",
    "    print(f\"{node_type.replace('_', ' ').title():<20} {down_mbps:>8.0f} Mbps   {up_mbps:>6.0f} Mbps\")"
   ]
  },
  {
   "cell_type": "markdown",
   "id": "monthly-data",
   "metadata": {},
   "source": [
    "## Monthly Data Transfer Estimation"
   ]
  },
  {
   "cell_type": "code",
   "execution_count": 4,
   "id": "monthly-calc",
   "metadata": {},
   "outputs": [
    {
     "name": "stdout",
     "output_type": "stream",
     "text": [
      "MONTHLY DATA TRANSFER ANALYSIS\n",
      "============================================================\n",
      "Note: This is cumulative data transfer, separate from instantaneous bandwidth requirements\n",
      "\n",
      "Key Scenarios - Monthly Data Transfer:\n",
      "------------------------------------------------------------\n",
      "\n",
      "Current (Pectra) (6/9 blobs):\n",
      "  Full Blob:    0.46 TB avg, 0.70 TB max\n",
      "  PeerDAS- 4: 0.03 TB avg, 0.04 TB max (94% less)\n",
      "  PeerDAS-16: 0.12 TB avg, 0.17 TB max (75% less)\n",
      "  PeerDAS-32: 0.23 TB avg, 0.35 TB max (50% less)\n",
      "\n",
      "Progressive (16/24 blobs):\n",
      "  Full Blob:    1.24 TB avg, 1.85 TB max\n",
      "  PeerDAS- 4: 0.08 TB avg, 0.12 TB max (94% less)\n",
      "  PeerDAS-16: 0.31 TB avg, 0.46 TB max (75% less)\n",
      "  PeerDAS-32: 0.62 TB avg, 0.93 TB max (50% less)\n",
      "\n",
      "High Scale (30/45 blobs):\n",
      "  Full Blob:    2.32 TB avg, 3.48 TB max\n",
      "  PeerDAS- 4: 0.14 TB avg, 0.22 TB max (94% less)\n",
      "  PeerDAS-16: 0.58 TB avg, 0.87 TB max (75% less)\n",
      "  PeerDAS-32: 1.16 TB avg, 1.74 TB max (50% less)\n",
      "\n",
      "Maximum (60/90 blobs):\n",
      "  Full Blob:    4.63 TB avg, 6.95 TB max\n",
      "  PeerDAS- 4: 0.29 TB avg, 0.43 TB max (94% less)\n",
      "  PeerDAS-16: 1.16 TB avg, 1.74 TB max (75% less)\n",
      "  PeerDAS-32: 2.32 TB avg, 3.48 TB max (50% less)\n",
      "\n",
      "============================================================\n",
      "PEERDAS DATA EFFICIENCY ANALYSIS\n",
      "============================================================\n",
      "Data transfer reduction with different custody levels:\n",
      "Custody      Columns  Current (6/9)   Progressive (16/24)  Reduction \n",
      "---------------------------------------------------------------------------\n",
      "Full Blob    128      0.46            1.24                 0%        \n",
      "PeerDAS-4    4        0.03            0.08                 94        %\n",
      "PeerDAS-8    8        0.06            0.15                 88        %\n",
      "PeerDAS-16   16       0.12            0.31                 75        %\n",
      "PeerDAS-32   32       0.23            0.62                 50        %\n",
      "PeerDAS-64   64       0.46            1.24                 0         %\n",
      "\n",
      "Key insights:\n",
      "- Data transfer scales linearly with blob count and custody level\n",
      "- PeerDAS provides massive data transfer savings (up to 97% reduction)\n",
      "- Extended blob size (2x) is offset by custody reduction factor\n",
      "- Network-wide data transfer is reduced, improving overall efficiency\n",
      "\n",
      "============================================================\n",
      "STORAGE IMPLICATIONS\n",
      "============================================================\n",
      "Annual storage requirements per node:\n",
      "\n",
      "Current (Pectra) (6/9 blobs):\n",
      "  Full Blob:    5.6 TB/year\n",
      "  PeerDAS-16:   1.4 TB/year\n",
      "\n",
      "Progressive (16/24 blobs):\n",
      "  Full Blob:    14.8 TB/year\n",
      "  PeerDAS-16:   3.7 TB/year\n",
      "\n",
      "Note: Includes gossip overhead and balanced node bandwidth factors (down: 1.0, up: 1.0)\n"
     ]
    }
   ],
   "source": [
    "# Monthly Data Transfer Estimation (separate from bandwidth requirements)\n",
    "SECONDS_PER_MONTH = 30 * 24 * 60 * 60  # Approximate month\n",
    "SLOTS_PER_MONTH = SECONDS_PER_MONTH / SECONDS_PER_SLOT\n",
    "\n",
    "print(\"MONTHLY DATA TRANSFER ANALYSIS\")\n",
    "print(\"=\" * 60)\n",
    "print(\"Note: This is cumulative data transfer, separate from instantaneous bandwidth requirements\")\n",
    "print()\n",
    "\n",
    "monthly_data = []\n",
    "\n",
    "# Use balanced node factors\n",
    "factors = NODE_BANDWIDTH_FACTORS[\"balanced\"]\n",
    "total_factor = factors[\"down_factor\"] + factors[\"up_factor\"]\n",
    "\n",
    "# Full Blob Propagation\n",
    "for scenario in BLOB_LIMIT_SCENARIOS:\n",
    "    # Base blob data per month\n",
    "    base_monthly_bytes = scenario[\"target\"] * BYTES_PER_BLOB * SLOTS_PER_MONTH * GOSSIP_OVERHEAD\n",
    "    base_max_monthly_bytes = scenario[\"max\"] * BYTES_PER_BLOB * SLOTS_PER_MONTH * GOSSIP_OVERHEAD\n",
    "    \n",
    "    # Apply bandwidth factors (download + upload)\n",
    "    avg_monthly_bytes = base_monthly_bytes * total_factor\n",
    "    max_monthly_bytes = base_max_monthly_bytes * total_factor\n",
    "    \n",
    "    monthly_data.append({\n",
    "        \"scenario\": scenario[\"name\"],\n",
    "        \"target_blobs\": scenario[\"target\"],\n",
    "        \"max_blobs\": scenario[\"max\"],\n",
    "        \"method\": \"Full Blob\",\n",
    "        \"custody_count\": None,\n",
    "        \"avg_monthly_gb\": avg_monthly_bytes / (1024**3),\n",
    "        \"max_monthly_gb\": max_monthly_bytes / (1024**3),\n",
    "        \"avg_monthly_tb\": avg_monthly_bytes / (1024**4),\n",
    "        \"max_monthly_tb\": max_monthly_bytes / (1024**4),\n",
    "    })\n",
    "\n",
    "# PeerDAS - only data for columns in custody\n",
    "for scenario in BLOB_LIMIT_SCENARIOS:\n",
    "    for custody in CUSTODY_SCENARIOS:\n",
    "        if custody[\"name\"] == \"Full\":\n",
    "            continue  # Skip full custody as it's same as full blob\n",
    "        \n",
    "        # In PeerDAS: extended blobs but only custody fraction\n",
    "        custody_fraction = custody[\"custody_count\"] / NUMBER_OF_COLUMNS\n",
    "        base_monthly_bytes = (scenario[\"target\"] * BYTES_PER_EXTENDED_BLOB * custody_fraction * \n",
    "                            SLOTS_PER_MONTH * GOSSIP_OVERHEAD)\n",
    "        base_max_monthly_bytes = (scenario[\"max\"] * BYTES_PER_EXTENDED_BLOB * custody_fraction * \n",
    "                                SLOTS_PER_MONTH * GOSSIP_OVERHEAD)\n",
    "        \n",
    "        # Apply bandwidth factors\n",
    "        avg_monthly_bytes = base_monthly_bytes * total_factor\n",
    "        max_monthly_bytes = base_max_monthly_bytes * total_factor\n",
    "        \n",
    "        monthly_data.append({\n",
    "            \"scenario\": scenario[\"name\"],\n",
    "            \"target_blobs\": scenario[\"target\"],\n",
    "            \"max_blobs\": scenario[\"max\"],\n",
    "            \"method\": f\"PeerDAS-{custody['custody_count']}\",\n",
    "            \"custody_count\": custody['custody_count'],\n",
    "            \"avg_monthly_gb\": avg_monthly_bytes / (1024**3),\n",
    "            \"max_monthly_gb\": max_monthly_bytes / (1024**3),\n",
    "            \"avg_monthly_tb\": avg_monthly_bytes / (1024**4),\n",
    "            \"max_monthly_tb\": max_monthly_bytes / (1024**4),\n",
    "        })\n",
    "\n",
    "df_monthly = pd.DataFrame(monthly_data)\n",
    "\n",
    "# Display key scenarios\n",
    "print(f\"Key Scenarios - Monthly Data Transfer:\")\n",
    "print(\"-\" * 60)\n",
    "key_scenarios_monthly = [\"Current (Pectra)\", \"Progressive\", \"High Scale\", \"Maximum\"]\n",
    "\n",
    "for scenario_name in key_scenarios_monthly:\n",
    "    # Get scenario details\n",
    "    scenario_details = next(s for s in BLOB_LIMIT_SCENARIOS if s[\"name\"] == scenario_name)\n",
    "    print(f\"\\n{scenario_name} ({scenario_details['target']}/{scenario_details['max']} blobs):\")\n",
    "    scenario_data = df_monthly[df_monthly['scenario'] == scenario_name]\n",
    "    \n",
    "    # Show Full Blob\n",
    "    full_blob = scenario_data[scenario_data['method'] == 'Full Blob'].iloc[0]\n",
    "    print(f\"  Full Blob:    {full_blob['avg_monthly_tb']:.2f} TB avg, {full_blob['max_monthly_tb']:.2f} TB max\")\n",
    "    \n",
    "    # Show key PeerDAS scenarios\n",
    "    for custody_count in [4, 16, 32]:\n",
    "        peerdas_data = scenario_data[scenario_data['method'] == f'PeerDAS-{custody_count}']\n",
    "        if not peerdas_data.empty:\n",
    "            row = peerdas_data.iloc[0]\n",
    "            savings_pct = (1 - row['avg_monthly_tb'] / full_blob['avg_monthly_tb']) * 100\n",
    "            print(f\"  PeerDAS-{custody_count:2d}: {row['avg_monthly_tb']:.2f} TB avg, {row['max_monthly_tb']:.2f} TB max ({savings_pct:.0f}% less)\")\n",
    "\n",
    "# PeerDAS efficiency comparison\n",
    "print(\"\\n\" + \"=\" * 60)\n",
    "print(\"PEERDAS DATA EFFICIENCY ANALYSIS\")\n",
    "print(\"=\" * 60)\n",
    "\n",
    "print(\"Data transfer reduction with different custody levels:\")\n",
    "print(f\"{'Custody':<12} {'Columns':<8} {'Current (6/9)':<15} {'Progressive (16/24)':<20} {'Reduction':<10}\")\n",
    "print(\"-\" * 75)\n",
    "\n",
    "current_full_data = df_monthly[(df_monthly['scenario'] == \"Current (Pectra)\") & \n",
    "                              (df_monthly['method'] == \"Full Blob\")].iloc[0]['avg_monthly_tb']\n",
    "prog_full_data = df_monthly[(df_monthly['scenario'] == \"Progressive\") & \n",
    "                           (df_monthly['method'] == \"Full Blob\")].iloc[0]['avg_monthly_tb']\n",
    "\n",
    "print(f\"{'Full Blob':<12} {'128':<8} {current_full_data:<15.2f} {prog_full_data:<20.2f} {'0%':<10}\")\n",
    "\n",
    "for custody_count in [4, 8, 16, 32, 64]:\n",
    "    current_das = df_monthly[(df_monthly['scenario'] == \"Current (Pectra)\") & \n",
    "                            (df_monthly['method'] == f\"PeerDAS-{custody_count}\")].iloc[0]['avg_monthly_tb']\n",
    "    prog_das = df_monthly[(df_monthly['scenario'] == \"Progressive\") & \n",
    "                         (df_monthly['method'] == f\"PeerDAS-{custody_count}\")].iloc[0]['avg_monthly_tb']\n",
    "    \n",
    "    reduction = (1 - current_das / current_full_data) * 100\n",
    "    \n",
    "    print(f\"{'PeerDAS-' + str(custody_count):<12} {custody_count:<8} {current_das:<15.2f} {prog_das:<20.2f} {reduction:<10.0f}%\")\n",
    "\n",
    "print(f\"\\nKey insights:\")\n",
    "print(f\"- Data transfer scales linearly with blob count and custody level\")\n",
    "print(f\"- PeerDAS provides massive data transfer savings (up to 97% reduction)\")\n",
    "print(f\"- Extended blob size (2x) is offset by custody reduction factor\")\n",
    "print(f\"- Network-wide data transfer is reduced, improving overall efficiency\")\n",
    "\n",
    "# Storage implications\n",
    "print(\"\\n\" + \"=\" * 60)\n",
    "print(\"STORAGE IMPLICATIONS\")\n",
    "print(\"=\" * 60)\n",
    "\n",
    "print(\"Annual storage requirements per node:\")\n",
    "annual_multiplier = 12  # months per year\n",
    "\n",
    "for scenario_name in [\"Current (Pectra)\", \"Progressive\"]:\n",
    "    scenario_details = next(s for s in BLOB_LIMIT_SCENARIOS if s[\"name\"] == scenario_name)\n",
    "    print(f\"\\n{scenario_name} ({scenario_details['target']}/{scenario_details['max']} blobs):\")\n",
    "    \n",
    "    # Full blob storage\n",
    "    full_data = df_monthly[(df_monthly['scenario'] == scenario_name) & \n",
    "                          (df_monthly['method'] == \"Full Blob\")].iloc[0]['avg_monthly_tb']\n",
    "    print(f\"  Full Blob:    {full_data * annual_multiplier:.1f} TB/year\")\n",
    "    \n",
    "    # PeerDAS storage (much less due to custody)\n",
    "    das16_data = df_monthly[(df_monthly['scenario'] == scenario_name) & \n",
    "                           (df_monthly['method'] == \"PeerDAS-16\")].iloc[0]['avg_monthly_tb']\n",
    "    print(f\"  PeerDAS-16:   {das16_data * annual_multiplier:.1f} TB/year\")\n",
    "\n",
    "print(f\"\\nNote: Includes gossip overhead and balanced node bandwidth factors (down: {factors['down_factor']}, up: {factors['up_factor']})\")"
   ]
  },
  {
   "cell_type": "markdown",
   "id": "visualizations",
   "metadata": {},
   "source": [
    "## Visualizations"
   ]
  },
  {
   "cell_type": "code",
   "execution_count": 5,
   "id": "viz-bandwidth",
   "metadata": {},
   "outputs": [
    {
     "data": {
      "application/vnd.plotly.v1+json": {
       "config": {
        "plotlyServerURL": "https://plot.ly"
       },
       "data": [
        {
         "marker": {
          "color": "lightblue"
         },
         "name": "Avg Download (Full)",
         "showlegend": true,
         "type": "bar",
         "x": [
          "Pre-Pectra (EIP-4844)",
          "Current (Pectra)",
          "Conservative +",
          "Moderate",
          "Moderate+",
          "Progressive",
          "Aggressive",
          "Aggressive+",
          "High Scale",
          "High Scale+",
          "Ultra Scale",
          "Ultra Scale+",
          "Maximum"
         ],
         "xaxis": "x",
         "y": {
          "bdata": "AAAAAAAAyD8AAAAAAADYPwAAAAAAAOA/AAAAAAAA5D8AAAAAAADoPwAAAAAAAPA/AAAAAAAA9D8AAAAAAAD4PwAAAAAAAP4/AAAAAAAAAkAAAAAAAAAEQAAAAAAAAAhAAAAAAAAADkA=",
          "dtype": "f8"
         },
         "yaxis": "y"
        },
        {
         "marker": {
          "color": "lightgreen"
         },
         "name": "Avg Upload (Full)",
         "showlegend": true,
         "type": "bar",
         "x": [
          "Pre-Pectra (EIP-4844)",
          "Current (Pectra)",
          "Conservative +",
          "Moderate",
          "Moderate+",
          "Progressive",
          "Aggressive",
          "Aggressive+",
          "High Scale",
          "High Scale+",
          "Ultra Scale",
          "Ultra Scale+",
          "Maximum"
         ],
         "xaxis": "x2",
         "y": {
          "bdata": "AAAAAAAAyD8AAAAAAADYPwAAAAAAAOA/AAAAAAAA5D8AAAAAAADoPwAAAAAAAPA/AAAAAAAA9D8AAAAAAAD4PwAAAAAAAP4/AAAAAAAAAkAAAAAAAAAEQAAAAAAAAAhAAAAAAAAADkA=",
          "dtype": "f8"
         },
         "yaxis": "y2"
        },
        {
         "marker": {
          "color": "darkblue"
         },
         "name": "Avg Download (PeerDAS 16)",
         "showlegend": true,
         "type": "bar",
         "x": [
          "Pre-Pectra (EIP-4844)",
          "Current (Pectra)",
          "Conservative +",
          "Moderate",
          "Moderate+",
          "Progressive",
          "Aggressive",
          "Aggressive+",
          "High Scale",
          "High Scale+",
          "Ultra Scale",
          "Ultra Scale+",
          "Maximum"
         ],
         "xaxis": "x3",
         "y": {
          "bdata": "AAAAAAAAmD8AAAAAAACoPwAAAAAAALA/AAAAAAAAtD8AAAAAAAC4PwAAAAAAAMA/AAAAAAAAxD8AAAAAAADIPwAAAAAAAM4/AAAAAAAA0j8AAAAAAADUPwAAAAAAANg/AAAAAAAA3j8=",
          "dtype": "f8"
         },
         "yaxis": "y3"
        },
        {
         "marker": {
          "color": "darkgreen"
         },
         "name": "Avg Upload (PeerDAS 16)",
         "showlegend": true,
         "type": "bar",
         "x": [
          "Pre-Pectra (EIP-4844)",
          "Current (Pectra)",
          "Conservative +",
          "Moderate",
          "Moderate+",
          "Progressive",
          "Aggressive",
          "Aggressive+",
          "High Scale",
          "High Scale+",
          "Ultra Scale",
          "Ultra Scale+",
          "Maximum"
         ],
         "xaxis": "x4",
         "y": {
          "bdata": "AAAAAAAAmD8AAAAAAACoPwAAAAAAALA/AAAAAAAAtD8AAAAAAAC4PwAAAAAAAMA/AAAAAAAAxD8AAAAAAADIPwAAAAAAAM4/AAAAAAAA0j8AAAAAAADUPwAAAAAAANg/AAAAAAAA3j8=",
          "dtype": "f8"
         },
         "yaxis": "y4"
        }
       ],
       "layout": {
        "annotations": [
         {
          "font": {
           "size": 16
          },
          "showarrow": false,
          "text": "Download Bandwidth - Full Blob",
          "x": 0.22,
          "xanchor": "center",
          "xref": "paper",
          "y": 1,
          "yanchor": "bottom",
          "yref": "paper"
         },
         {
          "font": {
           "size": 16
          },
          "showarrow": false,
          "text": "Upload Bandwidth - Full Blob",
          "x": 0.78,
          "xanchor": "center",
          "xref": "paper",
          "y": 1,
          "yanchor": "bottom",
          "yref": "paper"
         },
         {
          "font": {
           "size": 16
          },
          "showarrow": false,
          "text": "Download Bandwidth - PeerDAS (16 cols)",
          "x": 0.22,
          "xanchor": "center",
          "xref": "paper",
          "y": 0.44,
          "yanchor": "bottom",
          "yref": "paper"
         },
         {
          "font": {
           "size": 16
          },
          "showarrow": false,
          "text": "Upload Bandwidth - PeerDAS (16 cols)",
          "x": 0.78,
          "xanchor": "center",
          "xref": "paper",
          "y": 0.44,
          "yanchor": "bottom",
          "yref": "paper"
         }
        ],
        "height": 800,
        "shapes": [
         {
          "line": {
           "color": "gray",
           "dash": "dash"
          },
          "opacity": 0.3,
          "type": "line",
          "x0": 0,
          "x1": 1,
          "xref": "x domain",
          "y0": 40,
          "y1": 40,
          "yref": "y"
         },
         {
          "line": {
           "color": "gray",
           "dash": "dash"
          },
          "opacity": 0.3,
          "type": "line",
          "x0": 0,
          "x1": 1,
          "xref": "x domain",
          "y0": 400,
          "y1": 400,
          "yref": "y"
         },
         {
          "line": {
           "color": "gray",
           "dash": "dash"
          },
          "opacity": 0.3,
          "type": "line",
          "x0": 0,
          "x1": 1,
          "xref": "x domain",
          "y0": 4000,
          "y1": 4000,
          "yref": "y"
         },
         {
          "line": {
           "color": "gray",
           "dash": "dash"
          },
          "opacity": 0.3,
          "type": "line",
          "x0": 0,
          "x1": 1,
          "xref": "x domain",
          "y0": 1200,
          "y1": 1200,
          "yref": "y"
         },
         {
          "line": {
           "color": "gray",
           "dash": "dash"
          },
          "opacity": 0.3,
          "type": "line",
          "x0": 0,
          "x1": 1,
          "xref": "x domain",
          "y0": 800,
          "y1": 800,
          "yref": "y"
         },
         {
          "line": {
           "color": "gray",
           "dash": "dash"
          },
          "opacity": 0.3,
          "type": "line",
          "x0": 0,
          "x1": 1,
          "xref": "x2 domain",
          "y0": 40,
          "y1": 40,
          "yref": "y2"
         },
         {
          "line": {
           "color": "gray",
           "dash": "dash"
          },
          "opacity": 0.3,
          "type": "line",
          "x0": 0,
          "x1": 1,
          "xref": "x2 domain",
          "y0": 200,
          "y1": 200,
          "yref": "y2"
         },
         {
          "line": {
           "color": "gray",
           "dash": "dash"
          },
          "opacity": 0.3,
          "type": "line",
          "x0": 0,
          "x1": 1,
          "xref": "x2 domain",
          "y0": 4000,
          "y1": 4000,
          "yref": "y2"
         },
         {
          "line": {
           "color": "gray",
           "dash": "dash"
          },
          "opacity": 0.3,
          "type": "line",
          "x0": 0,
          "x1": 1,
          "xref": "x2 domain",
          "y0": 400,
          "y1": 400,
          "yref": "y2"
         },
         {
          "line": {
           "color": "gray",
           "dash": "dash"
          },
          "opacity": 0.3,
          "type": "line",
          "x0": 0,
          "x1": 1,
          "xref": "x2 domain",
          "y0": 80,
          "y1": 80,
          "yref": "y2"
         },
         {
          "line": {
           "color": "gray",
           "dash": "dash"
          },
          "opacity": 0.3,
          "type": "line",
          "x0": 0,
          "x1": 1,
          "xref": "x3 domain",
          "y0": 40,
          "y1": 40,
          "yref": "y3"
         },
         {
          "line": {
           "color": "gray",
           "dash": "dash"
          },
          "opacity": 0.3,
          "type": "line",
          "x0": 0,
          "x1": 1,
          "xref": "x3 domain",
          "y0": 400,
          "y1": 400,
          "yref": "y3"
         },
         {
          "line": {
           "color": "gray",
           "dash": "dash"
          },
          "opacity": 0.3,
          "type": "line",
          "x0": 0,
          "x1": 1,
          "xref": "x3 domain",
          "y0": 4000,
          "y1": 4000,
          "yref": "y3"
         },
         {
          "line": {
           "color": "gray",
           "dash": "dash"
          },
          "opacity": 0.3,
          "type": "line",
          "x0": 0,
          "x1": 1,
          "xref": "x3 domain",
          "y0": 1200,
          "y1": 1200,
          "yref": "y3"
         },
         {
          "line": {
           "color": "gray",
           "dash": "dash"
          },
          "opacity": 0.3,
          "type": "line",
          "x0": 0,
          "x1": 1,
          "xref": "x3 domain",
          "y0": 800,
          "y1": 800,
          "yref": "y3"
         },
         {
          "line": {
           "color": "gray",
           "dash": "dash"
          },
          "opacity": 0.3,
          "type": "line",
          "x0": 0,
          "x1": 1,
          "xref": "x4 domain",
          "y0": 40,
          "y1": 40,
          "yref": "y4"
         },
         {
          "line": {
           "color": "gray",
           "dash": "dash"
          },
          "opacity": 0.3,
          "type": "line",
          "x0": 0,
          "x1": 1,
          "xref": "x4 domain",
          "y0": 200,
          "y1": 200,
          "yref": "y4"
         },
         {
          "line": {
           "color": "gray",
           "dash": "dash"
          },
          "opacity": 0.3,
          "type": "line",
          "x0": 0,
          "x1": 1,
          "xref": "x4 domain",
          "y0": 4000,
          "y1": 4000,
          "yref": "y4"
         },
         {
          "line": {
           "color": "gray",
           "dash": "dash"
          },
          "opacity": 0.3,
          "type": "line",
          "x0": 0,
          "x1": 1,
          "xref": "x4 domain",
          "y0": 400,
          "y1": 400,
          "yref": "y4"
         },
         {
          "line": {
           "color": "gray",
           "dash": "dash"
          },
          "opacity": 0.3,
          "type": "line",
          "x0": 0,
          "x1": 1,
          "xref": "x4 domain",
          "y0": 80,
          "y1": 80,
          "yref": "y4"
         }
        ],
        "template": {
         "data": {
          "bar": [
           {
            "error_x": {
             "color": "#f2f5fa"
            },
            "error_y": {
             "color": "#f2f5fa"
            },
            "marker": {
             "line": {
              "color": "rgb(17,17,17)",
              "width": 0.5
             },
             "pattern": {
              "fillmode": "overlay",
              "size": 10,
              "solidity": 0.2
             }
            },
            "type": "bar"
           }
          ],
          "barpolar": [
           {
            "marker": {
             "line": {
              "color": "rgb(17,17,17)",
              "width": 0.5
             },
             "pattern": {
              "fillmode": "overlay",
              "size": 10,
              "solidity": 0.2
             }
            },
            "type": "barpolar"
           }
          ],
          "carpet": [
           {
            "aaxis": {
             "endlinecolor": "#A2B1C6",
             "gridcolor": "#506784",
             "linecolor": "#506784",
             "minorgridcolor": "#506784",
             "startlinecolor": "#A2B1C6"
            },
            "baxis": {
             "endlinecolor": "#A2B1C6",
             "gridcolor": "#506784",
             "linecolor": "#506784",
             "minorgridcolor": "#506784",
             "startlinecolor": "#A2B1C6"
            },
            "type": "carpet"
           }
          ],
          "choropleth": [
           {
            "colorbar": {
             "outlinewidth": 0,
             "ticks": ""
            },
            "type": "choropleth"
           }
          ],
          "contour": [
           {
            "colorbar": {
             "outlinewidth": 0,
             "ticks": ""
            },
            "colorscale": [
             [
              0,
              "#0d0887"
             ],
             [
              0.1111111111111111,
              "#46039f"
             ],
             [
              0.2222222222222222,
              "#7201a8"
             ],
             [
              0.3333333333333333,
              "#9c179e"
             ],
             [
              0.4444444444444444,
              "#bd3786"
             ],
             [
              0.5555555555555556,
              "#d8576b"
             ],
             [
              0.6666666666666666,
              "#ed7953"
             ],
             [
              0.7777777777777778,
              "#fb9f3a"
             ],
             [
              0.8888888888888888,
              "#fdca26"
             ],
             [
              1,
              "#f0f921"
             ]
            ],
            "type": "contour"
           }
          ],
          "contourcarpet": [
           {
            "colorbar": {
             "outlinewidth": 0,
             "ticks": ""
            },
            "type": "contourcarpet"
           }
          ],
          "heatmap": [
           {
            "colorbar": {
             "outlinewidth": 0,
             "ticks": ""
            },
            "colorscale": [
             [
              0,
              "#0d0887"
             ],
             [
              0.1111111111111111,
              "#46039f"
             ],
             [
              0.2222222222222222,
              "#7201a8"
             ],
             [
              0.3333333333333333,
              "#9c179e"
             ],
             [
              0.4444444444444444,
              "#bd3786"
             ],
             [
              0.5555555555555556,
              "#d8576b"
             ],
             [
              0.6666666666666666,
              "#ed7953"
             ],
             [
              0.7777777777777778,
              "#fb9f3a"
             ],
             [
              0.8888888888888888,
              "#fdca26"
             ],
             [
              1,
              "#f0f921"
             ]
            ],
            "type": "heatmap"
           }
          ],
          "histogram": [
           {
            "marker": {
             "pattern": {
              "fillmode": "overlay",
              "size": 10,
              "solidity": 0.2
             }
            },
            "type": "histogram"
           }
          ],
          "histogram2d": [
           {
            "colorbar": {
             "outlinewidth": 0,
             "ticks": ""
            },
            "colorscale": [
             [
              0,
              "#0d0887"
             ],
             [
              0.1111111111111111,
              "#46039f"
             ],
             [
              0.2222222222222222,
              "#7201a8"
             ],
             [
              0.3333333333333333,
              "#9c179e"
             ],
             [
              0.4444444444444444,
              "#bd3786"
             ],
             [
              0.5555555555555556,
              "#d8576b"
             ],
             [
              0.6666666666666666,
              "#ed7953"
             ],
             [
              0.7777777777777778,
              "#fb9f3a"
             ],
             [
              0.8888888888888888,
              "#fdca26"
             ],
             [
              1,
              "#f0f921"
             ]
            ],
            "type": "histogram2d"
           }
          ],
          "histogram2dcontour": [
           {
            "colorbar": {
             "outlinewidth": 0,
             "ticks": ""
            },
            "colorscale": [
             [
              0,
              "#0d0887"
             ],
             [
              0.1111111111111111,
              "#46039f"
             ],
             [
              0.2222222222222222,
              "#7201a8"
             ],
             [
              0.3333333333333333,
              "#9c179e"
             ],
             [
              0.4444444444444444,
              "#bd3786"
             ],
             [
              0.5555555555555556,
              "#d8576b"
             ],
             [
              0.6666666666666666,
              "#ed7953"
             ],
             [
              0.7777777777777778,
              "#fb9f3a"
             ],
             [
              0.8888888888888888,
              "#fdca26"
             ],
             [
              1,
              "#f0f921"
             ]
            ],
            "type": "histogram2dcontour"
           }
          ],
          "mesh3d": [
           {
            "colorbar": {
             "outlinewidth": 0,
             "ticks": ""
            },
            "type": "mesh3d"
           }
          ],
          "parcoords": [
           {
            "line": {
             "colorbar": {
              "outlinewidth": 0,
              "ticks": ""
             }
            },
            "type": "parcoords"
           }
          ],
          "pie": [
           {
            "automargin": true,
            "type": "pie"
           }
          ],
          "scatter": [
           {
            "marker": {
             "line": {
              "color": "#283442"
             }
            },
            "type": "scatter"
           }
          ],
          "scatter3d": [
           {
            "line": {
             "colorbar": {
              "outlinewidth": 0,
              "ticks": ""
             }
            },
            "marker": {
             "colorbar": {
              "outlinewidth": 0,
              "ticks": ""
             }
            },
            "type": "scatter3d"
           }
          ],
          "scattercarpet": [
           {
            "marker": {
             "colorbar": {
              "outlinewidth": 0,
              "ticks": ""
             }
            },
            "type": "scattercarpet"
           }
          ],
          "scattergeo": [
           {
            "marker": {
             "colorbar": {
              "outlinewidth": 0,
              "ticks": ""
             }
            },
            "type": "scattergeo"
           }
          ],
          "scattergl": [
           {
            "marker": {
             "line": {
              "color": "#283442"
             }
            },
            "type": "scattergl"
           }
          ],
          "scattermap": [
           {
            "marker": {
             "colorbar": {
              "outlinewidth": 0,
              "ticks": ""
             }
            },
            "type": "scattermap"
           }
          ],
          "scattermapbox": [
           {
            "marker": {
             "colorbar": {
              "outlinewidth": 0,
              "ticks": ""
             }
            },
            "type": "scattermapbox"
           }
          ],
          "scatterpolar": [
           {
            "marker": {
             "colorbar": {
              "outlinewidth": 0,
              "ticks": ""
             }
            },
            "type": "scatterpolar"
           }
          ],
          "scatterpolargl": [
           {
            "marker": {
             "colorbar": {
              "outlinewidth": 0,
              "ticks": ""
             }
            },
            "type": "scatterpolargl"
           }
          ],
          "scatterternary": [
           {
            "marker": {
             "colorbar": {
              "outlinewidth": 0,
              "ticks": ""
             }
            },
            "type": "scatterternary"
           }
          ],
          "surface": [
           {
            "colorbar": {
             "outlinewidth": 0,
             "ticks": ""
            },
            "colorscale": [
             [
              0,
              "#0d0887"
             ],
             [
              0.1111111111111111,
              "#46039f"
             ],
             [
              0.2222222222222222,
              "#7201a8"
             ],
             [
              0.3333333333333333,
              "#9c179e"
             ],
             [
              0.4444444444444444,
              "#bd3786"
             ],
             [
              0.5555555555555556,
              "#d8576b"
             ],
             [
              0.6666666666666666,
              "#ed7953"
             ],
             [
              0.7777777777777778,
              "#fb9f3a"
             ],
             [
              0.8888888888888888,
              "#fdca26"
             ],
             [
              1,
              "#f0f921"
             ]
            ],
            "type": "surface"
           }
          ],
          "table": [
           {
            "cells": {
             "fill": {
              "color": "#506784"
             },
             "line": {
              "color": "rgb(17,17,17)"
             }
            },
            "header": {
             "fill": {
              "color": "#2a3f5f"
             },
             "line": {
              "color": "rgb(17,17,17)"
             }
            },
            "type": "table"
           }
          ]
         },
         "layout": {
          "annotationdefaults": {
           "arrowcolor": "#f2f5fa",
           "arrowhead": 0,
           "arrowwidth": 1
          },
          "autotypenumbers": "strict",
          "coloraxis": {
           "colorbar": {
            "outlinewidth": 0,
            "ticks": ""
           }
          },
          "colorscale": {
           "diverging": [
            [
             0,
             "#8e0152"
            ],
            [
             0.1,
             "#c51b7d"
            ],
            [
             0.2,
             "#de77ae"
            ],
            [
             0.3,
             "#f1b6da"
            ],
            [
             0.4,
             "#fde0ef"
            ],
            [
             0.5,
             "#f7f7f7"
            ],
            [
             0.6,
             "#e6f5d0"
            ],
            [
             0.7,
             "#b8e186"
            ],
            [
             0.8,
             "#7fbc41"
            ],
            [
             0.9,
             "#4d9221"
            ],
            [
             1,
             "#276419"
            ]
           ],
           "sequential": [
            [
             0,
             "#0d0887"
            ],
            [
             0.1111111111111111,
             "#46039f"
            ],
            [
             0.2222222222222222,
             "#7201a8"
            ],
            [
             0.3333333333333333,
             "#9c179e"
            ],
            [
             0.4444444444444444,
             "#bd3786"
            ],
            [
             0.5555555555555556,
             "#d8576b"
            ],
            [
             0.6666666666666666,
             "#ed7953"
            ],
            [
             0.7777777777777778,
             "#fb9f3a"
            ],
            [
             0.8888888888888888,
             "#fdca26"
            ],
            [
             1,
             "#f0f921"
            ]
           ],
           "sequentialminus": [
            [
             0,
             "#0d0887"
            ],
            [
             0.1111111111111111,
             "#46039f"
            ],
            [
             0.2222222222222222,
             "#7201a8"
            ],
            [
             0.3333333333333333,
             "#9c179e"
            ],
            [
             0.4444444444444444,
             "#bd3786"
            ],
            [
             0.5555555555555556,
             "#d8576b"
            ],
            [
             0.6666666666666666,
             "#ed7953"
            ],
            [
             0.7777777777777778,
             "#fb9f3a"
            ],
            [
             0.8888888888888888,
             "#fdca26"
            ],
            [
             1,
             "#f0f921"
            ]
           ]
          },
          "colorway": [
           "#636efa",
           "#EF553B",
           "#00cc96",
           "#ab63fa",
           "#FFA15A",
           "#19d3f3",
           "#FF6692",
           "#B6E880",
           "#FF97FF",
           "#FECB52"
          ],
          "font": {
           "color": "#f2f5fa"
          },
          "geo": {
           "bgcolor": "rgb(17,17,17)",
           "lakecolor": "rgb(17,17,17)",
           "landcolor": "rgb(17,17,17)",
           "showlakes": true,
           "showland": true,
           "subunitcolor": "#506784"
          },
          "hoverlabel": {
           "align": "left"
          },
          "hovermode": "closest",
          "mapbox": {
           "style": "dark"
          },
          "paper_bgcolor": "rgb(17,17,17)",
          "plot_bgcolor": "rgb(17,17,17)",
          "polar": {
           "angularaxis": {
            "gridcolor": "#506784",
            "linecolor": "#506784",
            "ticks": ""
           },
           "bgcolor": "rgb(17,17,17)",
           "radialaxis": {
            "gridcolor": "#506784",
            "linecolor": "#506784",
            "ticks": ""
           }
          },
          "scene": {
           "xaxis": {
            "backgroundcolor": "rgb(17,17,17)",
            "gridcolor": "#506784",
            "gridwidth": 2,
            "linecolor": "#506784",
            "showbackground": true,
            "ticks": "",
            "zerolinecolor": "#C8D4E3"
           },
           "yaxis": {
            "backgroundcolor": "rgb(17,17,17)",
            "gridcolor": "#506784",
            "gridwidth": 2,
            "linecolor": "#506784",
            "showbackground": true,
            "ticks": "",
            "zerolinecolor": "#C8D4E3"
           },
           "zaxis": {
            "backgroundcolor": "rgb(17,17,17)",
            "gridcolor": "#506784",
            "gridwidth": 2,
            "linecolor": "#506784",
            "showbackground": true,
            "ticks": "",
            "zerolinecolor": "#C8D4E3"
           }
          },
          "shapedefaults": {
           "line": {
            "color": "#f2f5fa"
           }
          },
          "sliderdefaults": {
           "bgcolor": "#C8D4E3",
           "bordercolor": "rgb(17,17,17)",
           "borderwidth": 1,
           "tickwidth": 0
          },
          "ternary": {
           "aaxis": {
            "gridcolor": "#506784",
            "linecolor": "#506784",
            "ticks": ""
           },
           "baxis": {
            "gridcolor": "#506784",
            "linecolor": "#506784",
            "ticks": ""
           },
           "bgcolor": "rgb(17,17,17)",
           "caxis": {
            "gridcolor": "#506784",
            "linecolor": "#506784",
            "ticks": ""
           }
          },
          "title": {
           "x": 0.05
          },
          "updatemenudefaults": {
           "bgcolor": "#506784",
           "borderwidth": 0
          },
          "xaxis": {
           "automargin": true,
           "gridcolor": "#283442",
           "linecolor": "#506784",
           "ticks": "",
           "title": {
            "standoff": 15
           },
           "zerolinecolor": "#283442",
           "zerolinewidth": 2
          },
          "yaxis": {
           "automargin": true,
           "gridcolor": "#283442",
           "linecolor": "#506784",
           "ticks": "",
           "title": {
            "standoff": 15
           },
           "zerolinecolor": "#283442",
           "zerolinewidth": 2
          }
         }
        },
        "title": {
         "text": "Bandwidth Requirements: Full Blob vs PeerDAS Column Propagation"
        },
        "xaxis": {
         "anchor": "y",
         "domain": [
          0,
          0.44
         ],
         "tickangle": 45
        },
        "xaxis2": {
         "anchor": "y2",
         "domain": [
          0.56,
          1
         ],
         "tickangle": 45
        },
        "xaxis3": {
         "anchor": "y3",
         "domain": [
          0,
          0.44
         ],
         "tickangle": 45
        },
        "xaxis4": {
         "anchor": "y4",
         "domain": [
          0.56,
          1
         ],
         "tickangle": 45
        },
        "yaxis": {
         "anchor": "x",
         "domain": [
          0.56,
          1
         ],
         "title": {
          "text": "Bandwidth (Mbps)"
         },
         "type": "log"
        },
        "yaxis2": {
         "anchor": "x2",
         "domain": [
          0.56,
          1
         ],
         "title": {
          "text": "Bandwidth (Mbps)"
         },
         "type": "log"
        },
        "yaxis3": {
         "anchor": "x3",
         "domain": [
          0,
          0.44
         ],
         "title": {
          "text": "Bandwidth (Mbps)"
         },
         "type": "log"
        },
        "yaxis4": {
         "anchor": "x4",
         "domain": [
          0,
          0.44
         ],
         "title": {
          "text": "Bandwidth (Mbps)"
         },
         "type": "log"
        }
       }
      }
     },
     "metadata": {},
     "output_type": "display_data"
    }
   ],
   "source": [
    "# 1. PeerDAS vs Full Blob Propagation Comparison\n",
    "fig = make_subplots(\n",
    "    rows=1, cols=2,\n",
    "    subplot_titles=('Download Bandwidth Comparison', 'Upload Bandwidth Comparison'),\n",
    "    horizontal_spacing=0.15\n",
    ")\n",
    "\n",
    "# Create scenario labels with only target/max blob counts\n",
    "scenario_labels = [f\"{row['target_blobs']}/{row['max_blobs']}\" for _, row in df_results_full.iterrows()]\n",
    "\n",
    "# Define methods to compare with colors\n",
    "methods = [\n",
    "    {'name': 'Full Blob', 'data': df_results_full, 'color': 'lightblue'},\n",
    "    {'name': 'PeerDAS-4', 'data': df_results_peerdas[df_results_peerdas['custody_count'] == 4], 'color': 'green'},\n",
    "    {'name': 'PeerDAS-16', 'data': df_results_peerdas[df_results_peerdas['custody_count'] == 16], 'color': 'blue'},\n",
    "    {'name': 'PeerDAS-32', 'data': df_results_peerdas[df_results_peerdas['custody_count'] == 32], 'color': 'red'}\n",
    "]\n",
    "\n",
    "# Add traces for both download (col 1) and upload (col 2)\n",
    "for i, method in enumerate(methods):\n",
    "    # Download chart\n",
    "    fig.add_trace(\n",
    "        go.Bar(\n",
    "            x=scenario_labels,\n",
    "            y=method['data']['avg_download_mbps'],\n",
    "            name=method['name'],\n",
    "            marker_color=method['color'],\n",
    "            offsetgroup=i+1\n",
    "        ),\n",
    "        row=1, col=1\n",
    "    )\n",
    "    \n",
    "    # Upload chart (hide legend to avoid duplicates)\n",
    "    fig.add_trace(\n",
    "        go.Bar(\n",
    "            x=scenario_labels,\n",
    "            y=method['data']['avg_upload_mbps'],\n",
    "            name=method['name'],\n",
    "            marker_color=method['color'],\n",
    "            offsetgroup=i+1,\n",
    "            showlegend=False\n",
    "        ),\n",
    "        row=1, col=2\n",
    "    )\n",
    "\n",
    "fig.update_xaxes(title=\"Target/Max Blobs per Block\")\n",
    "fig.update_yaxes(type=\"log\", title=\"Bandwidth (Mbps)\")\n",
    "fig.update_layout(\n",
    "    title=\"Bandwidth Requirements: Full Blob vs PeerDAS Comparison\",\n",
    "    height=600,\n",
    "    width=2400,\n",
    "    barmode='group'\n",
    ")\n",
    "\n",
    "fig.show()"
   ]
  },
  {
   "cell_type": "code",
   "execution_count": 6,
   "id": "viz-compatibility",
   "metadata": {},
   "outputs": [
    {
     "data": {
      "application/vnd.plotly.v1+json": {
       "config": {
        "plotlyServerURL": "https://plot.ly"
       },
       "data": [
        {
         "colorscale": [
          [
           0,
           "red"
          ],
          [
           1,
           "green"
          ]
         ],
         "showscale": false,
         "text": {
          "bdata": "AQEBAQEBAQEBAQEBAQEBAQEBAQEBAQEBAQEBAQEBAQEBAQEBAQEBAQEBAQEBAQEBAQEBAQEBAQEBAQEBAQEBAQE=",
          "dtype": "i1",
          "shape": "5, 13"
         },
         "textfont": {
          "size": 10
         },
         "texttemplate": "%{text}",
         "type": "heatmap",
         "x": [
          "Aggressive",
          "Aggressive+",
          "Conservative +",
          "Current (Pectra)",
          "High Scale",
          "High Scale+",
          "Maximum",
          "Moderate",
          "Moderate+",
          "Pre-Pectra (EIP-4844)",
          "Progressive",
          "Ultra Scale",
          "Ultra Scale+"
         ],
         "xaxis": "x",
         "y": [
          "home_cable",
          "home_fiber",
          "home_staker",
          "institutional",
          "professional"
         ],
         "yaxis": "y",
         "z": {
          "bdata": "AQEBAQEBAQEBAQEBAQEBAQEBAQEBAQEBAQEBAQEBAQEBAQEBAQEBAQEBAQEBAQEBAQEBAQEBAQEBAQEBAQEBAQE=",
          "dtype": "i1",
          "shape": "5, 13"
         }
        },
        {
         "colorbar": {
          "ticktext": [
           "No",
           "Yes"
          ],
          "tickvals": [
           0,
           1
          ],
          "title": {
           "text": "Compatible"
          }
         },
         "colorscale": [
          [
           0,
           "red"
          ],
          [
           1,
           "green"
          ]
         ],
         "showscale": true,
         "text": {
          "bdata": "AQEBAQEBAQEBAQEBAQEBAQEBAQEBAQEBAQEBAQEBAQEBAQEBAQEBAQEBAQEBAQEBAQEBAQEBAQEBAQEBAQEBAQE=",
          "dtype": "i1",
          "shape": "5, 13"
         },
         "textfont": {
          "size": 10
         },
         "texttemplate": "%{text}",
         "type": "heatmap",
         "x": [
          "Aggressive",
          "Aggressive+",
          "Conservative +",
          "Current (Pectra)",
          "High Scale",
          "High Scale+",
          "Maximum",
          "Moderate",
          "Moderate+",
          "Pre-Pectra (EIP-4844)",
          "Progressive",
          "Ultra Scale",
          "Ultra Scale+"
         ],
         "xaxis": "x2",
         "y": [
          "home_cable",
          "home_fiber",
          "home_staker",
          "institutional",
          "professional"
         ],
         "yaxis": "y2",
         "z": {
          "bdata": "AQEBAQEBAQEBAQEBAQEBAQEBAQEBAQEBAQEBAQEBAQEBAQEBAQEBAQEBAQEBAQEBAQEBAQEBAQEBAQEBAQEBAQE=",
          "dtype": "i1",
          "shape": "5, 13"
         }
        }
       ],
       "layout": {
        "annotations": [
         {
          "font": {
           "size": 16
          },
          "showarrow": false,
          "text": "Average Load Compatibility",
          "x": 0.2125,
          "xanchor": "center",
          "xref": "paper",
          "y": 1,
          "yanchor": "bottom",
          "yref": "paper"
         },
         {
          "font": {
           "size": 16
          },
          "showarrow": false,
          "text": "Peak Load Compatibility",
          "x": 0.7875,
          "xanchor": "center",
          "xref": "paper",
          "y": 1,
          "yanchor": "bottom",
          "yref": "paper"
         }
        ],
        "height": 500,
        "showlegend": false,
        "template": {
         "data": {
          "bar": [
           {
            "error_x": {
             "color": "#f2f5fa"
            },
            "error_y": {
             "color": "#f2f5fa"
            },
            "marker": {
             "line": {
              "color": "rgb(17,17,17)",
              "width": 0.5
             },
             "pattern": {
              "fillmode": "overlay",
              "size": 10,
              "solidity": 0.2
             }
            },
            "type": "bar"
           }
          ],
          "barpolar": [
           {
            "marker": {
             "line": {
              "color": "rgb(17,17,17)",
              "width": 0.5
             },
             "pattern": {
              "fillmode": "overlay",
              "size": 10,
              "solidity": 0.2
             }
            },
            "type": "barpolar"
           }
          ],
          "carpet": [
           {
            "aaxis": {
             "endlinecolor": "#A2B1C6",
             "gridcolor": "#506784",
             "linecolor": "#506784",
             "minorgridcolor": "#506784",
             "startlinecolor": "#A2B1C6"
            },
            "baxis": {
             "endlinecolor": "#A2B1C6",
             "gridcolor": "#506784",
             "linecolor": "#506784",
             "minorgridcolor": "#506784",
             "startlinecolor": "#A2B1C6"
            },
            "type": "carpet"
           }
          ],
          "choropleth": [
           {
            "colorbar": {
             "outlinewidth": 0,
             "ticks": ""
            },
            "type": "choropleth"
           }
          ],
          "contour": [
           {
            "colorbar": {
             "outlinewidth": 0,
             "ticks": ""
            },
            "colorscale": [
             [
              0,
              "#0d0887"
             ],
             [
              0.1111111111111111,
              "#46039f"
             ],
             [
              0.2222222222222222,
              "#7201a8"
             ],
             [
              0.3333333333333333,
              "#9c179e"
             ],
             [
              0.4444444444444444,
              "#bd3786"
             ],
             [
              0.5555555555555556,
              "#d8576b"
             ],
             [
              0.6666666666666666,
              "#ed7953"
             ],
             [
              0.7777777777777778,
              "#fb9f3a"
             ],
             [
              0.8888888888888888,
              "#fdca26"
             ],
             [
              1,
              "#f0f921"
             ]
            ],
            "type": "contour"
           }
          ],
          "contourcarpet": [
           {
            "colorbar": {
             "outlinewidth": 0,
             "ticks": ""
            },
            "type": "contourcarpet"
           }
          ],
          "heatmap": [
           {
            "colorbar": {
             "outlinewidth": 0,
             "ticks": ""
            },
            "colorscale": [
             [
              0,
              "#0d0887"
             ],
             [
              0.1111111111111111,
              "#46039f"
             ],
             [
              0.2222222222222222,
              "#7201a8"
             ],
             [
              0.3333333333333333,
              "#9c179e"
             ],
             [
              0.4444444444444444,
              "#bd3786"
             ],
             [
              0.5555555555555556,
              "#d8576b"
             ],
             [
              0.6666666666666666,
              "#ed7953"
             ],
             [
              0.7777777777777778,
              "#fb9f3a"
             ],
             [
              0.8888888888888888,
              "#fdca26"
             ],
             [
              1,
              "#f0f921"
             ]
            ],
            "type": "heatmap"
           }
          ],
          "histogram": [
           {
            "marker": {
             "pattern": {
              "fillmode": "overlay",
              "size": 10,
              "solidity": 0.2
             }
            },
            "type": "histogram"
           }
          ],
          "histogram2d": [
           {
            "colorbar": {
             "outlinewidth": 0,
             "ticks": ""
            },
            "colorscale": [
             [
              0,
              "#0d0887"
             ],
             [
              0.1111111111111111,
              "#46039f"
             ],
             [
              0.2222222222222222,
              "#7201a8"
             ],
             [
              0.3333333333333333,
              "#9c179e"
             ],
             [
              0.4444444444444444,
              "#bd3786"
             ],
             [
              0.5555555555555556,
              "#d8576b"
             ],
             [
              0.6666666666666666,
              "#ed7953"
             ],
             [
              0.7777777777777778,
              "#fb9f3a"
             ],
             [
              0.8888888888888888,
              "#fdca26"
             ],
             [
              1,
              "#f0f921"
             ]
            ],
            "type": "histogram2d"
           }
          ],
          "histogram2dcontour": [
           {
            "colorbar": {
             "outlinewidth": 0,
             "ticks": ""
            },
            "colorscale": [
             [
              0,
              "#0d0887"
             ],
             [
              0.1111111111111111,
              "#46039f"
             ],
             [
              0.2222222222222222,
              "#7201a8"
             ],
             [
              0.3333333333333333,
              "#9c179e"
             ],
             [
              0.4444444444444444,
              "#bd3786"
             ],
             [
              0.5555555555555556,
              "#d8576b"
             ],
             [
              0.6666666666666666,
              "#ed7953"
             ],
             [
              0.7777777777777778,
              "#fb9f3a"
             ],
             [
              0.8888888888888888,
              "#fdca26"
             ],
             [
              1,
              "#f0f921"
             ]
            ],
            "type": "histogram2dcontour"
           }
          ],
          "mesh3d": [
           {
            "colorbar": {
             "outlinewidth": 0,
             "ticks": ""
            },
            "type": "mesh3d"
           }
          ],
          "parcoords": [
           {
            "line": {
             "colorbar": {
              "outlinewidth": 0,
              "ticks": ""
             }
            },
            "type": "parcoords"
           }
          ],
          "pie": [
           {
            "automargin": true,
            "type": "pie"
           }
          ],
          "scatter": [
           {
            "marker": {
             "line": {
              "color": "#283442"
             }
            },
            "type": "scatter"
           }
          ],
          "scatter3d": [
           {
            "line": {
             "colorbar": {
              "outlinewidth": 0,
              "ticks": ""
             }
            },
            "marker": {
             "colorbar": {
              "outlinewidth": 0,
              "ticks": ""
             }
            },
            "type": "scatter3d"
           }
          ],
          "scattercarpet": [
           {
            "marker": {
             "colorbar": {
              "outlinewidth": 0,
              "ticks": ""
             }
            },
            "type": "scattercarpet"
           }
          ],
          "scattergeo": [
           {
            "marker": {
             "colorbar": {
              "outlinewidth": 0,
              "ticks": ""
             }
            },
            "type": "scattergeo"
           }
          ],
          "scattergl": [
           {
            "marker": {
             "line": {
              "color": "#283442"
             }
            },
            "type": "scattergl"
           }
          ],
          "scattermap": [
           {
            "marker": {
             "colorbar": {
              "outlinewidth": 0,
              "ticks": ""
             }
            },
            "type": "scattermap"
           }
          ],
          "scattermapbox": [
           {
            "marker": {
             "colorbar": {
              "outlinewidth": 0,
              "ticks": ""
             }
            },
            "type": "scattermapbox"
           }
          ],
          "scatterpolar": [
           {
            "marker": {
             "colorbar": {
              "outlinewidth": 0,
              "ticks": ""
             }
            },
            "type": "scatterpolar"
           }
          ],
          "scatterpolargl": [
           {
            "marker": {
             "colorbar": {
              "outlinewidth": 0,
              "ticks": ""
             }
            },
            "type": "scatterpolargl"
           }
          ],
          "scatterternary": [
           {
            "marker": {
             "colorbar": {
              "outlinewidth": 0,
              "ticks": ""
             }
            },
            "type": "scatterternary"
           }
          ],
          "surface": [
           {
            "colorbar": {
             "outlinewidth": 0,
             "ticks": ""
            },
            "colorscale": [
             [
              0,
              "#0d0887"
             ],
             [
              0.1111111111111111,
              "#46039f"
             ],
             [
              0.2222222222222222,
              "#7201a8"
             ],
             [
              0.3333333333333333,
              "#9c179e"
             ],
             [
              0.4444444444444444,
              "#bd3786"
             ],
             [
              0.5555555555555556,
              "#d8576b"
             ],
             [
              0.6666666666666666,
              "#ed7953"
             ],
             [
              0.7777777777777778,
              "#fb9f3a"
             ],
             [
              0.8888888888888888,
              "#fdca26"
             ],
             [
              1,
              "#f0f921"
             ]
            ],
            "type": "surface"
           }
          ],
          "table": [
           {
            "cells": {
             "fill": {
              "color": "#506784"
             },
             "line": {
              "color": "rgb(17,17,17)"
             }
            },
            "header": {
             "fill": {
              "color": "#2a3f5f"
             },
             "line": {
              "color": "rgb(17,17,17)"
             }
            },
            "type": "table"
           }
          ]
         },
         "layout": {
          "annotationdefaults": {
           "arrowcolor": "#f2f5fa",
           "arrowhead": 0,
           "arrowwidth": 1
          },
          "autotypenumbers": "strict",
          "coloraxis": {
           "colorbar": {
            "outlinewidth": 0,
            "ticks": ""
           }
          },
          "colorscale": {
           "diverging": [
            [
             0,
             "#8e0152"
            ],
            [
             0.1,
             "#c51b7d"
            ],
            [
             0.2,
             "#de77ae"
            ],
            [
             0.3,
             "#f1b6da"
            ],
            [
             0.4,
             "#fde0ef"
            ],
            [
             0.5,
             "#f7f7f7"
            ],
            [
             0.6,
             "#e6f5d0"
            ],
            [
             0.7,
             "#b8e186"
            ],
            [
             0.8,
             "#7fbc41"
            ],
            [
             0.9,
             "#4d9221"
            ],
            [
             1,
             "#276419"
            ]
           ],
           "sequential": [
            [
             0,
             "#0d0887"
            ],
            [
             0.1111111111111111,
             "#46039f"
            ],
            [
             0.2222222222222222,
             "#7201a8"
            ],
            [
             0.3333333333333333,
             "#9c179e"
            ],
            [
             0.4444444444444444,
             "#bd3786"
            ],
            [
             0.5555555555555556,
             "#d8576b"
            ],
            [
             0.6666666666666666,
             "#ed7953"
            ],
            [
             0.7777777777777778,
             "#fb9f3a"
            ],
            [
             0.8888888888888888,
             "#fdca26"
            ],
            [
             1,
             "#f0f921"
            ]
           ],
           "sequentialminus": [
            [
             0,
             "#0d0887"
            ],
            [
             0.1111111111111111,
             "#46039f"
            ],
            [
             0.2222222222222222,
             "#7201a8"
            ],
            [
             0.3333333333333333,
             "#9c179e"
            ],
            [
             0.4444444444444444,
             "#bd3786"
            ],
            [
             0.5555555555555556,
             "#d8576b"
            ],
            [
             0.6666666666666666,
             "#ed7953"
            ],
            [
             0.7777777777777778,
             "#fb9f3a"
            ],
            [
             0.8888888888888888,
             "#fdca26"
            ],
            [
             1,
             "#f0f921"
            ]
           ]
          },
          "colorway": [
           "#636efa",
           "#EF553B",
           "#00cc96",
           "#ab63fa",
           "#FFA15A",
           "#19d3f3",
           "#FF6692",
           "#B6E880",
           "#FF97FF",
           "#FECB52"
          ],
          "font": {
           "color": "#f2f5fa"
          },
          "geo": {
           "bgcolor": "rgb(17,17,17)",
           "lakecolor": "rgb(17,17,17)",
           "landcolor": "rgb(17,17,17)",
           "showlakes": true,
           "showland": true,
           "subunitcolor": "#506784"
          },
          "hoverlabel": {
           "align": "left"
          },
          "hovermode": "closest",
          "mapbox": {
           "style": "dark"
          },
          "paper_bgcolor": "rgb(17,17,17)",
          "plot_bgcolor": "rgb(17,17,17)",
          "polar": {
           "angularaxis": {
            "gridcolor": "#506784",
            "linecolor": "#506784",
            "ticks": ""
           },
           "bgcolor": "rgb(17,17,17)",
           "radialaxis": {
            "gridcolor": "#506784",
            "linecolor": "#506784",
            "ticks": ""
           }
          },
          "scene": {
           "xaxis": {
            "backgroundcolor": "rgb(17,17,17)",
            "gridcolor": "#506784",
            "gridwidth": 2,
            "linecolor": "#506784",
            "showbackground": true,
            "ticks": "",
            "zerolinecolor": "#C8D4E3"
           },
           "yaxis": {
            "backgroundcolor": "rgb(17,17,17)",
            "gridcolor": "#506784",
            "gridwidth": 2,
            "linecolor": "#506784",
            "showbackground": true,
            "ticks": "",
            "zerolinecolor": "#C8D4E3"
           },
           "zaxis": {
            "backgroundcolor": "rgb(17,17,17)",
            "gridcolor": "#506784",
            "gridwidth": 2,
            "linecolor": "#506784",
            "showbackground": true,
            "ticks": "",
            "zerolinecolor": "#C8D4E3"
           }
          },
          "shapedefaults": {
           "line": {
            "color": "#f2f5fa"
           }
          },
          "sliderdefaults": {
           "bgcolor": "#C8D4E3",
           "bordercolor": "rgb(17,17,17)",
           "borderwidth": 1,
           "tickwidth": 0
          },
          "ternary": {
           "aaxis": {
            "gridcolor": "#506784",
            "linecolor": "#506784",
            "ticks": ""
           },
           "baxis": {
            "gridcolor": "#506784",
            "linecolor": "#506784",
            "ticks": ""
           },
           "bgcolor": "rgb(17,17,17)",
           "caxis": {
            "gridcolor": "#506784",
            "linecolor": "#506784",
            "ticks": ""
           }
          },
          "title": {
           "x": 0.05
          },
          "updatemenudefaults": {
           "bgcolor": "#506784",
           "borderwidth": 0
          },
          "xaxis": {
           "automargin": true,
           "gridcolor": "#283442",
           "linecolor": "#506784",
           "ticks": "",
           "title": {
            "standoff": 15
           },
           "zerolinecolor": "#283442",
           "zerolinewidth": 2
          },
          "yaxis": {
           "automargin": true,
           "gridcolor": "#283442",
           "linecolor": "#506784",
           "ticks": "",
           "title": {
            "standoff": 15
           },
           "zerolinecolor": "#283442",
           "zerolinewidth": 2
          }
         }
        },
        "title": {
         "text": "Node Type Compatibility Matrix (Accounting for Upload/Download Asymmetry)"
        },
        "xaxis": {
         "anchor": "y",
         "domain": [
          0,
          0.425
         ],
         "tickangle": 45
        },
        "xaxis2": {
         "anchor": "y2",
         "domain": [
          0.575,
          1
         ],
         "tickangle": 45
        },
        "yaxis": {
         "anchor": "x",
         "domain": [
          0,
          1
         ]
        },
        "yaxis2": {
         "anchor": "x2",
         "domain": [
          0,
          1
         ]
        }
       }
      }
     },
     "metadata": {},
     "output_type": "display_data"
    },
    {
     "name": "stdout",
     "output_type": "stream",
     "text": [
      "\n",
      "Node Type Bandwidth Limits (50% reserved for other operations):\n",
      "----------------------------------------------------------------------\n",
      "home_staker     - Download:   40.0 Mbps, Upload:   40.0 Mbps\n",
      "professional    - Download:  400.0 Mbps, Upload:  200.0 Mbps\n",
      "institutional   - Download: 4000.0 Mbps, Upload: 4000.0 Mbps\n",
      "home_fiber      - Download: 1200.0 Mbps, Upload:  400.0 Mbps\n",
      "home_cable      - Download:  800.0 Mbps, Upload:   80.0 Mbps\n"
     ]
    }
   ],
   "source": [
    "# 2. Node Compatibility Matrix - Full Blob Propagation (Upload/Download Split)\n",
    "\n",
    "# Helper function to create compatibility matrix\n",
    "def create_compatibility_matrix(df_results, load_type):\n",
    "    \"\"\"Create compatibility matrix for a specific load type.\"\"\"\n",
    "    compatibility_data = []\n",
    "    \n",
    "    for _, row in df_results.iterrows():\n",
    "        for node_type, bandwidth in ALL_CONNECTION_TYPES.items():\n",
    "            if load_type == \"avg\":\n",
    "                compatible = check_node_compatibility(\n",
    "                    row[\"avg_download\"], row[\"avg_upload\"], bandwidth\n",
    "                )\n",
    "            elif load_type == \"max\":\n",
    "                compatible = check_node_compatibility(\n",
    "                    row[\"max_download\"], row[\"max_upload\"], bandwidth\n",
    "                )\n",
    "            elif load_type == \"peak_avg\":\n",
    "                compatible = check_node_compatibility(\n",
    "                    row[\"peak_download\"], row[\"peak_upload\"], bandwidth\n",
    "                )\n",
    "            elif load_type == \"peak_max\":\n",
    "                compatible = check_node_compatibility(\n",
    "                    row[\"peak_max_download\"], row[\"peak_max_upload\"], bandwidth\n",
    "                )\n",
    "            \n",
    "            compatibility_data.append({\n",
    "                \"scenario\": f\"{row['target_blobs']}/{row['max_blobs']}\",\n",
    "                \"target_blobs\": row['target_blobs'],\n",
    "                \"max_blobs\": row['max_blobs'],\n",
    "                \"node_type\": node_type,\n",
    "                \"compatible\": compatible\n",
    "            })\n",
    "    \n",
    "    df = pd.DataFrame(compatibility_data)\n",
    "    # Sort by target_blobs and max_blobs before pivoting\n",
    "    df = df.sort_values(['target_blobs', 'max_blobs'])\n",
    "    # Get unique sorted scenarios\n",
    "    sorted_scenarios = df[['scenario', 'target_blobs', 'max_blobs']].drop_duplicates().sort_values(['target_blobs', 'max_blobs'])['scenario'].tolist()\n",
    "    # Pivot and reindex with sorted columns\n",
    "    matrix = df.pivot(index='node_type', columns='scenario', values='compatible').astype(int)\n",
    "    matrix = matrix[sorted_scenarios]  # Reorder columns\n",
    "    return matrix\n",
    "\n",
    "# Create all matrices\n",
    "matrices = {\n",
    "    \"Average Load (Target Blobs)\": create_compatibility_matrix(df_results_balanced, \"avg\"),\n",
    "    \"Max Load (Max Blobs)\": create_compatibility_matrix(df_results_balanced, \"max\"),\n",
    "    \"Peak Average Load (2x Target)\": create_compatibility_matrix(df_results_balanced, \"peak_avg\"),\n",
    "    \"Peak Max Load (2x Max)\": create_compatibility_matrix(df_results_balanced, \"peak_max\")\n",
    "}\n",
    "\n",
    "# Create 2x2 subplot figure\n",
    "fig = make_subplots(\n",
    "    rows=2, cols=2,\n",
    "    subplot_titles=list(matrices.keys()),\n",
    "    horizontal_spacing=0.15,\n",
    "    vertical_spacing=0.15\n",
    ")\n",
    "\n",
    "# Define discrete colorscale with only red and green\n",
    "discrete_colorscale = [[0, 'red'], [0.5, 'red'], [0.5, 'green'], [1, 'green']]\n",
    "\n",
    "# Add heatmaps to subplots\n",
    "positions = [(1, 1), (1, 2), (2, 1), (2, 2)]\n",
    "for (title, matrix), (row, col) in zip(matrices.items(), positions):\n",
    "    # Create text matrix with Y/N using map instead of deprecated applymap\n",
    "    text_matrix = matrix.map(lambda x: \"Y\" if x == 1 else \"N\")\n",
    "    \n",
    "    fig.add_trace(\n",
    "        go.Heatmap(\n",
    "            z=matrix.values,\n",
    "            x=matrix.columns,\n",
    "            y=matrix.index,\n",
    "            colorscale=discrete_colorscale,\n",
    "            zmin=0,\n",
    "            zmax=1,\n",
    "            showscale=(row == 2 and col == 2),  # Only show scale on last plot\n",
    "            text=text_matrix.values,\n",
    "            texttemplate=\"%{text}\",\n",
    "            textfont={\"size\": 12, \"color\": \"white\"},\n",
    "            colorbar=dict(title=\"Compatible\", tickvals=[0, 1], ticktext=[\"No\", \"Yes\"])\n",
    "        ),\n",
    "        row=row, col=col\n",
    "    )\n",
    "\n",
    "# Update layout\n",
    "fig.update_layout(\n",
    "    title=\"Node Type Compatibility Matrix - Full Blob Propagation Only\",\n",
    "    height=800,\n",
    "    width=1600,\n",
    "    showlegend=False\n",
    ")\n",
    "fig.update_xaxes(title=\"Target/Max Blobs per Block\", tickangle=45, tickfont=dict(size=10))\n",
    "fig.update_yaxes(tickfont=dict(size=10))\n",
    "\n",
    "fig.show()\n",
    "\n",
    "# Display bandwidth limits\n",
    "def display_bandwidth_limits():\n",
    "    \"\"\"Display formatted bandwidth limits table.\"\"\"\n",
    "    print(f\"\\nNode Type Bandwidth Limits ({int((1-BANDWIDTH_AVAILABLE_FACTOR)*100)}% reserved for other operations):\")\n",
    "    print(\"-\" * 70)\n",
    "    \n",
    "    print(\"\\nEIP-7870 Official Limits (Available for blob propagation):\")\n",
    "    for node_type, bw in EIP_7870_BANDWIDTH_LIMITS.items():\n",
    "        down_mbps = (bw[\"down\"] * BANDWIDTH_AVAILABLE_FACTOR * 8) / (1024 * 1024)\n",
    "        up_mbps = (bw[\"up\"] * BANDWIDTH_AVAILABLE_FACTOR * 8) / (1024 * 1024)\n",
    "        print(f\"{node_type.replace('_', ' ').title():20} - Download: {down_mbps:6.1f} Mbps, Upload: {up_mbps:6.1f} Mbps\")\n",
    "    \n",
    "    print(\"\\nAdditional Connection Types (Available for blob propagation):\")\n",
    "    for node_type, bw in ADDITIONAL_CONNECTION_TYPES.items():\n",
    "        down_mbps = (bw[\"down\"] * BANDWIDTH_AVAILABLE_FACTOR * 8) / (1024 * 1024)\n",
    "        up_mbps = (bw[\"up\"] * BANDWIDTH_AVAILABLE_FACTOR * 8) / (1024 * 1024)\n",
    "        print(f\"{node_type.replace('_', ' ').title():20} - Download: {down_mbps:6.1f} Mbps, Upload: {up_mbps:6.1f} Mbps\")\n",
    "\n",
    "# Display compatibility summary\n",
    "def display_compatibility_summary(matrices):\n",
    "    \"\"\"Display summary statistics for compatibility across all load types.\"\"\"\n",
    "    print(\"\\n\" + \"=\" * 70)\n",
    "    print(\"COMPATIBILITY SUMMARY (Full Blob Propagation):\")\n",
    "    print(\"=\" * 70)\n",
    "    print(\"\\nNumber of compatible scenarios (out of 13) for each node type:\")\n",
    "    print(\"-\" * 70)\n",
    "    \n",
    "    node_types = list(matrices.values())[0].index\n",
    "    \n",
    "    for node_type in node_types:\n",
    "        counts = [matrix.loc[node_type].sum() for matrix in matrices.values()]\n",
    "        print(f\"{node_type.replace('_', ' ').title():20} - Avg: {counts[0]:2d}, Max: {counts[1]:2d}, \"\n",
    "              f\"Peak Avg: {counts[2]:2d}, Peak Max: {counts[3]:2d}\")\n",
    "\n",
    "# Display failure thresholds\n",
    "def display_failure_thresholds(matrices):\n",
    "    \"\"\"Display the first failure point for each node type and load condition.\"\"\"\n",
    "    print(\"\\n\" + \"=\" * 70)\n",
    "    print(\"FAILURE THRESHOLDS (first incompatible scenario) - Full Blob Only:\")\n",
    "    print(\"=\" * 70)\n",
    "    \n",
    "    node_types = list(matrices.values())[0].index\n",
    "    \n",
    "    for node_type in node_types:\n",
    "        print(f\"\\n{node_type.replace('_', ' ').title()}:\")\n",
    "        \n",
    "        for load_type, matrix in matrices.items():\n",
    "            row = matrix.loc[node_type]\n",
    "            failures = row[row == 0]\n",
    "            \n",
    "            if len(failures) > 0:\n",
    "                first_failure = failures.index[0]\n",
    "                # Extract target/max from the label\n",
    "                target_max = first_failure.split('/')\n",
    "                load_label = load_type.split('(')[0].strip()\n",
    "                print(f\"  {load_label:18} fails at: {first_failure} blobs\")\n",
    "            else:\n",
    "                load_label = load_type.split('(')[0].strip()\n",
    "                print(f\"  {load_label:18} fails at: Never (all scenarios compatible)\")\n",
    "\n",
    "# Execute display functions\n",
    "display_bandwidth_limits()\n",
    "display_compatibility_summary(matrices)\n",
    "display_failure_thresholds(matrices)\n",
    "\n",
    "print(\"\\nNote: For PeerDAS compatibility analysis, see section 'PeerDAS vs Full Blob Analysis'\")"
   ]
  },
  {
   "cell_type": "code",
   "execution_count": 7,
   "id": "p2k55s55mu",
   "metadata": {},
   "outputs": [
    {
     "data": {
      "application/vnd.plotly.v1+json": {
       "config": {
        "plotlyServerURL": "https://plot.ly"
       },
       "data": [
        {
         "line": {
          "color": "blue",
          "width": 3
         },
         "marker": {
          "size": 8
         },
         "mode": "lines+markers",
         "name": "Current (Pectra)",
         "type": "scatter",
         "x": {
          "bdata": "BAAIABAAIABAAIAA",
          "dtype": "i2"
         },
         "y": {
          "bdata": "AAAAAAAAmD8AAAAAAACoPwAAAAAAALg/AAAAAAAAyD8AAAAAAADYPwAAAAAAAOg/",
          "dtype": "f8"
         }
        },
        {
         "line": {
          "color": "green",
          "width": 3
         },
         "marker": {
          "size": 8
         },
         "mode": "lines+markers",
         "name": "Progressive",
         "type": "scatter",
         "x": {
          "bdata": "BAAIABAAIABAAIAA",
          "dtype": "i2"
         },
         "y": {
          "bdata": "AAAAAAAAsD8AAAAAAADAPwAAAAAAANA/AAAAAAAA4D8AAAAAAADwPwAAAAAAAABA",
          "dtype": "f8"
         }
        },
        {
         "line": {
          "color": "orange",
          "width": 3
         },
         "marker": {
          "size": 8
         },
         "mode": "lines+markers",
         "name": "High Scale",
         "type": "scatter",
         "x": {
          "bdata": "BAAIABAAIABAAIAA",
          "dtype": "i2"
         },
         "y": {
          "bdata": "AAAAAAAAvj8AAAAAAADOPwAAAAAAAN4/AAAAAAAA7j8AAAAAAAD+PwAAAAAAAA5A",
          "dtype": "f8"
         }
        },
        {
         "line": {
          "color": "red",
          "width": 3
         },
         "marker": {
          "size": 8
         },
         "mode": "lines+markers",
         "name": "Ultra Scale+",
         "type": "scatter",
         "x": {
          "bdata": "BAAIABAAIABAAIAA",
          "dtype": "i2"
         },
         "y": {
          "bdata": "AAAAAAAAyD8AAAAAAADYPwAAAAAAAOg/AAAAAAAA+D8AAAAAAAAIQAAAAAAAABhA",
          "dtype": "f8"
         }
        }
       ],
       "layout": {
        "annotations": [
         {
          "showarrow": false,
          "text": "home_staker",
          "x": 0,
          "xanchor": "right",
          "xref": "x domain",
          "y": 40,
          "yanchor": "middle",
          "yref": "y"
         },
         {
          "showarrow": false,
          "text": "professional",
          "x": 0,
          "xanchor": "right",
          "xref": "x domain",
          "y": 200,
          "yanchor": "middle",
          "yref": "y"
         },
         {
          "showarrow": false,
          "text": "institutional",
          "x": 0,
          "xanchor": "right",
          "xref": "x domain",
          "y": 4000,
          "yanchor": "middle",
          "yref": "y"
         },
         {
          "showarrow": false,
          "text": "home_fiber",
          "x": 0,
          "xanchor": "right",
          "xref": "x domain",
          "y": 400,
          "yanchor": "middle",
          "yref": "y"
         },
         {
          "showarrow": false,
          "text": "home_cable",
          "x": 0,
          "xanchor": "right",
          "xref": "x domain",
          "y": 80,
          "yanchor": "middle",
          "yref": "y"
         }
        ],
        "height": 600,
        "hovermode": "x unified",
        "shapes": [
         {
          "line": {
           "color": "gray",
           "dash": "dash"
          },
          "opacity": 0.7,
          "type": "line",
          "x0": 0,
          "x1": 1,
          "xref": "x domain",
          "y0": 40,
          "y1": 40,
          "yref": "y"
         },
         {
          "line": {
           "color": "gray",
           "dash": "dash"
          },
          "opacity": 0.7,
          "type": "line",
          "x0": 0,
          "x1": 1,
          "xref": "x domain",
          "y0": 200,
          "y1": 200,
          "yref": "y"
         },
         {
          "line": {
           "color": "gray",
           "dash": "dash"
          },
          "opacity": 0.7,
          "type": "line",
          "x0": 0,
          "x1": 1,
          "xref": "x domain",
          "y0": 4000,
          "y1": 4000,
          "yref": "y"
         },
         {
          "line": {
           "color": "gray",
           "dash": "dash"
          },
          "opacity": 0.7,
          "type": "line",
          "x0": 0,
          "x1": 1,
          "xref": "x domain",
          "y0": 400,
          "y1": 400,
          "yref": "y"
         },
         {
          "line": {
           "color": "gray",
           "dash": "dash"
          },
          "opacity": 0.7,
          "type": "line",
          "x0": 0,
          "x1": 1,
          "xref": "x domain",
          "y0": 80,
          "y1": 80,
          "yref": "y"
         }
        ],
        "template": {
         "data": {
          "bar": [
           {
            "error_x": {
             "color": "#f2f5fa"
            },
            "error_y": {
             "color": "#f2f5fa"
            },
            "marker": {
             "line": {
              "color": "rgb(17,17,17)",
              "width": 0.5
             },
             "pattern": {
              "fillmode": "overlay",
              "size": 10,
              "solidity": 0.2
             }
            },
            "type": "bar"
           }
          ],
          "barpolar": [
           {
            "marker": {
             "line": {
              "color": "rgb(17,17,17)",
              "width": 0.5
             },
             "pattern": {
              "fillmode": "overlay",
              "size": 10,
              "solidity": 0.2
             }
            },
            "type": "barpolar"
           }
          ],
          "carpet": [
           {
            "aaxis": {
             "endlinecolor": "#A2B1C6",
             "gridcolor": "#506784",
             "linecolor": "#506784",
             "minorgridcolor": "#506784",
             "startlinecolor": "#A2B1C6"
            },
            "baxis": {
             "endlinecolor": "#A2B1C6",
             "gridcolor": "#506784",
             "linecolor": "#506784",
             "minorgridcolor": "#506784",
             "startlinecolor": "#A2B1C6"
            },
            "type": "carpet"
           }
          ],
          "choropleth": [
           {
            "colorbar": {
             "outlinewidth": 0,
             "ticks": ""
            },
            "type": "choropleth"
           }
          ],
          "contour": [
           {
            "colorbar": {
             "outlinewidth": 0,
             "ticks": ""
            },
            "colorscale": [
             [
              0,
              "#0d0887"
             ],
             [
              0.1111111111111111,
              "#46039f"
             ],
             [
              0.2222222222222222,
              "#7201a8"
             ],
             [
              0.3333333333333333,
              "#9c179e"
             ],
             [
              0.4444444444444444,
              "#bd3786"
             ],
             [
              0.5555555555555556,
              "#d8576b"
             ],
             [
              0.6666666666666666,
              "#ed7953"
             ],
             [
              0.7777777777777778,
              "#fb9f3a"
             ],
             [
              0.8888888888888888,
              "#fdca26"
             ],
             [
              1,
              "#f0f921"
             ]
            ],
            "type": "contour"
           }
          ],
          "contourcarpet": [
           {
            "colorbar": {
             "outlinewidth": 0,
             "ticks": ""
            },
            "type": "contourcarpet"
           }
          ],
          "heatmap": [
           {
            "colorbar": {
             "outlinewidth": 0,
             "ticks": ""
            },
            "colorscale": [
             [
              0,
              "#0d0887"
             ],
             [
              0.1111111111111111,
              "#46039f"
             ],
             [
              0.2222222222222222,
              "#7201a8"
             ],
             [
              0.3333333333333333,
              "#9c179e"
             ],
             [
              0.4444444444444444,
              "#bd3786"
             ],
             [
              0.5555555555555556,
              "#d8576b"
             ],
             [
              0.6666666666666666,
              "#ed7953"
             ],
             [
              0.7777777777777778,
              "#fb9f3a"
             ],
             [
              0.8888888888888888,
              "#fdca26"
             ],
             [
              1,
              "#f0f921"
             ]
            ],
            "type": "heatmap"
           }
          ],
          "histogram": [
           {
            "marker": {
             "pattern": {
              "fillmode": "overlay",
              "size": 10,
              "solidity": 0.2
             }
            },
            "type": "histogram"
           }
          ],
          "histogram2d": [
           {
            "colorbar": {
             "outlinewidth": 0,
             "ticks": ""
            },
            "colorscale": [
             [
              0,
              "#0d0887"
             ],
             [
              0.1111111111111111,
              "#46039f"
             ],
             [
              0.2222222222222222,
              "#7201a8"
             ],
             [
              0.3333333333333333,
              "#9c179e"
             ],
             [
              0.4444444444444444,
              "#bd3786"
             ],
             [
              0.5555555555555556,
              "#d8576b"
             ],
             [
              0.6666666666666666,
              "#ed7953"
             ],
             [
              0.7777777777777778,
              "#fb9f3a"
             ],
             [
              0.8888888888888888,
              "#fdca26"
             ],
             [
              1,
              "#f0f921"
             ]
            ],
            "type": "histogram2d"
           }
          ],
          "histogram2dcontour": [
           {
            "colorbar": {
             "outlinewidth": 0,
             "ticks": ""
            },
            "colorscale": [
             [
              0,
              "#0d0887"
             ],
             [
              0.1111111111111111,
              "#46039f"
             ],
             [
              0.2222222222222222,
              "#7201a8"
             ],
             [
              0.3333333333333333,
              "#9c179e"
             ],
             [
              0.4444444444444444,
              "#bd3786"
             ],
             [
              0.5555555555555556,
              "#d8576b"
             ],
             [
              0.6666666666666666,
              "#ed7953"
             ],
             [
              0.7777777777777778,
              "#fb9f3a"
             ],
             [
              0.8888888888888888,
              "#fdca26"
             ],
             [
              1,
              "#f0f921"
             ]
            ],
            "type": "histogram2dcontour"
           }
          ],
          "mesh3d": [
           {
            "colorbar": {
             "outlinewidth": 0,
             "ticks": ""
            },
            "type": "mesh3d"
           }
          ],
          "parcoords": [
           {
            "line": {
             "colorbar": {
              "outlinewidth": 0,
              "ticks": ""
             }
            },
            "type": "parcoords"
           }
          ],
          "pie": [
           {
            "automargin": true,
            "type": "pie"
           }
          ],
          "scatter": [
           {
            "marker": {
             "line": {
              "color": "#283442"
             }
            },
            "type": "scatter"
           }
          ],
          "scatter3d": [
           {
            "line": {
             "colorbar": {
              "outlinewidth": 0,
              "ticks": ""
             }
            },
            "marker": {
             "colorbar": {
              "outlinewidth": 0,
              "ticks": ""
             }
            },
            "type": "scatter3d"
           }
          ],
          "scattercarpet": [
           {
            "marker": {
             "colorbar": {
              "outlinewidth": 0,
              "ticks": ""
             }
            },
            "type": "scattercarpet"
           }
          ],
          "scattergeo": [
           {
            "marker": {
             "colorbar": {
              "outlinewidth": 0,
              "ticks": ""
             }
            },
            "type": "scattergeo"
           }
          ],
          "scattergl": [
           {
            "marker": {
             "line": {
              "color": "#283442"
             }
            },
            "type": "scattergl"
           }
          ],
          "scattermap": [
           {
            "marker": {
             "colorbar": {
              "outlinewidth": 0,
              "ticks": ""
             }
            },
            "type": "scattermap"
           }
          ],
          "scattermapbox": [
           {
            "marker": {
             "colorbar": {
              "outlinewidth": 0,
              "ticks": ""
             }
            },
            "type": "scattermapbox"
           }
          ],
          "scatterpolar": [
           {
            "marker": {
             "colorbar": {
              "outlinewidth": 0,
              "ticks": ""
             }
            },
            "type": "scatterpolar"
           }
          ],
          "scatterpolargl": [
           {
            "marker": {
             "colorbar": {
              "outlinewidth": 0,
              "ticks": ""
             }
            },
            "type": "scatterpolargl"
           }
          ],
          "scatterternary": [
           {
            "marker": {
             "colorbar": {
              "outlinewidth": 0,
              "ticks": ""
             }
            },
            "type": "scatterternary"
           }
          ],
          "surface": [
           {
            "colorbar": {
             "outlinewidth": 0,
             "ticks": ""
            },
            "colorscale": [
             [
              0,
              "#0d0887"
             ],
             [
              0.1111111111111111,
              "#46039f"
             ],
             [
              0.2222222222222222,
              "#7201a8"
             ],
             [
              0.3333333333333333,
              "#9c179e"
             ],
             [
              0.4444444444444444,
              "#bd3786"
             ],
             [
              0.5555555555555556,
              "#d8576b"
             ],
             [
              0.6666666666666666,
              "#ed7953"
             ],
             [
              0.7777777777777778,
              "#fb9f3a"
             ],
             [
              0.8888888888888888,
              "#fdca26"
             ],
             [
              1,
              "#f0f921"
             ]
            ],
            "type": "surface"
           }
          ],
          "table": [
           {
            "cells": {
             "fill": {
              "color": "#506784"
             },
             "line": {
              "color": "rgb(17,17,17)"
             }
            },
            "header": {
             "fill": {
              "color": "#2a3f5f"
             },
             "line": {
              "color": "rgb(17,17,17)"
             }
            },
            "type": "table"
           }
          ]
         },
         "layout": {
          "annotationdefaults": {
           "arrowcolor": "#f2f5fa",
           "arrowhead": 0,
           "arrowwidth": 1
          },
          "autotypenumbers": "strict",
          "coloraxis": {
           "colorbar": {
            "outlinewidth": 0,
            "ticks": ""
           }
          },
          "colorscale": {
           "diverging": [
            [
             0,
             "#8e0152"
            ],
            [
             0.1,
             "#c51b7d"
            ],
            [
             0.2,
             "#de77ae"
            ],
            [
             0.3,
             "#f1b6da"
            ],
            [
             0.4,
             "#fde0ef"
            ],
            [
             0.5,
             "#f7f7f7"
            ],
            [
             0.6,
             "#e6f5d0"
            ],
            [
             0.7,
             "#b8e186"
            ],
            [
             0.8,
             "#7fbc41"
            ],
            [
             0.9,
             "#4d9221"
            ],
            [
             1,
             "#276419"
            ]
           ],
           "sequential": [
            [
             0,
             "#0d0887"
            ],
            [
             0.1111111111111111,
             "#46039f"
            ],
            [
             0.2222222222222222,
             "#7201a8"
            ],
            [
             0.3333333333333333,
             "#9c179e"
            ],
            [
             0.4444444444444444,
             "#bd3786"
            ],
            [
             0.5555555555555556,
             "#d8576b"
            ],
            [
             0.6666666666666666,
             "#ed7953"
            ],
            [
             0.7777777777777778,
             "#fb9f3a"
            ],
            [
             0.8888888888888888,
             "#fdca26"
            ],
            [
             1,
             "#f0f921"
            ]
           ],
           "sequentialminus": [
            [
             0,
             "#0d0887"
            ],
            [
             0.1111111111111111,
             "#46039f"
            ],
            [
             0.2222222222222222,
             "#7201a8"
            ],
            [
             0.3333333333333333,
             "#9c179e"
            ],
            [
             0.4444444444444444,
             "#bd3786"
            ],
            [
             0.5555555555555556,
             "#d8576b"
            ],
            [
             0.6666666666666666,
             "#ed7953"
            ],
            [
             0.7777777777777778,
             "#fb9f3a"
            ],
            [
             0.8888888888888888,
             "#fdca26"
            ],
            [
             1,
             "#f0f921"
            ]
           ]
          },
          "colorway": [
           "#636efa",
           "#EF553B",
           "#00cc96",
           "#ab63fa",
           "#FFA15A",
           "#19d3f3",
           "#FF6692",
           "#B6E880",
           "#FF97FF",
           "#FECB52"
          ],
          "font": {
           "color": "#f2f5fa"
          },
          "geo": {
           "bgcolor": "rgb(17,17,17)",
           "lakecolor": "rgb(17,17,17)",
           "landcolor": "rgb(17,17,17)",
           "showlakes": true,
           "showland": true,
           "subunitcolor": "#506784"
          },
          "hoverlabel": {
           "align": "left"
          },
          "hovermode": "closest",
          "mapbox": {
           "style": "dark"
          },
          "paper_bgcolor": "rgb(17,17,17)",
          "plot_bgcolor": "rgb(17,17,17)",
          "polar": {
           "angularaxis": {
            "gridcolor": "#506784",
            "linecolor": "#506784",
            "ticks": ""
           },
           "bgcolor": "rgb(17,17,17)",
           "radialaxis": {
            "gridcolor": "#506784",
            "linecolor": "#506784",
            "ticks": ""
           }
          },
          "scene": {
           "xaxis": {
            "backgroundcolor": "rgb(17,17,17)",
            "gridcolor": "#506784",
            "gridwidth": 2,
            "linecolor": "#506784",
            "showbackground": true,
            "ticks": "",
            "zerolinecolor": "#C8D4E3"
           },
           "yaxis": {
            "backgroundcolor": "rgb(17,17,17)",
            "gridcolor": "#506784",
            "gridwidth": 2,
            "linecolor": "#506784",
            "showbackground": true,
            "ticks": "",
            "zerolinecolor": "#C8D4E3"
           },
           "zaxis": {
            "backgroundcolor": "rgb(17,17,17)",
            "gridcolor": "#506784",
            "gridwidth": 2,
            "linecolor": "#506784",
            "showbackground": true,
            "ticks": "",
            "zerolinecolor": "#C8D4E3"
           }
          },
          "shapedefaults": {
           "line": {
            "color": "#f2f5fa"
           }
          },
          "sliderdefaults": {
           "bgcolor": "#C8D4E3",
           "bordercolor": "rgb(17,17,17)",
           "borderwidth": 1,
           "tickwidth": 0
          },
          "ternary": {
           "aaxis": {
            "gridcolor": "#506784",
            "linecolor": "#506784",
            "ticks": ""
           },
           "baxis": {
            "gridcolor": "#506784",
            "linecolor": "#506784",
            "ticks": ""
           },
           "bgcolor": "rgb(17,17,17)",
           "caxis": {
            "gridcolor": "#506784",
            "linecolor": "#506784",
            "ticks": ""
           }
          },
          "title": {
           "x": 0.05
          },
          "updatemenudefaults": {
           "bgcolor": "#506784",
           "borderwidth": 0
          },
          "xaxis": {
           "automargin": true,
           "gridcolor": "#283442",
           "linecolor": "#506784",
           "ticks": "",
           "title": {
            "standoff": 15
           },
           "zerolinecolor": "#283442",
           "zerolinewidth": 2
          },
          "yaxis": {
           "automargin": true,
           "gridcolor": "#283442",
           "linecolor": "#506784",
           "ticks": "",
           "title": {
            "standoff": 15
           },
           "zerolinecolor": "#283442",
           "zerolinewidth": 2
          }
         }
        },
        "title": {
         "text": "PeerDAS: Bandwidth Requirements vs Custody Count"
        },
        "xaxis": {
         "tickvals": [
          4,
          8,
          16,
          32,
          64,
          128
         ],
         "title": {
          "text": "Number of Columns in Custody"
         }
        },
        "yaxis": {
         "title": {
          "text": "Total Bandwidth Required (Mbps)"
         },
         "type": "log"
        }
       }
      }
     },
     "metadata": {},
     "output_type": "display_data"
    },
    {
     "name": "stdout",
     "output_type": "stream",
     "text": [
      "\n",
      "PeerDAS Custody Efficiency Analysis:\n",
      "============================================================\n",
      "Custody    Columns  % of Full  Bandwidth Reduction \n",
      "------------------------------------------------------------\n",
      "Minimum    4           3.1%      96.9% reduction\n",
      "Light      8           6.2%      93.8% reduction\n",
      "Standard   16         12.5%      87.5% reduction\n",
      "Heavy      32         25.0%      75.0% reduction\n",
      "Super      64         50.0%      50.0% reduction\n"
     ]
    }
   ],
   "source": [
    "# 3. PeerDAS Custody Impact Analysis\n",
    "# Show how different custody counts affect bandwidth for various blob scenarios\n",
    "\n",
    "# Select more blob scenarios for comprehensive analysis\n",
    "key_blob_scenarios = [\"Current (Pectra)\", \"Moderate\", \"Progressive\", \"Aggressive\", \"High Scale\", \"Ultra Scale+\", \"Maximum\"]\n",
    "\n",
    "# Generate data for all custody counts from 1 to 128\n",
    "custody_counts = list(range(1, 129))\n",
    "\n",
    "fig = go.Figure()\n",
    "\n",
    "# Color map for scenarios\n",
    "scenario_colors = {\n",
    "    \"Current (Pectra)\": \"blue\",\n",
    "    \"Moderate\": \"cyan\",\n",
    "    \"Progressive\": \"green\", \n",
    "    \"Aggressive\": \"purple\",\n",
    "    \"High Scale\": \"orange\",\n",
    "    \"Ultra Scale+\": \"red\",\n",
    "    \"Maximum\": \"darkred\"\n",
    "}\n",
    "\n",
    "for scenario_name in key_blob_scenarios:\n",
    "    scenario_details = next(s for s in BLOB_LIMIT_SCENARIOS if s[\"name\"] == scenario_name)\n",
    "    \n",
    "    x_values = []\n",
    "    y_values = []\n",
    "    \n",
    "    for custody_count in custody_counts:\n",
    "        # Calculate bandwidth for this scenario and custody count\n",
    "        reqs = calculate_bandwidth_requirements(\n",
    "            scenario_details[\"target\"], scenario_details[\"max\"], \"balanced\", \n",
    "            custody_count=custody_count, use_peerdas=True\n",
    "        )\n",
    "        x_values.append(custody_count)\n",
    "        y_values.append(reqs[\"avg_bandwidth_total_mbps\"])\n",
    "    \n",
    "    fig.add_trace(go.Scatter(\n",
    "        x=x_values,\n",
    "        y=y_values,\n",
    "        mode='lines+markers',\n",
    "        name=f\"{scenario_name} ({scenario_details['target']}/{scenario_details['max']})\",\n",
    "        line=dict(width=3, color=scenario_colors[scenario_name]),\n",
    "        marker=dict(size=4)\n",
    "    ))\n",
    "\n",
    "fig.update_layout(\n",
    "    title=\"PeerDAS: Bandwidth Requirements vs Custody Count\",\n",
    "    xaxis_title=\"Number of Columns in Custody\",\n",
    "    yaxis_title=\"Total Bandwidth Required (Mbps)\",\n",
    "    height=600,\n",
    "    width=1200,\n",
    "    yaxis_type=\"log\",\n",
    "    hovermode='x unified'\n",
    ")\n",
    "\n",
    "fig.update_xaxes(tickvals=[4, 8, 16, 32, 64, 128])\n",
    "\n",
    "fig.show()"
   ]
  },
  {
   "cell_type": "code",
   "execution_count": 8,
   "id": "viz-monthly",
   "metadata": {},
   "outputs": [
    {
     "data": {
      "application/vnd.plotly.v1+json": {
       "config": {
        "plotlyServerURL": "https://plot.ly"
       },
       "data": [
        {
         "line": {
          "color": "lightblue",
          "width": 3
         },
         "marker": {
          "size": 10
         },
         "mode": "lines+markers",
         "name": "Average (Target)",
         "type": "scatter",
         "x": [
          "Pre-Pectra (EIP-4844)",
          "Current (Pectra)",
          "Conservative +",
          "Moderate",
          "Moderate+",
          "Progressive",
          "Aggressive",
          "Aggressive+",
          "High Scale",
          "High Scale+",
          "Ultra Scale",
          "Ultra Scale+",
          "Maximum"
         ],
         "y": {
          "bdata": "AAAAAMCpvT8AAAAAwKnNPwAAAACAxtM/AAAAACC42D8AAAAAwKndPwAAAACAxuM/AAAAACC46D8AAAAAwKntPwAAAAAYivI/AAAAAFA/9j8AAAAAILj4PwAAAADAqf0/AAAAABiKAkA=",
          "dtype": "f8"
         }
        },
        {
         "line": {
          "color": "orange",
          "width": 3
         },
         "marker": {
          "size": 10
         },
         "mode": "lines+markers",
         "name": "Maximum",
         "type": "scatter",
         "x": [
          "Pre-Pectra (EIP-4844)",
          "Current (Pectra)",
          "Conservative +",
          "Moderate",
          "Moderate+",
          "Progressive",
          "Aggressive",
          "Aggressive+",
          "High Scale",
          "High Scale+",
          "Ultra Scale",
          "Ultra Scale+",
          "Maximum"
         ],
         "y": {
          "bdata": "AAAAAMCpzT8AAAAAUD/WPwAAAADAqd0/AAAAABiK4j8AAAAAUD/mPwAAAADAqe0/AAAAABiK8j8AAAAAUD/2PwAAAAAkz/s/AAAAAHyvAEAAAAAAGIoCQAAAAABQPwZAAAAAACTPC0A=",
          "dtype": "f8"
         }
        }
       ],
       "layout": {
        "annotations": [
         {
          "showarrow": false,
          "text": "1 TB/month",
          "x": 1,
          "xanchor": "left",
          "xref": "x domain",
          "y": 1,
          "yanchor": "middle",
          "yref": "y"
         },
         {
          "showarrow": false,
          "text": "5 TB/month",
          "x": 1,
          "xanchor": "left",
          "xref": "x domain",
          "y": 5,
          "yanchor": "middle",
          "yref": "y"
         },
         {
          "showarrow": false,
          "text": "10 TB/month (typical home ISP cap)",
          "x": 1,
          "xanchor": "left",
          "xref": "x domain",
          "y": 10,
          "yanchor": "middle",
          "yref": "y"
         }
        ],
        "height": 600,
        "hovermode": "x unified",
        "shapes": [
         {
          "line": {
           "color": "yellow",
           "dash": "dash"
          },
          "type": "line",
          "x0": 0,
          "x1": 1,
          "xref": "x domain",
          "y0": 1,
          "y1": 1,
          "yref": "y"
         },
         {
          "line": {
           "color": "orange",
           "dash": "dash"
          },
          "type": "line",
          "x0": 0,
          "x1": 1,
          "xref": "x domain",
          "y0": 5,
          "y1": 5,
          "yref": "y"
         },
         {
          "line": {
           "color": "red",
           "dash": "dash"
          },
          "type": "line",
          "x0": 0,
          "x1": 1,
          "xref": "x domain",
          "y0": 10,
          "y1": 10,
          "yref": "y"
         }
        ],
        "template": {
         "data": {
          "bar": [
           {
            "error_x": {
             "color": "#f2f5fa"
            },
            "error_y": {
             "color": "#f2f5fa"
            },
            "marker": {
             "line": {
              "color": "rgb(17,17,17)",
              "width": 0.5
             },
             "pattern": {
              "fillmode": "overlay",
              "size": 10,
              "solidity": 0.2
             }
            },
            "type": "bar"
           }
          ],
          "barpolar": [
           {
            "marker": {
             "line": {
              "color": "rgb(17,17,17)",
              "width": 0.5
             },
             "pattern": {
              "fillmode": "overlay",
              "size": 10,
              "solidity": 0.2
             }
            },
            "type": "barpolar"
           }
          ],
          "carpet": [
           {
            "aaxis": {
             "endlinecolor": "#A2B1C6",
             "gridcolor": "#506784",
             "linecolor": "#506784",
             "minorgridcolor": "#506784",
             "startlinecolor": "#A2B1C6"
            },
            "baxis": {
             "endlinecolor": "#A2B1C6",
             "gridcolor": "#506784",
             "linecolor": "#506784",
             "minorgridcolor": "#506784",
             "startlinecolor": "#A2B1C6"
            },
            "type": "carpet"
           }
          ],
          "choropleth": [
           {
            "colorbar": {
             "outlinewidth": 0,
             "ticks": ""
            },
            "type": "choropleth"
           }
          ],
          "contour": [
           {
            "colorbar": {
             "outlinewidth": 0,
             "ticks": ""
            },
            "colorscale": [
             [
              0,
              "#0d0887"
             ],
             [
              0.1111111111111111,
              "#46039f"
             ],
             [
              0.2222222222222222,
              "#7201a8"
             ],
             [
              0.3333333333333333,
              "#9c179e"
             ],
             [
              0.4444444444444444,
              "#bd3786"
             ],
             [
              0.5555555555555556,
              "#d8576b"
             ],
             [
              0.6666666666666666,
              "#ed7953"
             ],
             [
              0.7777777777777778,
              "#fb9f3a"
             ],
             [
              0.8888888888888888,
              "#fdca26"
             ],
             [
              1,
              "#f0f921"
             ]
            ],
            "type": "contour"
           }
          ],
          "contourcarpet": [
           {
            "colorbar": {
             "outlinewidth": 0,
             "ticks": ""
            },
            "type": "contourcarpet"
           }
          ],
          "heatmap": [
           {
            "colorbar": {
             "outlinewidth": 0,
             "ticks": ""
            },
            "colorscale": [
             [
              0,
              "#0d0887"
             ],
             [
              0.1111111111111111,
              "#46039f"
             ],
             [
              0.2222222222222222,
              "#7201a8"
             ],
             [
              0.3333333333333333,
              "#9c179e"
             ],
             [
              0.4444444444444444,
              "#bd3786"
             ],
             [
              0.5555555555555556,
              "#d8576b"
             ],
             [
              0.6666666666666666,
              "#ed7953"
             ],
             [
              0.7777777777777778,
              "#fb9f3a"
             ],
             [
              0.8888888888888888,
              "#fdca26"
             ],
             [
              1,
              "#f0f921"
             ]
            ],
            "type": "heatmap"
           }
          ],
          "histogram": [
           {
            "marker": {
             "pattern": {
              "fillmode": "overlay",
              "size": 10,
              "solidity": 0.2
             }
            },
            "type": "histogram"
           }
          ],
          "histogram2d": [
           {
            "colorbar": {
             "outlinewidth": 0,
             "ticks": ""
            },
            "colorscale": [
             [
              0,
              "#0d0887"
             ],
             [
              0.1111111111111111,
              "#46039f"
             ],
             [
              0.2222222222222222,
              "#7201a8"
             ],
             [
              0.3333333333333333,
              "#9c179e"
             ],
             [
              0.4444444444444444,
              "#bd3786"
             ],
             [
              0.5555555555555556,
              "#d8576b"
             ],
             [
              0.6666666666666666,
              "#ed7953"
             ],
             [
              0.7777777777777778,
              "#fb9f3a"
             ],
             [
              0.8888888888888888,
              "#fdca26"
             ],
             [
              1,
              "#f0f921"
             ]
            ],
            "type": "histogram2d"
           }
          ],
          "histogram2dcontour": [
           {
            "colorbar": {
             "outlinewidth": 0,
             "ticks": ""
            },
            "colorscale": [
             [
              0,
              "#0d0887"
             ],
             [
              0.1111111111111111,
              "#46039f"
             ],
             [
              0.2222222222222222,
              "#7201a8"
             ],
             [
              0.3333333333333333,
              "#9c179e"
             ],
             [
              0.4444444444444444,
              "#bd3786"
             ],
             [
              0.5555555555555556,
              "#d8576b"
             ],
             [
              0.6666666666666666,
              "#ed7953"
             ],
             [
              0.7777777777777778,
              "#fb9f3a"
             ],
             [
              0.8888888888888888,
              "#fdca26"
             ],
             [
              1,
              "#f0f921"
             ]
            ],
            "type": "histogram2dcontour"
           }
          ],
          "mesh3d": [
           {
            "colorbar": {
             "outlinewidth": 0,
             "ticks": ""
            },
            "type": "mesh3d"
           }
          ],
          "parcoords": [
           {
            "line": {
             "colorbar": {
              "outlinewidth": 0,
              "ticks": ""
             }
            },
            "type": "parcoords"
           }
          ],
          "pie": [
           {
            "automargin": true,
            "type": "pie"
           }
          ],
          "scatter": [
           {
            "marker": {
             "line": {
              "color": "#283442"
             }
            },
            "type": "scatter"
           }
          ],
          "scatter3d": [
           {
            "line": {
             "colorbar": {
              "outlinewidth": 0,
              "ticks": ""
             }
            },
            "marker": {
             "colorbar": {
              "outlinewidth": 0,
              "ticks": ""
             }
            },
            "type": "scatter3d"
           }
          ],
          "scattercarpet": [
           {
            "marker": {
             "colorbar": {
              "outlinewidth": 0,
              "ticks": ""
             }
            },
            "type": "scattercarpet"
           }
          ],
          "scattergeo": [
           {
            "marker": {
             "colorbar": {
              "outlinewidth": 0,
              "ticks": ""
             }
            },
            "type": "scattergeo"
           }
          ],
          "scattergl": [
           {
            "marker": {
             "line": {
              "color": "#283442"
             }
            },
            "type": "scattergl"
           }
          ],
          "scattermap": [
           {
            "marker": {
             "colorbar": {
              "outlinewidth": 0,
              "ticks": ""
             }
            },
            "type": "scattermap"
           }
          ],
          "scattermapbox": [
           {
            "marker": {
             "colorbar": {
              "outlinewidth": 0,
              "ticks": ""
             }
            },
            "type": "scattermapbox"
           }
          ],
          "scatterpolar": [
           {
            "marker": {
             "colorbar": {
              "outlinewidth": 0,
              "ticks": ""
             }
            },
            "type": "scatterpolar"
           }
          ],
          "scatterpolargl": [
           {
            "marker": {
             "colorbar": {
              "outlinewidth": 0,
              "ticks": ""
             }
            },
            "type": "scatterpolargl"
           }
          ],
          "scatterternary": [
           {
            "marker": {
             "colorbar": {
              "outlinewidth": 0,
              "ticks": ""
             }
            },
            "type": "scatterternary"
           }
          ],
          "surface": [
           {
            "colorbar": {
             "outlinewidth": 0,
             "ticks": ""
            },
            "colorscale": [
             [
              0,
              "#0d0887"
             ],
             [
              0.1111111111111111,
              "#46039f"
             ],
             [
              0.2222222222222222,
              "#7201a8"
             ],
             [
              0.3333333333333333,
              "#9c179e"
             ],
             [
              0.4444444444444444,
              "#bd3786"
             ],
             [
              0.5555555555555556,
              "#d8576b"
             ],
             [
              0.6666666666666666,
              "#ed7953"
             ],
             [
              0.7777777777777778,
              "#fb9f3a"
             ],
             [
              0.8888888888888888,
              "#fdca26"
             ],
             [
              1,
              "#f0f921"
             ]
            ],
            "type": "surface"
           }
          ],
          "table": [
           {
            "cells": {
             "fill": {
              "color": "#506784"
             },
             "line": {
              "color": "rgb(17,17,17)"
             }
            },
            "header": {
             "fill": {
              "color": "#2a3f5f"
             },
             "line": {
              "color": "rgb(17,17,17)"
             }
            },
            "type": "table"
           }
          ]
         },
         "layout": {
          "annotationdefaults": {
           "arrowcolor": "#f2f5fa",
           "arrowhead": 0,
           "arrowwidth": 1
          },
          "autotypenumbers": "strict",
          "coloraxis": {
           "colorbar": {
            "outlinewidth": 0,
            "ticks": ""
           }
          },
          "colorscale": {
           "diverging": [
            [
             0,
             "#8e0152"
            ],
            [
             0.1,
             "#c51b7d"
            ],
            [
             0.2,
             "#de77ae"
            ],
            [
             0.3,
             "#f1b6da"
            ],
            [
             0.4,
             "#fde0ef"
            ],
            [
             0.5,
             "#f7f7f7"
            ],
            [
             0.6,
             "#e6f5d0"
            ],
            [
             0.7,
             "#b8e186"
            ],
            [
             0.8,
             "#7fbc41"
            ],
            [
             0.9,
             "#4d9221"
            ],
            [
             1,
             "#276419"
            ]
           ],
           "sequential": [
            [
             0,
             "#0d0887"
            ],
            [
             0.1111111111111111,
             "#46039f"
            ],
            [
             0.2222222222222222,
             "#7201a8"
            ],
            [
             0.3333333333333333,
             "#9c179e"
            ],
            [
             0.4444444444444444,
             "#bd3786"
            ],
            [
             0.5555555555555556,
             "#d8576b"
            ],
            [
             0.6666666666666666,
             "#ed7953"
            ],
            [
             0.7777777777777778,
             "#fb9f3a"
            ],
            [
             0.8888888888888888,
             "#fdca26"
            ],
            [
             1,
             "#f0f921"
            ]
           ],
           "sequentialminus": [
            [
             0,
             "#0d0887"
            ],
            [
             0.1111111111111111,
             "#46039f"
            ],
            [
             0.2222222222222222,
             "#7201a8"
            ],
            [
             0.3333333333333333,
             "#9c179e"
            ],
            [
             0.4444444444444444,
             "#bd3786"
            ],
            [
             0.5555555555555556,
             "#d8576b"
            ],
            [
             0.6666666666666666,
             "#ed7953"
            ],
            [
             0.7777777777777778,
             "#fb9f3a"
            ],
            [
             0.8888888888888888,
             "#fdca26"
            ],
            [
             1,
             "#f0f921"
            ]
           ]
          },
          "colorway": [
           "#636efa",
           "#EF553B",
           "#00cc96",
           "#ab63fa",
           "#FFA15A",
           "#19d3f3",
           "#FF6692",
           "#B6E880",
           "#FF97FF",
           "#FECB52"
          ],
          "font": {
           "color": "#f2f5fa"
          },
          "geo": {
           "bgcolor": "rgb(17,17,17)",
           "lakecolor": "rgb(17,17,17)",
           "landcolor": "rgb(17,17,17)",
           "showlakes": true,
           "showland": true,
           "subunitcolor": "#506784"
          },
          "hoverlabel": {
           "align": "left"
          },
          "hovermode": "closest",
          "mapbox": {
           "style": "dark"
          },
          "paper_bgcolor": "rgb(17,17,17)",
          "plot_bgcolor": "rgb(17,17,17)",
          "polar": {
           "angularaxis": {
            "gridcolor": "#506784",
            "linecolor": "#506784",
            "ticks": ""
           },
           "bgcolor": "rgb(17,17,17)",
           "radialaxis": {
            "gridcolor": "#506784",
            "linecolor": "#506784",
            "ticks": ""
           }
          },
          "scene": {
           "xaxis": {
            "backgroundcolor": "rgb(17,17,17)",
            "gridcolor": "#506784",
            "gridwidth": 2,
            "linecolor": "#506784",
            "showbackground": true,
            "ticks": "",
            "zerolinecolor": "#C8D4E3"
           },
           "yaxis": {
            "backgroundcolor": "rgb(17,17,17)",
            "gridcolor": "#506784",
            "gridwidth": 2,
            "linecolor": "#506784",
            "showbackground": true,
            "ticks": "",
            "zerolinecolor": "#C8D4E3"
           },
           "zaxis": {
            "backgroundcolor": "rgb(17,17,17)",
            "gridcolor": "#506784",
            "gridwidth": 2,
            "linecolor": "#506784",
            "showbackground": true,
            "ticks": "",
            "zerolinecolor": "#C8D4E3"
           }
          },
          "shapedefaults": {
           "line": {
            "color": "#f2f5fa"
           }
          },
          "sliderdefaults": {
           "bgcolor": "#C8D4E3",
           "bordercolor": "rgb(17,17,17)",
           "borderwidth": 1,
           "tickwidth": 0
          },
          "ternary": {
           "aaxis": {
            "gridcolor": "#506784",
            "linecolor": "#506784",
            "ticks": ""
           },
           "baxis": {
            "gridcolor": "#506784",
            "linecolor": "#506784",
            "ticks": ""
           },
           "bgcolor": "rgb(17,17,17)",
           "caxis": {
            "gridcolor": "#506784",
            "linecolor": "#506784",
            "ticks": ""
           }
          },
          "title": {
           "x": 0.05
          },
          "updatemenudefaults": {
           "bgcolor": "#506784",
           "borderwidth": 0
          },
          "xaxis": {
           "automargin": true,
           "gridcolor": "#283442",
           "linecolor": "#506784",
           "ticks": "",
           "title": {
            "standoff": 15
           },
           "zerolinecolor": "#283442",
           "zerolinewidth": 2
          },
          "yaxis": {
           "automargin": true,
           "gridcolor": "#283442",
           "linecolor": "#506784",
           "ticks": "",
           "title": {
            "standoff": 15
           },
           "zerolinecolor": "#283442",
           "zerolinewidth": 2
          }
         }
        },
        "title": {
         "text": "Monthly Data Transfer Requirements"
        },
        "xaxis": {
         "title": {
          "text": "Scenario"
         }
        },
        "yaxis": {
         "title": {
          "text": "Data Transfer (TB/month)"
         }
        }
       }
      }
     },
     "metadata": {},
     "output_type": "display_data"
    }
   ],
   "source": [
    "# 4. Monthly Data Transfer Visualization\n",
    "\n",
    "# Filter to show only Full Blob data\n",
    "df_monthly_full = df_monthly[df_monthly['method'] == 'Full Blob']\n",
    "\n",
    "# Create subplots for average and maximum\n",
    "fig = make_subplots(\n",
    "    rows=1, cols=2,\n",
    "    subplot_titles=('Average Monthly Data Transfer (Target Blobs)', 'Maximum Monthly Data Transfer (Max Blobs)'),\n",
    "    horizontal_spacing=0.12\n",
    ")\n",
    "\n",
    "# Define colors for different methods\n",
    "method_colors = {\n",
    "    'Full Blob': 'lightblue',\n",
    "    'PeerDAS-4': 'green',\n",
    "    'PeerDAS-8': 'cyan', \n",
    "    'PeerDAS-16': 'blue',\n",
    "    'PeerDAS-32': 'purple'\n",
    "}\n",
    "\n",
    "# Left plot: Average (Target) data transfer\n",
    "# Add Full Blob average line\n",
    "fig.add_trace(go.Scatter(\n",
    "    x=[f\"{row['target_blobs']}/{row['max_blobs']}\" for _, row in df_monthly_full.iterrows()],\n",
    "    y=df_monthly_full['avg_monthly_tb'],\n",
    "    mode='lines+markers',\n",
    "    name='Full Blob',\n",
    "    line=dict(width=3, color=method_colors['Full Blob']),\n",
    "    marker=dict(size=8),\n",
    "    legendgroup='avg'\n",
    "), row=1, col=1)\n",
    "\n",
    "# Add PeerDAS lines for various custody counts (4, 8, 16, 32)\n",
    "for custody in [4, 8, 16, 32]:\n",
    "    df_monthly_custody = df_monthly[df_monthly['custody_count'] == custody]\n",
    "    \n",
    "    fig.add_trace(go.Scatter(\n",
    "        x=[f\"{row['target_blobs']}/{row['max_blobs']}\" for _, row in df_monthly_custody.iterrows()],\n",
    "        y=df_monthly_custody['avg_monthly_tb'],\n",
    "        mode='lines+markers',\n",
    "        name=f'PeerDAS-{custody}',\n",
    "        line=dict(width=2, color=method_colors.get(f'PeerDAS-{custody}', 'gray')),\n",
    "        marker=dict(size=6),\n",
    "        legendgroup='avg'\n",
    "    ), row=1, col=1)\n",
    "\n",
    "# Right plot: Maximum data transfer\n",
    "# Add Full Blob maximum line\n",
    "fig.add_trace(go.Scatter(\n",
    "    x=[f\"{row['target_blobs']}/{row['max_blobs']}\" for _, row in df_monthly_full.iterrows()],\n",
    "    y=df_monthly_full['max_monthly_tb'],\n",
    "    mode='lines+markers',\n",
    "    name='Full Blob',\n",
    "    line=dict(width=3, color=method_colors['Full Blob']),\n",
    "    marker=dict(size=8),\n",
    "    legendgroup='max',\n",
    "    showlegend=False\n",
    "), row=1, col=2)\n",
    "\n",
    "# Add PeerDAS maximum lines for various custody counts (4, 8, 16, 32)\n",
    "for custody in [4, 8, 16, 32]:\n",
    "    df_monthly_custody = df_monthly[df_monthly['custody_count'] == custody]\n",
    "    \n",
    "    fig.add_trace(go.Scatter(\n",
    "        x=[f\"{row['target_blobs']}/{row['max_blobs']}\" for _, row in df_monthly_custody.iterrows()],\n",
    "        y=df_monthly_custody['max_monthly_tb'],\n",
    "        mode='lines+markers',\n",
    "        name=f'PeerDAS-{custody}',\n",
    "        line=dict(width=2, color=method_colors.get(f'PeerDAS-{custody}', 'gray')),\n",
    "        marker=dict(size=6),\n",
    "        legendgroup='max',\n",
    "        showlegend=False\n",
    "    ), row=1, col=2)\n",
    "\n",
    "# Update axes\n",
    "fig.update_xaxes(title=\"Target/Max Blobs per Block\", tickangle=45)\n",
    "fig.update_yaxes(title=\"Data Transfer (TB/month)\", type=\"log\", matches='y')\n",
    "\n",
    "fig.update_layout(\n",
    "    title=\"Monthly Data Transfer Requirements: Full Blob vs PeerDAS\",\n",
    "    height=600,\n",
    "    width=1600,\n",
    "    hovermode='x unified'\n",
    ")\n",
    "\n",
    "fig.show()"
   ]
  },
  {
   "cell_type": "code",
   "execution_count": 9,
   "id": "viz-scaling",
   "metadata": {},
   "outputs": [
    {
     "data": {
      "application/vnd.plotly.v1+json": {
       "config": {
        "plotlyServerURL": "https://plot.ly"
       },
       "data": [
        {
         "line": {
          "color": "cyan",
          "width": 3
         },
         "mode": "lines",
         "name": "Avg Download",
         "type": "scatter",
         "x": {
          "bdata": "AQIDBAUGBwgJCgsMDQ4PEBESExQVFhcYGRobHB0eHyAhIiMkJSYnKCkqKywtLi8wMTIzNDU2Nzg5Ojs8PT4/QEFCQ0RFRkdI",
          "dtype": "i1"
         },
         "y": {
          "bdata": "AAAAAAAAsD8AAAAAAADAPwAAAAAAAMg/AAAAAAAA0D8AAAAAAADUPwAAAAAAANg/AAAAAAAA3D8AAAAAAADgPwAAAAAAAOI/AAAAAAAA5D8AAAAAAADmPwAAAAAAAOg/AAAAAAAA6j8AAAAAAADsPwAAAAAAAO4/AAAAAAAA8D8AAAAAAADxPwAAAAAAAPI/AAAAAAAA8z8AAAAAAAD0PwAAAAAAAPU/AAAAAAAA9j8AAAAAAAD3PwAAAAAAAPg/AAAAAAAA+T8AAAAAAAD6PwAAAAAAAPs/AAAAAAAA/D8AAAAAAAD9PwAAAAAAAP4/AAAAAAAA/z8AAAAAAAAAQAAAAAAAgABAAAAAAAAAAUAAAAAAAIABQAAAAAAAAAJAAAAAAACAAkAAAAAAAAADQAAAAAAAgANAAAAAAAAABEAAAAAAAIAEQAAAAAAAAAVAAAAAAACABUAAAAAAAAAGQAAAAAAAgAZAAAAAAAAAB0AAAAAAAIAHQAAAAAAAAAhAAAAAAACACEAAAAAAAAAJQAAAAAAAgAlAAAAAAAAACkAAAAAAAIAKQAAAAAAAAAtAAAAAAACAC0AAAAAAAAAMQAAAAAAAgAxAAAAAAAAADUAAAAAAAIANQAAAAAAAAA5AAAAAAACADkAAAAAAAAAPQAAAAAAAgA9AAAAAAAAAEEAAAAAAAEAQQAAAAAAAgBBAAAAAAADAEEAAAAAAAAARQAAAAAAAQBFAAAAAAACAEUAAAAAAAMARQAAAAAAAABJA",
          "dtype": "f8"
         }
        },
        {
         "line": {
          "color": "lime",
          "width": 3
         },
         "mode": "lines",
         "name": "Avg Upload",
         "type": "scatter",
         "x": {
          "bdata": "AQIDBAUGBwgJCgsMDQ4PEBESExQVFhcYGRobHB0eHyAhIiMkJSYnKCkqKywtLi8wMTIzNDU2Nzg5Ojs8PT4/QEFCQ0RFRkdI",
          "dtype": "i1"
         },
         "y": {
          "bdata": "AAAAAAAAsD8AAAAAAADAPwAAAAAAAMg/AAAAAAAA0D8AAAAAAADUPwAAAAAAANg/AAAAAAAA3D8AAAAAAADgPwAAAAAAAOI/AAAAAAAA5D8AAAAAAADmPwAAAAAAAOg/AAAAAAAA6j8AAAAAAADsPwAAAAAAAO4/AAAAAAAA8D8AAAAAAADxPwAAAAAAAPI/AAAAAAAA8z8AAAAAAAD0PwAAAAAAAPU/AAAAAAAA9j8AAAAAAAD3PwAAAAAAAPg/AAAAAAAA+T8AAAAAAAD6PwAAAAAAAPs/AAAAAAAA/D8AAAAAAAD9PwAAAAAAAP4/AAAAAAAA/z8AAAAAAAAAQAAAAAAAgABAAAAAAAAAAUAAAAAAAIABQAAAAAAAAAJAAAAAAACAAkAAAAAAAAADQAAAAAAAgANAAAAAAAAABEAAAAAAAIAEQAAAAAAAAAVAAAAAAACABUAAAAAAAAAGQAAAAAAAgAZAAAAAAAAAB0AAAAAAAIAHQAAAAAAAAAhAAAAAAACACEAAAAAAAAAJQAAAAAAAgAlAAAAAAAAACkAAAAAAAIAKQAAAAAAAAAtAAAAAAACAC0AAAAAAAAAMQAAAAAAAgAxAAAAAAAAADUAAAAAAAIANQAAAAAAAAA5AAAAAAACADkAAAAAAAAAPQAAAAAAAgA9AAAAAAAAAEEAAAAAAAEAQQAAAAAAAgBBAAAAAAADAEEAAAAAAAAARQAAAAAAAQBFAAAAAAACAEUAAAAAAAMARQAAAAAAAABJA",
          "dtype": "f8"
         }
        },
        {
         "line": {
          "color": "blue",
          "dash": "dash",
          "width": 2
         },
         "mode": "lines",
         "name": "Peak Download",
         "type": "scatter",
         "x": {
          "bdata": "AQIDBAUGBwgJCgsMDQ4PEBESExQVFhcYGRobHB0eHyAhIiMkJSYnKCkqKywtLi8wMTIzNDU2Nzg5Ojs8PT4/QEFCQ0RFRkdI",
          "dtype": "i1"
         },
         "y": {
          "bdata": "AAAAAAAAwD8AAAAAAADQPwAAAAAAANg/AAAAAAAA4D8AAAAAAADkPwAAAAAAAOg/AAAAAAAA7D8AAAAAAADwPwAAAAAAAPI/AAAAAAAA9D8AAAAAAAD2PwAAAAAAAPg/AAAAAAAA+j8AAAAAAAD8PwAAAAAAAP4/AAAAAAAAAEAAAAAAAAABQAAAAAAAAAJAAAAAAAAAA0AAAAAAAAAEQAAAAAAAAAVAAAAAAAAABkAAAAAAAAAHQAAAAAAAAAhAAAAAAAAACUAAAAAAAAAKQAAAAAAAAAtAAAAAAAAADEAAAAAAAAANQAAAAAAAAA5AAAAAAAAAD0AAAAAAAAAQQAAAAAAAgBBAAAAAAAAAEUAAAAAAAIARQAAAAAAAABJAAAAAAACAEkAAAAAAAAATQAAAAAAAgBNAAAAAAAAAFEAAAAAAAIAUQAAAAAAAABVAAAAAAACAFUAAAAAAAAAWQAAAAAAAgBZAAAAAAAAAF0AAAAAAAIAXQAAAAAAAABhAAAAAAACAGEAAAAAAAAAZQAAAAAAAgBlAAAAAAAAAGkAAAAAAAIAaQAAAAAAAABtAAAAAAACAG0AAAAAAAAAcQAAAAAAAgBxAAAAAAAAAHUAAAAAAAIAdQAAAAAAAAB5AAAAAAACAHkAAAAAAAAAfQAAAAAAAgB9AAAAAAAAAIEAAAAAAAEAgQAAAAAAAgCBAAAAAAADAIEAAAAAAAAAhQAAAAAAAQCFAAAAAAACAIUAAAAAAAMAhQAAAAAAAACJA",
          "dtype": "f8"
         }
        },
        {
         "line": {
          "color": "green",
          "dash": "dash",
          "width": 2
         },
         "mode": "lines",
         "name": "Peak Upload",
         "type": "scatter",
         "x": {
          "bdata": "AQIDBAUGBwgJCgsMDQ4PEBESExQVFhcYGRobHB0eHyAhIiMkJSYnKCkqKywtLi8wMTIzNDU2Nzg5Ojs8PT4/QEFCQ0RFRkdI",
          "dtype": "i1"
         },
         "y": {
          "bdata": "AAAAAAAAwD8AAAAAAADQPwAAAAAAANg/AAAAAAAA4D8AAAAAAADkPwAAAAAAAOg/AAAAAAAA7D8AAAAAAADwPwAAAAAAAPI/AAAAAAAA9D8AAAAAAAD2PwAAAAAAAPg/AAAAAAAA+j8AAAAAAAD8PwAAAAAAAP4/AAAAAAAAAEAAAAAAAAABQAAAAAAAAAJAAAAAAAAAA0AAAAAAAAAEQAAAAAAAAAVAAAAAAAAABkAAAAAAAAAHQAAAAAAAAAhAAAAAAAAACUAAAAAAAAAKQAAAAAAAAAtAAAAAAAAADEAAAAAAAAANQAAAAAAAAA5AAAAAAAAAD0AAAAAAAAAQQAAAAAAAgBBAAAAAAAAAEUAAAAAAAIARQAAAAAAAABJAAAAAAACAEkAAAAAAAAATQAAAAAAAgBNAAAAAAAAAFEAAAAAAAIAUQAAAAAAAABVAAAAAAACAFUAAAAAAAAAWQAAAAAAAgBZAAAAAAAAAF0AAAAAAAIAXQAAAAAAAABhAAAAAAACAGEAAAAAAAAAZQAAAAAAAgBlAAAAAAAAAGkAAAAAAAIAaQAAAAAAAABtAAAAAAACAG0AAAAAAAAAcQAAAAAAAgBxAAAAAAAAAHUAAAAAAAIAdQAAAAAAAAB5AAAAAAACAHkAAAAAAAAAfQAAAAAAAgB9AAAAAAAAAIEAAAAAAAEAgQAAAAAAAgCBAAAAAAADAIEAAAAAAAAAhQAAAAAAAQCFAAAAAAACAIUAAAAAAAMAhQAAAAAAAACJA",
          "dtype": "f8"
         }
        }
       ],
       "layout": {
        "annotations": [
         {
          "showarrow": false,
          "text": "Pre-Pectra (EIP",
          "textangle": -45,
          "x": 3,
          "xanchor": "center",
          "xref": "x",
          "y": 1,
          "yanchor": "bottom",
          "yref": "y domain"
         },
         {
          "showarrow": false,
          "text": "Conservative +",
          "textangle": -45,
          "x": 8,
          "xanchor": "center",
          "xref": "x",
          "y": 1,
          "yanchor": "bottom",
          "yref": "y domain"
         },
         {
          "showarrow": false,
          "text": "Moderate+",
          "textangle": -45,
          "x": 12,
          "xanchor": "center",
          "xref": "x",
          "y": 1,
          "yanchor": "bottom",
          "yref": "y domain"
         },
         {
          "showarrow": false,
          "text": "Aggressive",
          "textangle": -45,
          "x": 20,
          "xanchor": "center",
          "xref": "x",
          "y": 1,
          "yanchor": "bottom",
          "yref": "y domain"
         },
         {
          "showarrow": false,
          "text": "High Scale",
          "textangle": -45,
          "x": 30,
          "xanchor": "center",
          "xref": "x",
          "y": 1,
          "yanchor": "bottom",
          "yref": "y domain"
         },
         {
          "showarrow": false,
          "text": "Ultra Scale",
          "textangle": -45,
          "x": 40,
          "xanchor": "center",
          "xref": "x",
          "y": 1,
          "yanchor": "bottom",
          "yref": "y domain"
         },
         {
          "showarrow": false,
          "text": "Maximum",
          "textangle": -45,
          "x": 60,
          "xanchor": "center",
          "xref": "x",
          "y": 1,
          "yanchor": "bottom",
          "yref": "y domain"
         },
         {
          "showarrow": false,
          "text": "home_staker upload",
          "x": 0,
          "xanchor": "right",
          "xref": "x domain",
          "y": 40,
          "yanchor": "middle",
          "yref": "y"
         },
         {
          "showarrow": false,
          "text": "professional upload",
          "x": 0,
          "xanchor": "right",
          "xref": "x domain",
          "y": 200,
          "yanchor": "middle",
          "yref": "y"
         },
         {
          "showarrow": false,
          "text": "institutional upload",
          "x": 0,
          "xanchor": "right",
          "xref": "x domain",
          "y": 4000,
          "yanchor": "middle",
          "yref": "y"
         },
         {
          "showarrow": false,
          "text": "home_fiber upload",
          "x": 0,
          "xanchor": "right",
          "xref": "x domain",
          "y": 400,
          "yanchor": "middle",
          "yref": "y"
         },
         {
          "showarrow": false,
          "text": "home_cable upload",
          "x": 0,
          "xanchor": "right",
          "xref": "x domain",
          "y": 80,
          "yanchor": "middle",
          "yref": "y"
         }
        ],
        "height": 700,
        "hovermode": "x unified",
        "shapes": [
         {
          "line": {
           "color": "gray",
           "dash": "dot"
          },
          "opacity": 0.3,
          "type": "line",
          "x0": 3,
          "x1": 3,
          "xref": "x",
          "y0": 0,
          "y1": 1,
          "yref": "y domain"
         },
         {
          "line": {
           "color": "gray",
           "dash": "dot"
          },
          "opacity": 0.3,
          "type": "line",
          "x0": 8,
          "x1": 8,
          "xref": "x",
          "y0": 0,
          "y1": 1,
          "yref": "y domain"
         },
         {
          "line": {
           "color": "gray",
           "dash": "dot"
          },
          "opacity": 0.3,
          "type": "line",
          "x0": 12,
          "x1": 12,
          "xref": "x",
          "y0": 0,
          "y1": 1,
          "yref": "y domain"
         },
         {
          "line": {
           "color": "gray",
           "dash": "dot"
          },
          "opacity": 0.3,
          "type": "line",
          "x0": 20,
          "x1": 20,
          "xref": "x",
          "y0": 0,
          "y1": 1,
          "yref": "y domain"
         },
         {
          "line": {
           "color": "gray",
           "dash": "dot"
          },
          "opacity": 0.3,
          "type": "line",
          "x0": 30,
          "x1": 30,
          "xref": "x",
          "y0": 0,
          "y1": 1,
          "yref": "y domain"
         },
         {
          "line": {
           "color": "gray",
           "dash": "dot"
          },
          "opacity": 0.3,
          "type": "line",
          "x0": 40,
          "x1": 40,
          "xref": "x",
          "y0": 0,
          "y1": 1,
          "yref": "y domain"
         },
         {
          "line": {
           "color": "gray",
           "dash": "dot"
          },
          "opacity": 0.3,
          "type": "line",
          "x0": 60,
          "x1": 60,
          "xref": "x",
          "y0": 0,
          "y1": 1,
          "yref": "y domain"
         },
         {
          "line": {
           "color": "orange",
           "dash": "dash"
          },
          "type": "line",
          "x0": 0,
          "x1": 1,
          "xref": "x domain",
          "y0": 40,
          "y1": 40,
          "yref": "y"
         },
         {
          "line": {
           "color": "lightgreen",
           "dash": "dash"
          },
          "type": "line",
          "x0": 0,
          "x1": 1,
          "xref": "x domain",
          "y0": 200,
          "y1": 200,
          "yref": "y"
         },
         {
          "line": {
           "color": "cyan",
           "dash": "dash"
          },
          "type": "line",
          "x0": 0,
          "x1": 1,
          "xref": "x domain",
          "y0": 4000,
          "y1": 4000,
          "yref": "y"
         },
         {
          "line": {
           "color": "yellow",
           "dash": "dash"
          },
          "type": "line",
          "x0": 0,
          "x1": 1,
          "xref": "x domain",
          "y0": 400,
          "y1": 400,
          "yref": "y"
         },
         {
          "line": {
           "color": "red",
           "dash": "dash"
          },
          "type": "line",
          "x0": 0,
          "x1": 1,
          "xref": "x domain",
          "y0": 80,
          "y1": 80,
          "yref": "y"
         }
        ],
        "template": {
         "data": {
          "bar": [
           {
            "error_x": {
             "color": "#f2f5fa"
            },
            "error_y": {
             "color": "#f2f5fa"
            },
            "marker": {
             "line": {
              "color": "rgb(17,17,17)",
              "width": 0.5
             },
             "pattern": {
              "fillmode": "overlay",
              "size": 10,
              "solidity": 0.2
             }
            },
            "type": "bar"
           }
          ],
          "barpolar": [
           {
            "marker": {
             "line": {
              "color": "rgb(17,17,17)",
              "width": 0.5
             },
             "pattern": {
              "fillmode": "overlay",
              "size": 10,
              "solidity": 0.2
             }
            },
            "type": "barpolar"
           }
          ],
          "carpet": [
           {
            "aaxis": {
             "endlinecolor": "#A2B1C6",
             "gridcolor": "#506784",
             "linecolor": "#506784",
             "minorgridcolor": "#506784",
             "startlinecolor": "#A2B1C6"
            },
            "baxis": {
             "endlinecolor": "#A2B1C6",
             "gridcolor": "#506784",
             "linecolor": "#506784",
             "minorgridcolor": "#506784",
             "startlinecolor": "#A2B1C6"
            },
            "type": "carpet"
           }
          ],
          "choropleth": [
           {
            "colorbar": {
             "outlinewidth": 0,
             "ticks": ""
            },
            "type": "choropleth"
           }
          ],
          "contour": [
           {
            "colorbar": {
             "outlinewidth": 0,
             "ticks": ""
            },
            "colorscale": [
             [
              0,
              "#0d0887"
             ],
             [
              0.1111111111111111,
              "#46039f"
             ],
             [
              0.2222222222222222,
              "#7201a8"
             ],
             [
              0.3333333333333333,
              "#9c179e"
             ],
             [
              0.4444444444444444,
              "#bd3786"
             ],
             [
              0.5555555555555556,
              "#d8576b"
             ],
             [
              0.6666666666666666,
              "#ed7953"
             ],
             [
              0.7777777777777778,
              "#fb9f3a"
             ],
             [
              0.8888888888888888,
              "#fdca26"
             ],
             [
              1,
              "#f0f921"
             ]
            ],
            "type": "contour"
           }
          ],
          "contourcarpet": [
           {
            "colorbar": {
             "outlinewidth": 0,
             "ticks": ""
            },
            "type": "contourcarpet"
           }
          ],
          "heatmap": [
           {
            "colorbar": {
             "outlinewidth": 0,
             "ticks": ""
            },
            "colorscale": [
             [
              0,
              "#0d0887"
             ],
             [
              0.1111111111111111,
              "#46039f"
             ],
             [
              0.2222222222222222,
              "#7201a8"
             ],
             [
              0.3333333333333333,
              "#9c179e"
             ],
             [
              0.4444444444444444,
              "#bd3786"
             ],
             [
              0.5555555555555556,
              "#d8576b"
             ],
             [
              0.6666666666666666,
              "#ed7953"
             ],
             [
              0.7777777777777778,
              "#fb9f3a"
             ],
             [
              0.8888888888888888,
              "#fdca26"
             ],
             [
              1,
              "#f0f921"
             ]
            ],
            "type": "heatmap"
           }
          ],
          "histogram": [
           {
            "marker": {
             "pattern": {
              "fillmode": "overlay",
              "size": 10,
              "solidity": 0.2
             }
            },
            "type": "histogram"
           }
          ],
          "histogram2d": [
           {
            "colorbar": {
             "outlinewidth": 0,
             "ticks": ""
            },
            "colorscale": [
             [
              0,
              "#0d0887"
             ],
             [
              0.1111111111111111,
              "#46039f"
             ],
             [
              0.2222222222222222,
              "#7201a8"
             ],
             [
              0.3333333333333333,
              "#9c179e"
             ],
             [
              0.4444444444444444,
              "#bd3786"
             ],
             [
              0.5555555555555556,
              "#d8576b"
             ],
             [
              0.6666666666666666,
              "#ed7953"
             ],
             [
              0.7777777777777778,
              "#fb9f3a"
             ],
             [
              0.8888888888888888,
              "#fdca26"
             ],
             [
              1,
              "#f0f921"
             ]
            ],
            "type": "histogram2d"
           }
          ],
          "histogram2dcontour": [
           {
            "colorbar": {
             "outlinewidth": 0,
             "ticks": ""
            },
            "colorscale": [
             [
              0,
              "#0d0887"
             ],
             [
              0.1111111111111111,
              "#46039f"
             ],
             [
              0.2222222222222222,
              "#7201a8"
             ],
             [
              0.3333333333333333,
              "#9c179e"
             ],
             [
              0.4444444444444444,
              "#bd3786"
             ],
             [
              0.5555555555555556,
              "#d8576b"
             ],
             [
              0.6666666666666666,
              "#ed7953"
             ],
             [
              0.7777777777777778,
              "#fb9f3a"
             ],
             [
              0.8888888888888888,
              "#fdca26"
             ],
             [
              1,
              "#f0f921"
             ]
            ],
            "type": "histogram2dcontour"
           }
          ],
          "mesh3d": [
           {
            "colorbar": {
             "outlinewidth": 0,
             "ticks": ""
            },
            "type": "mesh3d"
           }
          ],
          "parcoords": [
           {
            "line": {
             "colorbar": {
              "outlinewidth": 0,
              "ticks": ""
             }
            },
            "type": "parcoords"
           }
          ],
          "pie": [
           {
            "automargin": true,
            "type": "pie"
           }
          ],
          "scatter": [
           {
            "marker": {
             "line": {
              "color": "#283442"
             }
            },
            "type": "scatter"
           }
          ],
          "scatter3d": [
           {
            "line": {
             "colorbar": {
              "outlinewidth": 0,
              "ticks": ""
             }
            },
            "marker": {
             "colorbar": {
              "outlinewidth": 0,
              "ticks": ""
             }
            },
            "type": "scatter3d"
           }
          ],
          "scattercarpet": [
           {
            "marker": {
             "colorbar": {
              "outlinewidth": 0,
              "ticks": ""
             }
            },
            "type": "scattercarpet"
           }
          ],
          "scattergeo": [
           {
            "marker": {
             "colorbar": {
              "outlinewidth": 0,
              "ticks": ""
             }
            },
            "type": "scattergeo"
           }
          ],
          "scattergl": [
           {
            "marker": {
             "line": {
              "color": "#283442"
             }
            },
            "type": "scattergl"
           }
          ],
          "scattermap": [
           {
            "marker": {
             "colorbar": {
              "outlinewidth": 0,
              "ticks": ""
             }
            },
            "type": "scattermap"
           }
          ],
          "scattermapbox": [
           {
            "marker": {
             "colorbar": {
              "outlinewidth": 0,
              "ticks": ""
             }
            },
            "type": "scattermapbox"
           }
          ],
          "scatterpolar": [
           {
            "marker": {
             "colorbar": {
              "outlinewidth": 0,
              "ticks": ""
             }
            },
            "type": "scatterpolar"
           }
          ],
          "scatterpolargl": [
           {
            "marker": {
             "colorbar": {
              "outlinewidth": 0,
              "ticks": ""
             }
            },
            "type": "scatterpolargl"
           }
          ],
          "scatterternary": [
           {
            "marker": {
             "colorbar": {
              "outlinewidth": 0,
              "ticks": ""
             }
            },
            "type": "scatterternary"
           }
          ],
          "surface": [
           {
            "colorbar": {
             "outlinewidth": 0,
             "ticks": ""
            },
            "colorscale": [
             [
              0,
              "#0d0887"
             ],
             [
              0.1111111111111111,
              "#46039f"
             ],
             [
              0.2222222222222222,
              "#7201a8"
             ],
             [
              0.3333333333333333,
              "#9c179e"
             ],
             [
              0.4444444444444444,
              "#bd3786"
             ],
             [
              0.5555555555555556,
              "#d8576b"
             ],
             [
              0.6666666666666666,
              "#ed7953"
             ],
             [
              0.7777777777777778,
              "#fb9f3a"
             ],
             [
              0.8888888888888888,
              "#fdca26"
             ],
             [
              1,
              "#f0f921"
             ]
            ],
            "type": "surface"
           }
          ],
          "table": [
           {
            "cells": {
             "fill": {
              "color": "#506784"
             },
             "line": {
              "color": "rgb(17,17,17)"
             }
            },
            "header": {
             "fill": {
              "color": "#2a3f5f"
             },
             "line": {
              "color": "rgb(17,17,17)"
             }
            },
            "type": "table"
           }
          ]
         },
         "layout": {
          "annotationdefaults": {
           "arrowcolor": "#f2f5fa",
           "arrowhead": 0,
           "arrowwidth": 1
          },
          "autotypenumbers": "strict",
          "coloraxis": {
           "colorbar": {
            "outlinewidth": 0,
            "ticks": ""
           }
          },
          "colorscale": {
           "diverging": [
            [
             0,
             "#8e0152"
            ],
            [
             0.1,
             "#c51b7d"
            ],
            [
             0.2,
             "#de77ae"
            ],
            [
             0.3,
             "#f1b6da"
            ],
            [
             0.4,
             "#fde0ef"
            ],
            [
             0.5,
             "#f7f7f7"
            ],
            [
             0.6,
             "#e6f5d0"
            ],
            [
             0.7,
             "#b8e186"
            ],
            [
             0.8,
             "#7fbc41"
            ],
            [
             0.9,
             "#4d9221"
            ],
            [
             1,
             "#276419"
            ]
           ],
           "sequential": [
            [
             0,
             "#0d0887"
            ],
            [
             0.1111111111111111,
             "#46039f"
            ],
            [
             0.2222222222222222,
             "#7201a8"
            ],
            [
             0.3333333333333333,
             "#9c179e"
            ],
            [
             0.4444444444444444,
             "#bd3786"
            ],
            [
             0.5555555555555556,
             "#d8576b"
            ],
            [
             0.6666666666666666,
             "#ed7953"
            ],
            [
             0.7777777777777778,
             "#fb9f3a"
            ],
            [
             0.8888888888888888,
             "#fdca26"
            ],
            [
             1,
             "#f0f921"
            ]
           ],
           "sequentialminus": [
            [
             0,
             "#0d0887"
            ],
            [
             0.1111111111111111,
             "#46039f"
            ],
            [
             0.2222222222222222,
             "#7201a8"
            ],
            [
             0.3333333333333333,
             "#9c179e"
            ],
            [
             0.4444444444444444,
             "#bd3786"
            ],
            [
             0.5555555555555556,
             "#d8576b"
            ],
            [
             0.6666666666666666,
             "#ed7953"
            ],
            [
             0.7777777777777778,
             "#fb9f3a"
            ],
            [
             0.8888888888888888,
             "#fdca26"
            ],
            [
             1,
             "#f0f921"
            ]
           ]
          },
          "colorway": [
           "#636efa",
           "#EF553B",
           "#00cc96",
           "#ab63fa",
           "#FFA15A",
           "#19d3f3",
           "#FF6692",
           "#B6E880",
           "#FF97FF",
           "#FECB52"
          ],
          "font": {
           "color": "#f2f5fa"
          },
          "geo": {
           "bgcolor": "rgb(17,17,17)",
           "lakecolor": "rgb(17,17,17)",
           "landcolor": "rgb(17,17,17)",
           "showlakes": true,
           "showland": true,
           "subunitcolor": "#506784"
          },
          "hoverlabel": {
           "align": "left"
          },
          "hovermode": "closest",
          "mapbox": {
           "style": "dark"
          },
          "paper_bgcolor": "rgb(17,17,17)",
          "plot_bgcolor": "rgb(17,17,17)",
          "polar": {
           "angularaxis": {
            "gridcolor": "#506784",
            "linecolor": "#506784",
            "ticks": ""
           },
           "bgcolor": "rgb(17,17,17)",
           "radialaxis": {
            "gridcolor": "#506784",
            "linecolor": "#506784",
            "ticks": ""
           }
          },
          "scene": {
           "xaxis": {
            "backgroundcolor": "rgb(17,17,17)",
            "gridcolor": "#506784",
            "gridwidth": 2,
            "linecolor": "#506784",
            "showbackground": true,
            "ticks": "",
            "zerolinecolor": "#C8D4E3"
           },
           "yaxis": {
            "backgroundcolor": "rgb(17,17,17)",
            "gridcolor": "#506784",
            "gridwidth": 2,
            "linecolor": "#506784",
            "showbackground": true,
            "ticks": "",
            "zerolinecolor": "#C8D4E3"
           },
           "zaxis": {
            "backgroundcolor": "rgb(17,17,17)",
            "gridcolor": "#506784",
            "gridwidth": 2,
            "linecolor": "#506784",
            "showbackground": true,
            "ticks": "",
            "zerolinecolor": "#C8D4E3"
           }
          },
          "shapedefaults": {
           "line": {
            "color": "#f2f5fa"
           }
          },
          "sliderdefaults": {
           "bgcolor": "#C8D4E3",
           "bordercolor": "rgb(17,17,17)",
           "borderwidth": 1,
           "tickwidth": 0
          },
          "ternary": {
           "aaxis": {
            "gridcolor": "#506784",
            "linecolor": "#506784",
            "ticks": ""
           },
           "baxis": {
            "gridcolor": "#506784",
            "linecolor": "#506784",
            "ticks": ""
           },
           "bgcolor": "rgb(17,17,17)",
           "caxis": {
            "gridcolor": "#506784",
            "linecolor": "#506784",
            "ticks": ""
           }
          },
          "title": {
           "x": 0.05
          },
          "updatemenudefaults": {
           "bgcolor": "#506784",
           "borderwidth": 0
          },
          "xaxis": {
           "automargin": true,
           "gridcolor": "#283442",
           "linecolor": "#506784",
           "ticks": "",
           "title": {
            "standoff": 15
           },
           "zerolinecolor": "#283442",
           "zerolinewidth": 2
          },
          "yaxis": {
           "automargin": true,
           "gridcolor": "#283442",
           "linecolor": "#506784",
           "ticks": "",
           "title": {
            "standoff": 15
           },
           "zerolinecolor": "#283442",
           "zerolinewidth": 2
          }
         }
        },
        "title": {
         "text": "Bandwidth Scaling: Upload vs Download Requirements (1-72 blobs)"
        },
        "xaxis": {
         "range": [
          0,
          73
         ],
         "title": {
          "text": "Number of Blobs per Block"
         }
        },
        "yaxis": {
         "title": {
          "text": "Bandwidth Required (Mbps)"
         },
         "type": "log"
        }
       }
      }
     },
     "metadata": {},
     "output_type": "display_data"
    }
   ],
   "source": [
    "# 5. Bandwidth Scaling Analysis (Extended to 72 blobs)\n",
    "blob_range = np.arange(1, 73)\n",
    "bandwidth_scaling = []\n",
    "\n",
    "# Define PeerDAS custody counts to include\n",
    "custody_counts = [4, 16, 32]  # Key PeerDAS scenarios\n",
    "\n",
    "# Calculate for Full Blob and PeerDAS scenarios\n",
    "for blobs in blob_range:\n",
    "    # Full Blob propagation\n",
    "    reqs_full = calculate_bandwidth_requirements(blobs, blobs, \"balanced\", use_peerdas=False)\n",
    "    bandwidth_scaling.append({\n",
    "        \"blobs\": blobs,\n",
    "        \"method\": \"Full Blob\",\n",
    "        \"custody_count\": None,\n",
    "        \"avg_download_mbps\": reqs_full[\"avg_download_mbps\"],\n",
    "        \"avg_upload_mbps\": reqs_full[\"avg_upload_mbps\"],\n",
    "        \"peak_download_mbps\": reqs_full[\"peak_download_mbps\"],\n",
    "        \"peak_upload_mbps\": reqs_full[\"peak_upload_mbps\"],\n",
    "        \"avg_bandwidth_total_mbps\": reqs_full[\"avg_bandwidth_total_mbps\"]\n",
    "    })\n",
    "    \n",
    "    # PeerDAS propagation for different custody counts\n",
    "    for custody in custody_counts:\n",
    "        reqs_peerdas = calculate_bandwidth_requirements(\n",
    "            blobs, blobs, \"balanced\", \n",
    "            custody_count=custody, use_peerdas=True\n",
    "        )\n",
    "        bandwidth_scaling.append({\n",
    "            \"blobs\": blobs,\n",
    "            \"method\": f\"PeerDAS-{custody}\",\n",
    "            \"custody_count\": custody,\n",
    "            \"avg_download_mbps\": reqs_peerdas[\"avg_download_mbps\"],\n",
    "            \"avg_upload_mbps\": reqs_peerdas[\"avg_upload_mbps\"],\n",
    "            \"peak_download_mbps\": reqs_peerdas[\"peak_download_mbps\"],\n",
    "            \"peak_upload_mbps\": reqs_peerdas[\"peak_upload_mbps\"],\n",
    "            \"avg_bandwidth_total_mbps\": reqs_peerdas[\"avg_bandwidth_total_mbps\"]\n",
    "        })\n",
    "\n",
    "df_scaling = pd.DataFrame(bandwidth_scaling)\n",
    "\n",
    "# Create 2x2 subplots: rows for download/upload, columns for average/peak\n",
    "fig = make_subplots(\n",
    "    rows=2, cols=2,\n",
    "    subplot_titles=('Average Download', 'Peak Download', \n",
    "                    'Average Upload', 'Peak Upload'),\n",
    "    horizontal_spacing=0.12,\n",
    "    vertical_spacing=0.12\n",
    ")\n",
    "\n",
    "# Define colors for different methods\n",
    "method_colors = {\n",
    "    'Full Blob': 'lightblue',\n",
    "    'PeerDAS-4': 'green',\n",
    "    'PeerDAS-16': 'blue',\n",
    "    'PeerDAS-32': 'red'\n",
    "}\n",
    "\n",
    "# Plot each method in all four subplots\n",
    "for method in ['Full Blob'] + [f'PeerDAS-{c}' for c in custody_counts]:\n",
    "    method_data = df_scaling[df_scaling['method'] == method]\n",
    "    \n",
    "    # Average Download (top-left)\n",
    "    fig.add_trace(go.Scatter(\n",
    "        x=method_data['blobs'],\n",
    "        y=method_data['avg_download_mbps'],\n",
    "        mode='lines',\n",
    "        name=method,\n",
    "        line=dict(width=3, color=method_colors[method]),\n",
    "        legendgroup=method\n",
    "    ), row=1, col=1)\n",
    "    \n",
    "    # Peak Download (top-right)\n",
    "    fig.add_trace(go.Scatter(\n",
    "        x=method_data['blobs'],\n",
    "        y=method_data['peak_download_mbps'],\n",
    "        mode='lines',\n",
    "        name=method,\n",
    "        line=dict(width=3, color=method_colors[method]),\n",
    "        legendgroup=method,\n",
    "        showlegend=False\n",
    "    ), row=1, col=2)\n",
    "    \n",
    "    # Average Upload (bottom-left)\n",
    "    fig.add_trace(go.Scatter(\n",
    "        x=method_data['blobs'],\n",
    "        y=method_data['avg_upload_mbps'],\n",
    "        mode='lines',\n",
    "        name=method,\n",
    "        line=dict(width=3, color=method_colors[method]),\n",
    "        legendgroup=method,\n",
    "        showlegend=False\n",
    "    ), row=2, col=1)\n",
    "    \n",
    "    # Peak Upload (bottom-right)\n",
    "    fig.add_trace(go.Scatter(\n",
    "        x=method_data['blobs'],\n",
    "        y=method_data['peak_upload_mbps'],\n",
    "        mode='lines',\n",
    "        name=method,\n",
    "        line=dict(width=3, color=method_colors[method]),\n",
    "        legendgroup=method,\n",
    "        showlegend=False\n",
    "    ), row=2, col=2)\n",
    "\n",
    "# Add vertical lines for key scenarios to all subplots\n",
    "for scenario in BLOB_LIMIT_SCENARIOS[::2]:  # Every other scenario to avoid crowding\n",
    "    for row in [1, 2]:\n",
    "        for col in [1, 2]:\n",
    "            fig.add_vline(\n",
    "                x=scenario[\"target\"],\n",
    "                line_dash=\"dot\",\n",
    "                line_color=\"gray\",\n",
    "                opacity=0.3,\n",
    "                row=row, col=col\n",
    "            )\n",
    "\n",
    "# Update axes - using matches='y' to sync y-axes across all subplots\n",
    "fig.update_xaxes(title=\"Number of Blobs per Block\", range=[20, 73])\n",
    "fig.update_yaxes(title=\"Bandwidth Required (Mbps)\", matches='y')\n",
    "\n",
    "fig.update_layout(\n",
    "    title=\"Bandwidth Scaling Analysis: Full Blob vs PeerDAS (20-72 blobs)\",\n",
    "    height=800,\n",
    "    width=1600,\n",
    "    hovermode='x unified'\n",
    ")\n",
    "\n",
    "fig.show()"
   ]
  },
  {
   "cell_type": "markdown",
   "id": "advanced-analysis",
   "metadata": {},
   "source": [
    "## Advanced Analysis: Network Stress Testing"
   ]
  },
  {
   "cell_type": "markdown",
   "id": "iuxd4ekz2nq",
   "metadata": {},
   "source": [
    "## PeerDAS vs Full Blob Analysis"
   ]
  },
  {
   "cell_type": "code",
   "execution_count": 10,
   "id": "dnth7fvpxb8",
   "metadata": {},
   "outputs": [
    {
     "name": "stdout",
     "output_type": "stream",
     "text": [
      "MAXIMUM VIABLE BLOB COUNTS BY CONNECTION TYPE AND CUSTODY LEVEL\n",
      "================================================================================\n",
      "Connection Type Full   DAS-4  DAS-8  DAS-16  DAS-32  DAS-64 \n",
      "-----------------------------------------------------------------\n",
      "home_staker     60     60     60     60      60      60     \n",
      "professional    60     60     60     60      60      60     \n",
      "institutional   60     60     60     60      60      60     \n",
      "home_fiber      60     60     60     60      60      60     \n",
      "home_cable      60     60     60     60      60      60     \n",
      "\n",
      "\n",
      "BANDWITH SAVINGS WITH PEERDAS\n",
      "==================================================\n",
      "\n",
      "Current (Pectra):\n",
      "  Full Blob: 0.8 Mbps\n",
      "  DAS- 4:   0.0 Mbps (96.9% savings)\n",
      "  DAS- 8:   0.0 Mbps (93.8% savings)\n",
      "  DAS-16:   0.1 Mbps (87.5% savings)\n",
      "  DAS-32:   0.2 Mbps (75.0% savings)\n",
      "  DAS-64:   0.4 Mbps (50.0% savings)\n",
      "\n",
      "Progressive:\n",
      "  Full Blob: 2.0 Mbps\n",
      "  DAS- 4:   0.1 Mbps (96.9% savings)\n",
      "  DAS- 8:   0.1 Mbps (93.8% savings)\n",
      "  DAS-16:   0.2 Mbps (87.5% savings)\n",
      "  DAS-32:   0.5 Mbps (75.0% savings)\n",
      "  DAS-64:   1.0 Mbps (50.0% savings)\n",
      "\n",
      "High Scale:\n",
      "  Full Blob: 3.8 Mbps\n",
      "  DAS- 4:   0.1 Mbps (96.9% savings)\n",
      "  DAS- 8:   0.2 Mbps (93.8% savings)\n",
      "  DAS-16:   0.5 Mbps (87.5% savings)\n",
      "  DAS-32:   0.9 Mbps (75.0% savings)\n",
      "  DAS-64:   1.9 Mbps (50.0% savings)\n",
      "\n",
      "Ultra Scale+:\n",
      "  Full Blob: 6.0 Mbps\n",
      "  DAS- 4:   0.2 Mbps (96.9% savings)\n",
      "  DAS- 8:   0.4 Mbps (93.8% savings)\n",
      "  DAS-16:   0.8 Mbps (87.5% savings)\n",
      "  DAS-32:   1.5 Mbps (75.0% savings)\n",
      "  DAS-64:   3.0 Mbps (50.0% savings)\n",
      "\n",
      "Maximum:\n",
      "  Full Blob: 7.5 Mbps\n",
      "  DAS- 4:   0.2 Mbps (96.9% savings)\n",
      "  DAS- 8:   0.5 Mbps (93.8% savings)\n",
      "  DAS-16:   0.9 Mbps (87.5% savings)\n",
      "  DAS-32:   1.9 Mbps (75.0% savings)\n",
      "  DAS-64:   3.8 Mbps (50.0% savings)\n",
      "\n",
      "\n",
      "CONNECTION UPGRADE BENEFITS WITH PEERDAS\n",
      "=======================================================\n",
      "How many additional blobs become viable with PeerDAS:\n",
      "\n",
      "home_staker:\n",
      "  DAS- 4: No improvement (60 blobs)\n",
      "  DAS- 8: No improvement (60 blobs)\n",
      "  DAS-16: No improvement (60 blobs)\n",
      "  DAS-32: No improvement (60 blobs)\n",
      "  DAS-64: No improvement (60 blobs)\n",
      "\n",
      "professional:\n",
      "  DAS- 4: No improvement (60 blobs)\n",
      "  DAS- 8: No improvement (60 blobs)\n",
      "  DAS-16: No improvement (60 blobs)\n",
      "  DAS-32: No improvement (60 blobs)\n",
      "  DAS-64: No improvement (60 blobs)\n",
      "\n",
      "institutional:\n",
      "  DAS- 4: No improvement (60 blobs)\n",
      "  DAS- 8: No improvement (60 blobs)\n",
      "  DAS-16: No improvement (60 blobs)\n",
      "  DAS-32: No improvement (60 blobs)\n",
      "  DAS-64: No improvement (60 blobs)\n",
      "\n"
     ]
    }
   ],
   "source": [
    "# Comprehensive PeerDAS Impact Analysis\n",
    "\n",
    "# 1. Create a matrix showing viable blob counts for different custody levels\n",
    "print(\"MAXIMUM VIABLE BLOB COUNTS BY CONNECTION TYPE AND CUSTODY LEVEL\")\n",
    "print(\"=\" * 80)\n",
    "\n",
    "viability_matrix = []\n",
    "for node_type, bandwidth in EIP_7870_BANDWIDTH_LIMITS.items():\n",
    "    row = {\"node_type\": node_type}\n",
    "    \n",
    "    # Full blob propagation\n",
    "    max_full = 0\n",
    "    for scenario in BLOB_LIMIT_SCENARIOS:\n",
    "        reqs = calculate_bandwidth_requirements(scenario[\"target\"], scenario[\"max\"], \"balanced\", use_peerdas=False)\n",
    "        if check_node_compatibility(reqs[\"avg_download\"], reqs[\"avg_upload\"], bandwidth):\n",
    "            max_full = scenario[\"target\"]\n",
    "    row[\"full_blob\"] = max_full\n",
    "    \n",
    "    # PeerDAS with different custody counts\n",
    "    for custody in CUSTODY_SCENARIOS:\n",
    "        if custody[\"name\"] == \"Full\":\n",
    "            continue\n",
    "        max_peerdas = 0\n",
    "        for scenario in BLOB_LIMIT_SCENARIOS:\n",
    "            reqs = calculate_bandwidth_requirements(\n",
    "                scenario[\"target\"], scenario[\"max\"], \"balanced\", \n",
    "                custody_count=custody[\"custody_count\"], use_peerdas=True\n",
    "            )\n",
    "            if check_node_compatibility(reqs[\"avg_download\"], reqs[\"avg_upload\"], bandwidth):\n",
    "                max_peerdas = scenario[\"target\"]\n",
    "        row[f\"peerdas_{custody['custody_count']}\"] = max_peerdas\n",
    "    \n",
    "    viability_matrix.append(row)\n",
    "\n",
    "df_viability = pd.DataFrame(viability_matrix)\n",
    "\n",
    "# Display the matrix\n",
    "print(f\"{'Connection Type':<15} {'Full':<6} {'DAS-4':<6} {'DAS-8':<6} {'DAS-16':<7} {'DAS-32':<7} {'DAS-64':<7}\")\n",
    "print(\"-\" * 65)\n",
    "for _, row in df_viability.iterrows():\n",
    "    print(f\"{row['node_type']:<15} {row['full_blob']:<6} {row['peerdas_4']:<6} {row['peerdas_8']:<6} {row['peerdas_16']:<7} {row['peerdas_32']:<7} {row['peerdas_64']:<7}\")\n",
    "\n",
    "# 2. Calculate bandwidth savings for key scenarios\n",
    "print(\"\\n\\nBANDWITH SAVINGS WITH PEERDAS\")\n",
    "print(\"=\" * 50)\n",
    "\n",
    "key_scenarios_analysis = [\"Current (Pectra)\", \"Progressive\", \"High Scale\", \"Ultra Scale+\", \"Maximum\"]\n",
    "\n",
    "for scenario_name in key_scenarios_analysis:\n",
    "    # Get scenario details\n",
    "    scenario_details = next(s for s in BLOB_LIMIT_SCENARIOS if s[\"name\"] == scenario_name)\n",
    "    print(f\"\\n{scenario_name} ({scenario_details['target']}/{scenario_details['max']} blobs):\")\n",
    "    \n",
    "    # Get full blob requirements\n",
    "    full_data = df_results_full[df_results_full[\"scenario\"] == scenario_name].iloc[0]\n",
    "    full_bandwidth = full_data[\"avg_bandwidth_total_mbps\"]\n",
    "    \n",
    "    print(f\"  Full Blob: {full_bandwidth:.1f} Mbps\")\n",
    "    \n",
    "    # Show PeerDAS reductions\n",
    "    for custody in CUSTODY_SCENARIOS:\n",
    "        if custody[\"name\"] == \"Full\":\n",
    "            continue\n",
    "        das_data = df_results_peerdas[\n",
    "            (df_results_peerdas[\"scenario\"] == scenario_name) & \n",
    "            (df_results_peerdas[\"custody_count\"] == custody[\"custody_count\"])\n",
    "        ].iloc[0]\n",
    "        \n",
    "        das_bandwidth = das_data[\"avg_bandwidth_total_mbps\"]\n",
    "        savings = ((full_bandwidth - das_bandwidth) / full_bandwidth) * 100\n",
    "        \n",
    "        print(f\"  DAS-{custody['custody_count']:2d}:   {das_bandwidth:.1f} Mbps ({savings:.1f}% savings)\")\n",
    "\n",
    "# 3. Connection type upgrade analysis\n",
    "print(\"\\n\\nCONNECTION UPGRADE BENEFITS WITH PEERDAS\")\n",
    "print(\"=\" * 55)\n",
    "\n",
    "print(\"How many additional blobs become viable with PeerDAS:\")\n",
    "print()\n",
    "\n",
    "for i, (node_type, bandwidth) in enumerate(EIP_7870_BANDWIDTH_LIMITS.items()):\n",
    "    if i >= 3:  # Limit to first 3 connection types for clarity\n",
    "        break\n",
    "        \n",
    "    print(f\"{node_type}:\")\n",
    "    \n",
    "    full_max = df_viability.iloc[i][\"full_blob\"]\n",
    "    \n",
    "    for custody in CUSTODY_SCENARIOS:\n",
    "        if custody[\"name\"] == \"Full\":\n",
    "            continue\n",
    "        peerdas_max = df_viability.iloc[i][f\"peerdas_{custody['custody_count']}\"]\n",
    "        additional = peerdas_max - full_max\n",
    "        \n",
    "        if additional > 0:\n",
    "            print(f\"  DAS-{custody['custody_count']:2d}: +{additional:2d} blobs (from {full_max} to {peerdas_max})\")\n",
    "        else:\n",
    "            print(f\"  DAS-{custody['custody_count']:2d}: No improvement ({full_max} blobs)\")\n",
    "    print()"
   ]
  },
  {
   "cell_type": "code",
   "execution_count": 11,
   "id": "stress-test",
   "metadata": {},
   "outputs": [
    {
     "data": {
      "application/vnd.plotly.v1+json": {
       "config": {
        "plotlyServerURL": "https://plot.ly"
       },
       "data": [
        {
         "colorbar": {
          "title": {
           "text": "Bandwidth (Mbps)"
          }
         },
         "colorscale": [
          [
           0,
           "rgb(0,104,55)"
          ],
          [
           0.1,
           "rgb(26,152,80)"
          ],
          [
           0.2,
           "rgb(102,189,99)"
          ],
          [
           0.3,
           "rgb(166,217,106)"
          ],
          [
           0.4,
           "rgb(217,239,139)"
          ],
          [
           0.5,
           "rgb(255,255,191)"
          ],
          [
           0.6,
           "rgb(254,224,139)"
          ],
          [
           0.7,
           "rgb(253,174,97)"
          ],
          [
           0.8,
           "rgb(244,109,67)"
          ],
          [
           0.9,
           "rgb(215,48,39)"
          ],
          [
           1,
           "rgb(165,0,38)"
          ]
         ],
         "text": {
          "bdata": "AAAAAAAAKUCamZmZmZkFQAAAAAAAABRAMzMzMzMz8z8AAAAAAAAuQJqZmZmZmQlAAAAAAAAAGEAAAAAAAAD4PwAAAAAAABRAmpmZmZmZ8T8AAAAAAAAAQAAAAAAAAOA/ZmZmZmZmDkCamZmZmZnpPwAAAAAAAPg/mpmZmZmZ2T/NzMzMzMwyQAAAAAAAABBAAAAAAAAAHkBmZmZmZmb+PwAAAAAAgDZAMzMzMzMzE0AAAAAAAAAiQJqZmZmZmQFAAAAAAADAQkAAAAAAAAAgQAAAAAAAAC5AZmZmZmZmDkDNzMzMzMwYQM3MzMzMzPQ/AAAAAAAABEAzMzMzMzPjPwAAAAAAAB5AmpmZmZmZ+T8AAAAAAAAIQJqZmZmZmek/ZmZmZmZm/j+amZmZmZnZP5qZmZmZmek/mpmZmZmZyT8AAAAAAAAkQM3MzMzMzABAAAAAAAAAEEAAAAAAAADwPwAAAAAAADlAMzMzMzMzFUAAAAAAAAAkQAAAAAAAAARAAAAAAAAAPkCamZmZmZkZQAAAAAAAAChAAAAAAAAACEA=",
          "dtype": "f8",
          "shape": "13, 4"
         },
         "textfont": {
          "size": 10
         },
         "texttemplate": "%{text} Mbps",
         "type": "heatmap",
         "x": [
          "Attack/Spam",
          "High Activity",
          "Network Congestion",
          "Normal Operation"
         ],
         "y": [
          "Aggressive",
          "Aggressive+",
          "Conservative +",
          "Current (Pectra)",
          "High Scale",
          "High Scale+",
          "Maximum",
          "Moderate",
          "Moderate+",
          "Pre-Pectra (EIP-4844)",
          "Progressive",
          "Ultra Scale",
          "Ultra Scale+"
         ],
         "z": {
          "bdata": "AAAAAAAAKUBVVVVVVVUFQAAAAAAAABRAAAAAAAAA9D8AAAAAAAAuQJuZmZmZmQlAAAAAAAAAGEAAAAAAAAD4PwAAAAAAABRAERERERER8T8AAAAAAAAAQAAAAAAAAOA/AAAAAAAADkCbmZmZmZnpPwAAAAAAAPg/AAAAAAAA2D8AAAAAAMAyQAAAAAAAABBAAAAAAAAAHkAAAAAAAAD+PwAAAAAAgDZAMzMzMzMzE0AAAAAAAAAiQAAAAAAAAAJAAAAAAADAQkAAAAAAAAAgQAAAAAAAAC5AAAAAAAAADkAAAAAAAAAZQFVVVVVVVfU/AAAAAAAABEAAAAAAAADkPwAAAAAAAB5Am5mZmZmZ+T8AAAAAAAAIQAAAAAAAAOg/AAAAAAAA/j+bmZmZmZnZPwAAAAAAAOg/AAAAAAAAyD8AAAAAAAAkQBEREREREQFAAAAAAAAAEEAAAAAAAADwPwAAAAAAADlAVVVVVVVVFUAAAAAAAAAkQAAAAAAAAARAAAAAAAAAPkCbmZmZmZkZQAAAAAAAAChAAAAAAAAACEA=",
          "dtype": "f8",
          "shape": "13, 4"
         }
        }
       ],
       "layout": {
        "height": 500,
        "template": {
         "data": {
          "bar": [
           {
            "error_x": {
             "color": "#f2f5fa"
            },
            "error_y": {
             "color": "#f2f5fa"
            },
            "marker": {
             "line": {
              "color": "rgb(17,17,17)",
              "width": 0.5
             },
             "pattern": {
              "fillmode": "overlay",
              "size": 10,
              "solidity": 0.2
             }
            },
            "type": "bar"
           }
          ],
          "barpolar": [
           {
            "marker": {
             "line": {
              "color": "rgb(17,17,17)",
              "width": 0.5
             },
             "pattern": {
              "fillmode": "overlay",
              "size": 10,
              "solidity": 0.2
             }
            },
            "type": "barpolar"
           }
          ],
          "carpet": [
           {
            "aaxis": {
             "endlinecolor": "#A2B1C6",
             "gridcolor": "#506784",
             "linecolor": "#506784",
             "minorgridcolor": "#506784",
             "startlinecolor": "#A2B1C6"
            },
            "baxis": {
             "endlinecolor": "#A2B1C6",
             "gridcolor": "#506784",
             "linecolor": "#506784",
             "minorgridcolor": "#506784",
             "startlinecolor": "#A2B1C6"
            },
            "type": "carpet"
           }
          ],
          "choropleth": [
           {
            "colorbar": {
             "outlinewidth": 0,
             "ticks": ""
            },
            "type": "choropleth"
           }
          ],
          "contour": [
           {
            "colorbar": {
             "outlinewidth": 0,
             "ticks": ""
            },
            "colorscale": [
             [
              0,
              "#0d0887"
             ],
             [
              0.1111111111111111,
              "#46039f"
             ],
             [
              0.2222222222222222,
              "#7201a8"
             ],
             [
              0.3333333333333333,
              "#9c179e"
             ],
             [
              0.4444444444444444,
              "#bd3786"
             ],
             [
              0.5555555555555556,
              "#d8576b"
             ],
             [
              0.6666666666666666,
              "#ed7953"
             ],
             [
              0.7777777777777778,
              "#fb9f3a"
             ],
             [
              0.8888888888888888,
              "#fdca26"
             ],
             [
              1,
              "#f0f921"
             ]
            ],
            "type": "contour"
           }
          ],
          "contourcarpet": [
           {
            "colorbar": {
             "outlinewidth": 0,
             "ticks": ""
            },
            "type": "contourcarpet"
           }
          ],
          "heatmap": [
           {
            "colorbar": {
             "outlinewidth": 0,
             "ticks": ""
            },
            "colorscale": [
             [
              0,
              "#0d0887"
             ],
             [
              0.1111111111111111,
              "#46039f"
             ],
             [
              0.2222222222222222,
              "#7201a8"
             ],
             [
              0.3333333333333333,
              "#9c179e"
             ],
             [
              0.4444444444444444,
              "#bd3786"
             ],
             [
              0.5555555555555556,
              "#d8576b"
             ],
             [
              0.6666666666666666,
              "#ed7953"
             ],
             [
              0.7777777777777778,
              "#fb9f3a"
             ],
             [
              0.8888888888888888,
              "#fdca26"
             ],
             [
              1,
              "#f0f921"
             ]
            ],
            "type": "heatmap"
           }
          ],
          "histogram": [
           {
            "marker": {
             "pattern": {
              "fillmode": "overlay",
              "size": 10,
              "solidity": 0.2
             }
            },
            "type": "histogram"
           }
          ],
          "histogram2d": [
           {
            "colorbar": {
             "outlinewidth": 0,
             "ticks": ""
            },
            "colorscale": [
             [
              0,
              "#0d0887"
             ],
             [
              0.1111111111111111,
              "#46039f"
             ],
             [
              0.2222222222222222,
              "#7201a8"
             ],
             [
              0.3333333333333333,
              "#9c179e"
             ],
             [
              0.4444444444444444,
              "#bd3786"
             ],
             [
              0.5555555555555556,
              "#d8576b"
             ],
             [
              0.6666666666666666,
              "#ed7953"
             ],
             [
              0.7777777777777778,
              "#fb9f3a"
             ],
             [
              0.8888888888888888,
              "#fdca26"
             ],
             [
              1,
              "#f0f921"
             ]
            ],
            "type": "histogram2d"
           }
          ],
          "histogram2dcontour": [
           {
            "colorbar": {
             "outlinewidth": 0,
             "ticks": ""
            },
            "colorscale": [
             [
              0,
              "#0d0887"
             ],
             [
              0.1111111111111111,
              "#46039f"
             ],
             [
              0.2222222222222222,
              "#7201a8"
             ],
             [
              0.3333333333333333,
              "#9c179e"
             ],
             [
              0.4444444444444444,
              "#bd3786"
             ],
             [
              0.5555555555555556,
              "#d8576b"
             ],
             [
              0.6666666666666666,
              "#ed7953"
             ],
             [
              0.7777777777777778,
              "#fb9f3a"
             ],
             [
              0.8888888888888888,
              "#fdca26"
             ],
             [
              1,
              "#f0f921"
             ]
            ],
            "type": "histogram2dcontour"
           }
          ],
          "mesh3d": [
           {
            "colorbar": {
             "outlinewidth": 0,
             "ticks": ""
            },
            "type": "mesh3d"
           }
          ],
          "parcoords": [
           {
            "line": {
             "colorbar": {
              "outlinewidth": 0,
              "ticks": ""
             }
            },
            "type": "parcoords"
           }
          ],
          "pie": [
           {
            "automargin": true,
            "type": "pie"
           }
          ],
          "scatter": [
           {
            "marker": {
             "line": {
              "color": "#283442"
             }
            },
            "type": "scatter"
           }
          ],
          "scatter3d": [
           {
            "line": {
             "colorbar": {
              "outlinewidth": 0,
              "ticks": ""
             }
            },
            "marker": {
             "colorbar": {
              "outlinewidth": 0,
              "ticks": ""
             }
            },
            "type": "scatter3d"
           }
          ],
          "scattercarpet": [
           {
            "marker": {
             "colorbar": {
              "outlinewidth": 0,
              "ticks": ""
             }
            },
            "type": "scattercarpet"
           }
          ],
          "scattergeo": [
           {
            "marker": {
             "colorbar": {
              "outlinewidth": 0,
              "ticks": ""
             }
            },
            "type": "scattergeo"
           }
          ],
          "scattergl": [
           {
            "marker": {
             "line": {
              "color": "#283442"
             }
            },
            "type": "scattergl"
           }
          ],
          "scattermap": [
           {
            "marker": {
             "colorbar": {
              "outlinewidth": 0,
              "ticks": ""
             }
            },
            "type": "scattermap"
           }
          ],
          "scattermapbox": [
           {
            "marker": {
             "colorbar": {
              "outlinewidth": 0,
              "ticks": ""
             }
            },
            "type": "scattermapbox"
           }
          ],
          "scatterpolar": [
           {
            "marker": {
             "colorbar": {
              "outlinewidth": 0,
              "ticks": ""
             }
            },
            "type": "scatterpolar"
           }
          ],
          "scatterpolargl": [
           {
            "marker": {
             "colorbar": {
              "outlinewidth": 0,
              "ticks": ""
             }
            },
            "type": "scatterpolargl"
           }
          ],
          "scatterternary": [
           {
            "marker": {
             "colorbar": {
              "outlinewidth": 0,
              "ticks": ""
             }
            },
            "type": "scatterternary"
           }
          ],
          "surface": [
           {
            "colorbar": {
             "outlinewidth": 0,
             "ticks": ""
            },
            "colorscale": [
             [
              0,
              "#0d0887"
             ],
             [
              0.1111111111111111,
              "#46039f"
             ],
             [
              0.2222222222222222,
              "#7201a8"
             ],
             [
              0.3333333333333333,
              "#9c179e"
             ],
             [
              0.4444444444444444,
              "#bd3786"
             ],
             [
              0.5555555555555556,
              "#d8576b"
             ],
             [
              0.6666666666666666,
              "#ed7953"
             ],
             [
              0.7777777777777778,
              "#fb9f3a"
             ],
             [
              0.8888888888888888,
              "#fdca26"
             ],
             [
              1,
              "#f0f921"
             ]
            ],
            "type": "surface"
           }
          ],
          "table": [
           {
            "cells": {
             "fill": {
              "color": "#506784"
             },
             "line": {
              "color": "rgb(17,17,17)"
             }
            },
            "header": {
             "fill": {
              "color": "#2a3f5f"
             },
             "line": {
              "color": "rgb(17,17,17)"
             }
            },
            "type": "table"
           }
          ]
         },
         "layout": {
          "annotationdefaults": {
           "arrowcolor": "#f2f5fa",
           "arrowhead": 0,
           "arrowwidth": 1
          },
          "autotypenumbers": "strict",
          "coloraxis": {
           "colorbar": {
            "outlinewidth": 0,
            "ticks": ""
           }
          },
          "colorscale": {
           "diverging": [
            [
             0,
             "#8e0152"
            ],
            [
             0.1,
             "#c51b7d"
            ],
            [
             0.2,
             "#de77ae"
            ],
            [
             0.3,
             "#f1b6da"
            ],
            [
             0.4,
             "#fde0ef"
            ],
            [
             0.5,
             "#f7f7f7"
            ],
            [
             0.6,
             "#e6f5d0"
            ],
            [
             0.7,
             "#b8e186"
            ],
            [
             0.8,
             "#7fbc41"
            ],
            [
             0.9,
             "#4d9221"
            ],
            [
             1,
             "#276419"
            ]
           ],
           "sequential": [
            [
             0,
             "#0d0887"
            ],
            [
             0.1111111111111111,
             "#46039f"
            ],
            [
             0.2222222222222222,
             "#7201a8"
            ],
            [
             0.3333333333333333,
             "#9c179e"
            ],
            [
             0.4444444444444444,
             "#bd3786"
            ],
            [
             0.5555555555555556,
             "#d8576b"
            ],
            [
             0.6666666666666666,
             "#ed7953"
            ],
            [
             0.7777777777777778,
             "#fb9f3a"
            ],
            [
             0.8888888888888888,
             "#fdca26"
            ],
            [
             1,
             "#f0f921"
            ]
           ],
           "sequentialminus": [
            [
             0,
             "#0d0887"
            ],
            [
             0.1111111111111111,
             "#46039f"
            ],
            [
             0.2222222222222222,
             "#7201a8"
            ],
            [
             0.3333333333333333,
             "#9c179e"
            ],
            [
             0.4444444444444444,
             "#bd3786"
            ],
            [
             0.5555555555555556,
             "#d8576b"
            ],
            [
             0.6666666666666666,
             "#ed7953"
            ],
            [
             0.7777777777777778,
             "#fb9f3a"
            ],
            [
             0.8888888888888888,
             "#fdca26"
            ],
            [
             1,
             "#f0f921"
            ]
           ]
          },
          "colorway": [
           "#636efa",
           "#EF553B",
           "#00cc96",
           "#ab63fa",
           "#FFA15A",
           "#19d3f3",
           "#FF6692",
           "#B6E880",
           "#FF97FF",
           "#FECB52"
          ],
          "font": {
           "color": "#f2f5fa"
          },
          "geo": {
           "bgcolor": "rgb(17,17,17)",
           "lakecolor": "rgb(17,17,17)",
           "landcolor": "rgb(17,17,17)",
           "showlakes": true,
           "showland": true,
           "subunitcolor": "#506784"
          },
          "hoverlabel": {
           "align": "left"
          },
          "hovermode": "closest",
          "mapbox": {
           "style": "dark"
          },
          "paper_bgcolor": "rgb(17,17,17)",
          "plot_bgcolor": "rgb(17,17,17)",
          "polar": {
           "angularaxis": {
            "gridcolor": "#506784",
            "linecolor": "#506784",
            "ticks": ""
           },
           "bgcolor": "rgb(17,17,17)",
           "radialaxis": {
            "gridcolor": "#506784",
            "linecolor": "#506784",
            "ticks": ""
           }
          },
          "scene": {
           "xaxis": {
            "backgroundcolor": "rgb(17,17,17)",
            "gridcolor": "#506784",
            "gridwidth": 2,
            "linecolor": "#506784",
            "showbackground": true,
            "ticks": "",
            "zerolinecolor": "#C8D4E3"
           },
           "yaxis": {
            "backgroundcolor": "rgb(17,17,17)",
            "gridcolor": "#506784",
            "gridwidth": 2,
            "linecolor": "#506784",
            "showbackground": true,
            "ticks": "",
            "zerolinecolor": "#C8D4E3"
           },
           "zaxis": {
            "backgroundcolor": "rgb(17,17,17)",
            "gridcolor": "#506784",
            "gridwidth": 2,
            "linecolor": "#506784",
            "showbackground": true,
            "ticks": "",
            "zerolinecolor": "#C8D4E3"
           }
          },
          "shapedefaults": {
           "line": {
            "color": "#f2f5fa"
           }
          },
          "sliderdefaults": {
           "bgcolor": "#C8D4E3",
           "bordercolor": "rgb(17,17,17)",
           "borderwidth": 1,
           "tickwidth": 0
          },
          "ternary": {
           "aaxis": {
            "gridcolor": "#506784",
            "linecolor": "#506784",
            "ticks": ""
           },
           "baxis": {
            "gridcolor": "#506784",
            "linecolor": "#506784",
            "ticks": ""
           },
           "bgcolor": "rgb(17,17,17)",
           "caxis": {
            "gridcolor": "#506784",
            "linecolor": "#506784",
            "ticks": ""
           }
          },
          "title": {
           "x": 0.05
          },
          "updatemenudefaults": {
           "bgcolor": "#506784",
           "borderwidth": 0
          },
          "xaxis": {
           "automargin": true,
           "gridcolor": "#283442",
           "linecolor": "#506784",
           "ticks": "",
           "title": {
            "standoff": 15
           },
           "zerolinecolor": "#283442",
           "zerolinewidth": 2
          },
          "yaxis": {
           "automargin": true,
           "gridcolor": "#283442",
           "linecolor": "#506784",
           "ticks": "",
           "title": {
            "standoff": 15
           },
           "zerolinecolor": "#283442",
           "zerolinewidth": 2
          }
         }
        },
        "title": {
         "text": "Bandwidth Requirements Under Network Stress"
        },
        "xaxis": {
         "title": {
          "text": "Stress Scenario"
         }
        },
        "yaxis": {
         "title": {
          "text": "Blob Configuration"
         }
        }
       }
      }
     },
     "metadata": {},
     "output_type": "display_data"
    }
   ],
   "source": [
    "# Simulate network stress under different conditions\n",
    "stress_scenarios = [\n",
    "    {\"name\": \"Normal Operation\", \"utilization\": 0.5, \"gossip_factor\": 1.5},\n",
    "    {\"name\": \"High Activity\", \"utilization\": 0.8, \"gossip_factor\": 2.0},\n",
    "    {\"name\": \"Network Congestion\", \"utilization\": 1.0, \"gossip_factor\": 3.0},\n",
    "    {\"name\": \"Attack/Spam\", \"utilization\": 1.5, \"gossip_factor\": 5.0},\n",
    "]\n",
    "\n",
    "stress_results = []\n",
    "for blob_scenario in BLOB_LIMIT_SCENARIOS:\n",
    "    for stress in stress_scenarios:\n",
    "        effective_blobs = blob_scenario[\"target\"] * stress[\"utilization\"]\n",
    "        bandwidth_base = (effective_blobs * BYTES_PER_BLOB) / SECONDS_PER_SLOT\n",
    "        bandwidth_total = bandwidth_base * stress[\"gossip_factor\"]\n",
    "        bandwidth_mbps = (bandwidth_total * 8) / (1024 * 1024)\n",
    "        \n",
    "        # Check viability for different connection types with upload/download split\n",
    "        home_staker_viable = bandwidth_total <= min(\n",
    "            EIP_7870_BANDWIDTH_LIMITS[\"home_staker\"][\"down\"] * 0.5,\n",
    "            EIP_7870_BANDWIDTH_LIMITS[\"home_staker\"][\"up\"] * 0.5\n",
    "        )\n",
    "        professional_viable = bandwidth_total <= min(\n",
    "            EIP_7870_BANDWIDTH_LIMITS[\"professional\"][\"down\"] * 0.5,\n",
    "            EIP_7870_BANDWIDTH_LIMITS[\"professional\"][\"up\"] * 0.5\n",
    "        )\n",
    "        \n",
    "        stress_results.append({\n",
    "            \"blob_scenario\": blob_scenario[\"name\"],\n",
    "            \"stress_scenario\": stress[\"name\"],\n",
    "            \"bandwidth_mbps\": bandwidth_mbps,\n",
    "            \"home_staker_viable\": home_staker_viable,\n",
    "            \"professional_viable\": professional_viable,\n",
    "        })\n",
    "\n",
    "df_stress = pd.DataFrame(stress_results)\n",
    "\n",
    "# Create pivot table for visualization\n",
    "pivot_stress = df_stress.pivot(index='blob_scenario', columns='stress_scenario', values='bandwidth_mbps')\n",
    "\n",
    "fig = go.Figure(data=go.Heatmap(\n",
    "    z=pivot_stress.values,\n",
    "    x=pivot_stress.columns,\n",
    "    y=pivot_stress.index,\n",
    "    colorscale='RdYlGn_r',\n",
    "    text=np.round(pivot_stress.values, 1),\n",
    "    texttemplate=\"%{text} Mbps\",\n",
    "    textfont={\"size\": 10},\n",
    "    colorbar=dict(title=\"Bandwidth (Mbps)\")\n",
    "))\n",
    "\n",
    "fig.update_layout(\n",
    "    title=\"Bandwidth Requirements Under Network Stress\",\n",
    "    xaxis_title=\"Stress Scenario\",\n",
    "    yaxis_title=\"Blob Configuration\",\n",
    "    height=500\n",
    ")\n",
    "\n",
    "fig.show()"
   ]
  },
  {
   "cell_type": "markdown",
   "id": "summary",
   "metadata": {},
   "source": [
    "## Summary and Recommendations"
   ]
  },
  {
   "cell_type": "code",
   "execution_count": 12,
   "id": "summary-table",
   "metadata": {},
   "outputs": [
    {
     "data": {
      "application/vnd.plotly.v1+json": {
       "config": {
        "plotlyServerURL": "https://plot.ly"
       },
       "data": [
        {
         "cells": {
          "align": "center",
          "fill": {
           "color": [
            "slategray",
            [
             "lightgray",
             "white",
             "lightgray",
             "white",
             "lightgray",
             "white",
             "lightgray",
             "white",
             "lightgray",
             "white",
             "lightgray",
             "white",
             "lightgray",
             "white"
            ],
            [
             "lightgray",
             "white",
             "lightgray",
             "white",
             "lightgray",
             "white",
             "lightgray",
             "white",
             "lightgray",
             "white",
             "lightgray",
             "white",
             "lightgray",
             "white"
            ],
            [
             "lightgray",
             "white",
             "lightgray",
             "white",
             "lightgray",
             "white",
             "lightgray",
             "white",
             "lightgray",
             "white",
             "lightgray",
             "white",
             "lightgray",
             "white"
            ],
            [
             "lightgray",
             "white",
             "lightgray",
             "white",
             "lightgray",
             "white",
             "lightgray",
             "white",
             "lightgray",
             "white",
             "lightgray",
             "white",
             "lightgray",
             "white"
            ],
            [
             "lightgray",
             "white",
             "lightgray",
             "white",
             "lightgray",
             "white",
             "lightgray",
             "white",
             "lightgray",
             "white",
             "lightgray",
             "white",
             "lightgray",
             "white"
            ],
            [
             "lightgray",
             "white",
             "lightgray",
             "white",
             "lightgray",
             "white",
             "lightgray",
             "white",
             "lightgray",
             "white",
             "lightgray",
             "white",
             "lightgray",
             "white"
            ],
            [
             "lightgray",
             "white",
             "lightgray",
             "white",
             "lightgray",
             "white",
             "lightgray",
             "white",
             "lightgray",
             "white",
             "lightgray",
             "white",
             "lightgray",
             "white"
            ]
           ]
          },
          "font": {
           "color": "black",
           "size": 10
          },
          "height": 25,
          "values": [
           [
            "Pre-Pectra (EIP-4844)",
            "Current (Pectra)",
            "Conservative +",
            "Moderate",
            "Moderate+",
            "Progressive",
            "Aggressive",
            "Aggressive+",
            "High Scale",
            "High Scale+",
            "Ultra Scale",
            "Ultra Scale+",
            "Maximum"
           ],
           [
            "3/6",
            "6/9",
            "8/12",
            "10/15",
            "12/18",
            "16/24",
            "20/30",
            "24/36",
            "30/45",
            "36/54",
            "40/60",
            "48/72",
            "60/90"
           ],
           [
            "0.2",
            "0.4",
            "0.5",
            "0.6",
            "0.8",
            "1.0",
            "1.2",
            "1.5",
            "1.9",
            "2.2",
            "2.5",
            "3.0",
            "3.8"
           ],
           [
            "0.2",
            "0.4",
            "0.5",
            "0.6",
            "0.8",
            "1.0",
            "1.2",
            "1.5",
            "1.9",
            "2.2",
            "2.5",
            "3.0",
            "3.8"
           ],
           [
            "0.4",
            "0.8",
            "1.0",
            "1.2",
            "1.5",
            "2.0",
            "2.5",
            "3.0",
            "3.8",
            "4.5",
            "5.0",
            "6.0",
            "7.5"
           ],
           [
            "0.4",
            "0.8",
            "1.0",
            "1.2",
            "1.5",
            "2.0",
            "2.5",
            "3.0",
            "3.8",
            "4.5",
            "5.0",
            "6.0",
            "7.5"
           ],
           [
            "✓/✓",
            "✓/✓",
            "✓/✓",
            "✓/✓",
            "✓/✓",
            "✓/✓",
            "✓/✓",
            "✓/✓",
            "✓/✓",
            "✓/✓",
            "✓/✓",
            "✓/✓",
            "✓/✓"
           ],
           [
            "✓/✓",
            "✓/✓",
            "✓/✓",
            "✓/✓",
            "✓/✓",
            "✓/✓",
            "✓/✓",
            "✓/✓",
            "✓/✓",
            "✓/✓",
            "✓/✓",
            "✓/✓",
            "✓/✓"
           ]
          ]
         },
         "header": {
          "align": "center",
          "fill": {
           "color": "darkslategray"
          },
          "font": {
           "color": "white",
           "size": 11
          },
          "values": [
           "Scenario",
           "Blobs<br>(T/M)",
           "Avg<br>Down<br>(Mbps)",
           "Avg<br>Up<br>(Mbps)",
           "Peak<br>Down<br>(Mbps)",
           "Peak<br>Up<br>(Mbps)",
           "Cable<br>200/20",
           "Fiber<br>300/100"
          ]
         },
         "type": "table"
        }
       ],
       "layout": {
        "height": 600,
        "template": {
         "data": {
          "bar": [
           {
            "error_x": {
             "color": "#f2f5fa"
            },
            "error_y": {
             "color": "#f2f5fa"
            },
            "marker": {
             "line": {
              "color": "rgb(17,17,17)",
              "width": 0.5
             },
             "pattern": {
              "fillmode": "overlay",
              "size": 10,
              "solidity": 0.2
             }
            },
            "type": "bar"
           }
          ],
          "barpolar": [
           {
            "marker": {
             "line": {
              "color": "rgb(17,17,17)",
              "width": 0.5
             },
             "pattern": {
              "fillmode": "overlay",
              "size": 10,
              "solidity": 0.2
             }
            },
            "type": "barpolar"
           }
          ],
          "carpet": [
           {
            "aaxis": {
             "endlinecolor": "#A2B1C6",
             "gridcolor": "#506784",
             "linecolor": "#506784",
             "minorgridcolor": "#506784",
             "startlinecolor": "#A2B1C6"
            },
            "baxis": {
             "endlinecolor": "#A2B1C6",
             "gridcolor": "#506784",
             "linecolor": "#506784",
             "minorgridcolor": "#506784",
             "startlinecolor": "#A2B1C6"
            },
            "type": "carpet"
           }
          ],
          "choropleth": [
           {
            "colorbar": {
             "outlinewidth": 0,
             "ticks": ""
            },
            "type": "choropleth"
           }
          ],
          "contour": [
           {
            "colorbar": {
             "outlinewidth": 0,
             "ticks": ""
            },
            "colorscale": [
             [
              0,
              "#0d0887"
             ],
             [
              0.1111111111111111,
              "#46039f"
             ],
             [
              0.2222222222222222,
              "#7201a8"
             ],
             [
              0.3333333333333333,
              "#9c179e"
             ],
             [
              0.4444444444444444,
              "#bd3786"
             ],
             [
              0.5555555555555556,
              "#d8576b"
             ],
             [
              0.6666666666666666,
              "#ed7953"
             ],
             [
              0.7777777777777778,
              "#fb9f3a"
             ],
             [
              0.8888888888888888,
              "#fdca26"
             ],
             [
              1,
              "#f0f921"
             ]
            ],
            "type": "contour"
           }
          ],
          "contourcarpet": [
           {
            "colorbar": {
             "outlinewidth": 0,
             "ticks": ""
            },
            "type": "contourcarpet"
           }
          ],
          "heatmap": [
           {
            "colorbar": {
             "outlinewidth": 0,
             "ticks": ""
            },
            "colorscale": [
             [
              0,
              "#0d0887"
             ],
             [
              0.1111111111111111,
              "#46039f"
             ],
             [
              0.2222222222222222,
              "#7201a8"
             ],
             [
              0.3333333333333333,
              "#9c179e"
             ],
             [
              0.4444444444444444,
              "#bd3786"
             ],
             [
              0.5555555555555556,
              "#d8576b"
             ],
             [
              0.6666666666666666,
              "#ed7953"
             ],
             [
              0.7777777777777778,
              "#fb9f3a"
             ],
             [
              0.8888888888888888,
              "#fdca26"
             ],
             [
              1,
              "#f0f921"
             ]
            ],
            "type": "heatmap"
           }
          ],
          "histogram": [
           {
            "marker": {
             "pattern": {
              "fillmode": "overlay",
              "size": 10,
              "solidity": 0.2
             }
            },
            "type": "histogram"
           }
          ],
          "histogram2d": [
           {
            "colorbar": {
             "outlinewidth": 0,
             "ticks": ""
            },
            "colorscale": [
             [
              0,
              "#0d0887"
             ],
             [
              0.1111111111111111,
              "#46039f"
             ],
             [
              0.2222222222222222,
              "#7201a8"
             ],
             [
              0.3333333333333333,
              "#9c179e"
             ],
             [
              0.4444444444444444,
              "#bd3786"
             ],
             [
              0.5555555555555556,
              "#d8576b"
             ],
             [
              0.6666666666666666,
              "#ed7953"
             ],
             [
              0.7777777777777778,
              "#fb9f3a"
             ],
             [
              0.8888888888888888,
              "#fdca26"
             ],
             [
              1,
              "#f0f921"
             ]
            ],
            "type": "histogram2d"
           }
          ],
          "histogram2dcontour": [
           {
            "colorbar": {
             "outlinewidth": 0,
             "ticks": ""
            },
            "colorscale": [
             [
              0,
              "#0d0887"
             ],
             [
              0.1111111111111111,
              "#46039f"
             ],
             [
              0.2222222222222222,
              "#7201a8"
             ],
             [
              0.3333333333333333,
              "#9c179e"
             ],
             [
              0.4444444444444444,
              "#bd3786"
             ],
             [
              0.5555555555555556,
              "#d8576b"
             ],
             [
              0.6666666666666666,
              "#ed7953"
             ],
             [
              0.7777777777777778,
              "#fb9f3a"
             ],
             [
              0.8888888888888888,
              "#fdca26"
             ],
             [
              1,
              "#f0f921"
             ]
            ],
            "type": "histogram2dcontour"
           }
          ],
          "mesh3d": [
           {
            "colorbar": {
             "outlinewidth": 0,
             "ticks": ""
            },
            "type": "mesh3d"
           }
          ],
          "parcoords": [
           {
            "line": {
             "colorbar": {
              "outlinewidth": 0,
              "ticks": ""
             }
            },
            "type": "parcoords"
           }
          ],
          "pie": [
           {
            "automargin": true,
            "type": "pie"
           }
          ],
          "scatter": [
           {
            "marker": {
             "line": {
              "color": "#283442"
             }
            },
            "type": "scatter"
           }
          ],
          "scatter3d": [
           {
            "line": {
             "colorbar": {
              "outlinewidth": 0,
              "ticks": ""
             }
            },
            "marker": {
             "colorbar": {
              "outlinewidth": 0,
              "ticks": ""
             }
            },
            "type": "scatter3d"
           }
          ],
          "scattercarpet": [
           {
            "marker": {
             "colorbar": {
              "outlinewidth": 0,
              "ticks": ""
             }
            },
            "type": "scattercarpet"
           }
          ],
          "scattergeo": [
           {
            "marker": {
             "colorbar": {
              "outlinewidth": 0,
              "ticks": ""
             }
            },
            "type": "scattergeo"
           }
          ],
          "scattergl": [
           {
            "marker": {
             "line": {
              "color": "#283442"
             }
            },
            "type": "scattergl"
           }
          ],
          "scattermap": [
           {
            "marker": {
             "colorbar": {
              "outlinewidth": 0,
              "ticks": ""
             }
            },
            "type": "scattermap"
           }
          ],
          "scattermapbox": [
           {
            "marker": {
             "colorbar": {
              "outlinewidth": 0,
              "ticks": ""
             }
            },
            "type": "scattermapbox"
           }
          ],
          "scatterpolar": [
           {
            "marker": {
             "colorbar": {
              "outlinewidth": 0,
              "ticks": ""
             }
            },
            "type": "scatterpolar"
           }
          ],
          "scatterpolargl": [
           {
            "marker": {
             "colorbar": {
              "outlinewidth": 0,
              "ticks": ""
             }
            },
            "type": "scatterpolargl"
           }
          ],
          "scatterternary": [
           {
            "marker": {
             "colorbar": {
              "outlinewidth": 0,
              "ticks": ""
             }
            },
            "type": "scatterternary"
           }
          ],
          "surface": [
           {
            "colorbar": {
             "outlinewidth": 0,
             "ticks": ""
            },
            "colorscale": [
             [
              0,
              "#0d0887"
             ],
             [
              0.1111111111111111,
              "#46039f"
             ],
             [
              0.2222222222222222,
              "#7201a8"
             ],
             [
              0.3333333333333333,
              "#9c179e"
             ],
             [
              0.4444444444444444,
              "#bd3786"
             ],
             [
              0.5555555555555556,
              "#d8576b"
             ],
             [
              0.6666666666666666,
              "#ed7953"
             ],
             [
              0.7777777777777778,
              "#fb9f3a"
             ],
             [
              0.8888888888888888,
              "#fdca26"
             ],
             [
              1,
              "#f0f921"
             ]
            ],
            "type": "surface"
           }
          ],
          "table": [
           {
            "cells": {
             "fill": {
              "color": "#506784"
             },
             "line": {
              "color": "rgb(17,17,17)"
             }
            },
            "header": {
             "fill": {
              "color": "#2a3f5f"
             },
             "line": {
              "color": "rgb(17,17,17)"
             }
            },
            "type": "table"
           }
          ]
         },
         "layout": {
          "annotationdefaults": {
           "arrowcolor": "#f2f5fa",
           "arrowhead": 0,
           "arrowwidth": 1
          },
          "autotypenumbers": "strict",
          "coloraxis": {
           "colorbar": {
            "outlinewidth": 0,
            "ticks": ""
           }
          },
          "colorscale": {
           "diverging": [
            [
             0,
             "#8e0152"
            ],
            [
             0.1,
             "#c51b7d"
            ],
            [
             0.2,
             "#de77ae"
            ],
            [
             0.3,
             "#f1b6da"
            ],
            [
             0.4,
             "#fde0ef"
            ],
            [
             0.5,
             "#f7f7f7"
            ],
            [
             0.6,
             "#e6f5d0"
            ],
            [
             0.7,
             "#b8e186"
            ],
            [
             0.8,
             "#7fbc41"
            ],
            [
             0.9,
             "#4d9221"
            ],
            [
             1,
             "#276419"
            ]
           ],
           "sequential": [
            [
             0,
             "#0d0887"
            ],
            [
             0.1111111111111111,
             "#46039f"
            ],
            [
             0.2222222222222222,
             "#7201a8"
            ],
            [
             0.3333333333333333,
             "#9c179e"
            ],
            [
             0.4444444444444444,
             "#bd3786"
            ],
            [
             0.5555555555555556,
             "#d8576b"
            ],
            [
             0.6666666666666666,
             "#ed7953"
            ],
            [
             0.7777777777777778,
             "#fb9f3a"
            ],
            [
             0.8888888888888888,
             "#fdca26"
            ],
            [
             1,
             "#f0f921"
            ]
           ],
           "sequentialminus": [
            [
             0,
             "#0d0887"
            ],
            [
             0.1111111111111111,
             "#46039f"
            ],
            [
             0.2222222222222222,
             "#7201a8"
            ],
            [
             0.3333333333333333,
             "#9c179e"
            ],
            [
             0.4444444444444444,
             "#bd3786"
            ],
            [
             0.5555555555555556,
             "#d8576b"
            ],
            [
             0.6666666666666666,
             "#ed7953"
            ],
            [
             0.7777777777777778,
             "#fb9f3a"
            ],
            [
             0.8888888888888888,
             "#fdca26"
            ],
            [
             1,
             "#f0f921"
            ]
           ]
          },
          "colorway": [
           "#636efa",
           "#EF553B",
           "#00cc96",
           "#ab63fa",
           "#FFA15A",
           "#19d3f3",
           "#FF6692",
           "#B6E880",
           "#FF97FF",
           "#FECB52"
          ],
          "font": {
           "color": "#f2f5fa"
          },
          "geo": {
           "bgcolor": "rgb(17,17,17)",
           "lakecolor": "rgb(17,17,17)",
           "landcolor": "rgb(17,17,17)",
           "showlakes": true,
           "showland": true,
           "subunitcolor": "#506784"
          },
          "hoverlabel": {
           "align": "left"
          },
          "hovermode": "closest",
          "mapbox": {
           "style": "dark"
          },
          "paper_bgcolor": "rgb(17,17,17)",
          "plot_bgcolor": "rgb(17,17,17)",
          "polar": {
           "angularaxis": {
            "gridcolor": "#506784",
            "linecolor": "#506784",
            "ticks": ""
           },
           "bgcolor": "rgb(17,17,17)",
           "radialaxis": {
            "gridcolor": "#506784",
            "linecolor": "#506784",
            "ticks": ""
           }
          },
          "scene": {
           "xaxis": {
            "backgroundcolor": "rgb(17,17,17)",
            "gridcolor": "#506784",
            "gridwidth": 2,
            "linecolor": "#506784",
            "showbackground": true,
            "ticks": "",
            "zerolinecolor": "#C8D4E3"
           },
           "yaxis": {
            "backgroundcolor": "rgb(17,17,17)",
            "gridcolor": "#506784",
            "gridwidth": 2,
            "linecolor": "#506784",
            "showbackground": true,
            "ticks": "",
            "zerolinecolor": "#C8D4E3"
           },
           "zaxis": {
            "backgroundcolor": "rgb(17,17,17)",
            "gridcolor": "#506784",
            "gridwidth": 2,
            "linecolor": "#506784",
            "showbackground": true,
            "ticks": "",
            "zerolinecolor": "#C8D4E3"
           }
          },
          "shapedefaults": {
           "line": {
            "color": "#f2f5fa"
           }
          },
          "sliderdefaults": {
           "bgcolor": "#C8D4E3",
           "bordercolor": "rgb(17,17,17)",
           "borderwidth": 1,
           "tickwidth": 0
          },
          "ternary": {
           "aaxis": {
            "gridcolor": "#506784",
            "linecolor": "#506784",
            "ticks": ""
           },
           "baxis": {
            "gridcolor": "#506784",
            "linecolor": "#506784",
            "ticks": ""
           },
           "bgcolor": "rgb(17,17,17)",
           "caxis": {
            "gridcolor": "#506784",
            "linecolor": "#506784",
            "ticks": ""
           }
          },
          "title": {
           "x": 0.05
          },
          "updatemenudefaults": {
           "bgcolor": "#506784",
           "borderwidth": 0
          },
          "xaxis": {
           "automargin": true,
           "gridcolor": "#283442",
           "linecolor": "#506784",
           "ticks": "",
           "title": {
            "standoff": 15
           },
           "zerolinecolor": "#283442",
           "zerolinewidth": 2
          },
          "yaxis": {
           "automargin": true,
           "gridcolor": "#283442",
           "linecolor": "#506784",
           "ticks": "",
           "title": {
            "standoff": 15
           },
           "zerolinecolor": "#283442",
           "zerolinewidth": 2
          }
         }
        },
        "title": {
         "text": "EIP-7892 Blob Bandwidth Requirements Summary (Upload/Download Split)"
        }
       }
      }
     },
     "metadata": {},
     "output_type": "display_data"
    },
    {
     "name": "stdout",
     "output_type": "stream",
     "text": [
      "\n",
      "================================================================================\n",
      "KEY FINDINGS WITH UPLOAD/DOWNLOAD ASYMMETRY:\n",
      "================================================================================\n",
      "\n",
      "1. Current Pectra (6/9 blobs):\n",
      "   - Average: 0.4 Mbps down, 0.4 Mbps up\n",
      "   - Peak: 0.8 Mbps down, 0.8 Mbps up\n",
      "   - Compatible with fiber and high-speed cable connections\n",
      "\n",
      "2. Upload Bottleneck Analysis (Major limitation for home users):\n",
      "   - Cable (200/20): Max 72 target blobs before upload saturates\n",
      "   - Fiber (300/100): Max 72 target blobs before upload saturates\n",
      "   - Professional (100/50): Max 72 target blobs before upload saturates\n",
      "\n",
      "3. Bandwidth scaling per blob:\n",
      "   - Each blob adds ~0.06 Mbps download, 0.06 Mbps upload\n",
      "   - Upload is symmetric but often more constrained on home connections\n",
      "\n",
      "4. Maximum viable blob counts by connection type:\n",
      "   - home_staker: up to 60 target blobs (Maximum)\n",
      "   - professional: up to 60 target blobs (Maximum)\n",
      "   - institutional: up to 60 target blobs (Maximum)\n",
      "   - home_fiber: up to 60 target blobs (Maximum)\n",
      "   - home_cable: up to 60 target blobs (Maximum)\n",
      "\n",
      "5. Critical observations:\n",
      "   - Upload bandwidth is the primary bottleneck for most home connections\n",
      "   - Cable internet's asymmetry (200/20) severely limits blob capacity\n",
      "   - Fiber connections (300/100) can handle significantly more blobs\n",
      "   - Validators need better upload than non-validators due to block proposals\n",
      "   - Geographic distribution matters: regions with poor upload speeds will struggle\n"
     ]
    }
   ],
   "source": [
    "# Create comprehensive summary table with upload/download split\n",
    "summary = []\n",
    "for _, row in df_results_balanced.iterrows():\n",
    "    # Check compatibility for typical home connections\n",
    "    home_cable_viable = \"✓\" if row[\"home_cable_avg\"] else \"✗\"\n",
    "    home_cable_peak = \"✓\" if row[\"home_cable_peak\"] else \"✗\"\n",
    "    home_fiber_viable = \"✓\" if row[\"home_fiber_avg\"] else \"✗\"\n",
    "    home_fiber_peak = \"✓\" if row[\"home_fiber_peak\"] else \"✗\"\n",
    "    \n",
    "    summary.append({\n",
    "        \"Scenario\": row[\"scenario\"],\n",
    "        \"Target/Max\": f\"{row['target_blobs']}/{row['max_blobs']}\",\n",
    "        \"Avg Down\": f\"{row['avg_download_mbps']:.1f}\",\n",
    "        \"Avg Up\": f\"{row['avg_upload_mbps']:.1f}\",\n",
    "        \"Peak Down\": f\"{row['peak_download_mbps']:.1f}\",\n",
    "        \"Peak Up\": f\"{row['peak_upload_mbps']:.1f}\",\n",
    "        \"Cable (Avg/Peak)\": f\"{home_cable_viable}/{home_cable_peak}\",\n",
    "        \"Fiber (Avg/Peak)\": f\"{home_fiber_viable}/{home_fiber_peak}\",\n",
    "    })\n",
    "\n",
    "df_summary = pd.DataFrame(summary)\n",
    "\n",
    "# Display as table\n",
    "fig = go.Figure(data=[go.Table(\n",
    "    header=dict(\n",
    "        values=[\"Scenario\", \"Blobs<br>(T/M)\", \"Avg<br>Down<br>(Mbps)\", \"Avg<br>Up<br>(Mbps)\", \n",
    "                \"Peak<br>Down<br>(Mbps)\", \"Peak<br>Up<br>(Mbps)\", \"Cable<br>200/20\", \"Fiber<br>300/100\"],\n",
    "        fill_color='darkslategray',\n",
    "        align='center',\n",
    "        font=dict(size=11, color='white')\n",
    "    ),\n",
    "    cells=dict(\n",
    "        values=[df_summary[col] for col in df_summary.columns],\n",
    "        fill_color=['slategray'] + [['lightgray', 'white'] * (len(df_summary) // 2 + 1)][:len(df_summary)] * (len(df_summary.columns) - 1),\n",
    "        align='center',\n",
    "        font=dict(size=10, color='black'),\n",
    "        height=25\n",
    "    )\n",
    ")])\n",
    "\n",
    "fig.update_layout(\n",
    "    title=\"EIP-7892 Blob Bandwidth Requirements Summary (Upload/Download Split)\",\n",
    "    height=600\n",
    ")\n",
    "\n",
    "fig.show()\n",
    "\n",
    "print(\"\\n\" + \"=\"*80)\n",
    "print(\"KEY FINDINGS WITH UPLOAD/DOWNLOAD ASYMMETRY:\")\n",
    "print(\"=\"*80)\n",
    "\n",
    "# Current state analysis\n",
    "current_idx = next(i for i, s in enumerate(BLOB_LIMIT_SCENARIOS) if \"Current\" in s[\"name\"])\n",
    "print(f\"\\n1. Current Pectra (6/9 blobs):\")\n",
    "print(f\"   - Average: {df_results_balanced.iloc[current_idx]['avg_download_mbps']:.1f} Mbps down, {df_results_balanced.iloc[current_idx]['avg_upload_mbps']:.1f} Mbps up\")\n",
    "print(f\"   - Peak: {df_results_balanced.iloc[current_idx]['peak_download_mbps']:.1f} Mbps down, {df_results_balanced.iloc[current_idx]['peak_upload_mbps']:.1f} Mbps up\")\n",
    "print(f\"   - Compatible with fiber and high-speed cable connections\")\n",
    "\n",
    "# Find upload bottleneck thresholds\n",
    "print(f\"\\n2. Upload Bottleneck Analysis (Major limitation for home users):\")\n",
    "for node_type, limits in [(\"Cable (200/20)\", 20), (\"Fiber (300/100)\", 100), (\"Professional (100/50)\", 50)]:\n",
    "    max_blobs = 0\n",
    "    for blobs in range(1, 73):\n",
    "        bw = calculate_bandwidth_requirements(blobs, blobs, \"balanced\")\n",
    "        if bw[\"avg_upload\"] <= (limits * 1024 * 1024 / 8) * 0.5:  # Convert Mbps to bytes/sec, use 50%\n",
    "            max_blobs = blobs\n",
    "        else:\n",
    "            break\n",
    "    print(f\"   - {node_type}: Max {max_blobs} target blobs before upload saturates\")\n",
    "\n",
    "# Scaling analysis\n",
    "print(f\"\\n3. Bandwidth scaling per blob:\")\n",
    "per_blob_down = (BYTES_PER_BLOB * GOSSIP_OVERHEAD * 0.5 * 8) / (SECONDS_PER_SLOT * 1024 * 1024)\n",
    "per_blob_up = (BYTES_PER_BLOB * GOSSIP_OVERHEAD * 0.5 * 8) / (SECONDS_PER_SLOT * 1024 * 1024)\n",
    "print(f\"   - Each blob adds ~{per_blob_down:.2f} Mbps download, {per_blob_up:.2f} Mbps upload\")\n",
    "print(f\"   - Upload is symmetric but often more constrained on home connections\")\n",
    "\n",
    "# Maximum viable scenarios\n",
    "print(f\"\\n4. Maximum viable blob counts by connection type:\")\n",
    "connection_analysis = []\n",
    "for node_type, bw in EIP_7870_BANDWIDTH_LIMITS.items():\n",
    "    max_target = 0\n",
    "    for scenario in BLOB_LIMIT_SCENARIOS:\n",
    "        reqs = calculate_bandwidth_requirements(scenario[\"target\"], scenario[\"max\"], \"balanced\")\n",
    "        if check_node_compatibility(reqs[\"avg_download\"], reqs[\"avg_upload\"], bw):\n",
    "            max_target = scenario[\"target\"]\n",
    "    if max_target > 0:\n",
    "        connection_analysis.append((node_type, max_target))\n",
    "\n",
    "for conn_type, max_blobs in connection_analysis:\n",
    "    scenario_name = next((s[\"name\"] for s in BLOB_LIMIT_SCENARIOS if s[\"target\"] == max_blobs), f\"{max_blobs} blobs\")\n",
    "    print(f\"   - {conn_type}: up to {max_blobs} target blobs ({scenario_name})\")\n",
    "\n",
    "print(f\"\\n5. Critical observations:\")\n",
    "print(f\"   - Upload bandwidth is the primary bottleneck for most home connections\")\n",
    "print(f\"   - Cable internet's asymmetry (200/20) severely limits blob capacity\")\n",
    "print(f\"   - Fiber connections (300/100) can handle significantly more blobs\")\n",
    "print(f\"   - Validators need better upload than non-validators due to block proposals\")\n",
    "print(f\"   - Geographic distribution matters: regions with poor upload speeds will struggle\")"
   ]
  },
  {
   "cell_type": "code",
   "execution_count": 13,
   "id": "recommendations",
   "metadata": {},
   "outputs": [
    {
     "name": "stdout",
     "output_type": "stream",
     "text": [
      "\n",
      "==================================================\n",
      "RECOMMENDATIONS FOR EIP-7892 IMPLEMENTATION:\n",
      "==================================================\n",
      "\n",
      "1. PHASED ROLLOUT APPROACH:\n",
      "   Phase 1: Increase to 4/8 blobs (Conservative)\n",
      "   - Maintains home staker accessibility\n",
      "   - Provides 33% capacity increase\n",
      "   Phase 2: Move to 6/9 blobs (Pectra proposal)\n",
      "   - After network stability confirmed\n",
      "   - Monitor home staker participation\n",
      "   Phase 3: Consider 8/16 blobs (Moderate)\n",
      "   - Requires infrastructure improvements\n",
      "   - May need incentive adjustments\n",
      "\n",
      "2. INFRASTRUCTURE REQUIREMENTS:\n"
     ]
    },
    {
     "ename": "NameError",
     "evalue": "name 'df_results' is not defined",
     "output_type": "error",
     "traceback": [
      "\u001b[31m---------------------------------------------------------------------------\u001b[39m",
      "\u001b[31mNameError\u001b[39m                                 Traceback (most recent call last)",
      "\u001b[36mCell\u001b[39m\u001b[36m \u001b[39m\u001b[32mIn[13]\u001b[39m\u001b[32m, line 19\u001b[39m\n\u001b[32m     17\u001b[39m \u001b[38;5;28mprint\u001b[39m(\u001b[33m\"\u001b[39m\u001b[38;5;130;01m\\n\u001b[39;00m\u001b[33m2. INFRASTRUCTURE REQUIREMENTS:\u001b[39m\u001b[33m\"\u001b[39m)\n\u001b[32m     18\u001b[39m \u001b[38;5;28;01mfor\u001b[39;00m scenario \u001b[38;5;129;01min\u001b[39;00m BLOB_LIMIT_SCENARIOS[:\u001b[32m4\u001b[39m]:  \u001b[38;5;66;03m# First 4 scenarios\u001b[39;00m\n\u001b[32m---> \u001b[39m\u001b[32m19\u001b[39m     idx = \u001b[38;5;28mnext\u001b[39m(i \u001b[38;5;28;01mfor\u001b[39;00m i, s \u001b[38;5;129;01min\u001b[39;00m \u001b[38;5;28menumerate\u001b[39m(\u001b[43mdf_results\u001b[49m[\u001b[33m'\u001b[39m\u001b[33mscenario\u001b[39m\u001b[33m'\u001b[39m]) \u001b[38;5;28;01mif\u001b[39;00m s == scenario[\u001b[33m'\u001b[39m\u001b[33mname\u001b[39m\u001b[33m'\u001b[39m])\n\u001b[32m     20\u001b[39m     \u001b[38;5;28mprint\u001b[39m(\u001b[33mf\u001b[39m\u001b[33m\"\u001b[39m\u001b[38;5;130;01m\\n\u001b[39;00m\u001b[33m   \u001b[39m\u001b[38;5;132;01m{\u001b[39;00mscenario[\u001b[33m'\u001b[39m\u001b[33mname\u001b[39m\u001b[33m'\u001b[39m]\u001b[38;5;132;01m}\u001b[39;00m\u001b[33m (\u001b[39m\u001b[38;5;132;01m{\u001b[39;00mscenario[\u001b[33m'\u001b[39m\u001b[33mtarget\u001b[39m\u001b[33m'\u001b[39m]\u001b[38;5;132;01m}\u001b[39;00m\u001b[33m/\u001b[39m\u001b[38;5;132;01m{\u001b[39;00mscenario[\u001b[33m'\u001b[39m\u001b[33mmax\u001b[39m\u001b[33m'\u001b[39m]\u001b[38;5;132;01m}\u001b[39;00m\u001b[33m blobs):\u001b[39m\u001b[33m\"\u001b[39m)\n\u001b[32m     21\u001b[39m     \u001b[38;5;28mprint\u001b[39m(\u001b[33mf\u001b[39m\u001b[33m\"\u001b[39m\u001b[33m   - Minimum connection: \u001b[39m\u001b[38;5;132;01m{\u001b[39;00mdf_results.iloc[idx][\u001b[33m'\u001b[39m\u001b[33mavg_mbps\u001b[39m\u001b[33m'\u001b[39m]\u001b[38;5;250m \u001b[39m*\u001b[38;5;250m \u001b[39m\u001b[32m2\u001b[39m\u001b[38;5;132;01m:\u001b[39;00m\u001b[33m.0f\u001b[39m\u001b[38;5;132;01m}\u001b[39;00m\u001b[33m Mbps (2x avg for safety)\u001b[39m\u001b[33m\"\u001b[39m)\n",
      "\u001b[31mNameError\u001b[39m: name 'df_results' is not defined"
     ]
    }
   ],
   "source": [
    "# Generate recommendations based on analysis\n",
    "print(\"\\n\" + \"=\"*50)\n",
    "print(\"RECOMMENDATIONS FOR EIP-7892 IMPLEMENTATION:\")\n",
    "print(\"=\"*50)\n",
    "\n",
    "print(\"\\n1. PHASED ROLLOUT APPROACH:\")\n",
    "print(\"   Phase 1: Increase to 4/8 blobs (Conservative)\")\n",
    "print(\"   - Maintains home staker accessibility\")\n",
    "print(\"   - Provides 33% capacity increase\")\n",
    "print(\"   Phase 2: Move to 6/9 blobs (Pectra proposal)\")\n",
    "print(\"   - After network stability confirmed\")\n",
    "print(\"   - Monitor home staker participation\")\n",
    "print(\"   Phase 3: Consider 8/16 blobs (Moderate)\")\n",
    "print(\"   - Requires infrastructure improvements\")\n",
    "print(\"   - May need incentive adjustments\")\n",
    "\n",
    "print(\"\\n2. INFRASTRUCTURE REQUIREMENTS:\")\n",
    "for scenario in BLOB_LIMIT_SCENARIOS[:4]:  # First 4 scenarios\n",
    "    idx = next(i for i, s in enumerate(df_results['scenario']) if s == scenario['name'])\n",
    "    print(f\"\\n   {scenario['name']} ({scenario['target']}/{scenario['max']} blobs):\")\n",
    "    print(f\"   - Minimum connection: {df_results.iloc[idx]['avg_mbps'] * 2:.0f} Mbps (2x avg for safety)\")\n",
    "    print(f\"   - Recommended: {df_results.iloc[idx]['peak_mbps'] * 1.5:.0f} Mbps (1.5x peak)\")\n",
    "    print(f\"   - Monthly transfer: {df_monthly.iloc[idx]['avg_monthly_tb']:.2f} TB average\")\n",
    "\n",
    "print(\"\\n3. RISK MITIGATION STRATEGIES:\")\n",
    "print(\"   - Implement dynamic blob limits based on network conditions\")\n",
    "print(\"   - Create tiered node requirements with different blob responsibilities\")\n",
    "print(\"   - Develop bandwidth optimization techniques (compression, efficient gossip)\")\n",
    "print(\"   - Consider regional blob sharding for bandwidth distribution\")\n",
    "\n",
    "print(\"\\n4. MONITORING METRICS:\")\n",
    "print(\"   - Track home staker participation rate\")\n",
    "print(\"   - Monitor blob propagation latency\")\n",
    "print(\"   - Measure network bandwidth utilization\")\n",
    "print(\"   - Analyze geographic distribution of nodes\")\n",
    "\n",
    "print(\"\\n5. LONG-TERM SUSTAINABILITY:\")\n",
    "print(\"   - Bandwidth requirements double approximately every 2 blob increase\")\n",
    "print(\"   - Home internet speeds improving ~25% annually (Nielsen's Law)\")\n",
    "print(\"   - Gap between requirements and capabilities may widen\")\n",
    "print(\"   - Consider alternative architectures (DAS, subnet sharding) for scaling beyond 16 blobs\")"
   ]
  }
 ],
 "metadata": {
  "kernelspec": {
   "display_name": "Python 3 (ipykernel)",
   "language": "python",
   "name": "python3"
  },
  "language_info": {
   "codemirror_mode": {
    "name": "ipython",
    "version": 3
   },
   "file_extension": ".py",
   "mimetype": "text/x-python",
   "name": "python",
   "nbconvert_exporter": "python",
   "pygments_lexer": "ipython3",
   "version": "3.13.7"
  }
 },
 "nbformat": 4,
 "nbformat_minor": 5
}
